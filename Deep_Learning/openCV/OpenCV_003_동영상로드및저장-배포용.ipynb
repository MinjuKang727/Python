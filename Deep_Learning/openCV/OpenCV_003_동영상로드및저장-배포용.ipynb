{
 "cells": [
  {
   "cell_type": "markdown",
   "metadata": {},
   "source": [
    "<img src=\"./lecture_image/00_title.png\">"
   ]
  },
  {
   "cell_type": "markdown",
   "metadata": {},
   "source": [
    "<table border=1 width=100%>\n",
    "    <tr><td style=\"border: 1px solid black; width:600px; height:40px; text-align: center;\"><font size=4 color=blue><b>[3차시] 학습목표</b></font></td></tr>       \n",
    "    <tr><td style=\"border: 1px solid black; text-align: left;\"><font size=3>○ 카메라나 동영상으로부터 비디오 프레임 캡처하기<br>\n",
    "○ CCTV 만들기 - 동영상 녹화하기<br>\n",
    "○ 동영상에서 한 프레임을 이미지 파일로 저장하기<br>\n",
    "○ 저장한 이미지들을 동영상으로 만들기<br>\n",
    "○ 유튜브 영상 연동하기<br>\n",
    "        </font></td></tr>   \n",
    "</table>"
   ]
  },
  {
   "cell_type": "markdown",
   "metadata": {
    "id": "gLauf9_UarFp"
   },
   "source": [
    "# 동영상을 읽고 출력하기\n",
    "\n",
    "## 카메라나 동영상으로부터 비디오 프레임 캡처하기\n",
    "\n",
    "- <font color=red>cap = cv2.VideoCapture(0)</font>\n",
    "  - 0번 카메라로부터 비디오 캡처\n",
    "  - 0 대신에 파일명을 입력하면 동영상으로부터 캡처  cv2.VideoCapture(“images/video.mp4”)\n",
    "  - IP가 부여된 웹캠인 경우 IP와 카메라 번호를 입력  cap = cv2.VideoCapture(\"rtsp:127.0.0.1/0\")\n",
    "  \n",
    "  \n",
    "- <font color=red>w = cap.set(3, 480)</font> : 비디오의 가로 크기 설정\n",
    "- <font color=red>h = cap.set(4, 320)</font> : 비디오의 세로 크기 설정\n",
    "\n",
    "\n",
    "- <font color=red>ret, frame = cap.read()</font> \n",
    "  - 카메라로부터 비디오 파일을 읽고 프레임(frame) 이미지와 읽기성공여부(ret)를 반환 (True/False)\n",
    "\n",
    "\n",
    "- <font color=red>key = cv2.waitKey(30)</font>\n",
    "  - 0.03초동안 키 입력을 대기 (30프레임인 경우)\n",
    "  - key 값은 아스키 코드로 반환\n",
    "  \n",
    "  \n",
    "- <font color=red>cap.release()</font>\n",
    "  - 비디오 객체를 종료하고 메모리를 해제\n",
    "  \n",
    "\n",
    "- 아스키 코드\n",
    "<img src=\"./lecture_image/03_ascii.png\" width=70%>"
   ]
  },
  {
   "cell_type": "code",
   "execution_count": null,
   "metadata": {
    "colab": {
     "base_uri": "https://localhost:8080/",
     "height": 55
    },
    "executionInfo": {
     "elapsed": 585,
     "status": "ok",
     "timestamp": 1601964088660,
     "user": {
      "displayName": "강성관",
      "photoUrl": "",
      "userId": "00571094306841577419"
     },
     "user_tz": -540
    },
    "id": "Gdu9-Y9LarFn",
    "outputId": "dc8915da-3df0-4d1f-d9fe-4e472c1c0911"
   },
   "outputs": [],
   "source": [
    "import cv2\n",
    "\n",
    "# 실습\n",
    "\n",
    "try:\n",
    "    cap = cv2.VideoCapture(\"./image/video.mp4\")\n",
    "    print(\"비디오 캡처 성공\")\n",
    "except:\n",
    "    print(\"비디오 캡처 실패\")\n",
    "# 캡처한 비디오로부터 프레임이미지 (영상을 구성하는 이미지)를 읽는다.\n",
    "while True :\n",
    "    # ret : 읽기 성공여부, frame : 읽은 프레임 이미지\n",
    "    ret, frame = cap.read()\n",
    "    \n",
    "    if not ret : # 이미지를 읽지 못했다면\n",
    "        cap.release()  # 비디오 객체 해제\n",
    "        cv2.destroyAllWindows()  # 창 닫기\n",
    "        break\n",
    "        \n",
    "    cv2.imshow(\"video\", frame)\n",
    "    \n",
    "    key = cv2.waitKey(33) # waitKey 값이 작아지면 동영상이 빨리 돌아가고 커지면 느리게 돌아감\n",
    "    \n",
    "    #일반적인 우리나라 영상은 초당 30장\n",
    "    \n",
    "    if key == 49 :  # 숫자 1을 누르면\n",
    "        cap.release()  # 비디오 객체 해제\n",
    "        cv2.destroyAllWindows()  # 창 닫기\n",
    "        break"
   ]
  },
  {
   "cell_type": "code",
   "execution_count": null,
   "metadata": {},
   "outputs": [],
   "source": [
    "import ipywidgets as widget\n",
    "from IPython.display import display\n",
    "import cv2\n",
    "\n",
    "img_widget = widget.Image(format=\".jpeg\", width=480, height=480)\n",
    "display(img_widget) # 이미지를 출력하는 용도\n",
    "\n",
    "cap = cv2.VideoCapture(\"./image/video.mp4\")\n",
    "\n",
    "while True :\n",
    "    ret, frame = cap.read()\n",
    "    \n",
    "    if not ret :\n",
    "        cap.release()\n",
    "        break\n",
    "    try :\n",
    "        cv2.waitKey(33)\n",
    "        _, en_img = cv2.imencode(\".jpeg\", frame)  # imencode : openCV 파일을 이미지로 변환\n",
    "        \n",
    "    except KeyboardInterrupt: \n",
    "        cap.relaese()\n",
    "        break\n",
    "        \n",
    "    img_widget.value = en_img.tobytes()   # 출력을 할 때는 byte 타입으로 출력해야 보임 >> 바이트로 형변환 : tobytes()"
   ]
  },
  {
   "cell_type": "markdown",
   "metadata": {},
   "source": [
    "<table border=1 width=100%>\n",
    "    <tr><td style=\"border: 1px solid black; width:600px; text-align: left;\"><font size=4 color=red><b>실습문제</b></font><br><br>\n",
    "        <font size=4>○ 동영상 파일을 읽고 출력해보자.</font></td></tr>       \n",
    "    <tr><td style=\"border: 1px solid black; text-align: left;\">\n",
    "        <img src=\"./lecture_image/03_movie.png\" width=50%></td></tr>   \n",
    "</table>"
   ]
  },
  {
   "cell_type": "markdown",
   "metadata": {},
   "source": [
    "## 위젯을 이용하여 동영상 출력하기"
   ]
  },
  {
   "cell_type": "code",
   "execution_count": null,
   "metadata": {},
   "outputs": [],
   "source": [
    "!pip install ipywidgets"
   ]
  },
  {
   "cell_type": "code",
   "execution_count": null,
   "metadata": {},
   "outputs": [],
   "source": [
    "# 실습\n",
    "import ipywidgets as widget\n",
    "from IPython.display import display\n",
    "import cv2\n",
    "\n",
    "img_widget = widget.Image(format=\".jpeg\", width=480, height=480)\n",
    "display(img_widget)\n",
    "\n",
    "cap = cv2.VideoCapture(\"./image/video.mp4\")\n",
    "\n",
    "while True :\n",
    "    ret, frame = cap.read()\n",
    "    \n",
    "    if not ret :\n",
    "        cap.release()\n",
    "        break\n",
    "        \n",
    "    try :\n",
    "        cv2.waitKey(33)\n",
    "        _, en_img = cv2.imencode(\".jpeg\", frame)  # imencode : openCV 파일을 이미지로 변환\n",
    "        \n",
    "    except KeyboardInterrupt: \n",
    "        cap.release()\n",
    "        break\n",
    "        \n",
    "    img_widget.value = en_img.tobytes()"
   ]
  },
  {
   "cell_type": "markdown",
   "metadata": {
    "id": "c_T9xGKy7YGH"
   },
   "source": [
    "# CCTV 만들기 - 동영상 녹화하기\n",
    "\n",
    "- <font color=red>codec = cv2.VideoWriter_fourcc('D', 'I', 'V', 'X')</font> : 비디오 타입을 DIVX로 설정\n",
    "\n",
    "<img src=\"./lecture_image/03_codec.png\" width=70%>\n",
    "\n",
    "\n",
    "- <font color=red>out = cv2.VideoWriter('cctv01.avi', codec, fps, (w, h))</font>  \n",
    "  - cctv01.avi 파일에 설정한 코덱, 프레임, 크기로 저장하도록 설정\n",
    "  \n",
    "  \n",
    "- <font color=red>out.write(frame)</font>  : 이미지 프레임을 파일에 쓰기\n",
    "\n",
    "\n",
    "- <font color=red>out.release() </font> : 파일 객체 해제하기"
   ]
  },
  {
   "cell_type": "code",
   "execution_count": null,
   "metadata": {},
   "outputs": [],
   "source": [
    "## import ipywidgets as widget\n",
    "from IPython.display import display\n",
    "import cv2\n",
    "\n",
    "# img_widget = widget.Image(format=\".jpeg\", width=480, height=480)\n",
    "# display(img_widget)\n",
    "\n",
    "# 카메라로부터 영상을 획득\n",
    "cap = cv2.VideoCapture(0) # 0번이 사용중이라 안되면 1번이나 다른 번호를 써도 됨\n",
    "\n",
    "# 녹화 설정\n",
    "# 초당 프레임 수\n",
    "fps = 30.0\n",
    "w = int(cap.get(3))  # 가로의 크기를 가져온다.\n",
    "h = int(cap.get(4))  # 세로의 크기를 가져온다.\n",
    "\n",
    "#  * : 가변 매개변수 설정\n",
    "codec = cv2.VideoWriter_fourcc(*'DIVX')  # avi 타입으로 저장\n",
    "\n",
    "out = cv2.VideoWriter('./image/cctv01.avi', codec, fps, (w, h))\n",
    "\n",
    "record = False  # 처음에는 녹화하지 않음/ True: 녹화됨\n",
    "\n",
    "while True :\n",
    "    ret, frame = cap.read()\n",
    "    \n",
    "    if not ret :\n",
    "        print('종료')\n",
    "        out.release()\n",
    "        cap.release()\n",
    "        break\n",
    "        \n",
    "    key = cv2.waitKey(33)\n",
    "#     print(key)\n",
    "    \n",
    "    cv2.imshow('cctv', frame)\n",
    "    \n",
    "    # 녹화하기\n",
    "    if record :\n",
    "        out.write(frame)\n",
    "        \n",
    "    if key == 50 :  # 숫자 2를 누르면\n",
    "        print('녹화 시작')\n",
    "        record = True\n",
    "    elif key == 49 :\n",
    "        print('종료')\n",
    "        out.release()\n",
    "        cap.release()\n",
    "        cv2.destroyAllWindows()\n",
    "        break\n",
    "        \n",
    "#     _, en_img = cv2.imencode(\".jpeg\", frame)\n",
    "#     img_widget.value = en_img.tobytes()"
   ]
  },
  {
   "cell_type": "code",
   "execution_count": null,
   "metadata": {},
   "outputs": [],
   "source": [
    "import cv2\n",
    "\n",
    "\n",
    "# 카메라로부터 영상을 획득\n",
    "cap = cv2.VideoCapture(0) # 0번이 사용중이라 안되면 1번이나 다른 번호를 써도 됨\n",
    "\n",
    "co = 0\n",
    "\n",
    "while True :\n",
    "    ret, frame = cap.read()\n",
    "    \n",
    "    if not ret :\n",
    "        print('종료')\n",
    "        cap.release()\n",
    "        break\n",
    "        \n",
    "    key = cv2.waitKey(33)\n",
    "    \n",
    "    cv2.imshow('cctv', frame)\n",
    "    \n",
    "\n",
    "    # 숫자 2를 누르면 프레임 이미지를 파일(png)로 저장\n",
    "    if key == 50 : \n",
    "        co = co + 1\n",
    "        print(f'./image/img{co}.png 파일을 저장 하였습니다.')\n",
    "        # 파일을 압축하지 않고 (0) PNG파일로 저장(img1.png, img2.png, img3.png, ...)\n",
    "        cv2.imwrite(f'./image/img{co}.png', frame, params=[cv2.IMWRITE_PNG_COMPRESSION, 0])\n",
    "\n",
    "    elif key == 49 :\n",
    "        print('종료')\n",
    "        cap.release()\n",
    "        cv2.destroyAllWindows()\n",
    "        break\n",
    "        "
   ]
  },
  {
   "cell_type": "code",
   "execution_count": 2,
   "metadata": {
    "scrolled": true
   },
   "outputs": [],
   "source": [
    "import cv2\n",
    "import matplotlib.pyplot as plt\n",
    "# 실습\n",
    "fps = 5   # 초당 뿌리는 이미지 개수\n",
    "w = 640\n",
    "h = 480\n",
    "codec = cv2.VideoWriter_fourcc(*'DIVX')\n",
    "\n",
    "out = cv2.VideoWriter(\"./image/img.avi\", codec, fps, (w, h))\n",
    "\n",
    "# 이미지를 한장씩 읽어와서 동영상으로 저장\n",
    "for i in range(1, 11) :\n",
    "    # 이미지 파일 읽기\n",
    "    img = cv2.imread(f\"./image/img{i}.png\", cv2.IMREAD_COLOR)\n",
    "    out.write(img)\n",
    "    \n",
    "out.release()  "
   ]
  },
  {
   "cell_type": "markdown",
   "metadata": {},
   "source": [
    "# 유투브 영상 업로드하기\n",
    "○ <font color=red>video = pafy.new(\"유투브 주소\")</font> : YouTube 주소로 영상 정보 가져오기<br>\n",
    "○ <font color=red>best = video.getbest(preftype=\"mp4\")</font> : YouTube 실제 주소 가져오기 <br>\n",
    "\n",
    "- 코드 수행시에 KeyError: 'dislike_count'가 뜨는 경우\n",
    "  - pafy 설치폴더 (anaconda3설치폴더\\envs\\OpenCV\\Lib\\site-packages\\pafy)로 이동해서 backend_youtube_dl.py 파일을 열어서 53, 54라인을\n",
    "    - self._likes = self._ydl_info['like_count']\n",
    "    - self._dislikes = self._ydl_info['dislike_count']\n",
    "  - 다음 코드로 변경    \n",
    "    - self._likes = self._ydl_info.get('like_count',0)\n",
    "    - self._dislikes = self._ydl_info.get('dislike_count',0)\n",
    "    \n",
    "  - 주피터노트북을 닫고 재실행  "
   ]
  },
  {
   "cell_type": "code",
   "execution_count": null,
   "metadata": {},
   "outputs": [],
   "source": [
    "# Youtube의 메타 데이터를 수집/검색하거나 다운로드 할 수 있는 Python 라이브러리\n",
    "!pip install pafy\n",
    "# 유튜브로부터 영상만을 다운로드 \n",
    "!pip install youtube-dl\n",
    "# 유튜브로부터 영상만을 다운로드 (youtube-dl 라이브러리 업그레이드 버전)\n",
    "!pip install yt-dlp"
   ]
  },
  {
   "cell_type": "code",
   "execution_count": null,
   "metadata": {
    "scrolled": true
   },
   "outputs": [],
   "source": [
    "import pafy\n",
    "import cv2\n",
    "video = pafy.new(\"https://youtu.be/PJGlq1lkZZ8\")\n",
    "\n",
    "# 유투브 영상 정보 출력\n",
    "print(f\"제목 : {video.title}\")\n",
    "print(f\"평점 : {video.rating}\")\n",
    "print(f\"조회수 : {video.viewcount}\")\n",
    "print(f\"좋아요 : {video.likes}\")\n",
    "print(f\"싫어요 : {video.dislikes}\")\n",
    "codec = video.getbest(preftype = \"mp4\")\n",
    "print(f\"영상 크기 :{codec.resolution}\")\n",
    "print(f\"실제파일링크 : {codec.url}\")  # 너무 길기 때문에 공유 url은 짧음"
   ]
  },
  {
   "cell_type": "code",
   "execution_count": null,
   "metadata": {},
   "outputs": [],
   "source": [
    "import cv2\n",
    "import pafy\n",
    "\n",
    "cap = cv2.VideoCapture(codec.url)\n",
    "\n",
    "while True :\n",
    "    ret, frame = cap.read()\n",
    "    \n",
    "    if not ret :\n",
    "        cap.release()\n",
    "        cv2.destroyAllWindows()\n",
    "        break\n",
    "        \n",
    "    key = cv2.waitKey(33)\n",
    "    \n",
    "    cv2.imshow(\"youtube\", frame)\n",
    "        \n",
    "    if key == 49 : # 1 누르면 종료\n",
    "        print('종료')\n",
    "        cap.release()\n",
    "        cv2.destroyAllWindows()\n",
    "        break"
   ]
  },
  {
   "cell_type": "code",
   "execution_count": null,
   "metadata": {},
   "outputs": [],
   "source": [
    "import os\n",
    "import yt_dlp\n",
    "\n",
    "# 실습\n",
    "\n",
    "# 다운 받을 영상 리스트\n",
    "download_list = [\"https://youtu.be/vGhuQ6JYc3c\"]\n",
    "\n",
    "# 저장 폴더\n",
    "save_dir = './image/'\n",
    "\n",
    "# 다운로드 옵션\n",
    "yt_opts = {\n",
    "    # 다운 받을 영상의 파일 명과 확장명 설정\n",
    "    \"outtmpl\" : f\"./image/%(title)s.%(ext)s\",\n",
    "    \n",
    "    # 최상의 품질의 영상을 다운로드\n",
    "    \"format\" : \"bestvideo/best\"\n",
    "}\n",
    "\n",
    "# 다운로드 :  음성은 다운 X / 영상만 다운받아짐\n",
    "with yt_dlp.YoutubeDL(yt_opts) as yt :\n",
    "    yt.download(download_list)\n",
    "    \n",
    "print('종료')"
   ]
  },
  {
   "cell_type": "markdown",
   "metadata": {},
   "source": [
    "## pytube로 유튜브 영상 다운로드\n",
    "  \n",
    "  - 영상과 음성을 모두 다운로드"
   ]
  },
  {
   "cell_type": "code",
   "execution_count": null,
   "metadata": {
    "scrolled": true
   },
   "outputs": [],
   "source": [
    "# 아나콘다 프롬프트 창에서 실행\n",
    "!pip install --upgrade \"git+https://github.com/nficano/pytube.git\""
   ]
  },
  {
   "cell_type": "code",
   "execution_count": null,
   "metadata": {},
   "outputs": [],
   "source": [
    "import os\n",
    "import pytube\n",
    "from pytube.cli import on_progress\n",
    "\n",
    "url = \"https://youtu.be/cXANa6K-3F0\"\n",
    "\n",
    "# 유투브로부터 영상을 가져온다.\n",
    "yt = pytube.YouTube(url)\n",
    "\n",
    "# 영상 정보 출력\n",
    "print(f'제목 : {yt.title}')\n",
    "print(f'조회수 : {yt.views}')\n",
    "\n",
    "# 다운 받을 폴더\n",
    "save_dir = \"./image/\"\n",
    "\n",
    "# 다운로드\n",
    "# progressive : 순차적으로 다운로드\n",
    "# file_extension : 파일 확장자\n",
    "# order_by(\"resolution\") : 해상도 검색\n",
    "# desc() : 내림차순\n",
    "# first() : 첫번째 파일\n",
    "# order_by(\"resolution\").desc().first() : 해상도가 가장 높은 파일\n",
    "yt.streams.filter(progressive=True, file_extension=\"mp4\")\\ # \\ (역슬래쉬) : 한줄에 쓸 것을 여러 줄로 쓰는 용도\n",
    "                .order_by(\"resolution\")\\\n",
    "                .desc().first().download(save_dir)"
   ]
  },
  {
   "cell_type": "markdown",
   "metadata": {},
   "source": [
    "<table border=1 width=100%>\n",
    "    <tr><td style=\"border: 1px solid black; width:600px; text-align: left;\"><font size=4 color=red><b>실습문제</b></font><br><br>\n",
    "        <font size=4>○ 다른 유튜브 영상을 읽고 출력해보자.</font></td></tr>       \n",
    "    <tr><td style=\"border: 1px solid black; text-align: left;\">\n",
    "        <img src=\"./lecture_image/03_youtube.png\" width=50%></td></tr>   \n",
    "</table>"
   ]
  },
  {
   "cell_type": "markdown",
   "metadata": {},
   "source": [
    "\n",
    "<table border=1 width=100%>\n",
    "    <tr><td style=\"border: 1px solid black; width:600px; text-align: left;\"><font size=4 color=red><b>실습문제</b></font><br><br>\n",
    "        <font size=4>○ 다른 유튜브 영상을 저장해보자.</font></td></tr>   \n",
    "</table>"
   ]
  },
  {
   "cell_type": "markdown",
   "metadata": {},
   "source": [
    "<table border=1 width=100%>\n",
    "    <tr><td style=\"border: 1px solid black; width:600px; height:40px; text-align: center;\"><font size=4 color=blue><b>[3차시] 학습요약</b></font></td></tr>       \n",
    "    <tr><td style=\"border: 1px solid black; text-align: left;\"><font size=3>\n",
    "        \n",
    "○ <font color=red>cv2.VideoCapture()</font> : 비디오 캡처 (카메라, 동영상, 유튜브 등)<br>\n",
    "○ <font color=red>ret, frame = cap.read()</font> : 비디오로부터 프레임 이미지를 읽어서 반환<br>\n",
    "○ <font color=red>cv2.VideoWriter_fourcc ()</font> : 녹화 파일을 설정하는 함수<br>\n",
    "○ <font color=red>out.write()</font> : 영상을 저장<br>\n",
    "○ <font color=red>cv2.imwrite()</font> : 이미지를 저장<br>\n",
    "\n",
    "        \n",
    "○ 일반적인 동영상은 1초에 30장의 프레임이미지로 구성<br>\n",
    "○ pafy : 유투브 메타 데이터를 가져오는 라이브러리<br>\n",
    "○ yt-dlp : 유투브 영상을 다운로드하는 라이브러리 (음성 제외)<br>\n",
    "○ pytube : 유투브 영상을 다운로드하는 라이브러리 (음성 포함)\n",
    "         \n",
    "        \n",
    "</font></td></tr>   \n",
    "</table>"
   ]
  }
 ],
 "metadata": {
  "colab": {
   "name": "DL008_01_OpenCV.ipynb",
   "provenance": []
  },
  "hide_input": false,
  "kernelspec": {
   "display_name": "Python 3 (ipykernel)",
   "language": "python",
   "name": "python3"
  },
  "language_info": {
   "codemirror_mode": {
    "name": "ipython",
    "version": 3
   },
   "file_extension": ".py",
   "mimetype": "text/x-python",
   "name": "python",
   "nbconvert_exporter": "python",
   "pygments_lexer": "ipython3",
   "version": "3.7.13"
  },
  "toc": {
   "base_numbering": 1,
   "nav_menu": {},
   "number_sections": true,
   "sideBar": true,
   "skip_h1_title": false,
   "title_cell": "Table of Contents",
   "title_sidebar": "Contents",
   "toc_cell": false,
   "toc_position": {
    "height": "calc(100% - 180px)",
    "left": "10px",
    "top": "150px",
    "width": "165px"
   },
   "toc_section_display": true,
   "toc_window_display": true
  }
 },
 "nbformat": 4,
 "nbformat_minor": 1
}
