{
 "cells": [
  {
   "cell_type": "markdown",
   "id": "3ae69b82",
   "metadata": {},
   "source": [
    "<img src=\"./lecture_image/00_title.png\">"
   ]
  },
  {
   "cell_type": "markdown",
   "id": "ff58961f",
   "metadata": {},
   "source": [
    "<table border=1 width=100%>\n",
    "    <tr><td style=\"border: 1px solid black; width:600px; height:30px; text-align: center;\"><font size=4 color=blue><b>[23차시] 학습목표</b></font></td></tr>       \n",
    "    <tr><td style=\"border: 1px solid black; text-align: left;\"><font size=3>\n",
    "○ OCR 방법에 대해 이해할 수 있다<br><br>\n",
    "○ Tessaract를 이용하여 문자를 인식할 수 있다<br><br>\n",
    "○ EasyOCR 이용한 문자를 인식할 수 있다<br><br>        \n",
    "○ 기타 OCR 라이브러리를 사용하여 문자을 인식할 수 있다     \n",
    "        </font></td></tr>   \n",
    "</table>"
   ]
  },
  {
   "cell_type": "markdown",
   "id": "7a407559",
   "metadata": {},
   "source": [
    "# OCR\n",
    "\n",
    "- 참고 : https://meissa.tistory.com/80?category=962022"
   ]
  },
  {
   "cell_type": "markdown",
   "id": "6d25b866",
   "metadata": {},
   "source": [
    "## 개념 \n",
    "\n",
    "- OCR  =Text detection + Text recognition\n",
    "\n",
    "<img src=\"./lecture_image/23_ocr01.png\" width=70%>\n",
    "\n",
    "  - Text detection : Object detection의 문자 찾아내기 확장 버전(Segmentation 및 문자특성 고려)\n",
    "    - 이미지 내에서 문자를 검출해낼 때엔 검출하기 위한 최소 단위를 설정\n",
    "    - 단어 단위의 탐지 : Object detection의 Regression기반의 Detection방법\n",
    "      - Anchor를 정의하고 단어의 유무, Bounding box의 크기를 추정해서 단어를 찾음\n",
    "      - (예) TextBoxes 방법\n",
    "    - 글자 단위의 방식 : 글자인 영역을 Segmentation하는 방법으로 접근\n",
    "      - (예) PixelLink 방법\n",
    "    - 두 가지 방법을 모두 활용한 방법이 있음\n",
    "      - CRAFT : Character 단위로 문자의 위치를 찾아낸 뒤 이를 연결하는 방식을 Segmentation기반으로 구현한 방법\n",
    "      \n",
    "      - PMTD(Pyramid Mask Text Detector) : Mask-RCNN으로 Text영역 검출 → 단어의 사각형 배치 특성을 반영한 피라미드 형태의 Score map을 활용하여 기존의 부정확한 Mask 영역을 보완\n",
    "        - Mask-RCNN의 경우 단어 영역이 Box head에 의해 빨간색으로 잡히면 우측 처럼 boundary를 모두 Text 영역으로 잡지만, PMTD는 이를 보완하여 전체 Text 영역을 검출\n",
    "        \n",
    "<img src=\"./lecture_image/23_ocr03.png\" width=60%> \n",
    "\n",
    "  - Text recognition : 검출된 영역의 문자가 무엇인지를 인식해 내는 과정\n",
    "    - Unsegmented Data : 분리에 드는 비용이 비싸거나 어려워 Segmentation이 되어있지 않은 데이터\n",
    "      - 특징 : segment되어 있지 않은 하위데이터들끼리 시퀀스(sequence)를 이루고 있다는 점\n",
    "    - CRNN : CNN으로 문자의 특성을 검출하고 Map-To-Sequence로 변환한 후에 Bidirectional LSTM으로 문자를 인식하는 방법"
   ]
  },
  {
   "cell_type": "markdown",
   "id": "0a12edb7",
   "metadata": {},
   "source": [
    "## Tessaract \n",
    "- 1980년대 최초로 개발된 OCR 알고리즘 중 하나\n",
    "\n",
    "\n",
    "- 다운로드 : https://github.com/UB-Mannheim/tesseract/wiki\n",
    "\n",
    "\n",
    "- tesseract-ocr-w64-setup-v5.0.0-alpha.20201127.exe 파일 다운로드 및 설치\n",
    "\n",
    "- Additional language data 체크"
   ]
  },
  {
   "cell_type": "code",
   "execution_count": null,
   "id": "65796bfd",
   "metadata": {
    "scrolled": true
   },
   "outputs": [],
   "source": [
    "!pip install pytesseract"
   ]
  },
  {
   "cell_type": "code",
   "execution_count": null,
   "id": "1a127e3e",
   "metadata": {},
   "outputs": [],
   "source": [
    "#실습\n",
    "import pytesseract\n",
    "\n",
    "# 설치 폴더 설정 : Tesseract-OCR 폴더 안 경로\n",
    "pytesseract.pytesseract.tesseract_cmd = r\"C:\\Program Files\\Tesseract-OCR\\tesseract.exe\""
   ]
  },
  {
   "cell_type": "code",
   "execution_count": null,
   "id": "d74dbefd",
   "metadata": {},
   "outputs": [],
   "source": [
    "#실습\n",
    "import cv2\n",
    "import matplotlib.pyplot as plt\n",
    "\n",
    "img = cv2.imread(\"./image/text.png\")\n",
    "img = cv2.cvtColor(img, cv2.COLOR_BGR2RGB)\n",
    "\n",
    "plt.imshow(img)\n",
    "plt.axis(\"off\")"
   ]
  },
  {
   "cell_type": "code",
   "execution_count": null,
   "id": "db5d8bd0",
   "metadata": {},
   "outputs": [],
   "source": [
    "#실습\n",
    "text = pytesseract.image_to_string(img, lang=\"eng\")\n",
    "print(text)"
   ]
  },
  {
   "cell_type": "markdown",
   "id": "aa903903",
   "metadata": {},
   "source": [
    "### 한글 이미지 인식"
   ]
  },
  {
   "cell_type": "code",
   "execution_count": null,
   "id": "a9c4daee",
   "metadata": {},
   "outputs": [],
   "source": [
    "#실습z\n",
    "import cv2\n",
    "import matplotlib.pyplot as plt\n",
    "\n",
    "img = cv2.imread(\"./image/story.png\")\n",
    "img = cv2.cvtColor(img, cv2.COLOR_BGR2RGB)\n",
    "plt.imshow(img)\n",
    "plt.axis(\"off\")"
   ]
  },
  {
   "cell_type": "code",
   "execution_count": null,
   "id": "2aa15ecd",
   "metadata": {},
   "outputs": [],
   "source": [
    "text = pytesseract.image_to_string(img, lang=\"kor\")\n",
    "print(text)"
   ]
  },
  {
   "cell_type": "markdown",
   "id": "757bc24b",
   "metadata": {},
   "source": [
    "### 포스터 한글 이미지 인식"
   ]
  },
  {
   "cell_type": "code",
   "execution_count": null,
   "id": "77a33781",
   "metadata": {},
   "outputs": [],
   "source": [
    "#실습\n",
    "import cv2\n",
    "import matplotlib.pyplot as plt\n",
    "\n",
    "img = cv2.imread(\"./image/nature.png\")\n",
    "img = cv2.cvtColor(img, cv2.COLOR_BGR2RGB)\n",
    "plt.imshow(img)\n",
    "plt.axis(\"off\")"
   ]
  },
  {
   "cell_type": "code",
   "execution_count": null,
   "id": "b2c9f013",
   "metadata": {},
   "outputs": [],
   "source": [
    "#실습\n",
    "text = pytesseract.image_to_string(img, lang=\"kor\")\n",
    "print(text)"
   ]
  },
  {
   "cell_type": "markdown",
   "id": "bb452690",
   "metadata": {},
   "source": [
    "### 번호판 인식"
   ]
  },
  {
   "cell_type": "code",
   "execution_count": null,
   "id": "bc433350",
   "metadata": {},
   "outputs": [],
   "source": [
    "#실습\n",
    "import cv2\n",
    "import matplotlib.pyplot as plt\n",
    "\n",
    "img = cv2.imread(\"./image/car.png\")\n",
    "img = cv2.cvtColor(img, cv2.COLOR_BGR2RGB)\n",
    "plt.imshow(img)\n",
    "plt.axis(\"off\")"
   ]
  },
  {
   "cell_type": "code",
   "execution_count": null,
   "id": "d7001b0b",
   "metadata": {},
   "outputs": [],
   "source": [
    "#실습\n",
    "text = pytesseract.image_to_string(img, lang=\"kor\")\n",
    "print(text)"
   ]
  },
  {
   "cell_type": "markdown",
   "id": "29620275",
   "metadata": {},
   "source": [
    "- tessract는 이진 이미지로 변환해서 인식을 하면 성능을 높일 수 있다."
   ]
  },
  {
   "cell_type": "code",
   "execution_count": null,
   "id": "5bfd6479",
   "metadata": {},
   "outputs": [],
   "source": [
    "#실습\n",
    "img_gray = cv2.cvtColor(img, cv2.COLOR_RGB2GRAY)\n",
    "_, img_th = cv2.threshold(img_gray, 137, 255, cv2.THRESH_BINARY)\n",
    "plt.imshow(img_th, cmap=\"gray\")\n",
    "plt.axis(\"off\")"
   ]
  },
  {
   "cell_type": "code",
   "execution_count": null,
   "id": "24ccf11b",
   "metadata": {},
   "outputs": [],
   "source": [
    "#실습\n",
    "text = pytesseract.image_to_string(img_th, lang=\"kor\")\n",
    "print(text)"
   ]
  },
  {
   "cell_type": "code",
   "execution_count": null,
   "id": "76496f0f",
   "metadata": {},
   "outputs": [],
   "source": [
    "import cv2\n",
    "import matplotlib.pyplot as plt\n",
    "\n",
    "img = cv2.imread(\"./image/car.png\")\n",
    "img = cv2.cvtColor(img, cv2.COLOR_BGR2RGB)\n",
    "img_gray = cv2.cvtColor(img, cv2.COLOR_RGB2GRAY)\n",
    "li = []\n",
    "for i in range(100, 255) :\n",
    "    _, img_th = cv2.threshold(img_gray, i, 255, cv2.THRESH_BINARY)\n",
    "    text = pytesseract.image_to_string(img_th, lang=\"kor\")\n",
    "    li.append((i, text))\n",
    "print(li)"
   ]
  },
  {
   "cell_type": "markdown",
   "id": "4eb77074",
   "metadata": {},
   "source": [
    "## EasyOCR\n",
    "- 문자영역 인식, 문자 인식을 쉽게 할 수 있게 하는 파이썬 라이브러리\n",
    "- 간단하고 직관적\n",
    "- 80개 이상의 언어를 지원\n",
    "- 문자 추출은 CRAFT를 문자 인식은 CRNN을 사용\n",
    "\n",
    "\n",
    "- 수행 결과로 텍스트의 바운딩 박스 좌표와 읽은 문자를 반환\n",
    "\n",
    "\n",
    "- 참고 : https://github.com/JaidedAI/EasyOCR"
   ]
  },
  {
   "cell_type": "code",
   "execution_count": null,
   "id": "2d250c4b",
   "metadata": {},
   "outputs": [],
   "source": [
    "#!pip uninstall opencv-python\n",
    "!pip install opencv-python==4.5.4.60 easyocr --user"
   ]
  },
  {
   "cell_type": "code",
   "execution_count": null,
   "id": "744d3bc6",
   "metadata": {},
   "outputs": [],
   "source": [
    "!pip install opencv-python 4.5.5"
   ]
  },
  {
   "cell_type": "code",
   "execution_count": null,
   "id": "c22e14b6",
   "metadata": {},
   "outputs": [],
   "source": [
    "#실습\n",
    "import cv2\n",
    "import matplotlib.pyplot as plt\n",
    "\n",
    "img = cv2.imread(\"./image/car4.jfif\")\n",
    "img = cv2.cvtColor(img, cv2.COLOR_BGR2RGB)\n",
    "\n",
    "plt.imshow(img)\n",
    "plt.axis(\"off\")"
   ]
  },
  {
   "cell_type": "code",
   "execution_count": null,
   "id": "ce59b9d3",
   "metadata": {
    "scrolled": true
   },
   "outputs": [],
   "source": [
    "#실습\n",
    "import easyocr\n",
    "\n",
    "# 인식할 언어 설정\n",
    "reader = easyocr.Reader(['ko', 'en'])\n",
    "\n",
    "# 글씨 영역, 인식된 글씨, 정확도\n",
    "result = reader.readtext(img)\n",
    "\n",
    "' '.join([txt[1:-1] for txt in result])"
   ]
  },
  {
   "cell_type": "code",
   "execution_count": null,
   "id": "ec6f1d7d",
   "metadata": {},
   "outputs": [],
   "source": [
    "import cv2\n",
    "import easyocr\n",
    "\n",
    "img = cv2.imread(\"./image/car.png\")\n",
    "img = cv2.cvtColor(img, cv2.COLOR_BGR2RGB)\n",
    "reader = easyocr.Reader(['ko', 'en'])\n",
    "result = reader.readtext(img)"
   ]
  },
  {
   "cell_type": "markdown",
   "id": "5b4a45d1",
   "metadata": {},
   "source": [
    "## PaddleOCR\n",
    "\n",
    "- 참고 \n",
    "  - https://learnopencv.com/optical-character-recognition-using-paddleocr/?ck_subscriber_id=1390420859\n",
    "  - https://github.com/PaddlePaddle/PaddleOCR\n",
    "\n",
    "\n",
    "- 텍스트 감지, 텍스트 방향 분류기 및 텍스트 인식을 제공\n",
    "- PP-OCR 및 SRN, NRTR 등과 같은 최신 알고리즘을 포함하여 툴킷에 다양한 모델을 제공\n",
    "- 80 개 이상의 언어를 지원\n",
    "\n",
    "\n",
    "<img src=\"./lecture_image/23_paddleocr1.png\" width=80%> "
   ]
  },
  {
   "cell_type": "markdown",
   "id": "79a13dac",
   "metadata": {},
   "source": [
    "- 설치\n",
    "    - 아나콘다 프롬프트 창 명령어"
   ]
  },
  {
   "cell_type": "code",
   "execution_count": 2,
   "id": "43c51cf5",
   "metadata": {},
   "outputs": [
    {
     "name": "stderr",
     "output_type": "stream",
     "text": [
      "'conda'은(는) 내부 또는 외부 명령, 실행할 수 있는 프로그램, 또는\n",
      "배치 파일이 아닙니다.\n"
     ]
    }
   ],
   "source": [
    "!conda create paddleocr python==3.7"
   ]
  },
  {
   "cell_type": "code",
   "execution_count": 3,
   "id": "1eae8353",
   "metadata": {},
   "outputs": [
    {
     "name": "stderr",
     "output_type": "stream",
     "text": [
      "'activate'은(는) 내부 또는 외부 명령, 실행할 수 있는 프로그램, 또는\n",
      "배치 파일이 아닙니다.\n"
     ]
    }
   ],
   "source": [
    "!activate paddleocr"
   ]
  },
  {
   "cell_type": "code",
   "execution_count": 1,
   "id": "11ee1fc7",
   "metadata": {},
   "outputs": [
    {
     "name": "stderr",
     "output_type": "stream",
     "text": [
      "Cloning into 'PaddleOCR'...\n",
      "Updating files:  57% (870/1519)\n",
      "Updating files:  58% (882/1519)\n",
      "Updating files:  59% (897/1519)\n",
      "Updating files:  60% (912/1519)\n",
      "Updating files:  61% (927/1519)\n",
      "Updating files:  62% (942/1519)\n",
      "Updating files:  63% (957/1519)\n",
      "Updating files:  64% (973/1519)\n",
      "Updating files:  65% (988/1519)\n",
      "Updating files:  66% (1003/1519)\n",
      "Updating files:  67% (1018/1519)\n",
      "Updating files:  68% (1033/1519)\n",
      "Updating files:  69% (1049/1519)\n",
      "Updating files:  70% (1064/1519)\n",
      "Updating files:  71% (1079/1519)\n",
      "Updating files:  72% (1094/1519)\n",
      "Updating files:  73% (1109/1519)\n",
      "Updating files:  74% (1125/1519)\n",
      "Updating files:  75% (1140/1519)\n",
      "Updating files:  76% (1155/1519)\n",
      "Updating files:  77% (1170/1519)\n",
      "Updating files:  78% (1185/1519)\n",
      "Updating files:  79% (1201/1519)\n",
      "Updating files:  80% (1216/1519)\n",
      "Updating files:  81% (1231/1519)\n",
      "Updating files:  82% (1246/1519)\n",
      "Updating files:  83% (1261/1519)\n",
      "Updating files:  84% (1276/1519)\n",
      "Updating files:  85% (1292/1519)\n",
      "Updating files:  86% (1307/1519)\n",
      "Updating files:  87% (1322/1519)\n",
      "Updating files:  88% (1337/1519)\n",
      "Updating files:  89% (1352/1519)\n",
      "Updating files:  90% (1368/1519)\n",
      "Updating files:  91% (1383/1519)\n",
      "Updating files:  92% (1398/1519)\n",
      "Updating files:  93% (1413/1519)\n",
      "Updating files:  94% (1428/1519)\n",
      "Updating files:  95% (1444/1519)\n",
      "Updating files:  96% (1459/1519)\n",
      "Updating files:  97% (1474/1519)\n",
      "Updating files:  98% (1489/1519)\n",
      "Updating files:  99% (1504/1519)\n",
      "Updating files: 100% (1519/1519)\n",
      "Updating files: 100% (1519/1519), done.\n"
     ]
    }
   ],
   "source": [
    "!git clone https://gitee.com/paddlepaddle/PaddleOCR.git"
   ]
  },
  {
   "cell_type": "code",
   "execution_count": 4,
   "id": "d8065393",
   "metadata": {},
   "outputs": [
    {
     "name": "stdout",
     "output_type": "stream",
     "text": [
      "Requirement already satisfied: shapely in c:\\users\\ai\\appdata\\roaming\\python\\python37\\site-packages (from -r ./PaddleOCR/requirements.txt (line 1)) (1.8.4)\n",
      "Requirement already satisfied: scikit-image in c:\\users\\ai\\appdata\\roaming\\python\\python37\\site-packages (from -r ./PaddleOCR/requirements.txt (line 2)) (0.19.3)\n",
      "Collecting imgaug\n",
      "  Downloading imgaug-0.4.0-py2.py3-none-any.whl (948 kB)\n",
      "     -------------------------------------- 948.0/948.0 kB 6.7 MB/s eta 0:00:00\n",
      "Requirement already satisfied: pyclipper in c:\\users\\ai\\appdata\\roaming\\python\\python37\\site-packages (from -r ./PaddleOCR/requirements.txt (line 4)) (1.3.0.post3)\n",
      "Collecting lmdb\n",
      "  Downloading lmdb-1.3.0-cp37-cp37m-win_amd64.whl (105 kB)\n",
      "     ---------------------------------------- 105.6/105.6 kB ? eta 0:00:00\n",
      "Requirement already satisfied: tqdm in c:\\users\\ai\\anaconda3\\envs\\opencv\\lib\\site-packages (from -r ./PaddleOCR/requirements.txt (line 6)) (4.64.1)\n",
      "Requirement already satisfied: numpy in c:\\users\\ai\\anaconda3\\envs\\opencv\\lib\\site-packages (from -r ./PaddleOCR/requirements.txt (line 7)) (1.21.5)\n",
      "Collecting visualdl\n",
      "  Downloading visualdl-2.4.1-py3-none-any.whl (4.9 MB)\n",
      "     ---------------------------------------- 4.9/4.9 MB 15.0 MB/s eta 0:00:00\n",
      "Collecting rapidfuzz\n",
      "  Downloading rapidfuzz-2.10.0-cp37-cp37m-win_amd64.whl (912 kB)\n",
      "     ------------------------------------- 912.8/912.8 kB 14.6 MB/s eta 0:00:00\n",
      "Requirement already satisfied: opencv-contrib-python in c:\\users\\ai\\anaconda3\\envs\\opencv\\lib\\site-packages (from -r ./PaddleOCR/requirements.txt (line 10)) (4.6.0.66)\n",
      "Collecting cython\n",
      "  Downloading Cython-0.29.32-py2.py3-none-any.whl (986 kB)\n",
      "     ------------------------------------- 986.3/986.3 kB 15.5 MB/s eta 0:00:00\n",
      "Collecting lxml\n",
      "  Downloading lxml-4.9.1-cp37-cp37m-win_amd64.whl (3.6 MB)\n",
      "     ---------------------------------------- 3.6/3.6 MB 16.3 MB/s eta 0:00:00\n",
      "Collecting premailer\n",
      "  Downloading premailer-3.10.0-py2.py3-none-any.whl (19 kB)\n",
      "Collecting openpyxl\n",
      "  Downloading openpyxl-3.0.10-py2.py3-none-any.whl (242 kB)\n",
      "     ------------------------------------- 242.1/242.1 kB 14.5 MB/s eta 0:00:00\n",
      "Collecting attrdict\n",
      "  Downloading attrdict-2.0.1-py2.py3-none-any.whl (9.9 kB)\n",
      "Requirement already satisfied: packaging>=20.0 in c:\\users\\ai\\anaconda3\\envs\\opencv\\lib\\site-packages (from scikit-image->-r ./PaddleOCR/requirements.txt (line 2)) (21.3)\n",
      "Requirement already satisfied: networkx>=2.2 in c:\\users\\ai\\appdata\\roaming\\python\\python37\\site-packages (from scikit-image->-r ./PaddleOCR/requirements.txt (line 2)) (2.6.3)\n",
      "Requirement already satisfied: imageio>=2.4.1 in c:\\users\\ai\\anaconda3\\envs\\opencv\\lib\\site-packages (from scikit-image->-r ./PaddleOCR/requirements.txt (line 2)) (2.21.3)\n",
      "Requirement already satisfied: pillow!=7.1.0,!=7.1.1,!=8.3.0,>=6.1.0 in c:\\users\\ai\\anaconda3\\envs\\opencv\\lib\\site-packages (from scikit-image->-r ./PaddleOCR/requirements.txt (line 2)) (9.2.0)\n",
      "Requirement already satisfied: scipy>=1.4.1 in c:\\users\\ai\\anaconda3\\envs\\opencv\\lib\\site-packages (from scikit-image->-r ./PaddleOCR/requirements.txt (line 2)) (1.7.3)\n",
      "Requirement already satisfied: PyWavelets>=1.1.1 in c:\\users\\ai\\appdata\\roaming\\python\\python37\\site-packages (from scikit-image->-r ./PaddleOCR/requirements.txt (line 2)) (1.3.0)\n",
      "Requirement already satisfied: tifffile>=2019.7.26 in c:\\users\\ai\\appdata\\roaming\\python\\python37\\site-packages (from scikit-image->-r ./PaddleOCR/requirements.txt (line 2)) (2021.11.2)\n",
      "Requirement already satisfied: opencv-python in c:\\users\\ai\\appdata\\roaming\\python\\python37\\site-packages (from imgaug->-r ./PaddleOCR/requirements.txt (line 3)) (4.5.4.60)\n",
      "Requirement already satisfied: matplotlib in c:\\users\\ai\\anaconda3\\envs\\opencv\\lib\\site-packages (from imgaug->-r ./PaddleOCR/requirements.txt (line 3)) (3.5.2)\n",
      "Requirement already satisfied: six in c:\\users\\ai\\anaconda3\\envs\\opencv\\lib\\site-packages (from imgaug->-r ./PaddleOCR/requirements.txt (line 3)) (1.16.0)\n",
      "Requirement already satisfied: colorama in c:\\users\\ai\\anaconda3\\envs\\opencv\\lib\\site-packages (from tqdm->-r ./PaddleOCR/requirements.txt (line 6)) (0.4.5)\n",
      "Requirement already satisfied: pandas in c:\\users\\ai\\anaconda3\\envs\\opencv\\lib\\site-packages (from visualdl->-r ./PaddleOCR/requirements.txt (line 8)) (1.3.5)\n",
      "Collecting multiprocess\n",
      "  Downloading multiprocess-0.70.13-py37-none-any.whl (115 kB)\n",
      "     ---------------------------------------- 115.1/115.1 kB ? eta 0:00:00\n",
      "Requirement already satisfied: protobuf>=3.11.0 in c:\\users\\ai\\anaconda3\\envs\\opencv\\lib\\site-packages (from visualdl->-r ./PaddleOCR/requirements.txt (line 8)) (3.19.5)\n",
      "Requirement already satisfied: requests in c:\\users\\ai\\anaconda3\\envs\\opencv\\lib\\site-packages (from visualdl->-r ./PaddleOCR/requirements.txt (line 8)) (2.28.1)\n",
      "Collecting bce-python-sdk\n",
      "  Downloading bce_python_sdk-0.8.74-py3-none-any.whl (204 kB)\n",
      "     ------------------------------------- 204.6/204.6 kB 12.1 MB/s eta 0:00:00\n",
      "Requirement already satisfied: flask>=1.1.1 in c:\\users\\ai\\anaconda3\\envs\\opencv\\lib\\site-packages (from visualdl->-r ./PaddleOCR/requirements.txt (line 8)) (2.2.2)\n",
      "Collecting Flask-Babel>=1.0.0\n",
      "  Downloading Flask_Babel-2.0.0-py3-none-any.whl (9.3 kB)\n",
      "Collecting jarowinkler<2.0.0,>=1.2.0\n",
      "  Downloading jarowinkler-1.2.1-cp37-cp37m-win_amd64.whl (62 kB)\n",
      "     ---------------------------------------- 62.4/62.4 kB ? eta 0:00:00\n",
      "Requirement already satisfied: cachetools in c:\\users\\ai\\anaconda3\\envs\\opencv\\lib\\site-packages (from premailer->-r ./PaddleOCR/requirements.txt (line 13)) (5.2.0)\n",
      "Collecting cssutils\n",
      "  Downloading cssutils-2.6.0-py3-none-any.whl (399 kB)\n",
      "     ------------------------------------- 399.7/399.7 kB 24.3 MB/s eta 0:00:00\n",
      "Collecting cssselect\n",
      "  Downloading cssselect-1.1.0-py2.py3-none-any.whl (16 kB)\n",
      "Collecting et-xmlfile\n",
      "  Downloading et_xmlfile-1.1.0-py3-none-any.whl (4.7 kB)\n",
      "Requirement already satisfied: itsdangerous>=2.0 in c:\\users\\ai\\anaconda3\\envs\\opencv\\lib\\site-packages (from flask>=1.1.1->visualdl->-r ./PaddleOCR/requirements.txt (line 8)) (2.1.2)\n",
      "Requirement already satisfied: Werkzeug>=2.2.2 in c:\\users\\ai\\anaconda3\\envs\\opencv\\lib\\site-packages (from flask>=1.1.1->visualdl->-r ./PaddleOCR/requirements.txt (line 8)) (2.2.2)\n",
      "Requirement already satisfied: Jinja2>=3.0 in c:\\users\\ai\\anaconda3\\envs\\opencv\\lib\\site-packages (from flask>=1.1.1->visualdl->-r ./PaddleOCR/requirements.txt (line 8)) (3.0.3)\n",
      "Requirement already satisfied: importlib-metadata>=3.6.0 in c:\\users\\ai\\anaconda3\\envs\\opencv\\lib\\site-packages (from flask>=1.1.1->visualdl->-r ./PaddleOCR/requirements.txt (line 8)) (4.11.3)\n",
      "Requirement already satisfied: click>=8.0 in c:\\users\\ai\\anaconda3\\envs\\opencv\\lib\\site-packages (from flask>=1.1.1->visualdl->-r ./PaddleOCR/requirements.txt (line 8)) (8.1.3)\n",
      "Requirement already satisfied: Babel>=2.3 in c:\\users\\ai\\anaconda3\\envs\\opencv\\lib\\site-packages (from Flask-Babel>=1.0.0->visualdl->-r ./PaddleOCR/requirements.txt (line 8)) (2.9.1)\n",
      "Requirement already satisfied: pytz in c:\\users\\ai\\anaconda3\\envs\\opencv\\lib\\site-packages (from Flask-Babel>=1.0.0->visualdl->-r ./PaddleOCR/requirements.txt (line 8)) (2022.1)\n",
      "Requirement already satisfied: pyparsing!=3.0.5,>=2.0.2 in c:\\users\\ai\\anaconda3\\envs\\opencv\\lib\\site-packages (from packaging>=20.0->scikit-image->-r ./PaddleOCR/requirements.txt (line 2)) (3.0.9)\n",
      "Collecting future>=0.6.0\n",
      "  Downloading future-0.18.2.tar.gz (829 kB)\n",
      "     ------------------------------------- 829.2/829.2 kB 13.0 MB/s eta 0:00:00\n",
      "  Preparing metadata (setup.py): started\n",
      "  Preparing metadata (setup.py): finished with status 'done'\n",
      "Collecting pycryptodome>=3.8.0\n",
      "  Downloading pycryptodome-3.15.0-cp35-abi3-win_amd64.whl (1.9 MB)\n",
      "     ---------------------------------------- 1.9/1.9 MB 13.8 MB/s eta 0:00:00\n",
      "Requirement already satisfied: python-dateutil>=2.7 in c:\\users\\ai\\anaconda3\\envs\\opencv\\lib\\site-packages (from matplotlib->imgaug->-r ./PaddleOCR/requirements.txt (line 3)) (2.8.2)\n",
      "Requirement already satisfied: kiwisolver>=1.0.1 in c:\\users\\ai\\anaconda3\\envs\\opencv\\lib\\site-packages (from matplotlib->imgaug->-r ./PaddleOCR/requirements.txt (line 3)) (1.4.2)\n",
      "Requirement already satisfied: cycler>=0.10 in c:\\users\\ai\\anaconda3\\envs\\opencv\\lib\\site-packages (from matplotlib->imgaug->-r ./PaddleOCR/requirements.txt (line 3)) (0.11.0)\n",
      "Requirement already satisfied: fonttools>=4.22.0 in c:\\users\\ai\\anaconda3\\envs\\opencv\\lib\\site-packages (from matplotlib->imgaug->-r ./PaddleOCR/requirements.txt (line 3)) (4.25.0)\n",
      "Collecting dill>=0.3.5.1\n",
      "  Downloading dill-0.3.5.1-py2.py3-none-any.whl (95 kB)\n",
      "     ---------------------------------------- 95.8/95.8 kB 5.3 MB/s eta 0:00:00\n",
      "Requirement already satisfied: idna<4,>=2.5 in c:\\users\\ai\\anaconda3\\envs\\opencv\\lib\\site-packages (from requests->visualdl->-r ./PaddleOCR/requirements.txt (line 8)) (3.3)\n",
      "Requirement already satisfied: charset-normalizer<3,>=2 in c:\\users\\ai\\anaconda3\\envs\\opencv\\lib\\site-packages (from requests->visualdl->-r ./PaddleOCR/requirements.txt (line 8)) (2.0.4)\n",
      "Requirement already satisfied: urllib3<1.27,>=1.21.1 in c:\\users\\ai\\anaconda3\\envs\\opencv\\lib\\site-packages (from requests->visualdl->-r ./PaddleOCR/requirements.txt (line 8)) (1.26.11)\n",
      "Requirement already satisfied: certifi>=2017.4.17 in c:\\users\\ai\\anaconda3\\envs\\opencv\\lib\\site-packages (from requests->visualdl->-r ./PaddleOCR/requirements.txt (line 8)) (2022.6.15)\n",
      "Requirement already satisfied: typing-extensions>=3.6.4 in c:\\users\\ai\\anaconda3\\envs\\opencv\\lib\\site-packages (from importlib-metadata>=3.6.0->flask>=1.1.1->visualdl->-r ./PaddleOCR/requirements.txt (line 8)) (4.3.0)\n",
      "Requirement already satisfied: zipp>=0.5 in c:\\users\\ai\\anaconda3\\envs\\opencv\\lib\\site-packages (from importlib-metadata>=3.6.0->flask>=1.1.1->visualdl->-r ./PaddleOCR/requirements.txt (line 8)) (3.8.0)\n",
      "Requirement already satisfied: MarkupSafe>=2.0 in c:\\users\\ai\\anaconda3\\envs\\opencv\\lib\\site-packages (from Jinja2>=3.0->flask>=1.1.1->visualdl->-r ./PaddleOCR/requirements.txt (line 8)) (2.1.1)\n",
      "Building wheels for collected packages: future\n",
      "  Building wheel for future (setup.py): started\n",
      "  Building wheel for future (setup.py): finished with status 'done'\n",
      "  Created wheel for future: filename=future-0.18.2-py3-none-any.whl size=491058 sha256=16bfe54ad0828774928eaa15fb9cfdc7cbc43139932e18fbc04de0b12b9b3d62\n",
      "  Stored in directory: c:\\users\\ai\\appdata\\local\\pip\\cache\\wheels\\56\\b0\\fe\\4410d17b32f1f0c3cf54cdfb2bc04d7b4b8f4ae377e2229ba0\n",
      "Successfully built future\n",
      "Installing collected packages: lmdb, pycryptodome, lxml, jarowinkler, future, et-xmlfile, dill, cython, cssselect, attrdict, rapidfuzz, openpyxl, multiprocess, cssutils, bce-python-sdk, premailer, imgaug, Flask-Babel, visualdl\n",
      "Successfully installed Flask-Babel-2.0.0 attrdict-2.0.1 bce-python-sdk-0.8.74 cssselect-1.1.0 cssutils-2.6.0 cython-0.29.32 dill-0.3.5.1 et-xmlfile-1.1.0 future-0.18.2 imgaug-0.4.0 jarowinkler-1.2.1 lmdb-1.3.0 lxml-4.9.1 multiprocess-0.70.13 openpyxl-3.0.10 premailer-3.10.0 pycryptodome-3.15.0 rapidfuzz-2.10.0 visualdl-2.4.1\n"
     ]
    }
   ],
   "source": [
    "!pip install -r ./PaddleOCR/requirements.txt"
   ]
  },
  {
   "cell_type": "code",
   "execution_count": 5,
   "id": "21ed5143",
   "metadata": {},
   "outputs": [
    {
     "name": "stdout",
     "output_type": "stream",
     "text": [
      "Collecting paddlepaddle\n",
      "  Downloading paddlepaddle-2.3.2-cp37-cp37m-win_amd64.whl (64.3 MB)\n",
      "     --------------------------------------- 64.3/64.3 MB 13.3 MB/s eta 0:00:00\n",
      "Collecting paddleocr\n",
      "  Downloading paddleocr-2.6.0.1-py3-none-any.whl (389 kB)\n",
      "     ------------------------------------- 389.4/389.4 kB 23.7 MB/s eta 0:00:00\n",
      "Requirement already satisfied: numpy>=1.13 in c:\\users\\ai\\anaconda3\\envs\\opencv\\lib\\site-packages (from paddlepaddle) (1.21.5)\n",
      "Requirement already satisfied: decorator in c:\\users\\ai\\anaconda3\\envs\\opencv\\lib\\site-packages (from paddlepaddle) (5.1.1)\n",
      "Collecting paddle-bfloat==0.1.7\n",
      "  Downloading paddle_bfloat-0.1.7-cp37-cp37m-win_amd64.whl (40 kB)\n",
      "     ---------------------------------------- 40.6/40.6 kB 1.9 MB/s eta 0:00:00\n",
      "Requirement already satisfied: Pillow in c:\\users\\ai\\anaconda3\\envs\\opencv\\lib\\site-packages (from paddlepaddle) (9.2.0)\n",
      "Requirement already satisfied: protobuf<=3.20.0,>=3.1.0 in c:\\users\\ai\\anaconda3\\envs\\opencv\\lib\\site-packages (from paddlepaddle) (3.19.5)\n",
      "Requirement already satisfied: opt-einsum==3.3.0 in c:\\users\\ai\\anaconda3\\envs\\opencv\\lib\\site-packages (from paddlepaddle) (3.3.0)\n",
      "Requirement already satisfied: requests>=2.20.0 in c:\\users\\ai\\anaconda3\\envs\\opencv\\lib\\site-packages (from paddlepaddle) (2.28.1)\n",
      "Collecting astor\n",
      "  Downloading astor-0.8.1-py2.py3-none-any.whl (27 kB)\n",
      "Requirement already satisfied: six in c:\\users\\ai\\anaconda3\\envs\\opencv\\lib\\site-packages (from paddlepaddle) (1.16.0)\n",
      "Requirement already satisfied: scikit-image in c:\\users\\ai\\appdata\\roaming\\python\\python37\\site-packages (from paddleocr) (0.19.3)\n",
      "Requirement already satisfied: opencv-contrib-python in c:\\users\\ai\\anaconda3\\envs\\opencv\\lib\\site-packages (from paddleocr) (4.6.0.66)\n",
      "Requirement already satisfied: imgaug in c:\\users\\ai\\anaconda3\\envs\\opencv\\lib\\site-packages (from paddleocr) (0.4.0)\n",
      "Requirement already satisfied: shapely in c:\\users\\ai\\appdata\\roaming\\python\\python37\\site-packages (from paddleocr) (1.8.4)\n",
      "Requirement already satisfied: pyclipper in c:\\users\\ai\\appdata\\roaming\\python\\python37\\site-packages (from paddleocr) (1.3.0.post3)\n",
      "Requirement already satisfied: tqdm in c:\\users\\ai\\anaconda3\\envs\\opencv\\lib\\site-packages (from paddleocr) (4.64.1)\n",
      "Requirement already satisfied: openpyxl in c:\\users\\ai\\anaconda3\\envs\\opencv\\lib\\site-packages (from paddleocr) (3.0.10)\n",
      "Requirement already satisfied: attrdict in c:\\users\\ai\\anaconda3\\envs\\opencv\\lib\\site-packages (from paddleocr) (2.0.1)\n",
      "Requirement already satisfied: visualdl in c:\\users\\ai\\anaconda3\\envs\\opencv\\lib\\site-packages (from paddleocr) (2.4.1)\n",
      "Requirement already satisfied: lxml in c:\\users\\ai\\anaconda3\\envs\\opencv\\lib\\site-packages (from paddleocr) (4.9.1)\n",
      "Requirement already satisfied: lmdb in c:\\users\\ai\\anaconda3\\envs\\opencv\\lib\\site-packages (from paddleocr) (1.3.0)\n",
      "Requirement already satisfied: cython in c:\\users\\ai\\anaconda3\\envs\\opencv\\lib\\site-packages (from paddleocr) (0.29.32)\n",
      "Requirement already satisfied: opencv-python in c:\\users\\ai\\appdata\\roaming\\python\\python37\\site-packages (from paddleocr) (4.5.4.60)\n",
      "Requirement already satisfied: premailer in c:\\users\\ai\\anaconda3\\envs\\opencv\\lib\\site-packages (from paddleocr) (3.10.0)\n",
      "Requirement already satisfied: rapidfuzz in c:\\users\\ai\\anaconda3\\envs\\opencv\\lib\\site-packages (from paddleocr) (2.10.0)\n",
      "Requirement already satisfied: idna<4,>=2.5 in c:\\users\\ai\\anaconda3\\envs\\opencv\\lib\\site-packages (from requests>=2.20.0->paddlepaddle) (3.3)\n",
      "Requirement already satisfied: certifi>=2017.4.17 in c:\\users\\ai\\anaconda3\\envs\\opencv\\lib\\site-packages (from requests>=2.20.0->paddlepaddle) (2022.6.15)\n",
      "Requirement already satisfied: charset-normalizer<3,>=2 in c:\\users\\ai\\anaconda3\\envs\\opencv\\lib\\site-packages (from requests>=2.20.0->paddlepaddle) (2.0.4)\n",
      "Requirement already satisfied: urllib3<1.27,>=1.21.1 in c:\\users\\ai\\anaconda3\\envs\\opencv\\lib\\site-packages (from requests>=2.20.0->paddlepaddle) (1.26.11)\n",
      "Requirement already satisfied: matplotlib in c:\\users\\ai\\anaconda3\\envs\\opencv\\lib\\site-packages (from imgaug->paddleocr) (3.5.2)\n",
      "Requirement already satisfied: imageio in c:\\users\\ai\\anaconda3\\envs\\opencv\\lib\\site-packages (from imgaug->paddleocr) (2.21.3)\n",
      "Requirement already satisfied: scipy in c:\\users\\ai\\anaconda3\\envs\\opencv\\lib\\site-packages (from imgaug->paddleocr) (1.7.3)\n",
      "Requirement already satisfied: PyWavelets>=1.1.1 in c:\\users\\ai\\appdata\\roaming\\python\\python37\\site-packages (from scikit-image->paddleocr) (1.3.0)\n",
      "Requirement already satisfied: networkx>=2.2 in c:\\users\\ai\\appdata\\roaming\\python\\python37\\site-packages (from scikit-image->paddleocr) (2.6.3)\n",
      "Requirement already satisfied: packaging>=20.0 in c:\\users\\ai\\anaconda3\\envs\\opencv\\lib\\site-packages (from scikit-image->paddleocr) (21.3)\n",
      "Requirement already satisfied: tifffile>=2019.7.26 in c:\\users\\ai\\appdata\\roaming\\python\\python37\\site-packages (from scikit-image->paddleocr) (2021.11.2)\n",
      "Requirement already satisfied: et-xmlfile in c:\\users\\ai\\anaconda3\\envs\\opencv\\lib\\site-packages (from openpyxl->paddleocr) (1.1.0)\n",
      "Requirement already satisfied: cssselect in c:\\users\\ai\\anaconda3\\envs\\opencv\\lib\\site-packages (from premailer->paddleocr) (1.1.0)\n",
      "Requirement already satisfied: cachetools in c:\\users\\ai\\anaconda3\\envs\\opencv\\lib\\site-packages (from premailer->paddleocr) (5.2.0)\n",
      "Requirement already satisfied: cssutils in c:\\users\\ai\\anaconda3\\envs\\opencv\\lib\\site-packages (from premailer->paddleocr) (2.6.0)\n",
      "Requirement already satisfied: jarowinkler<2.0.0,>=1.2.0 in c:\\users\\ai\\anaconda3\\envs\\opencv\\lib\\site-packages (from rapidfuzz->paddleocr) (1.2.1)\n",
      "Requirement already satisfied: colorama in c:\\users\\ai\\anaconda3\\envs\\opencv\\lib\\site-packages (from tqdm->paddleocr) (0.4.5)\n",
      "Requirement already satisfied: bce-python-sdk in c:\\users\\ai\\anaconda3\\envs\\opencv\\lib\\site-packages (from visualdl->paddleocr) (0.8.74)\n",
      "Requirement already satisfied: Flask-Babel>=1.0.0 in c:\\users\\ai\\anaconda3\\envs\\opencv\\lib\\site-packages (from visualdl->paddleocr) (2.0.0)\n",
      "Requirement already satisfied: flask>=1.1.1 in c:\\users\\ai\\anaconda3\\envs\\opencv\\lib\\site-packages (from visualdl->paddleocr) (2.2.2)\n",
      "Requirement already satisfied: pandas in c:\\users\\ai\\anaconda3\\envs\\opencv\\lib\\site-packages (from visualdl->paddleocr) (1.3.5)\n",
      "Requirement already satisfied: multiprocess in c:\\users\\ai\\anaconda3\\envs\\opencv\\lib\\site-packages (from visualdl->paddleocr) (0.70.13)\n",
      "Requirement already satisfied: click>=8.0 in c:\\users\\ai\\anaconda3\\envs\\opencv\\lib\\site-packages (from flask>=1.1.1->visualdl->paddleocr) (8.1.3)\n",
      "Requirement already satisfied: itsdangerous>=2.0 in c:\\users\\ai\\anaconda3\\envs\\opencv\\lib\\site-packages (from flask>=1.1.1->visualdl->paddleocr) (2.1.2)\n",
      "Requirement already satisfied: importlib-metadata>=3.6.0 in c:\\users\\ai\\anaconda3\\envs\\opencv\\lib\\site-packages (from flask>=1.1.1->visualdl->paddleocr) (4.11.3)\n",
      "Requirement already satisfied: Jinja2>=3.0 in c:\\users\\ai\\anaconda3\\envs\\opencv\\lib\\site-packages (from flask>=1.1.1->visualdl->paddleocr) (3.0.3)\n",
      "Requirement already satisfied: Werkzeug>=2.2.2 in c:\\users\\ai\\anaconda3\\envs\\opencv\\lib\\site-packages (from flask>=1.1.1->visualdl->paddleocr) (2.2.2)\n",
      "Requirement already satisfied: pytz in c:\\users\\ai\\anaconda3\\envs\\opencv\\lib\\site-packages (from Flask-Babel>=1.0.0->visualdl->paddleocr) (2022.1)\n",
      "Requirement already satisfied: Babel>=2.3 in c:\\users\\ai\\anaconda3\\envs\\opencv\\lib\\site-packages (from Flask-Babel>=1.0.0->visualdl->paddleocr) (2.9.1)\n",
      "Requirement already satisfied: pyparsing!=3.0.5,>=2.0.2 in c:\\users\\ai\\anaconda3\\envs\\opencv\\lib\\site-packages (from packaging>=20.0->scikit-image->paddleocr) (3.0.9)\n",
      "Requirement already satisfied: pycryptodome>=3.8.0 in c:\\users\\ai\\anaconda3\\envs\\opencv\\lib\\site-packages (from bce-python-sdk->visualdl->paddleocr) (3.15.0)\n",
      "Requirement already satisfied: future>=0.6.0 in c:\\users\\ai\\anaconda3\\envs\\opencv\\lib\\site-packages (from bce-python-sdk->visualdl->paddleocr) (0.18.2)\n",
      "Requirement already satisfied: kiwisolver>=1.0.1 in c:\\users\\ai\\anaconda3\\envs\\opencv\\lib\\site-packages (from matplotlib->imgaug->paddleocr) (1.4.2)\n",
      "Requirement already satisfied: cycler>=0.10 in c:\\users\\ai\\anaconda3\\envs\\opencv\\lib\\site-packages (from matplotlib->imgaug->paddleocr) (0.11.0)\n",
      "Requirement already satisfied: python-dateutil>=2.7 in c:\\users\\ai\\anaconda3\\envs\\opencv\\lib\\site-packages (from matplotlib->imgaug->paddleocr) (2.8.2)\n",
      "Requirement already satisfied: fonttools>=4.22.0 in c:\\users\\ai\\anaconda3\\envs\\opencv\\lib\\site-packages (from matplotlib->imgaug->paddleocr) (4.25.0)\n",
      "Requirement already satisfied: dill>=0.3.5.1 in c:\\users\\ai\\anaconda3\\envs\\opencv\\lib\\site-packages (from multiprocess->visualdl->paddleocr) (0.3.5.1)\n",
      "Requirement already satisfied: zipp>=0.5 in c:\\users\\ai\\anaconda3\\envs\\opencv\\lib\\site-packages (from importlib-metadata>=3.6.0->flask>=1.1.1->visualdl->paddleocr) (3.8.0)\n",
      "Requirement already satisfied: typing-extensions>=3.6.4 in c:\\users\\ai\\anaconda3\\envs\\opencv\\lib\\site-packages (from importlib-metadata>=3.6.0->flask>=1.1.1->visualdl->paddleocr) (4.3.0)\n",
      "Requirement already satisfied: MarkupSafe>=2.0 in c:\\users\\ai\\anaconda3\\envs\\opencv\\lib\\site-packages (from Jinja2>=3.0->flask>=1.1.1->visualdl->paddleocr) (2.1.1)\n",
      "Installing collected packages: paddle-bfloat, astor, paddlepaddle, paddleocr\n",
      "Successfully installed astor-0.8.1 paddle-bfloat-0.1.7 paddleocr-2.6.0.1 paddlepaddle-2.3.2\n"
     ]
    },
    {
     "name": "stderr",
     "output_type": "stream",
     "text": [
      "  WARNING: The script fleetrun.exe is installed in 'C:\\Users\\AI\\AppData\\Roaming\\Python\\Python37\\Scripts' which is not on PATH.\n",
      "  Consider adding this directory to PATH or, if you prefer to suppress this warning, use --no-warn-script-location.\n",
      "  WARNING: The script paddleocr.exe is installed in 'C:\\Users\\AI\\AppData\\Roaming\\Python\\Python37\\Scripts' which is not on PATH.\n",
      "  Consider adding this directory to PATH or, if you prefer to suppress this warning, use --no-warn-script-location.\n"
     ]
    }
   ],
   "source": [
    "# !pip install paddlepaddle-gpu paddleocr --user\n",
    "!pip install paddlepaddle paddleocr --user"
   ]
  },
  {
   "cell_type": "markdown",
   "id": "21c9f536",
   "metadata": {},
   "source": [
    "- 라이브러리 및 학습된 모델 로딩"
   ]
  },
  {
   "cell_type": "code",
   "execution_count": null,
   "id": "80d28e2c",
   "metadata": {},
   "outputs": [],
   "source": [
    "#실습"
   ]
  },
  {
   "cell_type": "markdown",
   "id": "0321c0d8",
   "metadata": {},
   "source": [
    "- 인식"
   ]
  },
  {
   "cell_type": "code",
   "execution_count": null,
   "id": "04b0019e",
   "metadata": {},
   "outputs": [],
   "source": [
    "#실습"
   ]
  },
  {
   "cell_type": "markdown",
   "id": "5c374c49",
   "metadata": {},
   "source": [
    "- 영수증 인식"
   ]
  },
  {
   "cell_type": "code",
   "execution_count": null,
   "id": "0956ef90",
   "metadata": {},
   "outputs": [],
   "source": [
    "#실습"
   ]
  },
  {
   "cell_type": "markdown",
   "id": "a95ef378",
   "metadata": {},
   "source": [
    "- ID 카드 인식"
   ]
  },
  {
   "cell_type": "code",
   "execution_count": null,
   "id": "2e33cccb",
   "metadata": {
    "scrolled": true
   },
   "outputs": [],
   "source": [
    "#실습"
   ]
  },
  {
   "cell_type": "markdown",
   "id": "8f0f5e2a",
   "metadata": {},
   "source": [
    "- 손글씨 인식"
   ]
  },
  {
   "cell_type": "code",
   "execution_count": null,
   "id": "7e9ee0f6",
   "metadata": {},
   "outputs": [],
   "source": [
    "#실습"
   ]
  },
  {
   "cell_type": "markdown",
   "id": "0f1d9d0c",
   "metadata": {},
   "source": [
    "- 자동차 번호판"
   ]
  },
  {
   "cell_type": "code",
   "execution_count": null,
   "id": "1c0839a0",
   "metadata": {},
   "outputs": [],
   "source": [
    "#실습"
   ]
  },
  {
   "cell_type": "markdown",
   "id": "6c63c937",
   "metadata": {},
   "source": [
    "- 도로 표지판"
   ]
  },
  {
   "cell_type": "code",
   "execution_count": null,
   "id": "68706240",
   "metadata": {},
   "outputs": [],
   "source": [
    "#실습"
   ]
  },
  {
   "cell_type": "markdown",
   "id": "1191a364",
   "metadata": {},
   "source": [
    "- 곡선 텍스트"
   ]
  },
  {
   "cell_type": "code",
   "execution_count": null,
   "id": "39a249eb",
   "metadata": {},
   "outputs": [],
   "source": [
    "#실습"
   ]
  },
  {
   "cell_type": "markdown",
   "id": "e36de8a7",
   "metadata": {},
   "source": [
    "## 구글 OCR API 활용\n",
    "\n",
    "- 참고 : https://cloud.google.com/vision/docs/quickstart"
   ]
  },
  {
   "cell_type": "markdown",
   "id": "ac155297",
   "metadata": {},
   "source": [
    "## Naver 클로버 OCR\n",
    "\n",
    "- 참고 : https://clova.ai/ocr?lang=ko"
   ]
  },
  {
   "cell_type": "markdown",
   "id": "14eabecb",
   "metadata": {},
   "source": [
    "<table border=1 width=100%>\n",
    "    <tr><td style=\"border: 1px solid black; width:600px; height:40px; text-align: center;\"><font size=4 color=blue><b>[23차시] 정리하기</b></font></td></tr>       \n",
    "    <tr><td style=\"border: 1px solid black; text-align: left;\"><font size=3>○            \n",
    "        </font></td></tr>   \n",
    "</table>"
   ]
  }
 ],
 "metadata": {
  "hide_input": false,
  "kernelspec": {
   "display_name": "Python 3 (ipykernel)",
   "language": "python",
   "name": "python3"
  },
  "language_info": {
   "codemirror_mode": {
    "name": "ipython",
    "version": 3
   },
   "file_extension": ".py",
   "mimetype": "text/x-python",
   "name": "python",
   "nbconvert_exporter": "python",
   "pygments_lexer": "ipython3",
   "version": "3.7.13"
  },
  "toc": {
   "base_numbering": 1,
   "nav_menu": {},
   "number_sections": true,
   "sideBar": true,
   "skip_h1_title": false,
   "title_cell": "Table of Contents",
   "title_sidebar": "Contents",
   "toc_cell": false,
   "toc_position": {},
   "toc_section_display": true,
   "toc_window_display": false
  }
 },
 "nbformat": 4,
 "nbformat_minor": 5
}
