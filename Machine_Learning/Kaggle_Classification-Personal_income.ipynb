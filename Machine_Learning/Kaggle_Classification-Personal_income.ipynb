{
 "cells": [
  {
   "cell_type": "markdown",
   "id": "c747cf02",
   "metadata": {},
   "source": [
    "## 2. 데이터 수집"
   ]
  },
  {
   "cell_type": "code",
   "execution_count": 1,
   "id": "41d56605",
   "metadata": {},
   "outputs": [],
   "source": [
    "import pandas as pd\n",
    "import numpy as np\n",
    "\n",
    "train = pd.read_csv('class_data/train.csv')\n",
    "test = pd.read_csv('class_data/test.csv')\n",
    "submission = pd.read_csv('class_data/sample_submission.csv')"
   ]
  },
  {
   "cell_type": "code",
   "execution_count": 2,
   "id": "4dfa5379",
   "metadata": {},
   "outputs": [],
   "source": [
    "train1 = train.copy()"
   ]
  },
  {
   "cell_type": "markdown",
   "id": "a40ba8d4",
   "metadata": {},
   "source": [
    "# 3. 탐색적 데이터 분석 및 전처리(EDA:Exploratory Data Analysis)\n",
    "- 데이터를 이해하자!\n",
    "- 결측치, 이상치, 오류가 있는지 확인\n",
    "    - 결측치 : 컬럼의 값이 없는 데이터\n",
    "    - 이상치 : 다른 값들과 차이가 큰 값\n",
    "    - 오류치 >> 이상치 >> 결측치 순으로 데이터 전처리하기!\n",
    "- 기술 통계\n",
    "- 상관 관계\n",
    "- 시각화\n",
    "### 데이터 전처리 방법\n",
    "- 통합(Grouping, 범주형 데이터의 클래스가 너무 많을 시, 사용),\n",
    "- 인코딩,\n",
    "- 정규화,\n",
    "- 라벨 인코딩 등을 통해 데이터 전처리"
   ]
  },
  {
   "cell_type": "code",
   "execution_count": 3,
   "id": "fd1c0a08",
   "metadata": {},
   "outputs": [
    {
     "name": "stdout",
     "output_type": "stream",
     "text": [
      "<class 'pandas.core.frame.DataFrame'>\n",
      "RangeIndex: 29305 entries, 0 to 29304\n",
      "Data columns (total 16 columns):\n",
      " #   Column          Non-Null Count  Dtype \n",
      "---  ------          --------------  ----- \n",
      " 0   no              29305 non-null  int64 \n",
      " 1   age             29305 non-null  int64 \n",
      " 2   workclass       29305 non-null  object\n",
      " 3   fnlwgt          29305 non-null  int64 \n",
      " 4   education       29305 non-null  object\n",
      " 5   education-num   29305 non-null  int64 \n",
      " 6   marital-status  29305 non-null  object\n",
      " 7   occupation      29305 non-null  object\n",
      " 8   relationship    29305 non-null  object\n",
      " 9   race            29305 non-null  object\n",
      " 10  sex             29305 non-null  object\n",
      " 11  capital-gain    29305 non-null  int64 \n",
      " 12  capital-loss    29305 non-null  int64 \n",
      " 13  hours-per-week  29305 non-null  int64 \n",
      " 14  native-country  29305 non-null  object\n",
      " 15  income          29305 non-null  int64 \n",
      "dtypes: int64(8), object(8)\n",
      "memory usage: 3.6+ MB\n",
      "<class 'pandas.core.frame.DataFrame'>\n",
      "RangeIndex: 19537 entries, 0 to 19536\n",
      "Data columns (total 15 columns):\n",
      " #   Column          Non-Null Count  Dtype \n",
      "---  ------          --------------  ----- \n",
      " 0   no              19537 non-null  int64 \n",
      " 1   age             19537 non-null  int64 \n",
      " 2   workclass       19537 non-null  object\n",
      " 3   fnlwgt          19537 non-null  int64 \n",
      " 4   education       19537 non-null  object\n",
      " 5   education-num   19537 non-null  int64 \n",
      " 6   marital-status  19537 non-null  object\n",
      " 7   occupation      19537 non-null  object\n",
      " 8   relationship    19537 non-null  object\n",
      " 9   race            19537 non-null  object\n",
      " 10  sex             19537 non-null  object\n",
      " 11  capital-gain    19537 non-null  int64 \n",
      " 12  capital-loss    19537 non-null  int64 \n",
      " 13  hours-per-week  19537 non-null  int64 \n",
      " 14  native-country  19537 non-null  object\n",
      "dtypes: int64(7), object(8)\n",
      "memory usage: 2.2+ MB\n"
     ]
    },
    {
     "data": {
      "text/plain": [
       "(None, None)"
      ]
     },
     "execution_count": 3,
     "metadata": {},
     "output_type": "execute_result"
    }
   ],
   "source": [
    "train1.info(), test.info()"
   ]
  },
  {
   "cell_type": "code",
   "execution_count": 4,
   "id": "56efd34d",
   "metadata": {},
   "outputs": [
    {
     "data": {
      "text/plain": [
       "Index(['no', 'age', 'workclass', 'fnlwgt', 'education', 'education-num',\n",
       "       'marital-status', 'occupation', 'relationship', 'race', 'sex',\n",
       "       'capital-gain', 'capital-loss', 'hours-per-week', 'native-country',\n",
       "       'income'],\n",
       "      dtype='object')"
      ]
     },
     "execution_count": 4,
     "metadata": {},
     "output_type": "execute_result"
    }
   ],
   "source": [
    "train1.columns"
   ]
  },
  {
   "cell_type": "markdown",
   "id": "a0de6fe2",
   "metadata": {},
   "source": [
    "#### <속성 정보>\n",
    "- 나이: 연속.\n",
    "- 작업 클래스: Private, Self-emp-not-inc, Self-emp-inc, Federal-gov, Local-gov, State-gov, 무급, 무직.\n",
    "- fnlwgt: 연속.\n",
    "- 학력: 학사, 일부 대학, 11학년, 고등학교 대학원, Prof-school, Assoc-acdm, Assoc-voc, 9, 7-8, 12, 석사, 1-4, 10, 박사, 5-6, 유아원.\n",
    "- 교육 번호: 연속.\n",
    "- 결혼 상태: 기혼-시민-배우자, 이혼, 미혼, 별거, 사별, 기혼-배우자-부재, 기혼-AF-배우자.\n",
    "- 직업: 기술 지원, 공예 수리, 기타 서비스, 판매, 간부 관리, 전문 전문, 핸들러-청소부, 기계 작동 검사, Adm-사무, 농업-낚시, 운송-이사, Priv-house- serv, Protective-serv, 군대.\n",
    "- 관계: 아내, 자녀, 남편, 가족 외, 친척, 미혼.\n",
    "- 인종: 백인, Asian-Pac-Islander, Amer-Indian-Eskimo, 기타, 흑인.\n",
    "- 성별: 여성, 남성.\n",
    "- 자본 이득: 연속.\n",
    "- 자본 손실: 계속.\n",
    "- 주당 시간: 연속.\n",
    "- 출신국: 미국, 캄보디아, 영국, 푸에르토리코, 캐나다, 독일, 미국 외곽(괌-USVI 등), 인도, 일본, 그리스, 남부, 중국, 쿠바, 이란, 온두라스, 필리핀, 이탈리아 , 폴란드, 자메이카, 베트남, 멕시코, 포르투갈, 아일랜드, 프랑스, ​​도미니카 공화국, 라오스, 에콰도르, 대만, 아이티, 콜롬비아, 헝가리, 과테말라, 니카라과, 스코틀랜드, 태국, 유고슬라비아, 엘살바도르, 트리나다드 토바고, 페루, 홍 , 네덜란드-네덜란드."
   ]
  },
  {
   "cell_type": "markdown",
   "id": "1b83d5d5",
   "metadata": {},
   "source": [
    "- 연속(수치형) 데이터 : age, fnlwgt, education-num, capital-gain, capital-loss, hours-per-week\n",
    "- 범주형 데이터 : workclass, education, marital-status, occupation, relationship, race, sex, native-country"
   ]
  },
  {
   "cell_type": "code",
   "execution_count": 5,
   "id": "84a92c03",
   "metadata": {},
   "outputs": [
    {
     "name": "stdout",
     "output_type": "stream",
     "text": [
      "공백 제거 완료.\n",
      "공백 제거 완료.\n"
     ]
    }
   ],
   "source": [
    "def strip_data(df) :\n",
    "    for col in df.columns :\n",
    "        try :\n",
    "            df[col] = [d.strip() for d in df[col]]\n",
    "        except :\n",
    "            df[col] = [int(str(d).strip()) for d in df[col]]\n",
    "    return print('공백 제거 완료.')\n",
    "strip_data(train1)\n",
    "strip_data(test)"
   ]
  },
  {
   "cell_type": "code",
   "execution_count": null,
   "id": "f81cd9a8",
   "metadata": {
    "scrolled": true
   },
   "outputs": [],
   "source": []
  },
  {
   "cell_type": "code",
   "execution_count": 6,
   "id": "c3d2519c",
   "metadata": {
    "scrolled": true
   },
   "outputs": [
    {
     "data": {
      "image/png": "[encoded data removed]",
      "text/plain": [
       "<Figure size 1080x360 with 1 Axes>"
      ]
     },
     "metadata": {
      "needs_background": "light"
     },
     "output_type": "display_data"
    },
    {
     "data": {
      "image/png": "[encoded data removed]",
      "text/plain": [
       "<Figure size 1080x360 with 1 Axes>"
      ]
     },
     "metadata": {
      "needs_background": "light"
     },
     "output_type": "display_data"
    },
    {
     "data": {
      "image/png": "[encoded data removed]",
      "text/plain": [
       "<Figure size 1080x360 with 1 Axes>"
      ]
     },
     "metadata": {
      "needs_background": "light"
     },
     "output_type": "display_data"
    },
    {
     "data": {
      "image/png": "[encoded data removed]",
      "text/plain": [
       "<Figure size 1080x360 with 1 Axes>"
      ]
     },
     "metadata": {
      "needs_background": "light"
     },
     "output_type": "display_data"
    },
    {
     "data": {
      "image/png": "[encoded data removed]",
      "text/plain": [
       "<Figure size 1080x360 with 1 Axes>"
      ]
     },
     "metadata": {
      "needs_background": "light"
     },
     "output_type": "display_data"
    },
    {
     "data": {
      "image/png": "[encoded data removed]",
      "text/plain": [
       "<Figure size 1080x360 with 1 Axes>"
      ]
     },
     "metadata": {
      "needs_background": "light"
     },
     "output_type": "display_data"
    },
    {
     "data": {
      "image/png": "[encoded data removed]",
      "text/plain": [
       "<Figure size 1080x360 with 1 Axes>"
      ]
     },
     "metadata": {
      "needs_background": "light"
     },
     "output_type": "display_data"
    },
    {
     "data": {
      "image/png": "[encoded data removed]",
      "text/plain": [
       "<Figure size 1080x360 with 1 Axes>"
      ]
     },
     "metadata": {
      "needs_background": "light"
     },
     "output_type": "display_data"
    }
   ],
   "source": [
    "import matplotlib.pyplot as plt\n",
    "import seaborn as sns\n",
    "\n",
    "class_col = ['workclass', 'education', 'marital-status', 'occupation', 'relationship', 'race', 'sex', 'native-country']\n",
    "\n",
    "for col in class_col :\n",
    "    plt.figure(figsize=(15,5))\n",
    "    sns.countplot(\n",
    "        data = train1,\n",
    "        x = col,\n",
    "        hue = 'income'\n",
    "    )\n",
    "    plt.title(col)\n",
    "    plt.show()"
   ]
  },
  {
   "cell_type": "markdown",
   "id": "a02e56f4",
   "metadata": {},
   "source": [
    "## ?를 쉽게 세는 법"
   ]
  },
  {
   "cell_type": "code",
   "execution_count": 7,
   "id": "bcc0980c",
   "metadata": {
    "scrolled": true
   },
   "outputs": [
    {
     "name": "stdout",
     "output_type": "stream",
     "text": [
      "no        \t29305 non-null\n",
      "age       \t29305 non-null\n",
      "workclass \t27642 non-null\n",
      "fnlwgt    \t29305 non-null\n",
      "education \t29305 non-null\n",
      "education-num\t29305 non-null\n",
      "marital-status\t29305 non-null\n",
      "occupation\t27637 non-null\n",
      "relationship\t29305 non-null\n",
      "race      \t29305 non-null\n",
      "sex       \t29305 non-null\n",
      "capital-gain\t29305 non-null\n",
      "capital-loss\t29305 non-null\n",
      "hours-per-week\t29305 non-null\n",
      "native-country\t28810 non-null\n",
      "income    \t29305 non-null\n"
     ]
    }
   ],
   "source": [
    "def data_info(df) :\n",
    "    for col in df.columns :\n",
    "        try:\n",
    "            null = df[col].value_counts().loc[\"?\"]\n",
    "        except:\n",
    "            null = 0\n",
    "        print(f'{col:10s}\\t{len(df[col]) - null} non-null')\n",
    "data_info(train1)\n",
    "#data_info(test)"
   ]
  },
  {
   "cell_type": "markdown",
   "id": "9bd6e79b",
   "metadata": {},
   "source": [
    "- 결측치 데이터 있는 칼럼 :workclass, occupation, native-country"
   ]
  },
  {
   "cell_type": "code",
   "execution_count": 8,
   "id": "51fdc3d7",
   "metadata": {},
   "outputs": [],
   "source": [
    "# def drop_data(df) :\n",
    "#     data = df.copy()\n",
    "#     for col in data.columns :\n",
    "#         data = data[~(data[col].isin(['?']))]\n",
    "#     return data\n",
    "# train1 = drop_data(train1)\n",
    "# data_info(train1)"
   ]
  },
  {
   "cell_type": "code",
   "execution_count": 9,
   "id": "1dbbf28e",
   "metadata": {},
   "outputs": [
    {
     "data": {
      "text/html": [
       "<div>\n",
       "<style scoped>\n",
       "    .dataframe tbody tr th:only-of-type {\n",
       "        vertical-align: middle;\n",
       "    }\n",
       "\n",
       "    .dataframe tbody tr th {\n",
       "        vertical-align: top;\n",
       "    }\n",
       "\n",
       "    .dataframe thead th {\n",
       "        text-align: right;\n",
       "    }\n",
       "</style>\n",
       "<table border=\"1\" class=\"dataframe\">\n",
       "  <thead>\n",
       "    <tr style=\"text-align: right;\">\n",
       "      <th></th>\n",
       "      <th>no</th>\n",
       "      <th>age</th>\n",
       "      <th>fnlwgt</th>\n",
       "      <th>education-num</th>\n",
       "      <th>capital-gain</th>\n",
       "      <th>capital-loss</th>\n",
       "      <th>hours-per-week</th>\n",
       "      <th>income</th>\n",
       "    </tr>\n",
       "  </thead>\n",
       "  <tbody>\n",
       "    <tr>\n",
       "      <th>no</th>\n",
       "      <td>1.000000</td>\n",
       "      <td>0.001111</td>\n",
       "      <td>0.002347</td>\n",
       "      <td>-0.008466</td>\n",
       "      <td>0.003916</td>\n",
       "      <td>0.003246</td>\n",
       "      <td>0.003166</td>\n",
       "      <td>-0.004080</td>\n",
       "    </tr>\n",
       "    <tr>\n",
       "      <th>age</th>\n",
       "      <td>0.001111</td>\n",
       "      <td>1.000000</td>\n",
       "      <td>-0.075753</td>\n",
       "      <td>0.035084</td>\n",
       "      <td>0.078498</td>\n",
       "      <td>0.054413</td>\n",
       "      <td>0.073100</td>\n",
       "      <td>0.238460</td>\n",
       "    </tr>\n",
       "    <tr>\n",
       "      <th>fnlwgt</th>\n",
       "      <td>0.002347</td>\n",
       "      <td>-0.075753</td>\n",
       "      <td>1.000000</td>\n",
       "      <td>-0.030600</td>\n",
       "      <td>-0.005051</td>\n",
       "      <td>-0.001513</td>\n",
       "      <td>-0.010154</td>\n",
       "      <td>-0.002994</td>\n",
       "    </tr>\n",
       "    <tr>\n",
       "      <th>education-num</th>\n",
       "      <td>-0.008466</td>\n",
       "      <td>0.035084</td>\n",
       "      <td>-0.030600</td>\n",
       "      <td>1.000000</td>\n",
       "      <td>0.127651</td>\n",
       "      <td>0.083925</td>\n",
       "      <td>0.147569</td>\n",
       "      <td>0.331798</td>\n",
       "    </tr>\n",
       "    <tr>\n",
       "      <th>capital-gain</th>\n",
       "      <td>0.003916</td>\n",
       "      <td>0.078498</td>\n",
       "      <td>-0.005051</td>\n",
       "      <td>0.127651</td>\n",
       "      <td>1.000000</td>\n",
       "      <td>-0.031401</td>\n",
       "      <td>0.088609</td>\n",
       "      <td>0.221387</td>\n",
       "    </tr>\n",
       "    <tr>\n",
       "      <th>capital-loss</th>\n",
       "      <td>0.003246</td>\n",
       "      <td>0.054413</td>\n",
       "      <td>-0.001513</td>\n",
       "      <td>0.083925</td>\n",
       "      <td>-0.031401</td>\n",
       "      <td>1.000000</td>\n",
       "      <td>0.055271</td>\n",
       "      <td>0.135645</td>\n",
       "    </tr>\n",
       "    <tr>\n",
       "      <th>hours-per-week</th>\n",
       "      <td>0.003166</td>\n",
       "      <td>0.073100</td>\n",
       "      <td>-0.010154</td>\n",
       "      <td>0.147569</td>\n",
       "      <td>0.088609</td>\n",
       "      <td>0.055271</td>\n",
       "      <td>1.000000</td>\n",
       "      <td>0.231045</td>\n",
       "    </tr>\n",
       "    <tr>\n",
       "      <th>income</th>\n",
       "      <td>-0.004080</td>\n",
       "      <td>0.238460</td>\n",
       "      <td>-0.002994</td>\n",
       "      <td>0.331798</td>\n",
       "      <td>0.221387</td>\n",
       "      <td>0.135645</td>\n",
       "      <td>0.231045</td>\n",
       "      <td>1.000000</td>\n",
       "    </tr>\n",
       "  </tbody>\n",
       "</table>\n",
       "</div>"
      ],
      "text/plain": [
       "                      no       age    fnlwgt  education-num  capital-gain  \\\n",
       "no              1.000000  0.001111  0.002347      -0.008466      0.003916   \n",
       "age             0.001111  1.000000 -0.075753       0.035084      0.078498   \n",
       "fnlwgt          0.002347 -0.075753  1.000000      -0.030600     -0.005051   \n",
       "education-num  -0.008466  0.035084 -0.030600       1.000000      0.127651   \n",
       "capital-gain    0.003916  0.078498 -0.005051       0.127651      1.000000   \n",
       "capital-loss    0.003246  0.054413 -0.001513       0.083925     -0.031401   \n",
       "hours-per-week  0.003166  0.073100 -0.010154       0.147569      0.088609   \n",
       "income         -0.004080  0.238460 -0.002994       0.331798      0.221387   \n",
       "\n",
       "                capital-loss  hours-per-week    income  \n",
       "no                  0.003246        0.003166 -0.004080  \n",
       "age                 0.054413        0.073100  0.238460  \n",
       "fnlwgt             -0.001513       -0.010154 -0.002994  \n",
       "education-num       0.083925        0.147569  0.331798  \n",
       "capital-gain       -0.031401        0.088609  0.221387  \n",
       "capital-loss        1.000000        0.055271  0.135645  \n",
       "hours-per-week      0.055271        1.000000  0.231045  \n",
       "income              0.135645        0.231045  1.000000  "
      ]
     },
     "execution_count": 9,
     "metadata": {},
     "output_type": "execute_result"
    }
   ],
   "source": [
    "train1.corr()"
   ]
  },
  {
   "cell_type": "markdown",
   "id": "aff7ef06",
   "metadata": {},
   "source": [
    "### 범주형 데이터 시각화"
   ]
  },
  {
   "cell_type": "code",
   "execution_count": 10,
   "id": "f778af9f",
   "metadata": {
    "scrolled": true
   },
   "outputs": [
    {
     "data": {
      "image/png": "[encoded data removed]",
      "text/plain": [
       "<Figure size 1080x360 with 1 Axes>"
      ]
     },
     "metadata": {
      "needs_background": "light"
     },
     "output_type": "display_data"
    },
    {
     "data": {
      "image/png": "[encoded data removed]",
      "text/plain": [
       "<Figure size 1080x360 with 1 Axes>"
      ]
     },
     "metadata": {
      "needs_background": "light"
     },
     "output_type": "display_data"
    },
    {
     "data": {
      "image/png": "[encoded data removed]",
      "text/plain": [
       "<Figure size 1080x360 with 1 Axes>"
      ]
     },
     "metadata": {
      "needs_background": "light"
     },
     "output_type": "display_data"
    },
    {
     "data": {
      "image/png": "[encoded data removed]",
      "text/plain": [
       "<Figure size 1080x360 with 1 Axes>"
      ]
     },
     "metadata": {
      "needs_background": "light"
     },
     "output_type": "display_data"
    },
    {
     "data": {
      "image/png": "[encoded data removed]",
      "text/plain": [
       "<Figure size 1080x360 with 1 Axes>"
      ]
     },
     "metadata": {
      "needs_background": "light"
     },
     "output_type": "display_data"
    },
    {
     "data": {
      "image/png": "[encoded data removed]",
      "text/plain": [
       "<Figure size 1080x360 with 1 Axes>"
      ]
     },
     "metadata": {
      "needs_background": "light"
     },
     "output_type": "display_data"
    },
    {
     "data": {
      "image/png": "[encoded data removed]",
      "text/plain": [
       "<Figure size 1080x360 with 1 Axes>"
      ]
     },
     "metadata": {
      "needs_background": "light"
     },
     "output_type": "display_data"
    },
    {
     "data": {
      "image/png": "[encoded data removed]",
      "text/plain": [
       "<Figure size 1080x360 with 1 Axes>"
      ]
     },
     "metadata": {
      "needs_background": "light"
     },
     "output_type": "display_data"
    }
   ],
   "source": [
    "import matplotlib.pyplot as plt\n",
    "import seaborn as sns\n",
    "\n",
    "class_col = ['workclass', 'education', 'marital-status', 'occupation', 'relationship', 'race', 'sex', 'native-country']\n",
    "\n",
    "for col in class_col :\n",
    "    plt.figure(figsize=(15,5))\n",
    "    sns.countplot(\n",
    "        data = train1,\n",
    "        x = col,\n",
    "        hue = 'income'\n",
    "    )\n",
    "    plt.title(col)\n",
    "    plt.show()"
   ]
  },
  {
   "cell_type": "markdown",
   "id": "7fb0d639",
   "metadata": {},
   "source": [
    "### 결측치 제거 및 분리"
   ]
  },
  {
   "cell_type": "code",
   "execution_count": 11,
   "id": "cb5cad80",
   "metadata": {
    "scrolled": false
   },
   "outputs": [
    {
     "name": "stdout",
     "output_type": "stream",
     "text": [
      "no        \t19537 non-null\n",
      "age       \t19537 non-null\n",
      "workclass \t18401 non-null\n",
      "fnlwgt    \t19537 non-null\n",
      "education \t19537 non-null\n",
      "education-num\t19537 non-null\n",
      "marital-status\t19537 non-null\n",
      "occupation\t18396 non-null\n",
      "relationship\t19537 non-null\n",
      "race      \t19537 non-null\n",
      "sex       \t19537 non-null\n",
      "capital-gain\t19537 non-null\n",
      "capital-loss\t19537 non-null\n",
      "hours-per-week\t19537 non-null\n",
      "native-country\t19537 non-null\n"
     ]
    },
    {
     "data": {
      "text/plain": [
       "United-States    17893\n",
       "Other             1272\n",
       "Mexico             372\n",
       "Name: native-country, dtype: int64"
      ]
     },
     "execution_count": 11,
     "metadata": {},
     "output_type": "execute_result"
    }
   ],
   "source": [
    "country_mapping1 = train1['native-country'].map({\n",
    "        'United-States' : 'United-States',\n",
    "        'Mexico' : 'Mexico'\n",
    "})\n",
    "train1['native-country'] = country_mapping1.fillna('Other')\n",
    "\n",
    "country_mapping2 = test['native-country'].map({\n",
    "    'United-States' : 'United-States',\n",
    "    'Mexico' : 'Mexico',\n",
    "    \"?\" : 'United-States'\n",
    "})\n",
    "test['native-country'] = country_mapping2.fillna('Other')\n",
    "data_info(test)\n",
    "test['native-country'].value_counts()"
   ]
  },
  {
   "cell_type": "code",
   "execution_count": 12,
   "id": "34e0e19b",
   "metadata": {},
   "outputs": [
    {
     "name": "stderr",
     "output_type": "stream",
     "text": [
      "C:\\Users\\AI\\AppData\\Local\\Temp\\ipykernel_8548\\1384727353.py:2: UserWarning: Boolean Series key will be reindexed to match DataFrame index.\n",
      "  null_test = test[(train1['workclass']== '?') | (test['occupation']== '?')]\n"
     ]
    }
   ],
   "source": [
    "null_train = train1[(train1['workclass']== '?') | (train1['occupation']== '?')]\n",
    "null_test = test[(train1['workclass']== '?') | (test['occupation']== '?')]\n",
    "notnull_train = train1[(train1['workclass']!= '?') & (train1['occupation']!= '?')]\n",
    "notnull_test = test[(test['workclass']!= '?') & (test['occupation']!= '?')]"
   ]
  },
  {
   "cell_type": "markdown",
   "id": "7486152c",
   "metadata": {},
   "source": [
    "### 범주형 데이터 인코딩"
   ]
  },
  {
   "cell_type": "code",
   "execution_count": 16,
   "id": "e1b11c60",
   "metadata": {},
   "outputs": [
    {
     "ename": "KeyError",
     "evalue": "'marital-status'",
     "output_type": "error",
     "traceback": [
      "\u001b[1;31m---------------------------------------------------------------------------\u001b[0m",
      "\u001b[1;31mKeyError\u001b[0m                                  Traceback (most recent call last)",
      "File \u001b[1;32m~\\Anaconda3\\lib\\site-packages\\pandas\\core\\indexes\\base.py:3621\u001b[0m, in \u001b[0;36mIndex.get_loc\u001b[1;34m(self, key, method, tolerance)\u001b[0m\n\u001b[0;32m   3620\u001b[0m \u001b[38;5;28;01mtry\u001b[39;00m:\n\u001b[1;32m-> 3621\u001b[0m     \u001b[38;5;28;01mreturn\u001b[39;00m \u001b[38;5;28;43mself\u001b[39;49m\u001b[38;5;241;43m.\u001b[39;49m\u001b[43m_engine\u001b[49m\u001b[38;5;241;43m.\u001b[39;49m\u001b[43mget_loc\u001b[49m\u001b[43m(\u001b[49m\u001b[43mcasted_key\u001b[49m\u001b[43m)\u001b[49m\n\u001b[0;32m   3622\u001b[0m \u001b[38;5;28;01mexcept\u001b[39;00m \u001b[38;5;167;01mKeyError\u001b[39;00m \u001b[38;5;28;01mas\u001b[39;00m err:\n",
      "File \u001b[1;32m~\\Anaconda3\\lib\\site-packages\\pandas\\_libs\\index.pyx:136\u001b[0m, in \u001b[0;36mpandas._libs.index.IndexEngine.get_loc\u001b[1;34m()\u001b[0m\n",
      "File \u001b[1;32m~\\Anaconda3\\lib\\site-packages\\pandas\\_libs\\index.pyx:163\u001b[0m, in \u001b[0;36mpandas._libs.index.IndexEngine.get_loc\u001b[1;34m()\u001b[0m\n",
      "File \u001b[1;32mpandas\\_libs\\hashtable_class_helper.pxi:5198\u001b[0m, in \u001b[0;36mpandas._libs.hashtable.PyObjectHashTable.get_item\u001b[1;34m()\u001b[0m\n",
      "File \u001b[1;32mpandas\\_libs\\hashtable_class_helper.pxi:5206\u001b[0m, in \u001b[0;36mpandas._libs.hashtable.PyObjectHashTable.get_item\u001b[1;34m()\u001b[0m\n",
      "\u001b[1;31mKeyError\u001b[0m: 'marital-status'",
      "\nThe above exception was the direct cause of the following exception:\n",
      "\u001b[1;31mKeyError\u001b[0m                                  Traceback (most recent call last)",
      "Input \u001b[1;32mIn [16]\u001b[0m, in \u001b[0;36m<cell line: 3>\u001b[1;34m()\u001b[0m\n\u001b[0;32m      1\u001b[0m categorical_features \u001b[38;5;241m=\u001b[39m [ \u001b[38;5;124m'\u001b[39m\u001b[38;5;124mmarital-status\u001b[39m\u001b[38;5;124m'\u001b[39m,\u001b[38;5;124m'\u001b[39m\u001b[38;5;124meducation\u001b[39m\u001b[38;5;124m'\u001b[39m, \u001b[38;5;124m'\u001b[39m\u001b[38;5;124mrelationship\u001b[39m\u001b[38;5;124m'\u001b[39m, \u001b[38;5;124m'\u001b[39m\u001b[38;5;124mrace\u001b[39m\u001b[38;5;124m'\u001b[39m, \u001b[38;5;124m'\u001b[39m\u001b[38;5;124msex\u001b[39m\u001b[38;5;124m'\u001b[39m, \u001b[38;5;124m'\u001b[39m\u001b[38;5;124mnative-country\u001b[39m\u001b[38;5;124m'\u001b[39m]\n\u001b[0;32m      3\u001b[0m \u001b[38;5;28;01mfor\u001b[39;00m feature_name \u001b[38;5;129;01min\u001b[39;00m categorical_features :\n\u001b[0;32m      4\u001b[0m     \u001b[38;5;66;03m# prefix : 접두어. / 같은 category를 가진 특성이 여러개 일 경우, 접두어를 붙여 특성의 category를 구분. qh\u001b[39;00m\n\u001b[1;32m----> 5\u001b[0m     one_hot \u001b[38;5;241m=\u001b[39m pd\u001b[38;5;241m.\u001b[39mget_dummies(\u001b[43mnotnull_train\u001b[49m\u001b[43m[\u001b[49m\u001b[43mfeature_name\u001b[49m\u001b[43m]\u001b[49m, prefix \u001b[38;5;241m=\u001b[39m feature_name)\n\u001b[0;32m      6\u001b[0m     notnull_train \u001b[38;5;241m=\u001b[39m pd\u001b[38;5;241m.\u001b[39mconcat([notnull_train,one_hot], axis \u001b[38;5;241m=\u001b[39m \u001b[38;5;241m1\u001b[39m)\n\u001b[0;32m      7\u001b[0m     notnull_train\u001b[38;5;241m.\u001b[39mdrop(feature_name, axis\u001b[38;5;241m=\u001b[39m\u001b[38;5;241m1\u001b[39m, inplace \u001b[38;5;241m=\u001b[39m \u001b[38;5;28;01mTrue\u001b[39;00m)\n",
      "File \u001b[1;32m~\\Anaconda3\\lib\\site-packages\\pandas\\core\\frame.py:3505\u001b[0m, in \u001b[0;36mDataFrame.__getitem__\u001b[1;34m(self, key)\u001b[0m\n\u001b[0;32m   3503\u001b[0m \u001b[38;5;28;01mif\u001b[39;00m \u001b[38;5;28mself\u001b[39m\u001b[38;5;241m.\u001b[39mcolumns\u001b[38;5;241m.\u001b[39mnlevels \u001b[38;5;241m>\u001b[39m \u001b[38;5;241m1\u001b[39m:\n\u001b[0;32m   3504\u001b[0m     \u001b[38;5;28;01mreturn\u001b[39;00m \u001b[38;5;28mself\u001b[39m\u001b[38;5;241m.\u001b[39m_getitem_multilevel(key)\n\u001b[1;32m-> 3505\u001b[0m indexer \u001b[38;5;241m=\u001b[39m \u001b[38;5;28;43mself\u001b[39;49m\u001b[38;5;241;43m.\u001b[39;49m\u001b[43mcolumns\u001b[49m\u001b[38;5;241;43m.\u001b[39;49m\u001b[43mget_loc\u001b[49m\u001b[43m(\u001b[49m\u001b[43mkey\u001b[49m\u001b[43m)\u001b[49m\n\u001b[0;32m   3506\u001b[0m \u001b[38;5;28;01mif\u001b[39;00m is_integer(indexer):\n\u001b[0;32m   3507\u001b[0m     indexer \u001b[38;5;241m=\u001b[39m [indexer]\n",
      "File \u001b[1;32m~\\Anaconda3\\lib\\site-packages\\pandas\\core\\indexes\\base.py:3623\u001b[0m, in \u001b[0;36mIndex.get_loc\u001b[1;34m(self, key, method, tolerance)\u001b[0m\n\u001b[0;32m   3621\u001b[0m     \u001b[38;5;28;01mreturn\u001b[39;00m \u001b[38;5;28mself\u001b[39m\u001b[38;5;241m.\u001b[39m_engine\u001b[38;5;241m.\u001b[39mget_loc(casted_key)\n\u001b[0;32m   3622\u001b[0m \u001b[38;5;28;01mexcept\u001b[39;00m \u001b[38;5;167;01mKeyError\u001b[39;00m \u001b[38;5;28;01mas\u001b[39;00m err:\n\u001b[1;32m-> 3623\u001b[0m     \u001b[38;5;28;01mraise\u001b[39;00m \u001b[38;5;167;01mKeyError\u001b[39;00m(key) \u001b[38;5;28;01mfrom\u001b[39;00m \u001b[38;5;21;01merr\u001b[39;00m\n\u001b[0;32m   3624\u001b[0m \u001b[38;5;28;01mexcept\u001b[39;00m \u001b[38;5;167;01mTypeError\u001b[39;00m:\n\u001b[0;32m   3625\u001b[0m     \u001b[38;5;66;03m# If we have a listlike key, _check_indexing_error will raise\u001b[39;00m\n\u001b[0;32m   3626\u001b[0m     \u001b[38;5;66;03m#  InvalidIndexError. Otherwise we fall through and re-raise\u001b[39;00m\n\u001b[0;32m   3627\u001b[0m     \u001b[38;5;66;03m#  the TypeError.\u001b[39;00m\n\u001b[0;32m   3628\u001b[0m     \u001b[38;5;28mself\u001b[39m\u001b[38;5;241m.\u001b[39m_check_indexing_error(key)\n",
      "\u001b[1;31mKeyError\u001b[0m: 'marital-status'"
     ]
    }
   ],
   "source": [
    "categorical_features = [ 'marital-status','education', 'relationship', 'race', 'sex', 'native-country']\n",
    "\n",
    "for feature_name in categorical_features :\n",
    "    # prefix : 접두어. / 같은 category를 가진 특성이 여러개 일 경우, 접두어를 붙여 특성의 category를 구분. qh\n",
    "    one_hot = pd.get_dummies(notnull_train[feature_name], prefix = feature_name)\n",
    "    notnull_train = pd.concat([notnull_train,one_hot], axis = 1)\n",
    "    notnull_train.drop(feature_name, axis=1, inplace = True)\n",
    "    \n",
    "    one_hot = pd.get_dummies(notnull_test[feature_name], prefix = feature_name)\n",
    "    notnull_test = pd.concat([notnull_test,one_hot], axis = 1)\n",
    "    notnull_test.drop(feature_name, axis=1, inplace = True)\n",
    "    \n",
    "    one_hot = pd.get_dummies(null_train[feature_name], prefix = feature_name)\n",
    "    null_train = pd.concat([null_train,one_hot], axis = 1)\n",
    "    null_train.drop(feature_name, axis=1, inplace = True)\n",
    "    \n",
    "    one_hot = pd.get_dummies(null_test[feature_name], prefix = feature_name)\n",
    "    null_test = pd.concat([null_test,one_hot], axis = 1)\n",
    "    null_test.drop(feature_name, axis=1, inplace = True)"
   ]
  },
  {
   "cell_type": "code",
   "execution_count": null,
   "id": "0d3adc30",
   "metadata": {
    "scrolled": true
   },
   "outputs": [],
   "source": [
    "data_info(test)"
   ]
  },
  {
   "cell_type": "code",
   "execution_count": null,
   "id": "5dd6f8cd",
   "metadata": {},
   "outputs": [],
   "source": []
  },
  {
   "cell_type": "markdown",
   "id": "ee4e2fde",
   "metadata": {},
   "source": [
    "### 수치형 데이터 시각화"
   ]
  },
  {
   "cell_type": "markdown",
   "id": "028d1b00",
   "metadata": {},
   "source": [
    "- capital-gain, -loss = 0 일 때, 대부분 income =0"
   ]
  },
  {
   "cell_type": "code",
   "execution_count": null,
   "id": "9a0ceb54",
   "metadata": {},
   "outputs": [],
   "source": [
    "train1['capital'] = train1['capital-gain'] - train1['capital-loss']\n",
    "test['capital'] = test['capital-gain'] - test['capital-loss']\n",
    "null_train['capital'] = null_train['capital-gain'] - null_train['capital-loss']\n",
    "null_test['capital'] = null_test['capital-gain'] - null_test['capital-loss']\n",
    "notnull_train['capital'] = notnull_train['capital-gain'] - notnull_train['capital-loss']\n",
    "notnull_test['capital'] = notnull_test['capital-gain'] - notnull_test['capital-loss']"
   ]
  },
  {
   "cell_type": "code",
   "execution_count": null,
   "id": "76716388",
   "metadata": {},
   "outputs": [],
   "source": [
    "train1 = train1.loc[:, ['age', 'workclass', 'education', 'education-num',\n",
    "       'marital-status', 'occupation', 'relationship', 'race', 'sex',\n",
    "       'capital', 'hours-per-week', 'native-country',\n",
    "       'income']]"
   ]
  },
  {
   "cell_type": "code",
   "execution_count": null,
   "id": "ca913157",
   "metadata": {},
   "outputs": [],
   "source": [
    "test1 = test.loc[:, ['age', 'workclass', 'education', 'education-num',\n",
    "       'marital-status', 'occupation', 'relationship', 'race', 'sex',\n",
    "       'capital', 'hours-per-week', 'native-country']]"
   ]
  },
  {
   "cell_type": "code",
   "execution_count": null,
   "id": "8449fc5a",
   "metadata": {},
   "outputs": [],
   "source": [
    "# 원핫인코딩\n",
    "categorical_features = ['marital-status', 'relationship', 'race', 'sex', 'native-country']\n",
    "\n",
    "for feature_name in categorical_features :\n",
    "    # prefix : 접두어. / 같은 category를 가진 특성이 여러개 일 경우, 접두어를 붙여 특성의 category를 구분. qh\n",
    "    one_hot = pd.get_dummies(train1[feature_name], prefix = feature_name)\n",
    "    train1 = pd.concat([train1,one_hot], axis = 1)\n",
    "    train1.drop(feature_name, axis=1, inplace = True)"
   ]
  },
  {
   "cell_type": "code",
   "execution_count": null,
   "id": "d52974cd",
   "metadata": {},
   "outputs": [],
   "source": [
    "# 원핫인코딩\n",
    "categorical_features = ['marital-status', 'relationship', 'race', 'sex', 'native-country']\n",
    "\n",
    "for feature_name in categorical_features :\n",
    "    # prefix : 접두어. / 같은 category를 가진 특성이 여러개 일 경우, 접두어를 붙여 특성의 category를 구분. qh\n",
    "    one_hot = pd.get_dummies(test1[feature_name], prefix = feature_name)\n",
    "    test1 = pd.concat([test1,one_hot], axis = 1)\n",
    "    test1.drop(feature_name, axis=1, inplace = True)"
   ]
  },
  {
   "cell_type": "code",
   "execution_count": null,
   "id": "3a01f617",
   "metadata": {
    "scrolled": true
   },
   "outputs": [],
   "source": [
    "# # reg_col = ['age', 'fnlwgt', 'education-num', 'capital', 'hours-per-week']\n",
    "# reg_col = ['capital']\n",
    "# for col in reg_col :\n",
    "#     plt.figure(figsize=(15,5))\n",
    "#     sns.kdeplot(\n",
    "#     data = train1,\n",
    "#     x = col,\n",
    "#     hue = 'income'\n",
    "#     )\n",
    "#     plt.title(col)\n",
    "#     plt.xticks(range(-10000,120000,1000))\n",
    "#     plt.show()"
   ]
  },
  {
   "cell_type": "code",
   "execution_count": null,
   "id": "78a3c677",
   "metadata": {
    "scrolled": false
   },
   "outputs": [],
   "source": [
    "# col = ['age', 'fnlwgt', 'education-num', 'capital',\n",
    "#        'hours-per-week','workclass_Federal-gov',\n",
    "#        'workclass_Local-gov', 'workclass_Private', 'workclass_Self-emp-inc',\n",
    "#        'workclass_Self-emp-not-inc', 'workclass_State-gov',\n",
    "#        'workclass_Without-pay', 'education_10th', 'education_11th',\n",
    "#        'education_12th', 'education_1st-4th', 'education_5th-6th',\n",
    "#        'education_7th-8th', 'education_9th', 'education_Assoc-acdm',\n",
    "#        'education_Assoc-voc', 'education_Bachelors', 'education_Doctorate',\n",
    "#        'education_HS-grad', 'education_Masters', 'education_Preschool',\n",
    "#        'education_Prof-school', 'education_Some-college',\n",
    "#        'marital-status_Divorced', 'marital-status_Married-AF-spouse',\n",
    "#        'marital-status_Married-civ-spouse',\n",
    "#        'marital-status_Married-spouse-absent', 'marital-status_Never-married',\n",
    "#        'marital-status_Separated', 'marital-status_Widowed',\n",
    "#        'occupation_Adm-clerical', 'occupation_Armed-Forces',\n",
    "#        'occupation_Craft-repair', 'occupation_Exec-managerial',\n",
    "#        'occupation_Farming-fishing', 'occupation_Handlers-cleaners',\n",
    "#        'occupation_Machine-op-inspct', 'occupation_Other-service',\n",
    "#        'occupation_Priv-house-serv', 'occupation_Prof-specialty',\n",
    "#        'occupation_Protective-serv', 'occupation_Sales',\n",
    "#        'occupation_Tech-support', 'occupation_Transport-moving',\n",
    "#        'relationship_Husband', 'relationship_Not-in-family',\n",
    "#        'relationship_Other-relative', 'relationship_Own-child',\n",
    "#        'relationship_Unmarried', 'relationship_Wife',\n",
    "#        'race_Amer-Indian-Eskimo', 'race_Asian-Pac-Islander', 'race_Black',\n",
    "#        'race_Other', 'race_White', 'sex_Female', 'sex_Male',\n",
    "#        'native-country_Mexico', 'native-country_Other',\n",
    "#        'native-country_United-States']"
   ]
  },
  {
   "cell_type": "code",
   "execution_count": null,
   "id": "86cec96c",
   "metadata": {},
   "outputs": [],
   "source": [
    "col = ['age', 'education-num', 'capital',\n",
    "       'hours-per-week',\n",
    "       'marital-status_Divorced', 'marital-status_Married-AF-spouse',\n",
    "       'marital-status_Married-civ-spouse',\n",
    "       'marital-status_Married-spouse-absent', 'marital-status_Never-married',\n",
    "       'marital-status_Separated', 'marital-status_Widowed',\n",
    "       'relationship_Husband', 'relationship_Not-in-family',\n",
    "       'relationship_Other-relative', 'relationship_Own-child',\n",
    "       'relationship_Unmarried', 'relationship_Wife',\n",
    "       'race_Amer-Indian-Eskimo', 'race_Asian-Pac-Islander', 'race_Black',\n",
    "       'race_Other', 'race_White', 'sex_Female', 'sex_Male',\n",
    "       'native-country_Mexico', 'native-country_Other',\n",
    "       'native-country_United-States']"
   ]
  },
  {
   "cell_type": "code",
   "execution_count": null,
   "id": "7d418bbf",
   "metadata": {},
   "outputs": [],
   "source": [
    "col_x = ['age', 'education-num', 'capital',\n",
    "       'hours-per-week', 'education_10th', 'education_11th',\n",
    "       'education_12th', 'education_1st-4th', 'education_5th-6th',\n",
    "       'education_7th-8th', 'education_9th', 'education_Assoc-acdm',\n",
    "       'education_Assoc-voc', 'education_Bachelors', 'education_Doctorate',\n",
    "       'education_HS-grad', 'education_Masters', 'education_Preschool',\n",
    "       'education_Prof-school', 'education_Some-college',\n",
    "       'marital-status_Divorced', 'marital-status_Married-AF-spouse',\n",
    "       'marital-status_Married-civ-spouse',\n",
    "       'marital-status_Married-spouse-absent', 'marital-status_Never-married',\n",
    "       'marital-status_Separated', 'marital-status_Widowed',\n",
    "       'relationship_Husband', 'relationship_Not-in-family',\n",
    "       'relationship_Other-relative', 'relationship_Own-child',\n",
    "       'relationship_Unmarried', 'relationship_Wife',\n",
    "       'race_Amer-Indian-Eskimo', 'race_Asian-Pac-Islander', 'race_Black',\n",
    "       'race_Other', 'race_White', 'sex_Female', 'sex_Male',\n",
    "       'native-country_Mexico', 'native-country_Other',\n",
    "       'native-country_United-States']"
   ]
  },
  {
   "cell_type": "code",
   "execution_count": null,
   "id": "e2673c03",
   "metadata": {},
   "outputs": [],
   "source": [
    "X_train = train1.loc[:,col]\n",
    "y_train = train1.loc[:,'income']"
   ]
  },
  {
   "cell_type": "code",
   "execution_count": null,
   "id": "7eab1756",
   "metadata": {},
   "outputs": [],
   "source": [
    "X_train1 = notnull_train.loc[:,col_x]\n",
    "y_trian1 = notnull_train.loc[:, 'work']\n",
    "X_test1 = null_train.loc[:col_x]"
   ]
  },
  {
   "cell_type": "markdown",
   "id": "9eced0f1",
   "metadata": {},
   "source": [
    "### TEST 데이터 정리"
   ]
  },
  {
   "cell_type": "code",
   "execution_count": null,
   "id": "8b5edf32",
   "metadata": {},
   "outputs": [],
   "source": [
    "from sklearn.neighbors import KNeighborsClassifier\n",
    "from sklearn.tree import DecisionTreeClassifier\n",
    "from sklearn.model_selection import train_test_split"
   ]
  },
  {
   "cell_type": "code",
   "execution_count": 14,
   "id": "bc15369b",
   "metadata": {
    "scrolled": true
   },
   "outputs": [
    {
     "ename": "NameError",
     "evalue": "name 'train_test_split' is not defined",
     "output_type": "error",
     "traceback": [
      "\u001b[1;31m---------------------------------------------------------------------------\u001b[0m",
      "\u001b[1;31mNameError\u001b[0m                                 Traceback (most recent call last)",
      "Input \u001b[1;32mIn [14]\u001b[0m, in \u001b[0;36m<cell line: 3>\u001b[1;34m()\u001b[0m\n\u001b[0;32m      1\u001b[0m \u001b[38;5;66;03m# KNN 모델\u001b[39;00m\n\u001b[0;32m      3\u001b[0m \u001b[38;5;28;01mfor\u001b[39;00m i \u001b[38;5;129;01min\u001b[39;00m \u001b[38;5;28mrange\u001b[39m(\u001b[38;5;241m10\u001b[39m) :\n\u001b[1;32m----> 4\u001b[0m     X_train2, X_val, y_train2, y_val \u001b[38;5;241m=\u001b[39m \u001b[43mtrain_test_split\u001b[49m(X_train1, y_train1, test_size \u001b[38;5;241m=\u001b[39m \u001b[38;5;241m0.3\u001b[39m, random_state\u001b[38;5;241m=\u001b[39mi)\n\u001b[0;32m      5\u001b[0m     train_acc \u001b[38;5;241m=\u001b[39m []\n\u001b[0;32m      6\u001b[0m     test_acc \u001b[38;5;241m=\u001b[39m []\n",
      "\u001b[1;31mNameError\u001b[0m: name 'train_test_split' is not defined"
     ]
    }
   ],
   "source": [
    "# KNN 모델\n",
    "\n",
    "for i in range(10) :\n",
    "    X_train2, X_val, y_train2, y_val = train_test_split(X_train1, y_train1, test_size = 0.3, random_state=i)\n",
    "    train_acc = []\n",
    "    test_acc = []\n",
    "\n",
    "    neighbor = range(5, 30, 2)\n",
    "    for k in neighbor :\n",
    "        knn_model2 = KNeighborsClassifier(n_neighbors=k)\n",
    "        knn_model2.fit(X_train2, y_train2)\n",
    "        train_acc.append(knn_model2.score(X_train2, y_train2))\n",
    "        test_acc.append(knn_model2.score(X_val, y_val))\n",
    "    plt.plot(neighbor, train_acc, c='r', label = 'train')\n",
    "    plt.plot(neighbor, test_acc, c='b', label = 'test')\n",
    "    plt.xticks( range(5, 30, 2))\n",
    "    plt.grid()\n",
    "    plt.title(f'knn_model({i})')\n",
    "    plt.legend(loc='upper right')\n",
    "    plt.show()"
   ]
  },
  {
   "cell_type": "code",
   "execution_count": null,
   "id": "6d2c3e3f",
   "metadata": {},
   "outputs": [],
   "source": [
    "X_train2, X_val, y_train2, y_val = train_test_split(X_train, y_train, test_size = 0.3, random_state=8)\n",
    "\n",
    "knn_model2 = KNeighborsClassifier(n_neighbors=17)\n",
    "knn_model2.fit(X_train2, y_train2)\n",
    "knn_pre = knn_model2.predict(test1)\n",
    "submission['income'] = knn_pre\n",
    "submission.to_csv('class_data/KNN_pre.csv', index = False)"
   ]
  },
  {
   "cell_type": "code",
   "execution_count": null,
   "id": "d5108744",
   "metadata": {},
   "outputs": [],
   "source": [
    "# 결정 트리 : max_depth\n",
    "from sklearn.tree import DecisionTreeClassifier\n",
    "\n",
    "# for i in range(100) :\n",
    "#     X_train2, X_val, y_train2, y_val = train_test_split(X_train, y_train, test_size = 0.3, random_state=i)\n",
    "#     train_acc = []\n",
    "#     test_acc = []\n",
    "\n",
    "#     max_depth = range(1, 20, 1)\n",
    "#     for d in max_depth :\n",
    "#         dt_model = DecisionTreeClassifier(max_depth = d)\n",
    "#         dt_model.fit(X_train2, y_train2)\n",
    "#         train_acc.append(dt_model.score(X_train2, y_train2))\n",
    "#         test_acc.append(dt_model.score(X_val, y_val))\n",
    "#     plt.plot(max_depth, train_acc, c='r', label = 'train')\n",
    "#     plt.plot(max_depth, test_acc, c='b', label = 'test')\n",
    "#     plt.xticks(max_depth, range(1, 20, 1))\n",
    "#     plt.grid()\n",
    "#     plt.title(f'DecisionTree_model({i})')\n",
    "#     plt.legend(loc='upper right')\n",
    "#     plt.show()"
   ]
  },
  {
   "cell_type": "code",
   "execution_count": null,
   "id": "06d7cad6",
   "metadata": {},
   "outputs": [],
   "source": [
    "# 9 /12 /\n",
    "X_train2, X_val, y_train2, y_val = train_test_split(X_train, y_train, test_size = 0.3, random_state=94)\n",
    "train_acc = []\n",
    "test_acc = []\n",
    "\n",
    "dt_model = DecisionTreeClassifier(max_depth = 8)\n",
    "dt_model.fit(X_train2, y_train2)\n",
    "dt_pre = dt_model.predict(test1)\n",
    "submission['income'] = dt_pre\n",
    "submission.to_csv('class_data/dt_pre_by_MDepth.csv', index = False)"
   ]
  },
  {
   "cell_type": "code",
   "execution_count": null,
   "id": "8766b09a",
   "metadata": {},
   "outputs": [],
   "source": [
    "# 결정 트리 : min_sample_split\n",
    "\n",
    "# for i in range(100) :\n",
    "#     X_train2, X_val, y_train2, y_val = train_test_split(X_train, y_train, test_size = 0.3, random_state=i)\n",
    "#     train_acc = []\n",
    "#     test_acc = []\n",
    "\n",
    "#     min_sample_splt = range(10,150,10)\n",
    "#     for d in min_sample_splt :\n",
    "#         dt_model = DecisionTreeClassifier(min_samples_split = d)\n",
    "#         dt_model.fit(X_train2, y_train2)\n",
    "#         train_acc.append(dt_model.score(X_train2, y_train2))\n",
    "#         test_acc.append(dt_model.score(X_val, y_val))\n",
    "#     plt.plot(min_sample_splt, train_acc, c='r', label = 'train')\n",
    "#     plt.plot(min_sample_splt, test_acc, c='b', label = 'test')\n",
    "#     plt.xticks(min_sample_splt, range(10,150,10))\n",
    "#     plt.grid()\n",
    "#     plt.title(f'DecisionTree_model({i})')\n",
    "#     plt.legend(loc='upper right')\n",
    "#     plt.show()"
   ]
  },
  {
   "cell_type": "code",
   "execution_count": null,
   "id": "faf0e09c",
   "metadata": {},
   "outputs": [],
   "source": [
    "#27-130/74-120/\n",
    "X_train2, X_val, y_train2, y_val = train_test_split(X_train, y_train, test_size = 0.3, random_state=74)\n",
    "train_acc = []\n",
    "test_acc = []\n",
    "\n",
    "dt_model = DecisionTreeClassifier(min_samples_split = 120)\n",
    "dt_model.fit(X_train2, y_train2)\n",
    "dt_pre = dt_model.predict(test1)\n",
    "submission['income'] = dt_pre\n",
    "submission.to_csv('class_data/dt_pre_by_mSmpleSplt.csv', index = False)"
   ]
  },
  {
   "cell_type": "code",
   "execution_count": null,
   "id": "5a3fb2ef",
   "metadata": {},
   "outputs": [],
   "source": [
    "# 결정 트리 : max_leaf_nodes\n",
    "\n",
    "# for i in range(100) :\n",
    "#     X_train2, X_val, y_train2, y_val = train_test_split(X_train, y_train, test_size = 0.3, random_state=i)\n",
    "#     train_acc = []\n",
    "#     test_acc = []\n",
    "\n",
    "#     max_leaf_nod = range(70,100,1)\n",
    "#     for d in max_leaf_nod :\n",
    "#         dt_model = DecisionTreeClassifier(max_leaf_nodes = d)\n",
    "#         dt_model.fit(X_train2, y_train2)\n",
    "#         train_acc.append(dt_model.score(X_train2, y_train2))\n",
    "#         test_acc.append(dt_model.score(X_val, y_val))\n",
    "#     plt.plot(max_leaf_nod, train_acc, c='r', label = 'train')\n",
    "#     plt.plot(max_leaf_nod, test_acc, c='b', label = 'test')\n",
    "#     plt.xticks(range(70,100,1))\n",
    "#     plt.grid()\n",
    "#     plt.title(f'DecisionTree_model({i})')\n",
    "#     plt.legend(loc='upper right')\n",
    "#     plt.show()"
   ]
  },
  {
   "cell_type": "code",
   "execution_count": null,
   "id": "9521149c",
   "metadata": {},
   "outputs": [],
   "source": [
    "X_train2, X_val, y_train2, y_val = train_test_split(X_train, y_train, test_size = 0.3, random_state=23)\n",
    "train_acc = []\n",
    "test_acc = []\n",
    "\n",
    "dt_model = DecisionTreeClassifier(max_leaf_nodes = 51)\n",
    "dt_model.fit(X_train2, y_train2)\n",
    "dt_pre = dt_model.predict(test1)\n",
    "submission['income'] = dt_pre\n",
    "submission.to_csv('data/dt_pre_by_MLeafNodes.csv', index = False)"
   ]
  },
  {
   "cell_type": "code",
   "execution_count": null,
   "id": "8cba456e",
   "metadata": {},
   "outputs": [],
   "source": [
    "# from sklearn.ensemble import RandomForestClassifier\n",
    "\n",
    "# rf_model = RandomForestClassifier(\n",
    "#         n_estimators = 100,   # 깅할 모델 갯수\n",
    "#         max_features = 0.5,   # 각 모델이 랜덤하게 사용할 특성 수\n",
    "#         max_depth = 8,        # 각 모델의 최대 깊이\n",
    "#         min_samples_leaf = 10,# 리프 노드의 최소 샘플 수\n",
    "#         random_state = 72     # 난수 고정\n",
    "#                                  )"
   ]
  },
  {
   "cell_type": "code",
   "execution_count": null,
   "id": "9bc829c8",
   "metadata": {},
   "outputs": [],
   "source": [
    "# 그리드 서치\n",
    "from sklearn.ensemble import RandomForestClassifier\n",
    "from sklearn.model_selection import GridSearchCV\n",
    "\n",
    "# 탐색하고 싶은 하이퍼파라미터 조합을 딕셔너리로 생성\n",
    "param_grid = {\n",
    "    'max_depth' : range(5, 30, 5),\n",
    "    'n_estimators' : range(100, 300, 50),\n",
    "    'max_features' : [0.3, 0.5, 0.7, 0.9],\n",
    "    'min_samples_leaf' : range(10, 30, 10)\n",
    "}\n",
    "for i in range(5) :\n",
    "    train_acc = []\n",
    "    train.param = []\n",
    "    model = RandomForestClassifier(random_state = i)\n",
    "    grid = GridSearchCV(model,param_grid, cv=5, n_jobs = -1) # 튜닝할 모델, 사용할 파라미터, 교차검증 횟수(-1: 다 쓰는 것)\n",
    "    grid.fit(X_train, y_train)\n",
    "\n",
    "    train_acc.append(grid.best_score_) # 최고 조합의 정확도 반환\n",
    "    train_param.append(grid.best_params_) # 최고 조합의 매개 변수 반환\n",
    "    \n",
    "    plt.plot(range(100), train_acc, c='r', label = 'train')\n",
    "    plt.plot(range(100), train_param, c='b', label = 'test')\n",
    "    plt.xticks(range(100))\n",
    "    plt.grid()\n",
    "    plt.title(f'GridSearchCV')\n",
    "    plt.legend(loc='upper right')\n",
    "    plt.show()\n",
    "# # 최고 조합으로 학습 완료된 모델\n",
    "# best_model = grid.best_estimator_ \n",
    "# pre = best_model.predict(X_test)\n",
    "# submission['Survived'] = pre\n",
    "# submission.to_csv('data/rf_pre.csv', index = False)"
   ]
  },
  {
   "cell_type": "code",
   "execution_count": null,
   "id": "d189b177",
   "metadata": {},
   "outputs": [],
   "source": [
    "# 랜덤 포레스트\n",
    "from sklearn.ensemble import RandomForestClassifier\n",
    "from sklearn.model_selection import GridSearchCV\n",
    "from sklearn.model_selection import cross_val_score\n",
    "max_score = [0, 0, 0]\n",
    "for k in range(100) :\n",
    "    for j in range(100, 140) :\n",
    "        for i in range(5, 15) :\n",
    "            rf_model = RandomForestClassifier(\n",
    "                    n_estimators = 100,   # 깅할 모델 갯수\n",
    "                    max_features = 0.5,   # 각 모델이 랜덤하게 사용할 특성 수\n",
    "                    max_depth = i,        # 각 모델의 최대 깊이\n",
    "                    min_samples_leaf = j,# 리프 노드의 최소 샘플 수\n",
    "                    random_state = k    # 난수 고정\n",
    "                                             )\n",
    "\n",
    "\n",
    "            rf_rs = cross_val_score(rf_model, X_train, y_train, cv=5)\n",
    "            if max(rf_rs) > max_score[-1] :\n",
    "                max_score = [j,i,max(rf_rs)]\n",
    "                print(max_score)\n",
    "print(f'min_sample_split:{max_score[0]} / max_depth:{max_score[1]} / 정확도 : {max_score[2]}')"
   ]
  },
  {
   "cell_type": "markdown",
   "id": "82cf910c",
   "metadata": {},
   "source": [
    "## 3.1 결측치 확인"
   ]
  },
  {
   "cell_type": "code",
   "execution_count": null,
   "id": "5f59572b",
   "metadata": {},
   "outputs": [],
   "source": []
  },
  {
   "cell_type": "markdown",
   "id": "31eb0e47",
   "metadata": {},
   "source": [
    "### 결측치 채우는 방법\n",
    "- 수치형 데이터\n",
    "    - 기술 통계(평균 or 중간값)\n",
    "    - 결측치가 적은 경우 : 전체 평균이나 중간값을 대입\n",
    "    - 결측치가 많은 경우(20~30%) : 결측치가 있는 데이터의 다른 컬럼과 같은 값을 갖는(동일한 특성을 갖는) 데이터의 결측치 통계(평균, or 중간값)를 사용 (피벗 테이블을 이용할 것임)\n",
    "- 범주형 데이터\n",
    "    - 결측치가 적은 경우 : 데이터 수가 가장 많은 클래스로 할당 >> 기존 데이터가 결측치가 있는 데이터에 의해 영향을 덜 받기 때문에)\n",
    "    - 결측치가 많은 경우 : 데이터 수가 가장 많은 클래스로 할당 >> 편향이 됨 >> 기존 데이터의 개수 비율만큼 랜덤으로 할당"
   ]
  },
  {
   "cell_type": "code",
   "execution_count": null,
   "id": "2583ff84",
   "metadata": {},
   "outputs": [],
   "source": []
  },
  {
   "cell_type": "markdown",
   "id": "80257c1f",
   "metadata": {},
   "source": [
    "## 3.7 데이터 시각화 하기\n",
    "- test데이터를 활용하지 않고 train데이터를 이용해서 시각화/탐색하는게 좋다."
   ]
  },
  {
   "cell_type": "markdown",
   "id": "8264691b",
   "metadata": {},
   "source": [
    "- 범주형 데이터(Categorical Data) 시각화\n",
    "- 빈도 기반의 bar chart 많이 활용\n",
    "\n",
    "- 수치형 데이터 시각화\n",
    "    - 구간을 나눠서 종합하는 히스토그램\n",
    "    - 커널 밀도 추정 그래프\n",
    "    \n",
    "- 바이올린 플롯 그래프 시각화\n",
    "    - 박스 + KDE 그래프\n",
    "- 텍스트 데이터\n",
    "    - 비정형 데이터 >> 단어 중심 시각화\n",
    "    - wordcloud\n",
    "- 빈도 기반의 시각화 가능 : countplot"
   ]
  },
  {
   "cell_type": "markdown",
   "id": "493ca9d6",
   "metadata": {},
   "source": [
    "## 4. 특성 공학(Feature Engineering)\n",
    "- feature에서 유의미한 컬럼을 추출하거나 병합하는 행위"
   ]
  },
  {
   "cell_type": "code",
   "execution_count": null,
   "id": "6fd7197d",
   "metadata": {},
   "outputs": [],
   "source": []
  },
  {
   "cell_type": "markdown",
   "id": "ac369147",
   "metadata": {},
   "source": [
    "### 4.2 비정형 데이터 다루기(Name)\n",
    "- 틀이 없는, 형태가 정해져 있지 않음\n",
    "- 텍스트 데이터, 이미지 데이터, 음성 데이터"
   ]
  },
  {
   "cell_type": "code",
   "execution_count": null,
   "id": "71464a73",
   "metadata": {},
   "outputs": [],
   "source": []
  },
  {
   "cell_type": "markdown",
   "id": "c46954bf",
   "metadata": {},
   "source": [
    "###  사용하지 않을 칼럼 정리"
   ]
  },
  {
   "cell_type": "code",
   "execution_count": null,
   "id": "490c5254",
   "metadata": {},
   "outputs": [],
   "source": []
  },
  {
   "cell_type": "markdown",
   "id": "63a2a8f9",
   "metadata": {},
   "source": [
    "## 모델링\n",
    "- 인코딩(문자 형태의 데이터를 숫자 형태로 변환)\n",
    "    - label encoding : 순서가 있는 범주형 데이터에 사용\n",
    "    - one-hot-encoding : 순서가 없는 범주형 데이터에 사용 / pd.get_dummies(데이터)\n",
    "        - 순서가 없는 범주형 데이터 : 성별\n",
    "        - 순서가 있는 범주형 데이터 : 학점\n",
    "- 특성 선택(feature selection) : 상관계수(.corr() : 양수-비례관계, 음수-반비례관계, 0-서로 영향X, 절대값이 클수록 상관관계 큼)\n",
    "- 모델 선택 및 하이퍼파라미터 튜닝\n",
    "- 모델 학습 및 평가"
   ]
  },
  {
   "cell_type": "code",
   "execution_count": null,
   "id": "827f83d9",
   "metadata": {},
   "outputs": [],
   "source": []
  },
  {
   "cell_type": "markdown",
   "id": "8a740881",
   "metadata": {},
   "source": [
    "## 5.2 특성 선택\n",
    "- 예측 결과에 영향을 줄 특성들을 골라본다.\n",
    "- Family와 Family_cat이 비슷한 특성이기 때문에 선택해보자."
   ]
  },
  {
   "cell_type": "code",
   "execution_count": null,
   "id": "b14b27cb",
   "metadata": {},
   "outputs": [],
   "source": []
  },
  {
   "cell_type": "markdown",
   "id": "5980c57c",
   "metadata": {},
   "source": [
    "## 5.3 학습\n",
    "- KNN모델과 Decision Tree모델 활용"
   ]
  },
  {
   "cell_type": "code",
   "execution_count": null,
   "id": "982719e9",
   "metadata": {},
   "outputs": [],
   "source": []
  },
  {
   "cell_type": "markdown",
   "id": "d6715c36",
   "metadata": {},
   "source": [
    "## 데이터 스케일링(Data Scaling)\n",
    "- 특성들의 범위를 정규화 해주는 작업\n",
    "- 특성마다 다른 범위를 가지는 경우, 머신러닝 모델들이 제대로 학습되지 않을 가능성이 있다.\n",
    "    - KNN, SVM, Neural network(신경망) 모델, Clustering 모델 등 (데이터 스케일링의 영향을 많이 받는 모델)\n",
    "    - 시력과 키를 함께 학습시킬 경우, 키의 범위가 크기 때문에 거리 값을 기반으로 학습할 때 영향을 많이 준다.\n",
    "    - 시력 0.5 ~ 2.0(폭 1.5) / 키 150 ~ 190(폭 40) >> 정규화가 필요\n",
    "    \n",
    "#### 장점\n",
    "- 특성들을 비교 분석하기 쉽게 만들어 준다.\n",
    "- Linear Model, Neural network Model 등에서 학습의 안정성과 속도를 개선시킨다.\n",
    "- 하지만 특성에 따라 원래 범위를 유지하는 것이 성능에 더 좋을 때에는 스케일링을 해 주지 않아도 된다.\n",
    "\n",
    "\n",
    "### 종류\n",
    "#### StandardScaler\n",
    "- 평균과 표준편차를 이용한 방법\n",
    "- 평균은 극단적인 값(이상치)들의 영향을 많이 받음\n",
    "#### MinMaxScaler\n",
    "- 최대, 최솟값을 이용한 방법 (공식, 교재 122쪽 중간 참고)\n",
    "- 모든 데이터 값이 0 ~ 1 사이의 값으로 조정됨\n",
    "#### RobustScaler\n",
    "- 사분위 수를 이용한 스케일러\n",
    "- 데이터에 이상치가 많을 때 사용하면 좋은 스케일러\n",
    "#### Normalizer\n",
    "- 데이터의 크기는 고려하지 않고\n",
    "- 데이터의 방향을 중요시할 때 사용하는 스케일러\n",
    "- 추천 알고리즘에 많이 사용\n",
    "    - 예를 들어 음식 추천 알고리즘 :\n",
    "    - 나와 근접한 사람은 누가 있을까? 그 사람들이 좋아하는 음식을 추천\n",
    "    - 1번과 3번보다는 1번과 2번을 비교해 보면 거리가 1번과 2번이 더 멀기 때문에 컴퓨터가 3번을 추천해버리는 문제가 발생!!\n",
    "- 원점으로부터의 방향만 비교하면 비슷한 취향으로 추천 가능\n",
    "- 원처럼 동그란 데이터를 갖게 됨\n",
    "\n",
    "### 주의점\n",
    "- 훈련 세트와 테스트 세트에 같은 변환을 적용해야 한다.\n",
    "- 예를 들어 StandardScaler의 경우 훈련 세트의 평균과 표준편차를 이용해 훈련세트를 변환하고 테스트 세트의 평균과 표준편차를 이용해 테스트 세트를 변환하면 잘못된 결과가 나온다.\n",
    "- 훈련 데이터를 쓰던지 테스트 데이터를 쓰던지 모두 훈련 데이터를 기준으로 스케일링을 해야한다!"
   ]
  },
  {
   "cell_type": "code",
   "execution_count": null,
   "id": "cd52f25f",
   "metadata": {},
   "outputs": [],
   "source": []
  },
  {
   "cell_type": "markdown",
   "id": "ddf86520",
   "metadata": {},
   "source": [
    "### 5.4 하이퍼 파라미터 튜닝\n",
    "- KNN모델과 DecisionTree 모델을 최적화 해보자.\n",
    "- KNN : 이웃 숫자\n",
    "- Tree : 나무의 깊이, 리프노드의 갯수, 한 리프노드에 들어갈 샘플 수 등"
   ]
  },
  {
   "cell_type": "code",
   "execution_count": null,
   "id": "62918651",
   "metadata": {},
   "outputs": [],
   "source": []
  },
  {
   "cell_type": "markdown",
   "id": "d18dc6dc",
   "metadata": {},
   "source": [
    "### 모델 평가\n",
    "- KNN의 이웃 수 : 7결정\n",
    "- DecisionTree의 최대 깊이 : 4결정"
   ]
  },
  {
   "cell_type": "code",
   "execution_count": null,
   "id": "bd4f90a4",
   "metadata": {},
   "outputs": [],
   "source": []
  },
  {
   "cell_type": "markdown",
   "id": "e875df06",
   "metadata": {},
   "source": [
    "# 성능 개선을 위해 고려해 볼 사항\n",
    "1. 특성 선택\n",
    "2. 데이터 확보\n",
    "3. 전처리 작업 변경(결측치 처리 방법, 특성 공학, 스케일링 등)\n",
    "4. 모델 변경 - 앙상블 : 모델을 여러개 엮어서 쓰는 것"
   ]
  },
  {
   "cell_type": "code",
   "execution_count": null,
   "id": "f2f4cfb0",
   "metadata": {},
   "outputs": [],
   "source": []
  }
 ],
 "metadata": {
  "kernelspec": {
   "display_name": "Python 3 (ipykernel)",
   "language": "python",
   "name": "python3"
  },
  "language_info": {
   "codemirror_mode": {
    "name": "ipython",
    "version": 3
   },
   "file_extension": ".py",
   "mimetype": "text/x-python",
   "name": "python",
   "nbconvert_exporter": "python",
   "pygments_lexer": "ipython3",
   "version": "3.9.12"
  },
  "toc": {
   "base_numbering": 1,
   "nav_menu": {},
   "number_sections": false,
   "sideBar": true,
   "skip_h1_title": false,
   "title_cell": "Table of Contents",
   "title_sidebar": "Contents",
   "toc_cell": false,
   "toc_position": {
    "height": "calc(100% - 180px)",
    "left": "10px",
    "top": "150px",
    "width": "443.312px"
   },
   "toc_section_display": true,
   "toc_window_display": false
  }
 },
 "nbformat": 4,
 "nbformat_minor": 5
}
