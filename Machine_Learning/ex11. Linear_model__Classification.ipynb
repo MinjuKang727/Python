{
 "cells": [
  {
   "cell_type": "markdown",
   "id": "27f02c74",
   "metadata": {},
   "source": [
    "# 0. 목표\n",
    "- 손글씨를 분류하는 모델을 만들어보자.\n",
    "- 예측의 불확실성을 확인해보자.\n",
    "- 이미지 데이터에 형태를 이해\n",
    "- 다양한 분류 평가 지표를 이해하자."
   ]
  },
  {
   "cell_type": "markdown",
   "id": "2245ef8d",
   "metadata": {},
   "source": [
    "# 1. 데이터 로딩"
   ]
  },
  {
   "cell_type": "code",
   "execution_count": 1,
   "id": "ca6d5d02",
   "metadata": {},
   "outputs": [],
   "source": [
    "import numpy as np\n",
    "import pandas as pd\n",
    "import matplotlib.pyplot as plt\n",
    "from sklearn.model_selection import train_test_split"
   ]
  },
  {
   "cell_type": "code",
   "execution_count": 19,
   "id": "a8e0c728",
   "metadata": {},
   "outputs": [
    {
     "name": "stdout",
     "output_type": "stream",
     "text": [
      "   label  pixel0  pixel1  pixel2  pixel3  pixel4  pixel5  pixel6  pixel7  \\\n",
      "0      1       0       0       0       0       0       0       0       0   \n",
      "1      0       0       0       0       0       0       0       0       0   \n",
      "2      1       0       0       0       0       0       0       0       0   \n",
      "3      4       0       0       0       0       0       0       0       0   \n",
      "4      0       0       0       0       0       0       0       0       0   \n",
      "\n",
      "   pixel8  ...  pixel774  pixel775  pixel776  pixel777  pixel778  pixel779  \\\n",
      "0       0  ...         0         0         0         0         0         0   \n",
      "1       0  ...         0         0         0         0         0         0   \n",
      "2       0  ...         0         0         0         0         0         0   \n",
      "3       0  ...         0         0         0         0         0         0   \n",
      "4       0  ...         0         0         0         0         0         0   \n",
      "\n",
      "   pixel780  pixel781  pixel782  pixel783  \n",
      "0         0         0         0         0  \n",
      "1         0         0         0         0  \n",
      "2         0         0         0         0  \n",
      "3         0         0         0         0  \n",
      "4         0         0         0         0  \n",
      "\n",
      "[5 rows x 785 columns]\n",
      "   pixel0  pixel1  pixel2  pixel3  pixel4  pixel5  pixel6  pixel7  pixel8  \\\n",
      "0       0       0       0       0       0       0       0       0       0   \n",
      "1       0       0       0       0       0       0       0       0       0   \n",
      "2       0       0       0       0       0       0       0       0       0   \n",
      "3       0       0       0       0       0       0       0       0       0   \n",
      "4       0       0       0       0       0       0       0       0       0   \n",
      "\n",
      "   pixel9  ...  pixel774  pixel775  pixel776  pixel777  pixel778  pixel779  \\\n",
      "0       0  ...         0         0         0         0         0         0   \n",
      "1       0  ...         0         0         0         0         0         0   \n",
      "2       0  ...         0         0         0         0         0         0   \n",
      "3       0  ...         0         0         0         0         0         0   \n",
      "4       0  ...         0         0         0         0         0         0   \n",
      "\n",
      "   pixel780  pixel781  pixel782  pixel783  \n",
      "0         0         0         0         0  \n",
      "1         0         0         0         0  \n",
      "2         0         0         0         0  \n",
      "3         0         0         0         0  \n",
      "4         0         0         0         0  \n",
      "\n",
      "[5 rows x 784 columns]\n"
     ]
    }
   ],
   "source": [
    "digit_train = pd.read_csv('./data/digit_train.csv')\n",
    "digit_test = pd.read_csv('./data/digit_test.csv')\n",
    "digit_sample_submission = pd.read_csv('./data/digit_sample_submission.csv')\n",
    "print(digit_train.head())\n",
    "print(digit_test.head())\n",
    "# 색상체계 종류 : RGB, CMYK"
   ]
  },
  {
   "cell_type": "code",
   "execution_count": 3,
   "id": "4fec101d",
   "metadata": {},
   "outputs": [
    {
     "name": "stdout",
     "output_type": "stream",
     "text": [
      "pixel0      0\n",
      "pixel1      0\n",
      "pixel2      0\n",
      "pixel3      0\n",
      "pixel4      0\n",
      "           ..\n",
      "pixel779    0\n",
      "pixel780    0\n",
      "pixel781    0\n",
      "pixel782    0\n",
      "pixel783    0\n",
      "Name: 0, Length: 784, dtype: int64\n"
     ]
    }
   ],
   "source": [
    "# 이미지 확인\n",
    "img = digit_train.iloc[0, 1:]\n",
    "print(img)"
   ]
  },
  {
   "cell_type": "code",
   "execution_count": 4,
   "id": "129fc77c",
   "metadata": {},
   "outputs": [
    {
     "data": {
      "text/plain": [
       "<matplotlib.image.AxesImage at 0x2af98cf71c0>"
      ]
     },
     "execution_count": 4,
     "metadata": {},
     "output_type": "execute_result"
    },
    {
     "data": {
      "image/png": "[encoded data removed]",
      "text/plain": [
       "<Figure size 432x288 with 1 Axes>"
      ]
     },
     "metadata": {
      "needs_background": "light"
     },
     "output_type": "display_data"
    }
   ],
   "source": [
    "img_reshape = img.values.reshape(28,28)\n",
    "plt.imshow(img_reshape, cmap='gray')"
   ]
  },
  {
   "cell_type": "code",
   "execution_count": 6,
   "id": "6556da7a",
   "metadata": {},
   "outputs": [
    {
     "data": {
      "text/plain": [
       "<matplotlib.image.AxesImage at 0x2afeba108b0>"
      ]
     },
     "execution_count": 6,
     "metadata": {},
     "output_type": "execute_result"
    },
    {
     "data": {
      "image/png": "[encoded data removed]",
      "text/plain": [
       "<Figure size 432x288 with 1 Axes>"
      ]
     },
     "metadata": {
      "needs_background": "light"
     },
     "output_type": "display_data"
    }
   ],
   "source": [
    "img = digit_train.iloc[50, 1:]\n",
    "img_reshape = img.values.reshape(28,28)\n",
    "plt.imshow(img_reshape, cmap='gray')"
   ]
  },
  {
   "cell_type": "code",
   "execution_count": 7,
   "id": "cc0d17cc",
   "metadata": {},
   "outputs": [
    {
     "data": {
      "image/png": "[encoded data removed]",
      "text/plain": [
       "<Figure size 432x288 with 1 Axes>"
      ]
     },
     "metadata": {
      "needs_background": "light"
     },
     "output_type": "display_data"
    }
   ],
   "source": [
    "# 데이터 분포 확인\n",
    "plt.hist(img)\n",
    "plt.show()"
   ]
  },
  {
   "cell_type": "code",
   "execution_count": 12,
   "id": "cb27bbca",
   "metadata": {},
   "outputs": [
    {
     "data": {
      "text/plain": [
       "1    4684\n",
       "7    4401\n",
       "3    4351\n",
       "9    4188\n",
       "2    4177\n",
       "6    4137\n",
       "0    4132\n",
       "4    4072\n",
       "8    4063\n",
       "5    3795\n",
       "Name: label, dtype: int64"
      ]
     },
     "execution_count": 12,
     "metadata": {},
     "output_type": "execute_result"
    }
   ],
   "source": [
    "# 손글씨(정답) 종류\n",
    "digit_train['label'].value_counts()"
   ]
  },
  {
   "cell_type": "markdown",
   "id": "458d0341",
   "metadata": {},
   "source": [
    "## 2.1 훈련용 데이터와 검증용 데이터 분리"
   ]
  },
  {
   "cell_type": "code",
   "execution_count": 16,
   "id": "796c6a4a",
   "metadata": {},
   "outputs": [],
   "source": [
    "X = digit_train.iloc[:,1:]\n",
    "y = digit_train.iloc[:,0]"
   ]
  },
  {
   "cell_type": "code",
   "execution_count": 17,
   "id": "3ea6a174",
   "metadata": {},
   "outputs": [],
   "source": [
    "X_train, X_test, y_train, y_test = train_test_split(X, y, test_size=0.3, random_state=721)"
   ]
  },
  {
   "cell_type": "markdown",
   "id": "1350e02b",
   "metadata": {},
   "source": [
    "## 2.2 모델링\n",
    "- KNN\n",
    "- DecisionTree\n",
    "- LogisticRegression\n",
    "- SGDClassifier\n",
    "- SVM"
   ]
  },
  {
   "cell_type": "code",
   "execution_count": 26,
   "id": "978d06fc",
   "metadata": {},
   "outputs": [],
   "source": [
    "from sklearn.neighbors import KNeighborsClassifier\n",
    "from sklearn.tree import DecisionTreeClassifier\n",
    "from sklearn.linear_model import LogisticRegression\n",
    "from sklearn.linear_model import SGDClassifier # 경사 하강법 적용 선형 분류 모델\n",
    "from sklearn.svm import LinearSVC            # 분류용 SVM 모델"
   ]
  },
  {
   "cell_type": "code",
   "execution_count": 30,
   "id": "b65ca04a",
   "metadata": {},
   "outputs": [
    {
     "name": "stdout",
     "output_type": "stream",
     "text": [
      "knn_모델 결과 : 0.9647619047619047\n"
     ]
    }
   ],
   "source": [
    "knn_model = KNeighborsClassifier()\n",
    "knn_model.fit(X_train,y_train)\n",
    "knn_score = knn_model.score(X_test,y_test)\n",
    "print('knn_모델 결과 :',knn_score)"
   ]
  },
  {
   "cell_type": "code",
   "execution_count": 31,
   "id": "ea7574f1",
   "metadata": {},
   "outputs": [
    {
     "name": "stdout",
     "output_type": "stream",
     "text": [
      "DecisionTree 모델 결과 : 0.8557142857142858\n"
     ]
    }
   ],
   "source": [
    "dt_model = DecisionTreeClassifier()\n",
    "dt_model.fit(X_train,y_train)\n",
    "dt_score = dt_model.score(X_test,y_test)\n",
    "print('DecisionTree 모델 결과 :',dt_score)"
   ]
  },
  {
   "cell_type": "code",
   "execution_count": 32,
   "id": "76a5001b",
   "metadata": {},
   "outputs": [
    {
     "name": "stdout",
     "output_type": "stream",
     "text": [
      "LinearRegression 모델 결과 : 0.9136507936507936\n"
     ]
    },
    {
     "name": "stderr",
     "output_type": "stream",
     "text": [
      "C:\\Users\\AI\\Anaconda3\\lib\\site-packages\\sklearn\\linear_model\\_logistic.py:814: ConvergenceWarning: lbfgs failed to converge (status=1):\n",
      "STOP: TOTAL NO. of ITERATIONS REACHED LIMIT.\n",
      "\n",
      "Increase the number of iterations (max_iter) or scale the data as shown in:\n",
      "    https://scikit-learn.org/stable/modules/preprocessing.html\n",
      "Please also refer to the documentation for alternative solver options:\n",
      "    https://scikit-learn.org/stable/modules/linear_model.html#logistic-regression\n",
      "  n_iter_i = _check_optimize_result(\n"
     ]
    }
   ],
   "source": [
    "lr_model = LogisticRegression()\n",
    "lr_model.fit(X_train, y_train)\n",
    "lr_score = lr_model.score(X_test,y_test)\n",
    "print('LinearRegression 모델 결과 :',lr_score)"
   ]
  },
  {
   "cell_type": "code",
   "execution_count": 33,
   "id": "61ac8781",
   "metadata": {},
   "outputs": [
    {
     "name": "stdout",
     "output_type": "stream",
     "text": [
      "SGD 모델 결과 : 0.8688888888888889\n"
     ]
    }
   ],
   "source": [
    "sgd_model = SGDClassifier()\n",
    "sgd_model.fit(X_train,y_train)\n",
    "sgd_score = sgd_model.score(X_test,y_test)\n",
    "print('SGD 모델 결과 :',sgd_score)"
   ]
  },
  {
   "cell_type": "code",
   "execution_count": 29,
   "id": "139d37d1",
   "metadata": {},
   "outputs": [
    {
     "name": "stdout",
     "output_type": "stream",
     "text": [
      "LinearSVC 모델 결과 : 0.8538095238095238\n"
     ]
    },
    {
     "name": "stderr",
     "output_type": "stream",
     "text": [
      "C:\\Users\\AI\\Anaconda3\\lib\\site-packages\\sklearn\\svm\\_base.py:1206: ConvergenceWarning: Liblinear failed to converge, increase the number of iterations.\n",
      "  warnings.warn(\n"
     ]
    }
   ],
   "source": [
    "l_svc = LinearSVC()\n",
    "l_svc.fit(X_train,y_train)\n",
    "l_svc_score = l_svc.score(X_test,y_test)\n",
    "print('LinearSVC 모델 결과 :',l_svc_score)"
   ]
  },
  {
   "cell_type": "markdown",
   "id": "c9b2429c",
   "metadata": {},
   "source": [
    "## 2.3 교차 검증 활용 점수 확인"
   ]
  },
  {
   "cell_type": "code",
   "execution_count": 34,
   "id": "d975f532",
   "metadata": {},
   "outputs": [
    {
     "name": "stdout",
     "output_type": "stream",
     "text": [
      "KNN 교차 검증 평균 점수 : 0.9642142857142857\n",
      "DecisionTree 교차 검증 평균 점수 : 0.846\n"
     ]
    },
    {
     "name": "stderr",
     "output_type": "stream",
     "text": [
      "C:\\Users\\AI\\Anaconda3\\lib\\site-packages\\sklearn\\linear_model\\_logistic.py:814: ConvergenceWarning: lbfgs failed to converge (status=1):\n",
      "STOP: TOTAL NO. of ITERATIONS REACHED LIMIT.\n",
      "\n",
      "Increase the number of iterations (max_iter) or scale the data as shown in:\n",
      "    https://scikit-learn.org/stable/modules/preprocessing.html\n",
      "Please also refer to the documentation for alternative solver options:\n",
      "    https://scikit-learn.org/stable/modules/linear_model.html#logistic-regression\n",
      "  n_iter_i = _check_optimize_result(\n",
      "C:\\Users\\AI\\Anaconda3\\lib\\site-packages\\sklearn\\linear_model\\_logistic.py:814: ConvergenceWarning: lbfgs failed to converge (status=1):\n",
      "STOP: TOTAL NO. of ITERATIONS REACHED LIMIT.\n",
      "\n",
      "Increase the number of iterations (max_iter) or scale the data as shown in:\n",
      "    https://scikit-learn.org/stable/modules/preprocessing.html\n",
      "Please also refer to the documentation for alternative solver options:\n",
      "    https://scikit-learn.org/stable/modules/linear_model.html#logistic-regression\n",
      "  n_iter_i = _check_optimize_result(\n",
      "C:\\Users\\AI\\Anaconda3\\lib\\site-packages\\sklearn\\linear_model\\_logistic.py:814: ConvergenceWarning: lbfgs failed to converge (status=1):\n",
      "STOP: TOTAL NO. of ITERATIONS REACHED LIMIT.\n",
      "\n",
      "Increase the number of iterations (max_iter) or scale the data as shown in:\n",
      "    https://scikit-learn.org/stable/modules/preprocessing.html\n",
      "Please also refer to the documentation for alternative solver options:\n",
      "    https://scikit-learn.org/stable/modules/linear_model.html#logistic-regression\n",
      "  n_iter_i = _check_optimize_result(\n"
     ]
    },
    {
     "name": "stdout",
     "output_type": "stream",
     "text": [
      "LinearRegression 교차 검증 평균 점수 : 0.9128095238095238\n",
      "SGD 교차 검증 평균 점수 : 0.8678571428571429\n"
     ]
    },
    {
     "name": "stderr",
     "output_type": "stream",
     "text": [
      "C:\\Users\\AI\\Anaconda3\\lib\\site-packages\\sklearn\\svm\\_base.py:1206: ConvergenceWarning: Liblinear failed to converge, increase the number of iterations.\n",
      "  warnings.warn(\n",
      "C:\\Users\\AI\\Anaconda3\\lib\\site-packages\\sklearn\\svm\\_base.py:1206: ConvergenceWarning: Liblinear failed to converge, increase the number of iterations.\n",
      "  warnings.warn(\n"
     ]
    },
    {
     "name": "stdout",
     "output_type": "stream",
     "text": [
      "LinearSVC 교차 검증 점수 : 0.8635\n"
     ]
    },
    {
     "name": "stderr",
     "output_type": "stream",
     "text": [
      "C:\\Users\\AI\\Anaconda3\\lib\\site-packages\\sklearn\\svm\\_base.py:1206: ConvergenceWarning: Liblinear failed to converge, increase the number of iterations.\n",
      "  warnings.warn(\n"
     ]
    }
   ],
   "source": [
    "from sklearn.model_selection import cross_val_score\n",
    "knn_cv_score = cross_val_score(knn_model,X,y, cv=3).mean()\n",
    "print('KNN 교차 검증 평균 점수 :', knn_cv_score)\n",
    "dt_cv_score = cross_val_score(dt_model,X,y, cv=3).mean()\n",
    "print('DecisionTree 교차 검증 평균 점수 :', dt_cv_score)\n",
    "lr_cv_score = cross_val_score(lr_model,X,y, cv=3).mean()\n",
    "print('LinearRegression 교차 검증 평균 점수 :', lr_cv_score)\n",
    "sgd_cv_score = cross_val_score(sgd_model,X,y, cv=3).mean()\n",
    "print('SGD 교차 검증 평균 점수 :', sgd_cv_score)\n",
    "l_svc_cv_score = cross_val_score(l_svc,X,y, cv=3).mean()\n",
    "print('LinearSVC 교차 검증 점수 :', l_svc_cv_score)"
   ]
  },
  {
   "cell_type": "markdown",
   "id": "4d8e4d7d",
   "metadata": {},
   "source": [
    "## 2.4 스케일링 추가\n",
    "- minmax 스케일러 활용\n",
    "    - 모든 스케일링의 결과가 0과 1 사이의 값으로 바뀜"
   ]
  },
  {
   "cell_type": "code",
   "execution_count": 47,
   "id": "03f6488f",
   "metadata": {},
   "outputs": [],
   "source": [
    "from sklearn.preprocessing import MinMaxScaler\n",
    "\n",
    "mM_scaler = MinMaxScaler() # 스케일러 객체 생성\n",
    "mM_scaler.fit(X) # 스케일링 기준값 찾기\n",
    "X_train_scaled = mM_scaler.transform(X) # 스케일링 실시\n",
    "X_test_scaled = mM_scaler.transform(digit_test)\n",
    "knn_model2 = KNeighborsClassifier()\n",
    "dt_model2 = DecisionTreeClassifier()\n",
    "lr_model2 = LogisticRegression()\n",
    "sgd_model2 = SGDClassifier()\n",
    "l_svc_model2 = LinearSVC()"
   ]
  },
  {
   "cell_type": "code",
   "execution_count": 48,
   "id": "6224f9f8",
   "metadata": {},
   "outputs": [
    {
     "name": "stderr",
     "output_type": "stream",
     "text": [
      "C:\\Users\\AI\\Anaconda3\\lib\\site-packages\\sklearn\\linear_model\\_logistic.py:814: ConvergenceWarning: lbfgs failed to converge (status=1):\n",
      "STOP: TOTAL NO. of ITERATIONS REACHED LIMIT.\n",
      "\n",
      "Increase the number of iterations (max_iter) or scale the data as shown in:\n",
      "    https://scikit-learn.org/stable/modules/preprocessing.html\n",
      "Please also refer to the documentation for alternative solver options:\n",
      "    https://scikit-learn.org/stable/modules/linear_model.html#logistic-regression\n",
      "  n_iter_i = _check_optimize_result(\n",
      "C:\\Users\\AI\\Anaconda3\\lib\\site-packages\\sklearn\\linear_model\\_logistic.py:814: ConvergenceWarning: lbfgs failed to converge (status=1):\n",
      "STOP: TOTAL NO. of ITERATIONS REACHED LIMIT.\n",
      "\n",
      "Increase the number of iterations (max_iter) or scale the data as shown in:\n",
      "    https://scikit-learn.org/stable/modules/preprocessing.html\n",
      "Please also refer to the documentation for alternative solver options:\n",
      "    https://scikit-learn.org/stable/modules/linear_model.html#logistic-regression\n",
      "  n_iter_i = _check_optimize_result(\n",
      "C:\\Users\\AI\\Anaconda3\\lib\\site-packages\\sklearn\\linear_model\\_logistic.py:814: ConvergenceWarning: lbfgs failed to converge (status=1):\n",
      "STOP: TOTAL NO. of ITERATIONS REACHED LIMIT.\n",
      "\n",
      "Increase the number of iterations (max_iter) or scale the data as shown in:\n",
      "    https://scikit-learn.org/stable/modules/preprocessing.html\n",
      "Please also refer to the documentation for alternative solver options:\n",
      "    https://scikit-learn.org/stable/modules/linear_model.html#logistic-regression\n",
      "  n_iter_i = _check_optimize_result(\n",
      "C:\\Users\\AI\\Anaconda3\\lib\\site-packages\\sklearn\\svm\\_base.py:1206: ConvergenceWarning: Liblinear failed to converge, increase the number of iterations.\n",
      "  warnings.warn(\n",
      "C:\\Users\\AI\\Anaconda3\\lib\\site-packages\\sklearn\\svm\\_base.py:1206: ConvergenceWarning: Liblinear failed to converge, increase the number of iterations.\n",
      "  warnings.warn(\n",
      "C:\\Users\\AI\\Anaconda3\\lib\\site-packages\\sklearn\\svm\\_base.py:1206: ConvergenceWarning: Liblinear failed to converge, increase the number of iterations.\n",
      "  warnings.warn(\n"
     ]
    }
   ],
   "source": [
    "knn_score2 = cross_val_score(knn_model2, X_train_scaled, y, cv=3).mean()\n",
    "dt_score2 = cross_val_score(dt_model2, X_train_scaled, y, cv=3).mean()\n",
    "lr_score2 = cross_val_score(lr_model2, X_train_scaled, y, cv=3).mean()\n",
    "sgd_score2 = cross_val_score(sgd_model2, X_train_scaled, y, cv=3).mean()\n",
    "l_svc_score2 = cross_val_score(l_svc_model2, X_train_scaled, y, cv=3).mean()"
   ]
  },
  {
   "cell_type": "code",
   "execution_count": 49,
   "id": "f42e9bc3",
   "metadata": {},
   "outputs": [
    {
     "name": "stdout",
     "output_type": "stream",
     "text": [
      "스케일링 후, KNN 교차 검증 평균 점수 : 0.9641904761904762\n",
      "스케일링 후, DecisionTree 교차 검증 평균 점수 : 0.8476666666666667\n",
      "스케일링 후, LogisticRegression 교차 검증 평균 점수 : 0.9162857142857144\n",
      "스케일링 후, SGD 교차 검증 평균 점수 : 0.909904761904762\n",
      "스케일링 후, LinearSVC 교차 검증 평균 점수 : 0.9077380952380952\n"
     ]
    }
   ],
   "source": [
    "print('스케일링 후, KNN 교차 검증 평균 점수 :', knn_score2)\n",
    "print('스케일링 후, DecisionTree 교차 검증 평균 점수 :', dt_score2)\n",
    "print('스케일링 후, LogisticRegression 교차 검증 평균 점수 :', lr_score2)\n",
    "print('스케일링 후, SGD 교차 검증 평균 점수 :', sgd_score2)\n",
    "print('스케일링 후, LinearSVC 교차 검증 평균 점수 :', l_svc_score2)"
   ]
  },
  {
   "cell_type": "markdown",
   "id": "f3979d16",
   "metadata": {},
   "source": [
    "# 3. 예측의 불확실성 확인\n",
    "- 분류 모델들은 예측 결과를 정하기 전에 항상 확률을 계산한다.\n",
    "- 분류 모델이 예측한 값이 같더라도 확신의 정도(불확실성)가 전부 다르다."
   ]
  },
  {
   "cell_type": "code",
   "execution_count": 54,
   "id": "4e3cd77e",
   "metadata": {},
   "outputs": [
    {
     "name": "stderr",
     "output_type": "stream",
     "text": [
      "C:\\Users\\AI\\Anaconda3\\lib\\site-packages\\sklearn\\linear_model\\_logistic.py:814: ConvergenceWarning: lbfgs failed to converge (status=1):\n",
      "STOP: TOTAL NO. of ITERATIONS REACHED LIMIT.\n",
      "\n",
      "Increase the number of iterations (max_iter) or scale the data as shown in:\n",
      "    https://scikit-learn.org/stable/modules/preprocessing.html\n",
      "Please also refer to the documentation for alternative solver options:\n",
      "    https://scikit-learn.org/stable/modules/linear_model.html#logistic-regression\n",
      "  n_iter_i = _check_optimize_result(\n"
     ]
    }
   ],
   "source": [
    "logi_model3 = LogisticRegression()\n",
    "logi_model3.fit(X_train, y_train)\n",
    "pre = logi_model3.predict(X_test)"
   ]
  },
  {
   "cell_type": "code",
   "execution_count": 55,
   "id": "321692c1",
   "metadata": {},
   "outputs": [
    {
     "name": "stdout",
     "output_type": "stream",
     "text": [
      "[3 0 7 ... 8 5 1]\n"
     ]
    }
   ],
   "source": [
    "print(pre)"
   ]
  },
  {
   "cell_type": "code",
   "execution_count": 57,
   "id": "a3a5540c",
   "metadata": {},
   "outputs": [
    {
     "name": "stdout",
     "output_type": "stream",
     "text": [
      "[3.49752736e-09 2.58958531e-08 2.84410005e-03 8.36092622e-01\n",
      " 2.10550737e-10 1.56267924e-01 1.28625232e-05 3.87976127e-07\n",
      " 4.78207269e-03 9.92384725e-10]\n"
     ]
    }
   ],
   "source": [
    "# pre_proba : 확률 값으로 예상\n",
    "pre_proba = logi_model3.predict_proba(X_test)\n",
    "print(pre_proba[0]) # 각 클래스(숫자 0 ~ 9) 숫자 만큼 확률을 계산하여 출력\n",
    "# 68% 확률로 7/ 27%에 대해\n",
    "# e-숫자 : q부동 소수점 표현 방식. 앞의 소수에 10^(숫자)"
   ]
  },
  {
   "cell_type": "code",
   "execution_count": 75,
   "id": "45625bdc",
   "metadata": {},
   "outputs": [
    {
     "data": {
      "text/plain": [
       "<matplotlib.image.AxesImage at 0x2afff396310>"
      ]
     },
     "execution_count": 75,
     "metadata": {},
     "output_type": "execute_result"
    },
    {
     "data": {
      "image/png": "[encoded data removed]",
      "text/plain": [
       "<Figure size 432x288 with 1 Axes>"
      ]
     },
     "metadata": {
      "needs_background": "light"
     },
     "output_type": "display_data"
    }
   ],
   "source": [
    "plt.imshow(X_test.iloc[0].values.reshape(28,28), cmap='gray') # 정답"
   ]
  },
  {
   "cell_type": "code",
   "execution_count": null,
   "id": "16c9cfba",
   "metadata": {},
   "outputs": [],
   "source": [
    "# 4. 모델 활용하기\n"
   ]
  },
  {
   "cell_type": "code",
   "execution_count": 58,
   "id": "8770e5ee",
   "metadata": {},
   "outputs": [
    {
     "name": "stdout",
     "output_type": "stream",
     "text": [
      "Requirement already satisfied: pillow in c:\\users\\ai\\anaconda3\\lib\\site-packages (9.0.1)\n"
     ]
    }
   ],
   "source": [
    "!pip install pillow"
   ]
  },
  {
   "cell_type": "code",
   "execution_count": 59,
   "id": "52aa780e",
   "metadata": {},
   "outputs": [],
   "source": [
    "from PIL import Image"
   ]
  },
  {
   "cell_type": "code",
   "execution_count": 60,
   "id": "872c4d0e",
   "metadata": {},
   "outputs": [],
   "source": [
    "img = Image.open('./data/2.jpg').convert('L') # 사진을 열어서 흑백 채녈로 변경"
   ]
  },
  {
   "cell_type": "code",
   "execution_count": 61,
   "id": "f5ef6866",
   "metadata": {},
   "outputs": [
    {
     "data": {
      "text/plain": [
       "(28, 28)"
      ]
     },
     "execution_count": 61,
     "metadata": {},
     "output_type": "execute_result"
    }
   ],
   "source": [
    "np_img = np.array(img) # 모델에 넣을 수 있도록 numpy 배열로 변경\n",
    "np_img.shape"
   ]
  },
  {
   "cell_type": "code",
   "execution_count": 72,
   "id": "0bb872c0",
   "metadata": {},
   "outputs": [
    {
     "ename": "AttributeError",
     "evalue": "probability estimates are not available for loss='hinge'",
     "output_type": "error",
     "traceback": [
      "\u001b[1;31m---------------------------------------------------------------------------\u001b[0m",
      "\u001b[1;31mAttributeError\u001b[0m                            Traceback (most recent call last)",
      "Input \u001b[1;32mIn [72]\u001b[0m, in \u001b[0;36m<cell line: 1>\u001b[1;34m()\u001b[0m\n\u001b[1;32m----> 1\u001b[0m \u001b[43msgd_model\u001b[49m\u001b[38;5;241;43m.\u001b[39;49m\u001b[43mpredict_proba\u001b[49m(np_img\u001b[38;5;241m.\u001b[39mreshape(\u001b[38;5;241m1\u001b[39m, \u001b[38;5;241m784\u001b[39m))\n",
      "File \u001b[1;32m~\\Anaconda3\\lib\\site-packages\\sklearn\\utils\\metaestimators.py:109\u001b[0m, in \u001b[0;36m_AvailableIfDescriptor.__get__\u001b[1;34m(self, obj, owner)\u001b[0m\n\u001b[0;32m    103\u001b[0m attr_err \u001b[38;5;241m=\u001b[39m \u001b[38;5;167;01mAttributeError\u001b[39;00m(\n\u001b[0;32m    104\u001b[0m     \u001b[38;5;124mf\u001b[39m\u001b[38;5;124m\"\u001b[39m\u001b[38;5;124mThis \u001b[39m\u001b[38;5;132;01m{\u001b[39;00m\u001b[38;5;28mrepr\u001b[39m(owner\u001b[38;5;241m.\u001b[39m\u001b[38;5;18m__name__\u001b[39m)\u001b[38;5;132;01m}\u001b[39;00m\u001b[38;5;124m has no attribute \u001b[39m\u001b[38;5;132;01m{\u001b[39;00m\u001b[38;5;28mrepr\u001b[39m(\u001b[38;5;28mself\u001b[39m\u001b[38;5;241m.\u001b[39mattribute_name)\u001b[38;5;132;01m}\u001b[39;00m\u001b[38;5;124m\"\u001b[39m\n\u001b[0;32m    105\u001b[0m )\n\u001b[0;32m    106\u001b[0m \u001b[38;5;28;01mif\u001b[39;00m obj \u001b[38;5;129;01mis\u001b[39;00m \u001b[38;5;129;01mnot\u001b[39;00m \u001b[38;5;28;01mNone\u001b[39;00m:\n\u001b[0;32m    107\u001b[0m     \u001b[38;5;66;03m# delegate only on instances, not the classes.\u001b[39;00m\n\u001b[0;32m    108\u001b[0m     \u001b[38;5;66;03m# this is to allow access to the docstrings.\u001b[39;00m\n\u001b[1;32m--> 109\u001b[0m     \u001b[38;5;28;01mif\u001b[39;00m \u001b[38;5;129;01mnot\u001b[39;00m \u001b[38;5;28;43mself\u001b[39;49m\u001b[38;5;241;43m.\u001b[39;49m\u001b[43mcheck\u001b[49m\u001b[43m(\u001b[49m\u001b[43mobj\u001b[49m\u001b[43m)\u001b[49m:\n\u001b[0;32m    110\u001b[0m         \u001b[38;5;28;01mraise\u001b[39;00m attr_err\n\u001b[0;32m    112\u001b[0m     \u001b[38;5;66;03m# lambda, but not partial, allows help() to work with update_wrapper\u001b[39;00m\n",
      "File \u001b[1;32m~\\Anaconda3\\lib\\site-packages\\sklearn\\linear_model\\_stochastic_gradient.py:1199\u001b[0m, in \u001b[0;36mSGDClassifier._check_proba\u001b[1;34m(self)\u001b[0m\n\u001b[0;32m   1197\u001b[0m \u001b[38;5;28;01mdef\u001b[39;00m \u001b[38;5;21m_check_proba\u001b[39m(\u001b[38;5;28mself\u001b[39m):\n\u001b[0;32m   1198\u001b[0m     \u001b[38;5;28;01mif\u001b[39;00m \u001b[38;5;28mself\u001b[39m\u001b[38;5;241m.\u001b[39mloss \u001b[38;5;129;01mnot\u001b[39;00m \u001b[38;5;129;01min\u001b[39;00m (\u001b[38;5;124m\"\u001b[39m\u001b[38;5;124mlog\u001b[39m\u001b[38;5;124m\"\u001b[39m, \u001b[38;5;124m\"\u001b[39m\u001b[38;5;124mmodified_huber\u001b[39m\u001b[38;5;124m\"\u001b[39m):\n\u001b[1;32m-> 1199\u001b[0m         \u001b[38;5;28;01mraise\u001b[39;00m \u001b[38;5;167;01mAttributeError\u001b[39;00m(\n\u001b[0;32m   1200\u001b[0m             \u001b[38;5;124m\"\u001b[39m\u001b[38;5;124mprobability estimates are not available for loss=\u001b[39m\u001b[38;5;132;01m%r\u001b[39;00m\u001b[38;5;124m\"\u001b[39m \u001b[38;5;241m%\u001b[39m \u001b[38;5;28mself\u001b[39m\u001b[38;5;241m.\u001b[39mloss\n\u001b[0;32m   1201\u001b[0m         )\n\u001b[0;32m   1202\u001b[0m     \u001b[38;5;28;01mreturn\u001b[39;00m \u001b[38;5;28;01mTrue\u001b[39;00m\n",
      "\u001b[1;31mAttributeError\u001b[0m: probability estimates are not available for loss='hinge'"
     ]
    }
   ],
   "source": [
    "sgd_model.predict_proba(np_img.reshape(1, 784)) # 학습데이터처럼 1차원으로 사진 펴주기"
   ]
  },
  {
   "cell_type": "code",
   "execution_count": null,
   "id": "375c5cb9",
   "metadata": {},
   "outputs": [],
   "source": []
  }
 ],
 "metadata": {
  "kernelspec": {
   "display_name": "Python 3 (ipykernel)",
   "language": "python",
   "name": "python3"
  },
  "language_info": {
   "codemirror_mode": {
    "name": "ipython",
    "version": 3
   },
   "file_extension": ".py",
   "mimetype": "text/x-python",
   "name": "python",
   "nbconvert_exporter": "python",
   "pygments_lexer": "ipython3",
   "version": "3.9.12"
  },
  "toc": {
   "base_numbering": 1,
   "nav_menu": {},
   "number_sections": false,
   "sideBar": true,
   "skip_h1_title": false,
   "title_cell": "Table of Contents",
   "title_sidebar": "Contents",
   "toc_cell": false,
   "toc_position": {},
   "toc_section_display": true,
   "toc_window_display": false
  }
 },
 "nbformat": 4,
 "nbformat_minor": 5
}
