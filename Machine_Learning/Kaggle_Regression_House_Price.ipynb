{
 "cells": [
  {
   "cell_type": "markdown",
   "id": "c747cf02",
   "metadata": {},
   "source": [
    "## 2. 데이터 수집"
   ]
  },
  {
   "cell_type": "code",
   "execution_count": null,
   "id": "41d56605",
   "metadata": {},
   "outputs": [],
   "source": [
    "import pandas as pd\n",
    "import numpy as np\n",
    "\n",
    "train = pd.read_csv('reg_data/train.csv')\n",
    "test = pd.read_csv('reg_data/test.csv')\n",
    "submission = pd.read_csv('reg_data/sample_submission.csv')"
   ]
  },
  {
   "cell_type": "markdown",
   "id": "a40ba8d4",
   "metadata": {},
   "source": [
    "# 3. 탐색적 데이터 분석 및 전처리(EDA:Exploratory Data Analysis)\n",
    "- 데이터를 이해하자!\n",
    "- 결측치, 이상치, 오류가 있는지 확인\n",
    "    - 결측치 : 컬럼의 값이 없는 데이터\n",
    "    - 이상치 : 다른 값들과 차이가 큰 값\n",
    "    - 오류치 >> 이상치 >> 결측치 순으로 데이터 전처리하기!\n",
    "- 기술 통계\n",
    "- 상관 관계\n",
    "- 시각화\n",
    "### 데이터 전처리 방법\n",
    "- 통합(Grouping, 범주형 데이터의 클래스가 너무 많을 시, 사용),\n",
    "- 인코딩,\n",
    "- 정규화,\n",
    "- 라벨 인코딩 등을 통해 데이터 전처리"
   ]
  },
  {
   "cell_type": "code",
   "execution_count": null,
   "id": "fd1c0a08",
   "metadata": {
    "scrolled": true
   },
   "outputs": [],
   "source": [
    "train1 = train.copy()"
   ]
  },
  {
   "cell_type": "code",
   "execution_count": null,
   "id": "a82b925f",
   "metadata": {},
   "outputs": [],
   "source": [
    "train.columns"
   ]
  },
  {
   "cell_type": "markdown",
   "id": "356d2f97",
   "metadata": {},
   "source": [
    "## 칼럼 정보\n",
    "- ID : 아이디\n",
    "- ADDRESS : 주소 \n",
    "- SUBURB : 동네 이름\n",
    "- PRICE : 가격 \n",
    "- BEDROOMS : 침실\n",
    "- BATHROOMS : 화장실 \n",
    "- GARAGE : 차고 수\n",
    "- LAND_AREA : 부지 면적 \n",
    "- FLOOR_AREA : 건물 면적\n",
    "- BUILD_YEAR : 건축년도\n",
    "- CBD_DIST : 비즈니스 중심 구역까지 거리\n",
    "- NEAREST_STN : 근처 역\n",
    "- NEAREST_STN_DIST : 근처역까지 거리\n",
    "- DATE_SOLD : 팔매된 날짜\n",
    "- POSTCODE : 우편번호\n",
    "- LATITUDE: 위도\n",
    "- LONGITUDE : 경도\n",
    "- NEAREST_SCH : 근처 학교\n",
    "- NEAREST_SCH_DIST : 학교까지 거리\n",
    "- NEAREST_SCH_RANK : 근처 학교 등급"
   ]
  },
  {
   "cell_type": "markdown",
   "id": "4af26e04",
   "metadata": {},
   "source": [
    "- 범주형 데이터 : ADDRESS, SUBURB, BEDROOMS, BATHROOMS, GARAGE, BUILD_YEAR,NEAREST_STN, NEAREST_SCH, \n",
    "- 수치형 데이터 : LAND_AREA,FLOOR_AREA, CBD_DIST, NEAREST_STN_DIST, NEAREST_SCH_DIST, NEAREST_SCH_RANK\n",
    "- ?? : POSTCODE(=LATITUDE, LONGITUDE),  DATE_SOLD\n",
    "- 라벨(회귀) : PRICE"
   ]
  },
  {
   "cell_type": "markdown",
   "id": "82cf910c",
   "metadata": {},
   "source": [
    "## 3.1 결측치 확인"
   ]
  },
  {
   "cell_type": "code",
   "execution_count": null,
   "id": "5f59572b",
   "metadata": {
    "scrolled": true
   },
   "outputs": [],
   "source": [
    "train1.corr()"
   ]
  },
  {
   "cell_type": "markdown",
   "id": "27f1c932",
   "metadata": {},
   "source": [
    "- 결측치 있는 칼럼 : GARAGE, BUILD_YEAR, NEAREST_SCH_RANK"
   ]
  },
  {
   "cell_type": "code",
   "execution_count": null,
   "id": "d22f47c4",
   "metadata": {
    "scrolled": true
   },
   "outputs": [],
   "source": [
    "train1 = train1.dropna(axis = 0)\n",
    "not_null_test = test.dropna(axis = 0)"
   ]
  },
  {
   "cell_type": "code",
   "execution_count": null,
   "id": "b0dd1ebb",
   "metadata": {},
   "outputs": [],
   "source": [
    "col = ['BEDROOMS', 'BATHROOMS',\n",
    "       'LAND_AREA', 'FLOOR_AREA', 'CBD_DIST',\n",
    "       'NEAREST_STN_DIST', 'NEAREST_SCH_DIST']"
   ]
  },
  {
   "cell_type": "code",
   "execution_count": null,
   "id": "6f35ea37",
   "metadata": {},
   "outputs": [],
   "source": [
    "X_train = train1.loc[:,col]\n",
    "y_train = train1.loc[:, 'PRICE']\n",
    "X_test = test.loc[:, col]\n",
    "len(X_train),len(y_train)"
   ]
  },
  {
   "cell_type": "code",
   "execution_count": null,
   "id": "ece27c88",
   "metadata": {},
   "outputs": [],
   "source": [
    "from sklearn.neighbors import KNeighborsRegressor\n",
    "from sklearn.tree import DecisionTreeRegressor\n",
    "from sklearn.linear_model import LinearRegression\n",
    "from sklearn.linear_model import Ridge\n",
    "from sklearn.linear_model import Lasso\n",
    "from sklearn.ensemble import RandomForestRegressor\n",
    "from sklearn.model_selection import cross_val_score\n",
    "from sklearn.model_selection import train_test_split\n",
    "import matplotlib.pyplot as plt\n",
    "import numpy as np"
   ]
  },
  {
   "cell_type": "markdown",
   "id": "b02db66c",
   "metadata": {},
   "source": [
    "# 선형 회귀"
   ]
  },
  {
   "cell_type": "code",
   "execution_count": null,
   "id": "d537612e",
   "metadata": {
    "scrolled": true
   },
   "outputs": [],
   "source": [
    "train_acc = []\n",
    "test_acc = []\n",
    "rs = range(100, 130)\n",
    "for i in rs:\n",
    "   \n",
    "    X_train1, X_test1, y_train1,y_test1 = train_test_split(X_train, y_train, random_state=122)\n",
    "\n",
    "    lr_model = LinearRegression(normalize=True)\n",
    "    lr_model.fit(X_train1, y_train1)\n",
    "    train_acc.append(lr_model.score(X_train1, y_train1))\n",
    "    test_acc.append(lr_model.score(X_test1, y_test1))\n",
    "\n",
    "plt.figure(figsize = (15, 5)) # 가로, 세로의 크기\n",
    "plt.plot(rs, train_acc, label='train')\n",
    "plt.plot(rs, test_acc, label='test')\n",
    "plt.legend() # 범례\n",
    "plt.xticks(rs)\n",
    "plt.ylabel('Accuracy')\n",
    "plt.xlabel('RandomState')\n",
    "plt.title(f'LinearRegression')\n",
    "plt.grid()\n",
    "plt.show()"
   ]
  },
  {
   "cell_type": "code",
   "execution_count": null,
   "id": "c8091bd8",
   "metadata": {},
   "outputs": [],
   "source": [
    "X_train1, X_test1, y_train1,y_test1 = train_test_split(X_train, y_train, random_state=121)\n",
    "\n",
    "lr_model = LinearRegression()\n",
    "lr_model.fit(X_train1, y_train1)\n",
    "lr_model.predict(X_test)\n"
   ]
  },
  {
   "cell_type": "code",
   "execution_count": null,
   "id": "6414f5cd",
   "metadata": {},
   "outputs": [],
   "source": [
    "# 선형 회귀\n",
    "num_epoch = 5000 # 경사하강법을 적용할 최대 반복 횟수\n",
    "learning_rate = 0.00000000000000001 # 학습률\n",
    "\n",
    "min_ = [200000000]\n",
    "\n",
    "x_li = list(train1.loc[:,col+['PRICE']].corr()['PRICE'])\n",
    "x = np.random.uniform(low=0.0, high= 1.0)\n",
    "x_li.append(x)\n",
    "\n",
    "pre_y = 0    \n",
    "for epoch in range(num_epoch) :    \n",
    "    for i in range(len(col)) :\n",
    "        pre_y += x_li[i] * X_train[col[i]]\n",
    "    pre_y += x_li[-1]   \n",
    "    \n",
    "    mse = ((y_train-pre_y)**2).mean()\n",
    "    if mse < 0.001 :\n",
    "            break\n",
    "    for i in range(len(col)) :\n",
    "        x_li[i] += learning_rate * ((y_train-pre_y)*X_train[col[i]]).mean()*2\n",
    "    x_li[-1] += learning_rate * ((y_train-pre_y)*1).mean()*2\n",
    "    \n",
    "    # 중간 결과 출력\n",
    "    if mse < min_[0] :\n",
    "        min_[0] = mse\n",
    "        min_[1] = x_li\n",
    "        print(f'epoch :{epoch + 1}', end='\\t')\n",
    "        for i in range(len(x_li)) :\n",
    "            print(f'x{i} : {x_li[i]}', end='\\t')\n",
    "            print()"
   ]
  },
  {
   "cell_type": "code",
   "execution_count": null,
   "id": "136785c4",
   "metadata": {
    "scrolled": true
   },
   "outputs": [],
   "source": [
    "train.info(),test.info()"
   ]
  },
  {
   "cell_type": "code",
   "execution_count": null,
   "id": "4683fbed",
   "metadata": {},
   "outputs": [],
   "source": [
    "col = ['ADDRESS', 'SUBURB', 'BEDROOMS', 'BATHROOMS', 'GARAGE',\n",
    "       'LAND_AREA', 'FLOOR_AREA', 'BUILD_YEAR', 'CBD_DIST', 'NEAREST_STN',\n",
    "       'NEAREST_STN_DIST', 'DATE_SOLD', 'POSTCODE', 'LATITUDE', 'LONGITUDE',\n",
    "       'NEAREST_SCH', 'NEAREST_SCH_DIST', 'NEAREST_SCH_RANK']\n",
    "X_train = train1.loc[:,col]\n",
    "X_test = test.loc[:,col]"
   ]
  },
  {
   "cell_type": "markdown",
   "id": "a67e855b",
   "metadata": {},
   "source": [
    "# Lasso"
   ]
  },
  {
   "cell_type": "code",
   "execution_count": null,
   "id": "1697236d",
   "metadata": {},
   "outputs": [],
   "source": [
    "lasso_score = []\n",
    "for a in [0.001, 0.01, 0.1, 1, 10, 100, 1000] :\n",
    "    lasso = Lasso(alpha=a,)\n",
    "    rs = cross_val_score(lasso, X_train, y_train, cv=5)\n",
    "    lasso_score.append(rs.mean())"
   ]
  },
  {
   "cell_type": "markdown",
   "id": "e6f9e19c",
   "metadata": {},
   "source": [
    "# Ridge"
   ]
  },
  {
   "cell_type": "code",
   "execution_count": null,
   "id": "057b4d2a",
   "metadata": {},
   "outputs": [],
   "source": [
    "ridge_score = []\n",
    "for a in [0.001, 0.01, 0.1, 1, 10, 100, 1000] :\n",
    "    ridge = Ridge(alpha=a)\n",
    "    rs = cross_val_score(ridge, X_train, y_train, cv=5)\n",
    "    ridge_score.append(rs.mean())"
   ]
  },
  {
   "cell_type": "markdown",
   "id": "eb4abefc",
   "metadata": {},
   "source": [
    "## Lasso, Ridge 비교"
   ]
  },
  {
   "cell_type": "code",
   "execution_count": null,
   "id": "e52b4f57",
   "metadata": {},
   "outputs": [],
   "source": [
    "plt.figure(figsize=(10, 5)) # 가로, 세로 비율\n",
    "plt.plot(lasso_score, label='Lasso', marker='o')\n",
    "plt.plot(ridge_score, label='Ridge', marker='o')\n",
    "plt.xlabel('alpha')\n",
    "plt.ylabel('R square score')\n",
    "plt.legend()\n",
    "plt.grid()\n",
    "plt.title('Lasso & Ridge')\n",
    "plt.show()"
   ]
  },
  {
   "cell_type": "markdown",
   "id": "64b5c0c3",
   "metadata": {},
   "source": [
    "# KNN 모델"
   ]
  },
  {
   "cell_type": "code",
   "execution_count": null,
   "id": "39303ad1",
   "metadata": {
    "scrolled": true
   },
   "outputs": [],
   "source": [
    "# KNN 모델\n",
    "\n",
    "for i in range(100) :\n",
    "    X_train2, X_val, y_train2, y_val = train_test_split(X_train, y_train, test_size = 0.3, random_state=i)\n",
    "    train_acc = []\n",
    "    test_acc = []\n",
    "\n",
    "    neighbor = range(1, 20, 2)\n",
    "    for k in neighbor :\n",
    "        knn_model2 = KNeighborsRegressor(n_neighbors=k)\n",
    "        knn_model2.fit(X_train2, y_train2)\n",
    "        train_acc.append(knn_model2.score(X_train2, y_train2))\n",
    "        test_acc.append(knn_model2.score(X_val, y_val))\n",
    "    plt.figure(figsize=(15, 5))\n",
    "    plt.plot(neighbor, train_acc, c='r', label = 'train')\n",
    "    plt.plot(neighbor, test_acc, c='b', label = 'test')\n",
    "    plt.xticks( range(1, 20, 2))\n",
    "    plt.grid()\n",
    "    plt.title(f'knn_model({i})')\n",
    "    plt.legend(loc='upper right')\n",
    "    plt.show()"
   ]
  },
  {
   "cell_type": "code",
   "execution_count": null,
   "id": "5782ec0d",
   "metadata": {},
   "outputs": [],
   "source": [
    "#4- /20-3/43-5/45-5\n",
    "X_train2, X_val, y_train2, y_val = train_test_split(X_train, y_train, test_size = 0.3, random_state=45)\n",
    "\n",
    "knn_model2 = KNeighborsRegressor(n_neighbors=5)\n",
    "knn_model2.fit(X_train2, y_train2)\n",
    "\n",
    "pre_y = knn_model2.predict(X_test)\n",
    "print(knn_model2.score(X_val, y_val))\n",
    "submission['PRICE'] = pre_y"
   ]
  },
  {
   "cell_type": "code",
   "execution_count": null,
   "id": "54846341",
   "metadata": {},
   "outputs": [],
   "source": [
    "submission.to_csv('reg_data/pred_KNN_mode.csv', index=False)"
   ]
  },
  {
   "cell_type": "markdown",
   "id": "d3537094",
   "metadata": {},
   "source": [
    "# Decision Tree(결정 트리)"
   ]
  },
  {
   "cell_type": "code",
   "execution_count": null,
   "id": "7aa1b0f5",
   "metadata": {
    "scrolled": true
   },
   "outputs": [],
   "source": [
    "# max_depth\n",
    "for i in range(100) :\n",
    "    X_train2, X_val, y_train2, y_val = train_test_split(X_train, y_train, test_size = 0.3, random_state=i)\n",
    "    train_acc = []\n",
    "    test_acc = []\n",
    "\n",
    "    max_depth = range(5, 30, 1)\n",
    "    for d in max_depth :\n",
    "        dt_model = DecisionTreeRegressor(max_depth = d)\n",
    "        dt_model.fit(X_train2, y_train2)\n",
    "        train_acc.append(dt_model.score(X_train2, y_train2))\n",
    "        test_acc.append(dt_model.score(X_val, y_val))\n",
    "    plt.figure(figsize=(15, 5))\n",
    "    plt.plot(max_depth, train_acc, c='r', label = 'train')\n",
    "    plt.plot(max_depth, test_acc, c='b', label = 'test')\n",
    "    plt.xticks( range(5, 30, 1))\n",
    "    plt.grid()\n",
    "    plt.title(f'DecisionTree_model({i})')\n",
    "    plt.legend(loc='upper right')\n",
    "    plt.show()"
   ]
  },
  {
   "cell_type": "code",
   "execution_count": null,
   "id": "4d28e00c",
   "metadata": {},
   "outputs": [],
   "source": [
    "#64-6/\n",
    "X_train2, X_val, y_train2, y_val = train_test_split(X_train, y_train, test_size = 0.3, random_state=64)\n",
    "\n",
    "dt_model = DecisionTreeRegressor(max_depth = 6)\n",
    "dt_model.fit(X_train2, y_train2)\n",
    "\n",
    "submission['PRICE'] = dt_model.predict(X_test)\n"
   ]
  },
  {
   "cell_type": "code",
   "execution_count": null,
   "id": "a9bb8a10",
   "metadata": {},
   "outputs": [],
   "source": [
    "submission.to_csv('reg_data/pred_DT_model_by_Mdepth.csv', index=False)"
   ]
  },
  {
   "cell_type": "code",
   "execution_count": null,
   "id": "50c5de5f",
   "metadata": {},
   "outputs": [],
   "source": []
  },
  {
   "cell_type": "code",
   "execution_count": null,
   "id": "766d9a26",
   "metadata": {
    "scrolled": false
   },
   "outputs": [],
   "source": [
    "# min_samples_leaf\n",
    "test_score = []\n",
    "for i in range(100) :\n",
    "    for d in range(1,70) :\n",
    "        model = DecisionTreeRegressor(min_samples_leaf= d, random_state=i)\n",
    "        result = cross_val_score(model, X_train, y_train, cv = 5)\n",
    "        test_score.append(result.mean())\n",
    "\n",
    "    plt.figure(figsize=(15,5))\n",
    "    plt.plot(range(1,70), test_score, label = 'Test')\n",
    "    plt.xticks(range(1,70))\n",
    "    plt.grid()\n",
    "    plt.legend()\n",
    "    plt.ylabel('accuracy')\n",
    "    plt.xlabel('max_depth')\n",
    "    plt.title(f'cross_val_score({i})')\n",
    "    plt.show()"
   ]
  },
  {
   "cell_type": "code",
   "execution_count": null,
   "id": "bbb173c5",
   "metadata": {},
   "outputs": [],
   "source": [
    "X_train2, X_val, y_train2, y_val = train_test_split(X_train, y_train, test_size = 0.3, random_state=64)\n",
    "\n",
    "dt_model = DecisionTreeRegressor(min_samples_split= 113)\n",
    "dt_model.fit(X_train2, y_train2)\n",
    "\n",
    "submission['PRICE'] = dt_model.predict(X_test)\n"
   ]
  },
  {
   "cell_type": "code",
   "execution_count": null,
   "id": "e668cdc1",
   "metadata": {},
   "outputs": [],
   "source": [
    "submission.to_csv('reg_data/pred_DT_model_by_mSampleSplit.csv', index=False)"
   ]
  },
  {
   "cell_type": "code",
   "execution_count": null,
   "id": "ecd9a5e9",
   "metadata": {},
   "outputs": [],
   "source": [
    "X_train2, X_val, y_train2, y_val = train_test_split(X_train, y_train, test_size = 0.3, random_state=64)\n",
    "\n",
    "dt_model = DecisionTreeRegressor(min_samples_leaf= 31)\n",
    "dt_model.fit(X_train2, y_train2)\n",
    "\n",
    "submission['PRICE'] = dt_model.predict(X_test)\n"
   ]
  },
  {
   "cell_type": "code",
   "execution_count": null,
   "id": "2e73e9a6",
   "metadata": {},
   "outputs": [],
   "source": [
    "submission.to_csv('reg_data/pred_DT_model_by_mSampleLeaf.csv', index=False)"
   ]
  },
  {
   "cell_type": "markdown",
   "id": "ed406e1c",
   "metadata": {},
   "source": [
    "# 랜덤 포레스트"
   ]
  },
  {
   "cell_type": "code",
   "execution_count": null,
   "id": "c61ca2e4",
   "metadata": {},
   "outputs": [],
   "source": [
    "X_train = train1.loc[:,['BATHROOMS',\n",
    "       'LAND_AREA', 'FLOOR_AREA', 'CBD_DIST',\n",
    "       'NEAREST_STN_DIST']]"
   ]
  },
  {
   "cell_type": "code",
   "execution_count": null,
   "id": "0fc7874a",
   "metadata": {},
   "outputs": [],
   "source": [
    "test_score = []\n",
    "for i in range(1,50):\n",
    "    print(i)\n",
    "    rf_model = RandomForestRegressor(\n",
    "            n_estimators = 70,   # 깅할 모델 갯수\n",
    "            max_features = 0.9,   # 각 모델이 랜덤하게 사용할 특성 수\n",
    "            max_depth = 13,        # 각 모델의 최대 깊이 : 6/7\n",
    "            min_samples_leaf = i,# 리프 노드의 최소 샘플 수\n",
    "            random_state = 18     # 난수 고정\n",
    "                                     )\n",
    "    result = cross_val_score(rf_model, X_train, y_train, cv = 5)\n",
    "    test_score.append(result.mean())\n",
    "\n",
    "plt.figure(figsize=(20,5))\n",
    "plt.plot(range(1,50), test_score, label = 'Test')\n",
    "plt.xticks(range(1,50))\n",
    "plt.grid()\n",
    "plt.legend()\n",
    "plt.ylabel('accuracy')\n",
    "plt.xlabel('min sample leaf')\n",
    "plt.title('cross_val_score')\n",
    "plt.show()"
   ]
  },
  {
   "cell_type": "code",
   "execution_count": null,
   "id": "eb86d5ac",
   "metadata": {},
   "outputs": [],
   "source": [
    "rf_model = RandomForestRegressor(\n",
    "            n_estimators = 70,   # 깅할 모델 갯수 : 70, 79\n",
    "            max_features = 0.9,   # 각 모델이 랜덤하게 사용할 특성 수\n",
    "            max_depth = 13,        # 각 모델의 최대 깊이 : 6/7--13\n",
    "            min_samples_leaf = 31,# 리프 노드의 최소 샘플 수\n",
    "            random_state = 18     # 난수 고정\n",
    "                                     )\n",
    "rf_model.fit(X_train,y_train)\n",
    "submission['PRICE'] = rf_model.predict(X_test)"
   ]
  },
  {
   "cell_type": "code",
   "execution_count": null,
   "id": "81c47cc7",
   "metadata": {},
   "outputs": [],
   "source": [
    "submission.to_csv('reg_data/pred_randomForest.csv', index=False)"
   ]
  },
  {
   "cell_type": "code",
   "execution_count": null,
   "id": "f0b31bd7",
   "metadata": {},
   "outputs": [],
   "source": [
    "# feature selection\n",
    "feat_labels = X_train.columns\n",
    "\n",
    "rf = RandomForestRegressor(\n",
    "            n_estimators = 70,   # 깅할 모델 갯수 : 70, 79\n",
    "            max_features = 0.9,   # 각 모델이 랜덤하게 사용할 특성 수\n",
    "            max_depth = 13,        # 각 모델의 최대 깊이 : 6/7--13\n",
    "            min_samples_leaf = 31,# 리프 노드의 최소 샘플 수\n",
    "            random_state = 18     # 난수 고정\n",
    ")\n",
    "\n",
    "rf.fit(X_train, y_train)\n",
    "importances = rf.feature_importances_\n",
    "\n",
    "# argsort : 리스트 인덱스의 정렬됐을 때의 인덱스 값 반환, [::-1] : 뒤집기\n",
    "indices = np.argsort(importances)[::-1]\n",
    "\n",
    "plt.bar(feat_labels, importances)\n",
    "plt.xticks(feat_labels, rotation = 90)\n",
    "plt.show()"
   ]
  },
  {
   "cell_type": "markdown",
   "id": "31eb0e47",
   "metadata": {},
   "source": [
    "### 결측치 채우는 방법\n",
    "- 수치형 데이터\n",
    "    - 기술 통계(평균 or 중간값)\n",
    "    - 결측치가 적은 경우 : 전체 평균이나 중간값을 대입\n",
    "    - 결측치가 많은 경우(20~30%) : 결측치가 있는 데이터의 다른 컬럼과 같은 값을 갖는(동일한 특성을 갖는) 데이터의 결측치 통계(평균, or 중간값)를 사용 (피벗 테이블을 이용할 것임)\n",
    "- 범주형 데이터\n",
    "    - 결측치가 적은 경우 : 데이터 수가 가장 많은 클래스로 할당 >> 기존 데이터가 결측치가 있는 데이터에 의해 영향을 덜 받기 때문에)\n",
    "    - 결측치가 많은 경우 : 데이터 수가 가장 많은 클래스로 할당 >> 편향이 됨 >> 기존 데이터의 개수 비율만큼 랜덤으로 할당"
   ]
  },
  {
   "cell_type": "code",
   "execution_count": null,
   "id": "2583ff84",
   "metadata": {},
   "outputs": [],
   "source": []
  },
  {
   "cell_type": "markdown",
   "id": "80257c1f",
   "metadata": {},
   "source": [
    "## 3.7 데이터 시각화 하기\n",
    "- test데이터를 활용하지 않고 train데이터를 이용해서 시각화/탐색하는게 좋다."
   ]
  },
  {
   "cell_type": "markdown",
   "id": "8264691b",
   "metadata": {},
   "source": [
    "- 범주형 데이터(Categorical Data) 시각화\n",
    "- 빈도 기반의 bar chart 많이 활용\n",
    "\n",
    "- 수치형 데이터 시각화\n",
    "    - 구간을 나눠서 종합하는 히스토그램\n",
    "    - 커널 밀도 추정 그래프\n",
    "    \n",
    "- 바이올린 플롯 그래프 시각화\n",
    "    - 박스 + KDE 그래프\n",
    "- 텍스트 데이터\n",
    "    - 비정형 데이터 >> 단어 중심 시각화\n",
    "    - wordcloud\n",
    "- 빈도 기반의 시각화 가능 : countplot"
   ]
  },
  {
   "cell_type": "markdown",
   "id": "493ca9d6",
   "metadata": {},
   "source": [
    "## 4. 특성 공학(Feature Engineering)\n",
    "- feature에서 유의미한 컬럼을 추출하거나 병합하는 행위"
   ]
  },
  {
   "cell_type": "code",
   "execution_count": null,
   "id": "6fd7197d",
   "metadata": {},
   "outputs": [],
   "source": []
  },
  {
   "cell_type": "markdown",
   "id": "ac369147",
   "metadata": {},
   "source": [
    "### 4.2 비정형 데이터 다루기(Name)\n",
    "- 틀이 없는, 형태가 정해져 있지 않음\n",
    "- 텍스트 데이터, 이미지 데이터, 음성 데이터"
   ]
  },
  {
   "cell_type": "code",
   "execution_count": null,
   "id": "71464a73",
   "metadata": {},
   "outputs": [],
   "source": []
  },
  {
   "cell_type": "markdown",
   "id": "c46954bf",
   "metadata": {},
   "source": [
    "###  사용하지 않을 칼럼 정리"
   ]
  },
  {
   "cell_type": "code",
   "execution_count": null,
   "id": "490c5254",
   "metadata": {},
   "outputs": [],
   "source": []
  },
  {
   "cell_type": "markdown",
   "id": "63a2a8f9",
   "metadata": {},
   "source": [
    "## 모델링\n",
    "- 인코딩(문자 형태의 데이터를 숫자 형태로 변환)\n",
    "    - label encoding : 순서가 있는 범주형 데이터에 사용\n",
    "    - one-hot-encoding : 순서가 없는 범주형 데이터에 사용 / pd.get_dummies(데이터)\n",
    "        - 순서가 없는 범주형 데이터 : 성별\n",
    "        - 순서가 있는 범주형 데이터 : 학점\n",
    "- 특성 선택(feature selection) : 상관계수(.corr() : 양수-비례관계, 음수-반비례관계, 0-서로 영향X, 절대값이 클수록 상관관계 큼)\n",
    "- 모델 선택 및 하이퍼파라미터 튜닝\n",
    "- 모델 학습 및 평가"
   ]
  },
  {
   "cell_type": "code",
   "execution_count": null,
   "id": "827f83d9",
   "metadata": {},
   "outputs": [],
   "source": []
  },
  {
   "cell_type": "markdown",
   "id": "8a740881",
   "metadata": {},
   "source": [
    "## 5.2 특성 선택\n",
    "- 예측 결과에 영향을 줄 특성들을 골라본다.\n",
    "- Family와 Family_cat이 비슷한 특성이기 때문에 선택해보자."
   ]
  },
  {
   "cell_type": "code",
   "execution_count": null,
   "id": "b14b27cb",
   "metadata": {},
   "outputs": [],
   "source": []
  },
  {
   "cell_type": "markdown",
   "id": "5980c57c",
   "metadata": {},
   "source": [
    "## 5.3 학습\n",
    "- KNN모델과 Decision Tree모델 활용"
   ]
  },
  {
   "cell_type": "code",
   "execution_count": null,
   "id": "982719e9",
   "metadata": {},
   "outputs": [],
   "source": []
  },
  {
   "cell_type": "markdown",
   "id": "d6715c36",
   "metadata": {},
   "source": [
    "## 데이터 스케일링(Data Scaling)\n",
    "- 특성들의 범위를 정규화 해주는 작업\n",
    "- 특성마다 다른 범위를 가지는 경우, 머신러닝 모델들이 제대로 학습되지 않을 가능성이 있다.\n",
    "    - KNN, SVM, Neural network(신경망) 모델, Clustering 모델 등 (데이터 스케일링의 영향을 많이 받는 모델)\n",
    "    - 시력과 키를 함께 학습시킬 경우, 키의 범위가 크기 때문에 거리 값을 기반으로 학습할 때 영향을 많이 준다.\n",
    "    - 시력 0.5 ~ 2.0(폭 1.5) / 키 150 ~ 190(폭 40) >> 정규화가 필요\n",
    "    \n",
    "#### 장점\n",
    "- 특성들을 비교 분석하기 쉽게 만들어 준다.\n",
    "- Linear Model, Neural network Model 등에서 학습의 안정성과 속도를 개선시킨다.\n",
    "- 하지만 특성에 따라 원래 범위를 유지하는 것이 성능에 더 좋을 때에는 스케일링을 해 주지 않아도 된다.\n",
    "\n",
    "\n",
    "### 종류\n",
    "#### StandardScaler\n",
    "- 평균과 표준편차를 이용한 방법\n",
    "- 평균은 극단적인 값(이상치)들의 영향을 많이 받음\n",
    "#### MinMaxScaler\n",
    "- 최대, 최솟값을 이용한 방법 (공식, 교재 122쪽 중간 참고)\n",
    "- 모든 데이터 값이 0 ~ 1 사이의 값으로 조정됨\n",
    "#### RobustScaler\n",
    "- 사분위 수를 이용한 스케일러\n",
    "- 데이터에 이상치가 많을 때 사용하면 좋은 스케일러\n",
    "#### Normalizer\n",
    "- 데이터의 크기는 고려하지 않고\n",
    "- 데이터의 방향을 중요시할 때 사용하는 스케일러\n",
    "- 추천 알고리즘에 많이 사용\n",
    "    - 예를 들어 음식 추천 알고리즘 :\n",
    "    - 나와 근접한 사람은 누가 있을까? 그 사람들이 좋아하는 음식을 추천\n",
    "    - 1번과 3번보다는 1번과 2번을 비교해 보면 거리가 1번과 2번이 더 멀기 때문에 컴퓨터가 3번을 추천해버리는 문제가 발생!!\n",
    "- 원점으로부터의 방향만 비교하면 비슷한 취향으로 추천 가능\n",
    "- 원처럼 동그란 데이터를 갖게 됨\n",
    "\n",
    "### 주의점\n",
    "- 훈련 세트와 테스트 세트에 같은 변환을 적용해야 한다.\n",
    "- 예를 들어 StandardScaler의 경우 훈련 세트의 평균과 표준편차를 이용해 훈련세트를 변환하고 테스트 세트의 평균과 표준편차를 이용해 테스트 세트를 변환하면 잘못된 결과가 나온다.\n",
    "- 훈련 데이터를 쓰던지 테스트 데이터를 쓰던지 모두 훈련 데이터를 기준으로 스케일링을 해야한다!"
   ]
  },
  {
   "cell_type": "code",
   "execution_count": null,
   "id": "cd52f25f",
   "metadata": {},
   "outputs": [],
   "source": []
  },
  {
   "cell_type": "markdown",
   "id": "ddf86520",
   "metadata": {},
   "source": [
    "### 5.4 하이퍼 파라미터 튜닝\n",
    "- KNN모델과 DecisionTree 모델을 최적화 해보자.\n",
    "- KNN : 이웃 숫자\n",
    "- Tree : 나무의 깊이, 리프노드의 갯수, 한 리프노드에 들어갈 샘플 수 등"
   ]
  },
  {
   "cell_type": "code",
   "execution_count": null,
   "id": "62918651",
   "metadata": {},
   "outputs": [],
   "source": []
  },
  {
   "cell_type": "markdown",
   "id": "d18dc6dc",
   "metadata": {},
   "source": [
    "### 모델 평가\n",
    "- KNN의 이웃 수 : 7결정\n",
    "- DecisionTree의 최대 깊이 : 4결정"
   ]
  },
  {
   "cell_type": "code",
   "execution_count": null,
   "id": "bd4f90a4",
   "metadata": {},
   "outputs": [],
   "source": []
  },
  {
   "cell_type": "markdown",
   "id": "e875df06",
   "metadata": {},
   "source": [
    "# 성능 개선을 위해 고려해 볼 사항\n",
    "1. 특성 선택\n",
    "2. 데이터 확보\n",
    "3. 전처리 작업 변경(결측치 처리 방법, 특성 공학, 스케일링 등)\n",
    "4. 모델 변경 - 앙상블 : 모델을 여러개 엮어서 쓰는 것"
   ]
  },
  {
   "cell_type": "code",
   "execution_count": null,
   "id": "f2f4cfb0",
   "metadata": {},
   "outputs": [],
   "source": []
  }
 ],
 "metadata": {
  "kernelspec": {
   "display_name": "Python 3 (ipykernel)",
   "language": "python",
   "name": "python3"
  },
  "language_info": {
   "codemirror_mode": {
    "name": "ipython",
    "version": 3
   },
   "file_extension": ".py",
   "mimetype": "text/x-python",
   "name": "python",
   "nbconvert_exporter": "python",
   "pygments_lexer": "ipython3",
   "version": "3.9.12"
  },
  "toc": {
   "base_numbering": 1,
   "nav_menu": {},
   "number_sections": false,
   "sideBar": true,
   "skip_h1_title": false,
   "title_cell": "Table of Contents",
   "title_sidebar": "Contents",
   "toc_cell": false,
   "toc_position": {
    "height": "calc(100% - 180px)",
    "left": "10px",
    "top": "150px",
    "width": "341.333px"
   },
   "toc_section_display": true,
   "toc_window_display": false
  }
 },
 "nbformat": 4,
 "nbformat_minor": 5
}
