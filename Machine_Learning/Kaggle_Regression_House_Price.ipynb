{
 "cells": [
  {
   "cell_type": "markdown",
   "id": "c747cf02",
   "metadata": {},
   "source": [
    "## 2. 데이터 수집"
   ]
  },
  {
   "cell_type": "code",
   "execution_count": 1,
   "id": "41d56605",
   "metadata": {},
   "outputs": [],
   "source": [
    "import pandas as pd\n",
    "import numpy as np\n",
    "\n",
    "train = pd.read_csv('reg_data/train.csv')\n",
    "test = pd.read_csv('reg_data/test.csv')"
   ]
  },
  {
   "cell_type": "markdown",
   "id": "a40ba8d4",
   "metadata": {},
   "source": [
    "# 3. 탐색적 데이터 분석 및 전처리(EDA:Exploratory Data Analysis)\n",
    "- 데이터를 이해하자!\n",
    "- 결측치, 이상치, 오류가 있는지 확인\n",
    "    - 결측치 : 컬럼의 값이 없는 데이터\n",
    "    - 이상치 : 다른 값들과 차이가 큰 값\n",
    "    - 오류치 >> 이상치 >> 결측치 순으로 데이터 전처리하기!\n",
    "- 기술 통계\n",
    "- 상관 관계\n",
    "- 시각화\n",
    "### 데이터 전처리 방법\n",
    "- 통합(Grouping, 범주형 데이터의 클래스가 너무 많을 시, 사용),\n",
    "- 인코딩,\n",
    "- 정규화,\n",
    "- 라벨 인코딩 등을 통해 데이터 전처리"
   ]
  },
  {
   "cell_type": "code",
   "execution_count": 6,
   "id": "fd1c0a08",
   "metadata": {
    "scrolled": true
   },
   "outputs": [],
   "source": [
    "train1 = train.copy()"
   ]
  },
  {
   "cell_type": "code",
   "execution_count": 7,
   "id": "a82b925f",
   "metadata": {},
   "outputs": [
    {
     "data": {
      "text/plain": [
       "Index(['ID', 'ADDRESS', 'SUBURB', 'PRICE', 'BEDROOMS', 'BATHROOMS', 'GARAGE',\n",
       "       'LAND_AREA', 'FLOOR_AREA', 'BUILD_YEAR', 'CBD_DIST', 'NEAREST_STN',\n",
       "       'NEAREST_STN_DIST', 'DATE_SOLD', 'POSTCODE', 'LATITUDE', 'LONGITUDE',\n",
       "       'NEAREST_SCH', 'NEAREST_SCH_DIST', 'NEAREST_SCH_RANK'],\n",
       "      dtype='object')"
      ]
     },
     "execution_count": 7,
     "metadata": {},
     "output_type": "execute_result"
    }
   ],
   "source": [
    "train.columns"
   ]
  },
  {
   "attachments": {},
   "cell_type": "markdown",
   "id": "356d2f97",
   "metadata": {},
   "source": [
    "## 칼럼 정보\n",
    "- ID : 아이디\n",
    "- ADDRESS : 주소 \n",
    "- SUBURB : 동네 이름\n",
    "- PRICE : 가격 \n",
    "- BEDROOMS : 침실\n",
    "- BATHROOMS : 화장실 \n",
    "- GARAGE : 차고 수\n",
    "- LAND_AREA : 부지 면적 \n",
    "- FLOOR_AREA : 건물 면적\n",
    "- BUILD_YEAR : 건축년도\n",
    "- CBD_DIST : 비즈니스 중심 구역까지 거리\n",
    "- NEAREST_STN : 근처 역\n",
    "- NEAREST_STN_DIST : 근처역까지 거리\n",
    "- DATE_SOLD : 팔매된 날짜\n",
    "- POSTCODE : 우편번호\n",
    "- LATITUDE: 위도\n",
    "- LONGITUDE : 경도\n",
    "- NEAREST_SCH : 근처 학교\n",
    "- NEAREST_SCH_DIST : 학교까지 거리\n",
    "- NEAREST_SCH_RANK : 근처 학교 등급"
   ]
  },
  {
   "cell_type": "markdown",
   "id": "4af26e04",
   "metadata": {},
   "source": [
    "- 범주형 데이터 : ADDRESS, SUBURB, BEDROOMS, BATHROOMS, GARAGE, BUILD_YEAR,NEAREST_STN, NEAREST_SCH, \n",
    "- 수치형 데이터 : LAND_AREA,FLOOR_AREA, CBD_DIST, NEAREST_STN_DIST, NEAREST_SCH_DIST, NEAREST_SCH_RANK\n",
    "- ?? : POSTCODE(=LATITUDE, LONGITUDE),  DATE_SOLD\n",
    "- 라벨(회귀) : PRICE"
   ]
  },
  {
   "cell_type": "code",
   "execution_count": 8,
   "id": "965a75c1",
   "metadata": {},
   "outputs": [
    {
     "data": {
      "text/html": [
       "<div>\n",
       "<style scoped>\n",
       "    .dataframe tbody tr th:only-of-type {\n",
       "        vertical-align: middle;\n",
       "    }\n",
       "\n",
       "    .dataframe tbody tr th {\n",
       "        vertical-align: top;\n",
       "    }\n",
       "\n",
       "    .dataframe thead th {\n",
       "        text-align: right;\n",
       "    }\n",
       "</style>\n",
       "<table border=\"1\" class=\"dataframe\">\n",
       "  <thead>\n",
       "    <tr style=\"text-align: right;\">\n",
       "      <th></th>\n",
       "      <th>ID</th>\n",
       "      <th>ADDRESS</th>\n",
       "      <th>SUBURB</th>\n",
       "      <th>PRICE</th>\n",
       "      <th>BEDROOMS</th>\n",
       "      <th>BATHROOMS</th>\n",
       "      <th>GARAGE</th>\n",
       "      <th>LAND_AREA</th>\n",
       "      <th>FLOOR_AREA</th>\n",
       "      <th>BUILD_YEAR</th>\n",
       "      <th>CBD_DIST</th>\n",
       "      <th>NEAREST_STN</th>\n",
       "      <th>NEAREST_STN_DIST</th>\n",
       "      <th>DATE_SOLD</th>\n",
       "      <th>POSTCODE</th>\n",
       "      <th>LATITUDE</th>\n",
       "      <th>LONGITUDE</th>\n",
       "      <th>NEAREST_SCH</th>\n",
       "      <th>NEAREST_SCH_DIST</th>\n",
       "      <th>NEAREST_SCH_RANK</th>\n",
       "    </tr>\n",
       "  </thead>\n",
       "  <tbody>\n",
       "    <tr>\n",
       "      <th>0</th>\n",
       "      <td>0</td>\n",
       "      <td>9 Crumlin Way</td>\n",
       "      <td>Ridgewood</td>\n",
       "      <td>520000</td>\n",
       "      <td>5</td>\n",
       "      <td>2</td>\n",
       "      <td>4.0</td>\n",
       "      <td>674</td>\n",
       "      <td>266</td>\n",
       "      <td>2007.0</td>\n",
       "      <td>35500</td>\n",
       "      <td>Butler Station</td>\n",
       "      <td>3000</td>\n",
       "      <td>09-2015\\r</td>\n",
       "      <td>6030</td>\n",
       "      <td>-31.656206</td>\n",
       "      <td>115.720566</td>\n",
       "      <td>IRENE MCCORMACK CATHOLIC COLLEGE</td>\n",
       "      <td>1.079230</td>\n",
       "      <td>120.0</td>\n",
       "    </tr>\n",
       "    <tr>\n",
       "      <th>1</th>\n",
       "      <td>1</td>\n",
       "      <td>37 Sissinghurst Crescent</td>\n",
       "      <td>Landsdale</td>\n",
       "      <td>575000</td>\n",
       "      <td>5</td>\n",
       "      <td>4</td>\n",
       "      <td>2.0</td>\n",
       "      <td>540</td>\n",
       "      <td>301</td>\n",
       "      <td>2014.0</td>\n",
       "      <td>16900</td>\n",
       "      <td>Whitfords Station</td>\n",
       "      <td>8100</td>\n",
       "      <td>07-2018\\r</td>\n",
       "      <td>6065</td>\n",
       "      <td>-31.800802</td>\n",
       "      <td>115.867675</td>\n",
       "      <td>LANDSDALE CHRISTIAN SCHOOL</td>\n",
       "      <td>0.667585</td>\n",
       "      <td>NaN</td>\n",
       "    </tr>\n",
       "    <tr>\n",
       "      <th>2</th>\n",
       "      <td>2</td>\n",
       "      <td>24 Tees Court</td>\n",
       "      <td>Mindarie</td>\n",
       "      <td>760000</td>\n",
       "      <td>4</td>\n",
       "      <td>2</td>\n",
       "      <td>2.0</td>\n",
       "      <td>781</td>\n",
       "      <td>220</td>\n",
       "      <td>1992.0</td>\n",
       "      <td>33500</td>\n",
       "      <td>Clarkson Station</td>\n",
       "      <td>3500</td>\n",
       "      <td>02-2020\\r</td>\n",
       "      <td>6030</td>\n",
       "      <td>-31.682040</td>\n",
       "      <td>115.702600</td>\n",
       "      <td>MINDARIE SENIOR COLLEGE</td>\n",
       "      <td>0.650761</td>\n",
       "      <td>111.0</td>\n",
       "    </tr>\n",
       "    <tr>\n",
       "      <th>3</th>\n",
       "      <td>3</td>\n",
       "      <td>31 Brentham Street</td>\n",
       "      <td>Mount Hawthorn</td>\n",
       "      <td>1230000</td>\n",
       "      <td>2</td>\n",
       "      <td>1</td>\n",
       "      <td>2.0</td>\n",
       "      <td>425</td>\n",
       "      <td>185</td>\n",
       "      <td>1938.0</td>\n",
       "      <td>3500</td>\n",
       "      <td>Leederville Station</td>\n",
       "      <td>1500</td>\n",
       "      <td>07-2020\\r</td>\n",
       "      <td>6016</td>\n",
       "      <td>-31.926046</td>\n",
       "      <td>115.838181</td>\n",
       "      <td>ARANMORE CATHOLIC COLLEGE</td>\n",
       "      <td>0.484465</td>\n",
       "      <td>106.0</td>\n",
       "    </tr>\n",
       "    <tr>\n",
       "      <th>4</th>\n",
       "      <td>4</td>\n",
       "      <td>46/1 Corkhill Street</td>\n",
       "      <td>North Fremantle</td>\n",
       "      <td>2010000</td>\n",
       "      <td>3</td>\n",
       "      <td>2</td>\n",
       "      <td>2.0</td>\n",
       "      <td>546</td>\n",
       "      <td>186</td>\n",
       "      <td>2004.0</td>\n",
       "      <td>12900</td>\n",
       "      <td>North Fremantle Station</td>\n",
       "      <td>800</td>\n",
       "      <td>10-2017\\r</td>\n",
       "      <td>6159</td>\n",
       "      <td>-32.032079</td>\n",
       "      <td>115.759626</td>\n",
       "      <td>JOHN CURTIN COLLEGE OF THE ARTS</td>\n",
       "      <td>1.869050</td>\n",
       "      <td>25.0</td>\n",
       "    </tr>\n",
       "  </tbody>\n",
       "</table>\n",
       "</div>"
      ],
      "text/plain": [
       "   ID                   ADDRESS           SUBURB    PRICE  BEDROOMS  \\\n",
       "0   0             9 Crumlin Way        Ridgewood   520000         5   \n",
       "1   1  37 Sissinghurst Crescent        Landsdale   575000         5   \n",
       "2   2             24 Tees Court         Mindarie   760000         4   \n",
       "3   3        31 Brentham Street   Mount Hawthorn  1230000         2   \n",
       "4   4      46/1 Corkhill Street  North Fremantle  2010000         3   \n",
       "\n",
       "   BATHROOMS  GARAGE  LAND_AREA  FLOOR_AREA  BUILD_YEAR  CBD_DIST  \\\n",
       "0          2     4.0        674         266      2007.0     35500   \n",
       "1          4     2.0        540         301      2014.0     16900   \n",
       "2          2     2.0        781         220      1992.0     33500   \n",
       "3          1     2.0        425         185      1938.0      3500   \n",
       "4          2     2.0        546         186      2004.0     12900   \n",
       "\n",
       "               NEAREST_STN  NEAREST_STN_DIST  DATE_SOLD  POSTCODE   LATITUDE  \\\n",
       "0           Butler Station              3000  09-2015\\r      6030 -31.656206   \n",
       "1        Whitfords Station              8100  07-2018\\r      6065 -31.800802   \n",
       "2         Clarkson Station              3500  02-2020\\r      6030 -31.682040   \n",
       "3      Leederville Station              1500  07-2020\\r      6016 -31.926046   \n",
       "4  North Fremantle Station               800  10-2017\\r      6159 -32.032079   \n",
       "\n",
       "    LONGITUDE                       NEAREST_SCH  NEAREST_SCH_DIST  \\\n",
       "0  115.720566  IRENE MCCORMACK CATHOLIC COLLEGE          1.079230   \n",
       "1  115.867675        LANDSDALE CHRISTIAN SCHOOL          0.667585   \n",
       "2  115.702600           MINDARIE SENIOR COLLEGE          0.650761   \n",
       "3  115.838181         ARANMORE CATHOLIC COLLEGE          0.484465   \n",
       "4  115.759626   JOHN CURTIN COLLEGE OF THE ARTS          1.869050   \n",
       "\n",
       "   NEAREST_SCH_RANK  \n",
       "0             120.0  \n",
       "1               NaN  \n",
       "2             111.0  \n",
       "3             106.0  \n",
       "4              25.0  "
      ]
     },
     "execution_count": 8,
     "metadata": {},
     "output_type": "execute_result"
    }
   ],
   "source": [
    "train1.head()"
   ]
  },
  {
   "cell_type": "code",
   "execution_count": null,
   "id": "e139d39e",
   "metadata": {},
   "outputs": [],
   "source": []
  },
  {
   "cell_type": "markdown",
   "id": "82cf910c",
   "metadata": {},
   "source": [
    "## 3.1 결측치 확인"
   ]
  },
  {
   "cell_type": "code",
   "execution_count": 10,
   "id": "5f59572b",
   "metadata": {
    "scrolled": true
   },
   "outputs": [
    {
     "name": "stdout",
     "output_type": "stream",
     "text": [
      "<class 'pandas.core.frame.DataFrame'>\n",
      "RangeIndex: 18510 entries, 0 to 18509\n",
      "Data columns (total 20 columns):\n",
      " #   Column            Non-Null Count  Dtype  \n",
      "---  ------            --------------  -----  \n",
      " 0   ID                18510 non-null  int64  \n",
      " 1   ADDRESS           18510 non-null  object \n",
      " 2   SUBURB            18510 non-null  object \n",
      " 3   PRICE             18510 non-null  int64  \n",
      " 4   BEDROOMS          18510 non-null  int64  \n",
      " 5   BATHROOMS         18510 non-null  int64  \n",
      " 6   GARAGE            17143 non-null  float64\n",
      " 7   LAND_AREA         18510 non-null  int64  \n",
      " 8   FLOOR_AREA        18510 non-null  int64  \n",
      " 9   BUILD_YEAR        16782 non-null  float64\n",
      " 10  CBD_DIST          18510 non-null  int64  \n",
      " 11  NEAREST_STN       18510 non-null  object \n",
      " 12  NEAREST_STN_DIST  18510 non-null  int64  \n",
      " 13  DATE_SOLD         18510 non-null  object \n",
      " 14  POSTCODE          18510 non-null  int64  \n",
      " 15  LATITUDE          18510 non-null  float64\n",
      " 16  LONGITUDE         18510 non-null  float64\n",
      " 17  NEAREST_SCH       18510 non-null  object \n",
      " 18  NEAREST_SCH_DIST  18510 non-null  float64\n",
      " 19  NEAREST_SCH_RANK  12510 non-null  float64\n",
      "dtypes: float64(6), int64(9), object(5)\n",
      "memory usage: 2.8+ MB\n",
      "<class 'pandas.core.frame.DataFrame'>\n",
      "RangeIndex: 15146 entries, 0 to 15145\n",
      "Data columns (total 19 columns):\n",
      " #   Column            Non-Null Count  Dtype  \n",
      "---  ------            --------------  -----  \n",
      " 0   ID                15146 non-null  int64  \n",
      " 1   ADDRESS           15146 non-null  object \n",
      " 2   SUBURB            15146 non-null  object \n",
      " 3   BEDROOMS          15146 non-null  int64  \n",
      " 4   BATHROOMS         15146 non-null  int64  \n",
      " 5   GARAGE            14035 non-null  float64\n",
      " 6   LAND_AREA         15146 non-null  int64  \n",
      " 7   FLOOR_AREA        15146 non-null  int64  \n",
      " 8   BUILD_YEAR        13719 non-null  float64\n",
      " 9   CBD_DIST          15146 non-null  int64  \n",
      " 10  NEAREST_STN       15146 non-null  object \n",
      " 11  NEAREST_STN_DIST  15146 non-null  int64  \n",
      " 12  DATE_SOLD         15146 non-null  object \n",
      " 13  POSTCODE          15146 non-null  int64  \n",
      " 14  LATITUDE          15146 non-null  float64\n",
      " 15  LONGITUDE         15146 non-null  float64\n",
      " 16  NEAREST_SCH       15146 non-null  object \n",
      " 17  NEAREST_SCH_DIST  15146 non-null  float64\n",
      " 18  NEAREST_SCH_RANK  10194 non-null  float64\n",
      "dtypes: float64(6), int64(8), object(5)\n",
      "memory usage: 2.2+ MB\n"
     ]
    },
    {
     "data": {
      "text/plain": [
       "(None, None)"
      ]
     },
     "execution_count": 10,
     "metadata": {},
     "output_type": "execute_result"
    }
   ],
   "source": [
    "train1.info(), test.info()"
   ]
  },
  {
   "cell_type": "markdown",
   "id": "27f1c932",
   "metadata": {},
   "source": [
    "- 결측치 있는 칼럼 : GARAGE, BUILD_YEAR, NEAREST_SCH_RANK"
   ]
  },
  {
   "cell_type": "code",
   "execution_count": 12,
   "id": "17f37a67",
   "metadata": {
    "scrolled": true
   },
   "outputs": [
    {
     "ename": "KeyboardInterrupt",
     "evalue": "",
     "output_type": "error",
     "traceback": [
      "\u001b[1;31m---------------------------------------------------------------------------\u001b[0m",
      "\u001b[1;31mKeyboardInterrupt\u001b[0m                         Traceback (most recent call last)",
      "Input \u001b[1;32mIn [12]\u001b[0m, in \u001b[0;36m<cell line: 7>\u001b[1;34m()\u001b[0m\n\u001b[0;32m      7\u001b[0m \u001b[38;5;28;01mfor\u001b[39;00m col \u001b[38;5;129;01min\u001b[39;00m class_col :\n\u001b[0;32m      8\u001b[0m     plt\u001b[38;5;241m.\u001b[39mfigure(figsize\u001b[38;5;241m=\u001b[39m(\u001b[38;5;241m15\u001b[39m,\u001b[38;5;241m5\u001b[39m))\n\u001b[1;32m----> 9\u001b[0m     \u001b[43msns\u001b[49m\u001b[38;5;241;43m.\u001b[39;49m\u001b[43mcountplot\u001b[49m\u001b[43m(\u001b[49m\n\u001b[0;32m     10\u001b[0m \u001b[43m        \u001b[49m\u001b[43mdata\u001b[49m\u001b[43m \u001b[49m\u001b[38;5;241;43m=\u001b[39;49m\u001b[43m \u001b[49m\u001b[43mtrain1\u001b[49m\u001b[43m,\u001b[49m\n\u001b[0;32m     11\u001b[0m \u001b[43m        \u001b[49m\u001b[43mx\u001b[49m\u001b[43m \u001b[49m\u001b[38;5;241;43m=\u001b[39;49m\u001b[43m \u001b[49m\u001b[43mcol\u001b[49m\u001b[43m,\u001b[49m\n\u001b[0;32m     12\u001b[0m \u001b[43m        \u001b[49m\u001b[43mhue\u001b[49m\u001b[43m \u001b[49m\u001b[38;5;241;43m=\u001b[39;49m\u001b[43m \u001b[49m\u001b[38;5;124;43m'\u001b[39;49m\u001b[38;5;124;43mPRICE\u001b[39;49m\u001b[38;5;124;43m'\u001b[39;49m\n\u001b[0;32m     13\u001b[0m \u001b[43m    \u001b[49m\u001b[43m)\u001b[49m\n\u001b[0;32m     14\u001b[0m     plt\u001b[38;5;241m.\u001b[39mtitle(col)\n\u001b[0;32m     15\u001b[0m     plt\u001b[38;5;241m.\u001b[39mshow()\n",
      "File \u001b[1;32m~\\Anaconda3\\lib\\site-packages\\seaborn\\_decorators.py:46\u001b[0m, in \u001b[0;36m_deprecate_positional_args.<locals>.inner_f\u001b[1;34m(*args, **kwargs)\u001b[0m\n\u001b[0;32m     36\u001b[0m     warnings\u001b[38;5;241m.\u001b[39mwarn(\n\u001b[0;32m     37\u001b[0m         \u001b[38;5;124m\"\u001b[39m\u001b[38;5;124mPass the following variable\u001b[39m\u001b[38;5;132;01m{}\u001b[39;00m\u001b[38;5;124m as \u001b[39m\u001b[38;5;132;01m{}\u001b[39;00m\u001b[38;5;124mkeyword arg\u001b[39m\u001b[38;5;132;01m{}\u001b[39;00m\u001b[38;5;124m: \u001b[39m\u001b[38;5;132;01m{}\u001b[39;00m\u001b[38;5;124m. \u001b[39m\u001b[38;5;124m\"\u001b[39m\n\u001b[0;32m     38\u001b[0m         \u001b[38;5;124m\"\u001b[39m\u001b[38;5;124mFrom version 0.12, the only valid positional argument \u001b[39m\u001b[38;5;124m\"\u001b[39m\n\u001b[1;32m   (...)\u001b[0m\n\u001b[0;32m     43\u001b[0m         \u001b[38;5;167;01mFutureWarning\u001b[39;00m\n\u001b[0;32m     44\u001b[0m     )\n\u001b[0;32m     45\u001b[0m kwargs\u001b[38;5;241m.\u001b[39mupdate({k: arg \u001b[38;5;28;01mfor\u001b[39;00m k, arg \u001b[38;5;129;01min\u001b[39;00m \u001b[38;5;28mzip\u001b[39m(sig\u001b[38;5;241m.\u001b[39mparameters, args)})\n\u001b[1;32m---> 46\u001b[0m \u001b[38;5;28;01mreturn\u001b[39;00m f(\u001b[38;5;241m*\u001b[39m\u001b[38;5;241m*\u001b[39mkwargs)\n",
      "File \u001b[1;32m~\\Anaconda3\\lib\\site-packages\\seaborn\\categorical.py:3598\u001b[0m, in \u001b[0;36mcountplot\u001b[1;34m(x, y, hue, data, order, hue_order, orient, color, palette, saturation, dodge, ax, **kwargs)\u001b[0m\n\u001b[0;32m   3595\u001b[0m \u001b[38;5;28;01melif\u001b[39;00m x \u001b[38;5;129;01mis\u001b[39;00m \u001b[38;5;129;01mnot\u001b[39;00m \u001b[38;5;28;01mNone\u001b[39;00m \u001b[38;5;129;01mand\u001b[39;00m y \u001b[38;5;129;01mis\u001b[39;00m \u001b[38;5;129;01mnot\u001b[39;00m \u001b[38;5;28;01mNone\u001b[39;00m:\n\u001b[0;32m   3596\u001b[0m     \u001b[38;5;28;01mraise\u001b[39;00m \u001b[38;5;167;01mValueError\u001b[39;00m(\u001b[38;5;124m\"\u001b[39m\u001b[38;5;124mCannot pass values for both `x` and `y`\u001b[39m\u001b[38;5;124m\"\u001b[39m)\n\u001b[1;32m-> 3598\u001b[0m plotter \u001b[38;5;241m=\u001b[39m \u001b[43m_CountPlotter\u001b[49m\u001b[43m(\u001b[49m\n\u001b[0;32m   3599\u001b[0m \u001b[43m    \u001b[49m\u001b[43mx\u001b[49m\u001b[43m,\u001b[49m\u001b[43m \u001b[49m\u001b[43my\u001b[49m\u001b[43m,\u001b[49m\u001b[43m \u001b[49m\u001b[43mhue\u001b[49m\u001b[43m,\u001b[49m\u001b[43m \u001b[49m\u001b[43mdata\u001b[49m\u001b[43m,\u001b[49m\u001b[43m \u001b[49m\u001b[43morder\u001b[49m\u001b[43m,\u001b[49m\u001b[43m \u001b[49m\u001b[43mhue_order\u001b[49m\u001b[43m,\u001b[49m\n\u001b[0;32m   3600\u001b[0m \u001b[43m    \u001b[49m\u001b[43mestimator\u001b[49m\u001b[43m,\u001b[49m\u001b[43m \u001b[49m\u001b[43mci\u001b[49m\u001b[43m,\u001b[49m\u001b[43m \u001b[49m\u001b[43mn_boot\u001b[49m\u001b[43m,\u001b[49m\u001b[43m \u001b[49m\u001b[43munits\u001b[49m\u001b[43m,\u001b[49m\u001b[43m \u001b[49m\u001b[43mseed\u001b[49m\u001b[43m,\u001b[49m\n\u001b[0;32m   3601\u001b[0m \u001b[43m    \u001b[49m\u001b[43morient\u001b[49m\u001b[43m,\u001b[49m\u001b[43m \u001b[49m\u001b[43mcolor\u001b[49m\u001b[43m,\u001b[49m\u001b[43m \u001b[49m\u001b[43mpalette\u001b[49m\u001b[43m,\u001b[49m\u001b[43m \u001b[49m\u001b[43msaturation\u001b[49m\u001b[43m,\u001b[49m\n\u001b[0;32m   3602\u001b[0m \u001b[43m    \u001b[49m\u001b[43merrcolor\u001b[49m\u001b[43m,\u001b[49m\u001b[43m \u001b[49m\u001b[43merrwidth\u001b[49m\u001b[43m,\u001b[49m\u001b[43m \u001b[49m\u001b[43mcapsize\u001b[49m\u001b[43m,\u001b[49m\u001b[43m \u001b[49m\u001b[43mdodge\u001b[49m\n\u001b[0;32m   3603\u001b[0m \u001b[43m\u001b[49m\u001b[43m)\u001b[49m\n\u001b[0;32m   3605\u001b[0m plotter\u001b[38;5;241m.\u001b[39mvalue_label \u001b[38;5;241m=\u001b[39m \u001b[38;5;124m\"\u001b[39m\u001b[38;5;124mcount\u001b[39m\u001b[38;5;124m\"\u001b[39m\n\u001b[0;32m   3607\u001b[0m \u001b[38;5;28;01mif\u001b[39;00m ax \u001b[38;5;129;01mis\u001b[39;00m \u001b[38;5;28;01mNone\u001b[39;00m:\n",
      "File \u001b[1;32m~\\Anaconda3\\lib\\site-packages\\seaborn\\categorical.py:1587\u001b[0m, in \u001b[0;36m_BarPlotter.__init__\u001b[1;34m(self, x, y, hue, data, order, hue_order, estimator, ci, n_boot, units, seed, orient, color, palette, saturation, errcolor, errwidth, capsize, dodge)\u001b[0m\n\u001b[0;32m   1584\u001b[0m \u001b[38;5;28mself\u001b[39m\u001b[38;5;241m.\u001b[39mestablish_variables(x, y, hue, data, orient,\n\u001b[0;32m   1585\u001b[0m                          order, hue_order, units)\n\u001b[0;32m   1586\u001b[0m \u001b[38;5;28mself\u001b[39m\u001b[38;5;241m.\u001b[39mestablish_colors(color, palette, saturation)\n\u001b[1;32m-> 1587\u001b[0m \u001b[38;5;28;43mself\u001b[39;49m\u001b[38;5;241;43m.\u001b[39;49m\u001b[43mestimate_statistic\u001b[49m\u001b[43m(\u001b[49m\u001b[43mestimator\u001b[49m\u001b[43m,\u001b[49m\u001b[43m \u001b[49m\u001b[43mci\u001b[49m\u001b[43m,\u001b[49m\u001b[43m \u001b[49m\u001b[43mn_boot\u001b[49m\u001b[43m,\u001b[49m\u001b[43m \u001b[49m\u001b[43mseed\u001b[49m\u001b[43m)\u001b[49m\n\u001b[0;32m   1589\u001b[0m \u001b[38;5;28mself\u001b[39m\u001b[38;5;241m.\u001b[39mdodge \u001b[38;5;241m=\u001b[39m dodge\n\u001b[0;32m   1591\u001b[0m \u001b[38;5;28mself\u001b[39m\u001b[38;5;241m.\u001b[39merrcolor \u001b[38;5;241m=\u001b[39m errcolor\n",
      "File \u001b[1;32m~\\Anaconda3\\lib\\site-packages\\seaborn\\categorical.py:1506\u001b[0m, in \u001b[0;36m_CategoricalStatPlotter.estimate_statistic\u001b[1;34m(self, estimator, ci, n_boot, seed)\u001b[0m\n\u001b[0;32m   1504\u001b[0m hue_mask \u001b[38;5;241m=\u001b[39m \u001b[38;5;28mself\u001b[39m\u001b[38;5;241m.\u001b[39mplot_hues[i] \u001b[38;5;241m==\u001b[39m hue_level\n\u001b[0;32m   1505\u001b[0m \u001b[38;5;28;01mif\u001b[39;00m \u001b[38;5;28mself\u001b[39m\u001b[38;5;241m.\u001b[39mplot_units \u001b[38;5;129;01mis\u001b[39;00m \u001b[38;5;28;01mNone\u001b[39;00m:\n\u001b[1;32m-> 1506\u001b[0m     stat_data \u001b[38;5;241m=\u001b[39m \u001b[43mremove_na\u001b[49m\u001b[43m(\u001b[49m\u001b[43mgroup_data\u001b[49m\u001b[43m[\u001b[49m\u001b[43mhue_mask\u001b[49m\u001b[43m]\u001b[49m\u001b[43m)\u001b[49m\n\u001b[0;32m   1507\u001b[0m     unit_data \u001b[38;5;241m=\u001b[39m \u001b[38;5;28;01mNone\u001b[39;00m\n\u001b[0;32m   1508\u001b[0m \u001b[38;5;28;01melse\u001b[39;00m:\n",
      "File \u001b[1;32m~\\Anaconda3\\lib\\site-packages\\seaborn\\utils.py:209\u001b[0m, in \u001b[0;36mremove_na\u001b[1;34m(vector)\u001b[0m\n\u001b[0;32m    195\u001b[0m \u001b[38;5;28;01mdef\u001b[39;00m \u001b[38;5;21mremove_na\u001b[39m(vector):\n\u001b[0;32m    196\u001b[0m     \u001b[38;5;124;03m\"\"\"Helper method for removing null values from data vectors.\u001b[39;00m\n\u001b[0;32m    197\u001b[0m \n\u001b[0;32m    198\u001b[0m \u001b[38;5;124;03m    Parameters\u001b[39;00m\n\u001b[1;32m   (...)\u001b[0m\n\u001b[0;32m    207\u001b[0m \n\u001b[0;32m    208\u001b[0m \u001b[38;5;124;03m    \"\"\"\u001b[39;00m\n\u001b[1;32m--> 209\u001b[0m     \u001b[38;5;28;01mreturn\u001b[39;00m \u001b[43mvector\u001b[49m\u001b[43m[\u001b[49m\u001b[43mpd\u001b[49m\u001b[38;5;241;43m.\u001b[39;49m\u001b[43mnotnull\u001b[49m\u001b[43m(\u001b[49m\u001b[43mvector\u001b[49m\u001b[43m)\u001b[49m\u001b[43m]\u001b[49m\n",
      "File \u001b[1;32m~\\Anaconda3\\lib\\site-packages\\pandas\\core\\series.py:982\u001b[0m, in \u001b[0;36mSeries.__getitem__\u001b[1;34m(self, key)\u001b[0m\n\u001b[0;32m    980\u001b[0m     key \u001b[38;5;241m=\u001b[39m check_bool_indexer(\u001b[38;5;28mself\u001b[39m\u001b[38;5;241m.\u001b[39mindex, key)\n\u001b[0;32m    981\u001b[0m     key \u001b[38;5;241m=\u001b[39m np\u001b[38;5;241m.\u001b[39masarray(key, dtype\u001b[38;5;241m=\u001b[39m\u001b[38;5;28mbool\u001b[39m)\n\u001b[1;32m--> 982\u001b[0m     \u001b[38;5;28;01mreturn\u001b[39;00m \u001b[38;5;28;43mself\u001b[39;49m\u001b[38;5;241;43m.\u001b[39;49m\u001b[43m_get_values\u001b[49m\u001b[43m(\u001b[49m\u001b[43mkey\u001b[49m\u001b[43m)\u001b[49m\n\u001b[0;32m    984\u001b[0m \u001b[38;5;28;01mreturn\u001b[39;00m \u001b[38;5;28mself\u001b[39m\u001b[38;5;241m.\u001b[39m_get_with(key)\n",
      "File \u001b[1;32m~\\Anaconda3\\lib\\site-packages\\pandas\\core\\series.py:1045\u001b[0m, in \u001b[0;36mSeries._get_values\u001b[1;34m(self, indexer)\u001b[0m\n\u001b[0;32m   1043\u001b[0m \u001b[38;5;28;01mtry\u001b[39;00m:\n\u001b[0;32m   1044\u001b[0m     new_mgr \u001b[38;5;241m=\u001b[39m \u001b[38;5;28mself\u001b[39m\u001b[38;5;241m.\u001b[39m_mgr\u001b[38;5;241m.\u001b[39mgetitem_mgr(indexer)\n\u001b[1;32m-> 1045\u001b[0m     \u001b[38;5;28;01mreturn\u001b[39;00m \u001b[38;5;28;43mself\u001b[39;49m\u001b[38;5;241;43m.\u001b[39;49m\u001b[43m_constructor\u001b[49m\u001b[43m(\u001b[49m\u001b[43mnew_mgr\u001b[49m\u001b[43m)\u001b[49m\u001b[38;5;241m.\u001b[39m__finalize__(\u001b[38;5;28mself\u001b[39m)\n\u001b[0;32m   1046\u001b[0m \u001b[38;5;28;01mexcept\u001b[39;00m \u001b[38;5;167;01mValueError\u001b[39;00m:\n\u001b[0;32m   1047\u001b[0m     \u001b[38;5;66;03m# mpl compat if we look up e.g. ser[:, np.newaxis];\u001b[39;00m\n\u001b[0;32m   1048\u001b[0m     \u001b[38;5;66;03m#  see tests.series.timeseries.test_mpl_compat_hack\u001b[39;00m\n\u001b[0;32m   1049\u001b[0m     \u001b[38;5;66;03m# the asarray is needed to avoid returning a 2D DatetimeArray\u001b[39;00m\n\u001b[0;32m   1050\u001b[0m     \u001b[38;5;28;01mreturn\u001b[39;00m np\u001b[38;5;241m.\u001b[39masarray(\u001b[38;5;28mself\u001b[39m\u001b[38;5;241m.\u001b[39m_values[indexer])\n",
      "File \u001b[1;32m~\\Anaconda3\\lib\\site-packages\\pandas\\core\\series.py:323\u001b[0m, in \u001b[0;36mSeries.__init__\u001b[1;34m(self, data, index, dtype, name, copy, fastpath)\u001b[0m\n\u001b[0;32m    318\u001b[0m rdiv: Callable[[Series, Any], Series]\n\u001b[0;32m    320\u001b[0m \u001b[38;5;66;03m# ----------------------------------------------------------------------\u001b[39;00m\n\u001b[0;32m    321\u001b[0m \u001b[38;5;66;03m# Constructors\u001b[39;00m\n\u001b[1;32m--> 323\u001b[0m \u001b[38;5;28;01mdef\u001b[39;00m \u001b[38;5;21m__init__\u001b[39m(\n\u001b[0;32m    324\u001b[0m     \u001b[38;5;28mself\u001b[39m,\n\u001b[0;32m    325\u001b[0m     data\u001b[38;5;241m=\u001b[39m\u001b[38;5;28;01mNone\u001b[39;00m,\n\u001b[0;32m    326\u001b[0m     index\u001b[38;5;241m=\u001b[39m\u001b[38;5;28;01mNone\u001b[39;00m,\n\u001b[0;32m    327\u001b[0m     dtype: Dtype \u001b[38;5;241m|\u001b[39m \u001b[38;5;28;01mNone\u001b[39;00m \u001b[38;5;241m=\u001b[39m \u001b[38;5;28;01mNone\u001b[39;00m,\n\u001b[0;32m    328\u001b[0m     name\u001b[38;5;241m=\u001b[39m\u001b[38;5;28;01mNone\u001b[39;00m,\n\u001b[0;32m    329\u001b[0m     copy: \u001b[38;5;28mbool\u001b[39m \u001b[38;5;241m=\u001b[39m \u001b[38;5;28;01mFalse\u001b[39;00m,\n\u001b[0;32m    330\u001b[0m     fastpath: \u001b[38;5;28mbool\u001b[39m \u001b[38;5;241m=\u001b[39m \u001b[38;5;28;01mFalse\u001b[39;00m,\n\u001b[0;32m    331\u001b[0m ):\n\u001b[0;32m    333\u001b[0m     \u001b[38;5;28;01mif\u001b[39;00m (\n\u001b[0;32m    334\u001b[0m         \u001b[38;5;28misinstance\u001b[39m(data, (SingleBlockManager, SingleArrayManager))\n\u001b[0;32m    335\u001b[0m         \u001b[38;5;129;01mand\u001b[39;00m index \u001b[38;5;129;01mis\u001b[39;00m \u001b[38;5;28;01mNone\u001b[39;00m\n\u001b[1;32m   (...)\u001b[0m\n\u001b[0;32m    338\u001b[0m     ):\n\u001b[0;32m    339\u001b[0m         \u001b[38;5;66;03m# GH#33357 called with just the SingleBlockManager\u001b[39;00m\n\u001b[0;32m    340\u001b[0m         NDFrame\u001b[38;5;241m.\u001b[39m\u001b[38;5;21m__init__\u001b[39m(\u001b[38;5;28mself\u001b[39m, data)\n",
      "\u001b[1;31mKeyboardInterrupt\u001b[0m: "
     ]
    },
    {
     "data": {
      "text/plain": [
       "<Figure size 1080x360 with 0 Axes>"
      ]
     },
     "metadata": {},
     "output_type": "display_data"
    }
   ],
   "source": [
    "## 범주형 데이터 시각화\n",
    "import matplotlib.pyplot as plt\n",
    "import seaborn as sns\n",
    "\n",
    "class_col = ['ADDRESS', 'SUBURB', 'BEDROOMS', 'BATHROOMS', 'GARAGE', 'BUILD_YEAR','NEAREST_STN', 'NEAREST_SCH']\n",
    "\n",
    "for col in class_col :\n",
    "    plt.figure(figsize=(15,5))\n",
    "    sns.countplot(\n",
    "        data = train1,\n",
    "        x = col,\n",
    "        hue = 'PRICE'\n",
    "    )\n",
    "    plt.title(col)\n",
    "    plt.show()"
   ]
  },
  {
   "cell_type": "code",
   "execution_count": null,
   "id": "b369382f",
   "metadata": {},
   "outputs": [],
   "source": [
    "# 수치형 데이터 시각화\n"
   ]
  },
  {
   "cell_type": "code",
   "execution_count": null,
   "id": "2ac59cc3",
   "metadata": {},
   "outputs": [],
   "source": []
  },
  {
   "cell_type": "code",
   "execution_count": null,
   "id": "39303ad1",
   "metadata": {},
   "outputs": [],
   "source": []
  },
  {
   "cell_type": "code",
   "execution_count": null,
   "id": "5782ec0d",
   "metadata": {},
   "outputs": [],
   "source": []
  },
  {
   "cell_type": "markdown",
   "id": "31eb0e47",
   "metadata": {},
   "source": [
    "### 결측치 채우는 방법\n",
    "- 수치형 데이터\n",
    "    - 기술 통계(평균 or 중간값)\n",
    "    - 결측치가 적은 경우 : 전체 평균이나 중간값을 대입\n",
    "    - 결측치가 많은 경우(20~30%) : 결측치가 있는 데이터의 다른 컬럼과 같은 값을 갖는(동일한 특성을 갖는) 데이터의 결측치 통계(평균, or 중간값)를 사용 (피벗 테이블을 이용할 것임)\n",
    "- 범주형 데이터\n",
    "    - 결측치가 적은 경우 : 데이터 수가 가장 많은 클래스로 할당 >> 기존 데이터가 결측치가 있는 데이터에 의해 영향을 덜 받기 때문에)\n",
    "    - 결측치가 많은 경우 : 데이터 수가 가장 많은 클래스로 할당 >> 편향이 됨 >> 기존 데이터의 개수 비율만큼 랜덤으로 할당"
   ]
  },
  {
   "cell_type": "code",
   "execution_count": null,
   "id": "2583ff84",
   "metadata": {},
   "outputs": [],
   "source": []
  },
  {
   "cell_type": "markdown",
   "id": "80257c1f",
   "metadata": {},
   "source": [
    "## 3.7 데이터 시각화 하기\n",
    "- test데이터를 활용하지 않고 train데이터를 이용해서 시각화/탐색하는게 좋다."
   ]
  },
  {
   "cell_type": "markdown",
   "id": "8264691b",
   "metadata": {},
   "source": [
    "- 범주형 데이터(Categorical Data) 시각화\n",
    "- 빈도 기반의 bar chart 많이 활용\n",
    "\n",
    "- 수치형 데이터 시각화\n",
    "    - 구간을 나눠서 종합하는 히스토그램\n",
    "    - 커널 밀도 추정 그래프\n",
    "    \n",
    "- 바이올린 플롯 그래프 시각화\n",
    "    - 박스 + KDE 그래프\n",
    "- 텍스트 데이터\n",
    "    - 비정형 데이터 >> 단어 중심 시각화\n",
    "    - wordcloud\n",
    "- 빈도 기반의 시각화 가능 : countplot"
   ]
  },
  {
   "cell_type": "markdown",
   "id": "493ca9d6",
   "metadata": {},
   "source": [
    "## 4. 특성 공학(Feature Engineering)\n",
    "- feature에서 유의미한 컬럼을 추출하거나 병합하는 행위"
   ]
  },
  {
   "cell_type": "code",
   "execution_count": null,
   "id": "6fd7197d",
   "metadata": {},
   "outputs": [],
   "source": []
  },
  {
   "cell_type": "markdown",
   "id": "ac369147",
   "metadata": {},
   "source": [
    "### 4.2 비정형 데이터 다루기(Name)\n",
    "- 틀이 없는, 형태가 정해져 있지 않음\n",
    "- 텍스트 데이터, 이미지 데이터, 음성 데이터"
   ]
  },
  {
   "cell_type": "code",
   "execution_count": null,
   "id": "71464a73",
   "metadata": {},
   "outputs": [],
   "source": []
  },
  {
   "cell_type": "markdown",
   "id": "c46954bf",
   "metadata": {},
   "source": [
    "###  사용하지 않을 칼럼 정리"
   ]
  },
  {
   "cell_type": "code",
   "execution_count": null,
   "id": "490c5254",
   "metadata": {},
   "outputs": [],
   "source": []
  },
  {
   "cell_type": "markdown",
   "id": "63a2a8f9",
   "metadata": {},
   "source": [
    "## 모델링\n",
    "- 인코딩(문자 형태의 데이터를 숫자 형태로 변환)\n",
    "    - label encoding : 순서가 있는 범주형 데이터에 사용\n",
    "    - one-hot-encoding : 순서가 없는 범주형 데이터에 사용 / pd.get_dummies(데이터)\n",
    "        - 순서가 없는 범주형 데이터 : 성별\n",
    "        - 순서가 있는 범주형 데이터 : 학점\n",
    "- 특성 선택(feature selection) : 상관계수(.corr() : 양수-비례관계, 음수-반비례관계, 0-서로 영향X, 절대값이 클수록 상관관계 큼)\n",
    "- 모델 선택 및 하이퍼파라미터 튜닝\n",
    "- 모델 학습 및 평가"
   ]
  },
  {
   "cell_type": "code",
   "execution_count": null,
   "id": "827f83d9",
   "metadata": {},
   "outputs": [],
   "source": []
  },
  {
   "cell_type": "markdown",
   "id": "8a740881",
   "metadata": {},
   "source": [
    "## 5.2 특성 선택\n",
    "- 예측 결과에 영향을 줄 특성들을 골라본다.\n",
    "- Family와 Family_cat이 비슷한 특성이기 때문에 선택해보자."
   ]
  },
  {
   "cell_type": "code",
   "execution_count": null,
   "id": "b14b27cb",
   "metadata": {},
   "outputs": [],
   "source": []
  },
  {
   "cell_type": "markdown",
   "id": "5980c57c",
   "metadata": {},
   "source": [
    "## 5.3 학습\n",
    "- KNN모델과 Decision Tree모델 활용"
   ]
  },
  {
   "cell_type": "code",
   "execution_count": null,
   "id": "982719e9",
   "metadata": {},
   "outputs": [],
   "source": []
  },
  {
   "cell_type": "markdown",
   "id": "d6715c36",
   "metadata": {},
   "source": [
    "## 데이터 스케일링(Data Scaling)\n",
    "- 특성들의 범위를 정규화 해주는 작업\n",
    "- 특성마다 다른 범위를 가지는 경우, 머신러닝 모델들이 제대로 학습되지 않을 가능성이 있다.\n",
    "    - KNN, SVM, Neural network(신경망) 모델, Clustering 모델 등 (데이터 스케일링의 영향을 많이 받는 모델)\n",
    "    - 시력과 키를 함께 학습시킬 경우, 키의 범위가 크기 때문에 거리 값을 기반으로 학습할 때 영향을 많이 준다.\n",
    "    - 시력 0.5 ~ 2.0(폭 1.5) / 키 150 ~ 190(폭 40) >> 정규화가 필요\n",
    "    \n",
    "#### 장점\n",
    "- 특성들을 비교 분석하기 쉽게 만들어 준다.\n",
    "- Linear Model, Neural network Model 등에서 학습의 안정성과 속도를 개선시킨다.\n",
    "- 하지만 특성에 따라 원래 범위를 유지하는 것이 성능에 더 좋을 때에는 스케일링을 해 주지 않아도 된다.\n",
    "\n",
    "\n",
    "### 종류\n",
    "#### StandardScaler\n",
    "- 평균과 표준편차를 이용한 방법\n",
    "- 평균은 극단적인 값(이상치)들의 영향을 많이 받음\n",
    "#### MinMaxScaler\n",
    "- 최대, 최솟값을 이용한 방법 (공식, 교재 122쪽 중간 참고)\n",
    "- 모든 데이터 값이 0 ~ 1 사이의 값으로 조정됨\n",
    "#### RobustScaler\n",
    "- 사분위 수를 이용한 스케일러\n",
    "- 데이터에 이상치가 많을 때 사용하면 좋은 스케일러\n",
    "#### Normalizer\n",
    "- 데이터의 크기는 고려하지 않고\n",
    "- 데이터의 방향을 중요시할 때 사용하는 스케일러\n",
    "- 추천 알고리즘에 많이 사용\n",
    "    - 예를 들어 음식 추천 알고리즘 :\n",
    "    - 나와 근접한 사람은 누가 있을까? 그 사람들이 좋아하는 음식을 추천\n",
    "    - 1번과 3번보다는 1번과 2번을 비교해 보면 거리가 1번과 2번이 더 멀기 때문에 컴퓨터가 3번을 추천해버리는 문제가 발생!!\n",
    "- 원점으로부터의 방향만 비교하면 비슷한 취향으로 추천 가능\n",
    "- 원처럼 동그란 데이터를 갖게 됨\n",
    "\n",
    "### 주의점\n",
    "- 훈련 세트와 테스트 세트에 같은 변환을 적용해야 한다.\n",
    "- 예를 들어 StandardScaler의 경우 훈련 세트의 평균과 표준편차를 이용해 훈련세트를 변환하고 테스트 세트의 평균과 표준편차를 이용해 테스트 세트를 변환하면 잘못된 결과가 나온다.\n",
    "- 훈련 데이터를 쓰던지 테스트 데이터를 쓰던지 모두 훈련 데이터를 기준으로 스케일링을 해야한다!"
   ]
  },
  {
   "cell_type": "code",
   "execution_count": null,
   "id": "cd52f25f",
   "metadata": {},
   "outputs": [],
   "source": []
  },
  {
   "cell_type": "markdown",
   "id": "ddf86520",
   "metadata": {},
   "source": [
    "### 5.4 하이퍼 파라미터 튜닝\n",
    "- KNN모델과 DecisionTree 모델을 최적화 해보자.\n",
    "- KNN : 이웃 숫자\n",
    "- Tree : 나무의 깊이, 리프노드의 갯수, 한 리프노드에 들어갈 샘플 수 등"
   ]
  },
  {
   "cell_type": "code",
   "execution_count": null,
   "id": "62918651",
   "metadata": {},
   "outputs": [],
   "source": []
  },
  {
   "cell_type": "markdown",
   "id": "d18dc6dc",
   "metadata": {},
   "source": [
    "### 모델 평가\n",
    "- KNN의 이웃 수 : 7결정\n",
    "- DecisionTree의 최대 깊이 : 4결정"
   ]
  },
  {
   "cell_type": "code",
   "execution_count": null,
   "id": "bd4f90a4",
   "metadata": {},
   "outputs": [],
   "source": []
  },
  {
   "cell_type": "markdown",
   "id": "e875df06",
   "metadata": {},
   "source": [
    "# 성능 개선을 위해 고려해 볼 사항\n",
    "1. 특성 선택\n",
    "2. 데이터 확보\n",
    "3. 전처리 작업 변경(결측치 처리 방법, 특성 공학, 스케일링 등)\n",
    "4. 모델 변경 - 앙상블 : 모델을 여러개 엮어서 쓰는 것"
   ]
  },
  {
   "cell_type": "code",
   "execution_count": null,
   "id": "f2f4cfb0",
   "metadata": {},
   "outputs": [],
   "source": []
  }
 ],
 "metadata": {
  "kernelspec": {
   "display_name": "Python 3 (ipykernel)",
   "language": "python",
   "name": "python3"
  },
  "language_info": {
   "codemirror_mode": {
    "name": "ipython",
    "version": 3
   },
   "file_extension": ".py",
   "mimetype": "text/x-python",
   "name": "python",
   "nbconvert_exporter": "python",
   "pygments_lexer": "ipython3",
   "version": "3.9.12"
  },
  "toc": {
   "base_numbering": 1,
   "nav_menu": {},
   "number_sections": false,
   "sideBar": true,
   "skip_h1_title": false,
   "title_cell": "Table of Contents",
   "title_sidebar": "Contents",
   "toc_cell": false,
   "toc_position": {
    "height": "calc(100% - 180px)",
    "left": "10px",
    "top": "150px",
    "width": "341.333px"
   },
   "toc_section_display": true,
   "toc_window_display": false
  }
 },
 "nbformat": 4,
 "nbformat_minor": 5
}
