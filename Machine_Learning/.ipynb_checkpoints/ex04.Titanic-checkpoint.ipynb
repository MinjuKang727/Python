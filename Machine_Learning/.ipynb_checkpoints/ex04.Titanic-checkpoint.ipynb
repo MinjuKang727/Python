{
 "cells": [
  {
   "cell_type": "markdown",
   "id": "e26e7c0a",
   "metadata": {},
   "source": [
    "# 1. 문제 정의\n",
    "- 데이터 전처리 및 시각화 방법에 대한 학습"
   ]
  },
  {
   "cell_type": "markdown",
   "id": "e3fc4f7f",
   "metadata": {},
   "source": [
    "# 2. 데이터 수집"
   ]
  },
  {
   "cell_type": "code",
   "execution_count": 1,
   "id": "23e479bd",
   "metadata": {},
   "outputs": [],
   "source": [
    "import pandas as pd\n",
    "\n",
    "# index_col : 인덱스 칼럼을 설정\n",
    "train = pd.read_csv('data/titanic_train.csv', index_col = 'PassengerId')\n",
    "test = pd.read_csv('data/titanic_test.csv', index_col = 'PassengerId')"
   ]
  },
  {
   "cell_type": "markdown",
   "id": "fc11086e",
   "metadata": {},
   "source": [
    "# 3. 탐색적 데이터 분석 및 전처리\n",
    "- 데이터를 이해하자!\n",
    "- 결측치, 이상치, 오류가 있는지 확인\n",
    "    - 결측치 : 컬럼의 값이 없는 데이터\n",
    "    - 이상치 : 다른 값들과 차이가 큰 값\n",
    "    - 오류치 >> 이상치 >> 결측치 순으로 데이터 전처리하기!\n",
    "- 기술 통계\n",
    "- 상관 관계\n",
    "- 시각화\n",
    "\n",
    "### 데이터 전처리 방법\n",
    "- 통합(Grouping, 범주형 데이터의 클래스가 너무 많을 시, 사용), \n",
    "- 인코딩, \n",
    "- 정규화, \n",
    "- 라벨 인코딩 등을 통해 데이터 전처리"
   ]
  },
  {
   "cell_type": "code",
   "execution_count": 2,
   "id": "9d371161",
   "metadata": {},
   "outputs": [
    {
     "name": "stdout",
     "output_type": "stream",
     "text": [
      "(891, 11)\n",
      "(418, 10)\n"
     ]
    }
   ],
   "source": [
    "print(train.shape)\n",
    "print(test.shape)"
   ]
  },
  {
   "cell_type": "markdown",
   "id": "ad6868fd",
   "metadata": {},
   "source": [
    "- 분석 feature : Pclass, Age, Name, SibSp, Parch, Fare, Ticket, Cabin, Embarked\n",
    "- 예측 target label : Survived\n",
    "- feature\n",
    "\n",
    "<table style=\"border:none; align: ceter; width:700px;\">\n",
    "  <tr><th>feature<th style=\"width:200px;\">의미<th style=\"width:300px;\">설명<th> 타입\n",
    "  <tr><td>Survivied<td>생존여부<td>target 라벨 (0 : 사망, 1 : 생존)<td>integer\n",
    "  <tr><td>Pclass<td>티켓의 클래스<td>1 = 1등석, 2 = 2등석, 3 = 3등석<td>integer\n",
    "  <tr><td>Name<td>이름<td>호칭과 이름으로 구성<td>string\n",
    "  <tr><td>Sex<td>성별<td>male, female로 구분<td>string\n",
    "  <tr><td>Age<td>나이<td>0-80세<td>integer\n",
    "  <tr><td>SibSp<td>함께 탑승한 형제와 배우자의 수<td><td>integer\n",
    "  <tr><td>Parch<td>함께 탑승한 부모, 아이의 수<td><td>integer\n",
    "  <tr><td>Ticket<td>티켓 번호<td>alphabat + integer<td>string\n",
    "  <tr><td>Fare<td>탑승료<td><td>float\n",
    "  <tr><td>Cabin<td>객실 번호<td>alphabat + integer<td>string\n",
    "  <tr><td>Embarked<td>탑승 항구<td>C = Cherbourg, Q = Queenstown, S = Southampton<td>string\n",
    "</table>"
   ]
  },
  {
   "cell_type": "markdown",
   "id": "927549a2",
   "metadata": {},
   "source": [
    "## 3.1 결측치 확인\n",
    "- .info(), .describe(), .isnull()과 sum()함수로 결측치 확인"
   ]
  },
  {
   "cell_type": "code",
   "execution_count": 3,
   "id": "8805de6e",
   "metadata": {},
   "outputs": [
    {
     "name": "stdout",
     "output_type": "stream",
     "text": [
      "<class 'pandas.core.frame.DataFrame'>\n",
      "Int64Index: 891 entries, 1 to 891\n",
      "Data columns (total 11 columns):\n",
      " #   Column    Non-Null Count  Dtype  \n",
      "---  ------    --------------  -----  \n",
      " 0   Survived  891 non-null    int64  \n",
      " 1   Pclass    891 non-null    int64  \n",
      " 2   Name      891 non-null    object \n",
      " 3   Sex       891 non-null    object \n",
      " 4   Age       714 non-null    float64\n",
      " 5   SibSp     891 non-null    int64  \n",
      " 6   Parch     891 non-null    int64  \n",
      " 7   Ticket    891 non-null    object \n",
      " 8   Fare      891 non-null    float64\n",
      " 9   Cabin     204 non-null    object \n",
      " 10  Embarked  889 non-null    object \n",
      "dtypes: float64(2), int64(4), object(5)\n",
      "memory usage: 83.5+ KB\n",
      "None\n"
     ]
    }
   ],
   "source": [
    "# 훈련 데이터의 결측치\n",
    "print(train.info())\n",
    "\n",
    "# Age, Cabin, Embarked에 결측치가 존재"
   ]
  },
  {
   "cell_type": "code",
   "execution_count": 4,
   "id": "b8b57b17",
   "metadata": {},
   "outputs": [
    {
     "name": "stdout",
     "output_type": "stream",
     "text": [
      "<class 'pandas.core.frame.DataFrame'>\n",
      "Int64Index: 418 entries, 892 to 1309\n",
      "Data columns (total 10 columns):\n",
      " #   Column    Non-Null Count  Dtype  \n",
      "---  ------    --------------  -----  \n",
      " 0   Pclass    418 non-null    int64  \n",
      " 1   Name      418 non-null    object \n",
      " 2   Sex       418 non-null    object \n",
      " 3   Age       332 non-null    float64\n",
      " 4   SibSp     418 non-null    int64  \n",
      " 5   Parch     418 non-null    int64  \n",
      " 6   Ticket    418 non-null    object \n",
      " 7   Fare      417 non-null    float64\n",
      " 8   Cabin     91 non-null     object \n",
      " 9   Embarked  418 non-null    object \n",
      "dtypes: float64(2), int64(3), object(5)\n",
      "memory usage: 35.9+ KB\n",
      "None\n"
     ]
    }
   ],
   "source": [
    "# 테스트 데이터의 결측치\n",
    "print(test.info())\n",
    "\n",
    "# Age, Fare, Cabin에 결측치가 존재\n",
    "# 한공간에 의자에 앉아 가는 사람들(입석)은 Cabin 값 없을 수 있음"
   ]
  },
  {
   "cell_type": "markdown",
   "id": "d56834e4",
   "metadata": {},
   "source": [
    "# 결측치 채우는 방법\n",
    "- 수치형 데이터\n",
    "    - 기술 통계(평균 or 중간값)\n",
    "    - 결측치가 적은 경우 : 전체 평균이나 중간값을 대입\n",
    "    - 결측치가 많은 경우(20~30%) : 결측치가 있는 데이터의 다른 컬럼과 같은 값을 갖는(동일한 특성을 갖는) 데이터의 결측치 통계(평균, or 중간값)를 사용 (피벗 테이블을 이용할 것임)\n",
    "    -\n",
    "- 범주형 데이터\n",
    "    - 결측치가 적은 경우 : 데이터 수가 가장 많은 클래스로 할당 >> 기존 데이터가 결측치가 있는 데이터에 의해 영향을 덜 받기 때문에)\n",
    "    - 결측치가 많은 경우 : 데이터 수가 가장 많은 클래스로 할당 >> 편향이 됨 >> 기존 데이터의 개수 비율만큼 랜덤으로 할당"
   ]
  },
  {
   "cell_type": "code",
   "execution_count": 5,
   "id": "82df1ca8",
   "metadata": {},
   "outputs": [
    {
     "data": {
      "text/plain": [
       "Survived      0\n",
       "Pclass        0\n",
       "Name          0\n",
       "Sex           0\n",
       "Age         177\n",
       "SibSp         0\n",
       "Parch         0\n",
       "Ticket        0\n",
       "Fare          0\n",
       "Cabin       687\n",
       "Embarked      2\n",
       "dtype: int64"
      ]
     },
     "execution_count": 5,
     "metadata": {},
     "output_type": "execute_result"
    }
   ],
   "source": [
    "# 결측치 개수 확인\n",
    "train.isnull().sum()"
   ]
  },
  {
   "cell_type": "code",
   "execution_count": 6,
   "id": "7bedcfdc",
   "metadata": {},
   "outputs": [
    {
     "data": {
      "text/plain": [
       "Pclass        0\n",
       "Name          0\n",
       "Sex           0\n",
       "Age          86\n",
       "SibSp         0\n",
       "Parch         0\n",
       "Ticket        0\n",
       "Fare          1\n",
       "Cabin       327\n",
       "Embarked      0\n",
       "dtype: int64"
      ]
     },
     "execution_count": 6,
     "metadata": {},
     "output_type": "execute_result"
    }
   ],
   "source": [
    "test.isnull().sum()"
   ]
  },
  {
   "cell_type": "code",
   "execution_count": 7,
   "id": "411b67a7",
   "metadata": {},
   "outputs": [
    {
     "name": "stdout",
     "output_type": "stream",
     "text": [
      "         Survived      Pclass         Age       SibSp       Parch        Fare\n",
      "count  891.000000  891.000000  714.000000  891.000000  891.000000  891.000000\n",
      "mean     0.383838    2.308642   29.699118    0.523008    0.381594   32.204208\n",
      "std      0.486592    0.836071   14.526497    1.102743    0.806057   49.693429\n",
      "min      0.000000    1.000000    0.420000    0.000000    0.000000    0.000000\n",
      "25%      0.000000    2.000000   20.125000    0.000000    0.000000    7.910400\n",
      "50%      0.000000    3.000000   28.000000    0.000000    0.000000   14.454200\n",
      "75%      1.000000    3.000000   38.000000    1.000000    0.000000   31.000000\n",
      "max      1.000000    3.000000   80.000000    8.000000    6.000000  512.329200\n"
     ]
    }
   ],
   "source": [
    "print(train.describe())"
   ]
  },
  {
   "cell_type": "code",
   "execution_count": 8,
   "id": "7724e4b9",
   "metadata": {},
   "outputs": [
    {
     "name": "stdout",
     "output_type": "stream",
     "text": [
      "           Pclass         Age       SibSp       Parch        Fare\n",
      "count  418.000000  332.000000  418.000000  418.000000  417.000000\n",
      "mean     2.265550   30.272590    0.447368    0.392344   35.627188\n",
      "std      0.841838   14.181209    0.896760    0.981429   55.907576\n",
      "min      1.000000    0.170000    0.000000    0.000000    0.000000\n",
      "25%      1.000000   21.000000    0.000000    0.000000    7.895800\n",
      "50%      3.000000   27.000000    0.000000    0.000000   14.454200\n",
      "75%      3.000000   39.000000    1.000000    0.000000   31.500000\n",
      "max      3.000000   76.000000    8.000000    9.000000  512.329200\n"
     ]
    }
   ],
   "source": [
    "print(test.describe())"
   ]
  },
  {
   "cell_type": "code",
   "execution_count": 9,
   "id": "34c15f7d",
   "metadata": {
    "scrolled": false
   },
   "outputs": [
    {
     "data": {
      "text/html": [
       "<div>\n",
       "<style scoped>\n",
       "    .dataframe tbody tr th:only-of-type {\n",
       "        vertical-align: middle;\n",
       "    }\n",
       "\n",
       "    .dataframe tbody tr th {\n",
       "        vertical-align: top;\n",
       "    }\n",
       "\n",
       "    .dataframe thead th {\n",
       "        text-align: right;\n",
       "    }\n",
       "</style>\n",
       "<table border=\"1\" class=\"dataframe\">\n",
       "  <thead>\n",
       "    <tr style=\"text-align: right;\">\n",
       "      <th></th>\n",
       "      <th>Survived</th>\n",
       "      <th>Age</th>\n",
       "      <th>SibSp</th>\n",
       "      <th>Parch</th>\n",
       "      <th>Fare</th>\n",
       "    </tr>\n",
       "    <tr>\n",
       "      <th>Pclass</th>\n",
       "      <th></th>\n",
       "      <th></th>\n",
       "      <th></th>\n",
       "      <th></th>\n",
       "      <th></th>\n",
       "    </tr>\n",
       "  </thead>\n",
       "  <tbody>\n",
       "    <tr>\n",
       "      <th>1</th>\n",
       "      <td>0.629630</td>\n",
       "      <td>38.233441</td>\n",
       "      <td>0.416667</td>\n",
       "      <td>0.356481</td>\n",
       "      <td>84.154687</td>\n",
       "    </tr>\n",
       "    <tr>\n",
       "      <th>2</th>\n",
       "      <td>0.472826</td>\n",
       "      <td>29.877630</td>\n",
       "      <td>0.402174</td>\n",
       "      <td>0.380435</td>\n",
       "      <td>20.662183</td>\n",
       "    </tr>\n",
       "    <tr>\n",
       "      <th>3</th>\n",
       "      <td>0.242363</td>\n",
       "      <td>25.140620</td>\n",
       "      <td>0.615071</td>\n",
       "      <td>0.393075</td>\n",
       "      <td>13.675550</td>\n",
       "    </tr>\n",
       "  </tbody>\n",
       "</table>\n",
       "</div>"
      ],
      "text/plain": [
       "        Survived        Age     SibSp     Parch       Fare\n",
       "Pclass                                                    \n",
       "1       0.629630  38.233441  0.416667  0.356481  84.154687\n",
       "2       0.472826  29.877630  0.402174  0.380435  20.662183\n",
       "3       0.242363  25.140620  0.615071  0.393075  13.675550"
      ]
     },
     "execution_count": 9,
     "metadata": {},
     "output_type": "execute_result"
    }
   ],
   "source": [
    "# 등급결 (Pclass) 통계 (평균)\n",
    "# groupby() : 원하는 컬럼을 중심으로 그룹핑해주는 함수\n",
    "# Pclass 컬럼의 클래스별로 각 컬럼의 평균을 계산\n",
    "train.groupby(\"Pclass\").mean()"
   ]
  },
  {
   "cell_type": "markdown",
   "id": "6113f3f2",
   "metadata": {},
   "source": [
    "- 1등실 생존률이 높았다.\n",
    "- 나이를 보면 3등실에 나이가 적은 승객이 많았다.\n",
    "- 1등실 일수록 가족 수가 적었다.(3등실 일수록 가족 수가 많았다.)"
   ]
  },
  {
   "cell_type": "code",
   "execution_count": 10,
   "id": "993ab02a",
   "metadata": {
    "scrolled": true
   },
   "outputs": [
    {
     "name": "stdout",
     "output_type": "stream",
     "text": [
      "                       Age     SibSp     Parch       Fare\n",
      "Pclass Survived                                          \n",
      "1      0         43.695312  0.287500  0.300000  64.684007\n",
      "       1         35.368197  0.492647  0.389706  95.608029\n",
      "2      0         33.544444  0.319588  0.144330  19.412328\n",
      "       1         25.901566  0.494253  0.643678  22.055700\n",
      "3      0         26.555556  0.672043  0.384409  13.669364\n",
      "       1         20.646118  0.436975  0.420168  13.694887\n"
     ]
    }
   ],
   "source": [
    "print(train.groupby(['Pclass', 'Survived']).mean())"
   ]
  },
  {
   "cell_type": "markdown",
   "id": "765965da",
   "metadata": {},
   "source": [
    "- 3등실 승객의 사망/ 생존자의 요금은 비슷하다.\n",
    "- 1등실 승객의 사망/ 생존자의 요금은 생존자의 요금이 더 비쌌다.\n",
    "- 같은 클래스에서 나이가 어릴수록 생존이 높았다."
   ]
  },
  {
   "cell_type": "markdown",
   "id": "7a030ae0",
   "metadata": {},
   "source": [
    "## 3.2 Age 결측치 채우기\n",
    "- 결측치가 있는 데이터의 다른 칼럼의 값과 같은 데이터의 평균값을 사용해서 결측치를 채움\n",
    "- 그럼 어떤 칼럼을 참조할까요?\n",
    "    - 결측치가 있는 컬럼(Age)와 상관관계가 높은 컬럼 선택(범주형)\n",
    "- 피벗 테이블을 활용\n",
    "- apply()을 이용하여 전체 데이터에 결측치를 채움\n",
    "    - apply() : 데이터프레임의 데이터를 분리해서 원하는 처리를 수행한 후, 다시 병합하는 함수(=재구조화 함수, Reconstruct function)"
   ]
  },
  {
   "cell_type": "code",
   "execution_count": 11,
   "id": "9c6536a4",
   "metadata": {},
   "outputs": [
    {
     "name": "stdout",
     "output_type": "stream",
     "text": [
      "          Survived    Pclass       Age     SibSp     Parch      Fare\n",
      "Survived  1.000000 -0.338481 -0.077221 -0.035322  0.081629  0.257307\n",
      "Pclass   -0.338481  1.000000 -0.369226  0.083081  0.018443 -0.549500\n",
      "Age      -0.077221 -0.369226  1.000000 -0.308247 -0.189119  0.096067\n",
      "SibSp    -0.035322  0.083081 -0.308247  1.000000  0.414838  0.159651\n",
      "Parch     0.081629  0.018443 -0.189119  0.414838  1.000000  0.216225\n",
      "Fare      0.257307 -0.549500  0.096067  0.159651  0.216225  1.000000\n"
     ]
    }
   ],
   "source": [
    "# Age 컬럼과 상관관계가 높은 칼럼찾기\n",
    "print(train.corr())"
   ]
  },
  {
   "cell_type": "code",
   "execution_count": 12,
   "id": "a73575ef",
   "metadata": {
    "scrolled": true
   },
   "outputs": [
    {
     "name": "stdout",
     "output_type": "stream",
     "text": [
      "                     Age\n",
      "Pclass Sex              \n",
      "1      female  34.611765\n",
      "       male    41.281386\n",
      "2      female  28.722973\n",
      "       male    30.740707\n",
      "3      female  21.750000\n",
      "       male    26.507589\n"
     ]
    }
   ],
   "source": [
    "# 피벗 테이블 생성\n",
    "# 데이터.pivot_table(\n",
    "#     values = 결측치 채울 칼럼,\n",
    "#     index = 참고할 칼럼(리스트),\n",
    "#     aggfunc = 사용할 수학 도구(평균 or 중간값)\n",
    "# )\n",
    "\n",
    "\n",
    "pt1 = train.pivot_table(values = 'Age', index = ['Pclass', 'Sex'], aggfunc = 'mean')\n",
    "print(pt1)"
   ]
  },
  {
   "cell_type": "code",
   "execution_count": 13,
   "id": "3ea1ed0a",
   "metadata": {},
   "outputs": [
    {
     "data": {
      "text/html": [
       "<div>\n",
       "<style scoped>\n",
       "    .dataframe tbody tr th:only-of-type {\n",
       "        vertical-align: middle;\n",
       "    }\n",
       "\n",
       "    .dataframe tbody tr th {\n",
       "        vertical-align: top;\n",
       "    }\n",
       "\n",
       "    .dataframe thead th {\n",
       "        text-align: right;\n",
       "    }\n",
       "</style>\n",
       "<table border=\"1\" class=\"dataframe\">\n",
       "  <thead>\n",
       "    <tr style=\"text-align: right;\">\n",
       "      <th></th>\n",
       "      <th>Survived</th>\n",
       "      <th>Pclass</th>\n",
       "      <th>Age</th>\n",
       "      <th>SibSp</th>\n",
       "      <th>Parch</th>\n",
       "      <th>Fare</th>\n",
       "      <th>female</th>\n",
       "      <th>male</th>\n",
       "      <th>C</th>\n",
       "      <th>Q</th>\n",
       "      <th>S</th>\n",
       "    </tr>\n",
       "  </thead>\n",
       "  <tbody>\n",
       "    <tr>\n",
       "      <th>Survived</th>\n",
       "      <td>1.000000</td>\n",
       "      <td>-0.338481</td>\n",
       "      <td>-0.077221</td>\n",
       "      <td>-0.035322</td>\n",
       "      <td>0.081629</td>\n",
       "      <td>0.257307</td>\n",
       "      <td>0.543351</td>\n",
       "      <td>-0.543351</td>\n",
       "      <td>0.168240</td>\n",
       "      <td>0.003650</td>\n",
       "      <td>-0.155660</td>\n",
       "    </tr>\n",
       "    <tr>\n",
       "      <th>Pclass</th>\n",
       "      <td>-0.338481</td>\n",
       "      <td>1.000000</td>\n",
       "      <td>-0.369226</td>\n",
       "      <td>0.083081</td>\n",
       "      <td>0.018443</td>\n",
       "      <td>-0.549500</td>\n",
       "      <td>-0.131900</td>\n",
       "      <td>0.131900</td>\n",
       "      <td>-0.243292</td>\n",
       "      <td>0.221009</td>\n",
       "      <td>0.081720</td>\n",
       "    </tr>\n",
       "    <tr>\n",
       "      <th>Age</th>\n",
       "      <td>-0.077221</td>\n",
       "      <td>-0.369226</td>\n",
       "      <td>1.000000</td>\n",
       "      <td>-0.308247</td>\n",
       "      <td>-0.189119</td>\n",
       "      <td>0.096067</td>\n",
       "      <td>-0.093254</td>\n",
       "      <td>0.093254</td>\n",
       "      <td>0.036261</td>\n",
       "      <td>-0.022405</td>\n",
       "      <td>-0.032523</td>\n",
       "    </tr>\n",
       "    <tr>\n",
       "      <th>SibSp</th>\n",
       "      <td>-0.035322</td>\n",
       "      <td>0.083081</td>\n",
       "      <td>-0.308247</td>\n",
       "      <td>1.000000</td>\n",
       "      <td>0.414838</td>\n",
       "      <td>0.159651</td>\n",
       "      <td>0.114631</td>\n",
       "      <td>-0.114631</td>\n",
       "      <td>-0.059528</td>\n",
       "      <td>-0.026354</td>\n",
       "      <td>0.070941</td>\n",
       "    </tr>\n",
       "    <tr>\n",
       "      <th>Parch</th>\n",
       "      <td>0.081629</td>\n",
       "      <td>0.018443</td>\n",
       "      <td>-0.189119</td>\n",
       "      <td>0.414838</td>\n",
       "      <td>1.000000</td>\n",
       "      <td>0.216225</td>\n",
       "      <td>0.245489</td>\n",
       "      <td>-0.245489</td>\n",
       "      <td>-0.011069</td>\n",
       "      <td>-0.081228</td>\n",
       "      <td>0.063036</td>\n",
       "    </tr>\n",
       "    <tr>\n",
       "      <th>Fare</th>\n",
       "      <td>0.257307</td>\n",
       "      <td>-0.549500</td>\n",
       "      <td>0.096067</td>\n",
       "      <td>0.159651</td>\n",
       "      <td>0.216225</td>\n",
       "      <td>1.000000</td>\n",
       "      <td>0.182333</td>\n",
       "      <td>-0.182333</td>\n",
       "      <td>0.269335</td>\n",
       "      <td>-0.117216</td>\n",
       "      <td>-0.166603</td>\n",
       "    </tr>\n",
       "    <tr>\n",
       "      <th>female</th>\n",
       "      <td>0.543351</td>\n",
       "      <td>-0.131900</td>\n",
       "      <td>-0.093254</td>\n",
       "      <td>0.114631</td>\n",
       "      <td>0.245489</td>\n",
       "      <td>0.182333</td>\n",
       "      <td>1.000000</td>\n",
       "      <td>-1.000000</td>\n",
       "      <td>0.082853</td>\n",
       "      <td>0.074115</td>\n",
       "      <td>-0.125722</td>\n",
       "    </tr>\n",
       "    <tr>\n",
       "      <th>male</th>\n",
       "      <td>-0.543351</td>\n",
       "      <td>0.131900</td>\n",
       "      <td>0.093254</td>\n",
       "      <td>-0.114631</td>\n",
       "      <td>-0.245489</td>\n",
       "      <td>-0.182333</td>\n",
       "      <td>-1.000000</td>\n",
       "      <td>1.000000</td>\n",
       "      <td>-0.082853</td>\n",
       "      <td>-0.074115</td>\n",
       "      <td>0.125722</td>\n",
       "    </tr>\n",
       "    <tr>\n",
       "      <th>C</th>\n",
       "      <td>0.168240</td>\n",
       "      <td>-0.243292</td>\n",
       "      <td>0.036261</td>\n",
       "      <td>-0.059528</td>\n",
       "      <td>-0.011069</td>\n",
       "      <td>0.269335</td>\n",
       "      <td>0.082853</td>\n",
       "      <td>-0.082853</td>\n",
       "      <td>1.000000</td>\n",
       "      <td>-0.148258</td>\n",
       "      <td>-0.778359</td>\n",
       "    </tr>\n",
       "    <tr>\n",
       "      <th>Q</th>\n",
       "      <td>0.003650</td>\n",
       "      <td>0.221009</td>\n",
       "      <td>-0.022405</td>\n",
       "      <td>-0.026354</td>\n",
       "      <td>-0.081228</td>\n",
       "      <td>-0.117216</td>\n",
       "      <td>0.074115</td>\n",
       "      <td>-0.074115</td>\n",
       "      <td>-0.148258</td>\n",
       "      <td>1.000000</td>\n",
       "      <td>-0.496624</td>\n",
       "    </tr>\n",
       "    <tr>\n",
       "      <th>S</th>\n",
       "      <td>-0.155660</td>\n",
       "      <td>0.081720</td>\n",
       "      <td>-0.032523</td>\n",
       "      <td>0.070941</td>\n",
       "      <td>0.063036</td>\n",
       "      <td>-0.166603</td>\n",
       "      <td>-0.125722</td>\n",
       "      <td>0.125722</td>\n",
       "      <td>-0.778359</td>\n",
       "      <td>-0.496624</td>\n",
       "      <td>1.000000</td>\n",
       "    </tr>\n",
       "  </tbody>\n",
       "</table>\n",
       "</div>"
      ],
      "text/plain": [
       "          Survived    Pclass       Age     SibSp     Parch      Fare  \\\n",
       "Survived  1.000000 -0.338481 -0.077221 -0.035322  0.081629  0.257307   \n",
       "Pclass   -0.338481  1.000000 -0.369226  0.083081  0.018443 -0.549500   \n",
       "Age      -0.077221 -0.369226  1.000000 -0.308247 -0.189119  0.096067   \n",
       "SibSp    -0.035322  0.083081 -0.308247  1.000000  0.414838  0.159651   \n",
       "Parch     0.081629  0.018443 -0.189119  0.414838  1.000000  0.216225   \n",
       "Fare      0.257307 -0.549500  0.096067  0.159651  0.216225  1.000000   \n",
       "female    0.543351 -0.131900 -0.093254  0.114631  0.245489  0.182333   \n",
       "male     -0.543351  0.131900  0.093254 -0.114631 -0.245489 -0.182333   \n",
       "C         0.168240 -0.243292  0.036261 -0.059528 -0.011069  0.269335   \n",
       "Q         0.003650  0.221009 -0.022405 -0.026354 -0.081228 -0.117216   \n",
       "S        -0.155660  0.081720 -0.032523  0.070941  0.063036 -0.166603   \n",
       "\n",
       "            female      male         C         Q         S  \n",
       "Survived  0.543351 -0.543351  0.168240  0.003650 -0.155660  \n",
       "Pclass   -0.131900  0.131900 -0.243292  0.221009  0.081720  \n",
       "Age      -0.093254  0.093254  0.036261 -0.022405 -0.032523  \n",
       "SibSp     0.114631 -0.114631 -0.059528 -0.026354  0.070941  \n",
       "Parch     0.245489 -0.245489 -0.011069 -0.081228  0.063036  \n",
       "Fare      0.182333 -0.182333  0.269335 -0.117216 -0.166603  \n",
       "female    1.000000 -1.000000  0.082853  0.074115 -0.125722  \n",
       "male     -1.000000  1.000000 -0.082853 -0.074115  0.125722  \n",
       "C         0.082853 -0.082853  1.000000 -0.148258 -0.778359  \n",
       "Q         0.074115 -0.074115 -0.148258  1.000000 -0.496624  \n",
       "S        -0.125722  0.125722 -0.778359 -0.496624  1.000000  "
      ]
     },
     "execution_count": 13,
     "metadata": {},
     "output_type": "execute_result"
    }
   ],
   "source": [
    "train1 = train.copy()\n",
    "train1 = pd.concat([train1,pd.get_dummies(train1['Sex'])], axis=1)\n",
    "del train1['Sex']\n",
    "train1 = pd.concat([train1,pd.get_dummies(train1['Embarked'])], axis=1)\n",
    "del train1['Embarked']\n",
    "train1['female'] = train1['female'].astype('int')\n",
    "train1['male'] = train1['male'].astype('int')\n",
    "train1['C'] = train1['C'].astype('int')\n",
    "train1['Q'] = train1['Q'].astype('int')\n",
    "train1['S'] = train1['S'].astype('int')\n",
    "train1.corr()"
   ]
  },
  {
   "cell_type": "code",
   "execution_count": 14,
   "id": "e531c8af",
   "metadata": {
    "scrolled": true
   },
   "outputs": [
    {
     "data": {
      "text/plain": [
       "Age    41.281386\n",
       "Name: (1, male), dtype: float64"
      ]
     },
     "execution_count": 14,
     "metadata": {},
     "output_type": "execute_result"
    }
   ],
   "source": [
    "# 피벗 테이블에 접근하는 방법\n",
    "pt1.loc[1, 'male']"
   ]
  },
  {
   "cell_type": "code",
   "execution_count": 15,
   "id": "0ea15f61",
   "metadata": {},
   "outputs": [],
   "source": [
    "import numpy as np\n",
    "\n",
    "# Age 칼럼의 결측치를 채우는 함수\n",
    "def fill_age(row) :\n",
    "    # 한 줄 데이터에서 Age 컬럼이 결측치라면\n",
    "    if np.isnan(row['Age']) :\n",
    "        # 피벗 테이블을 참조(같은 Pclass와 Sex인 값을 반환)\n",
    "        return pt1.loc[row['Pclass'], row['Sex']]\n",
    "    # 결측치가 아닌 경우\n",
    "    else :\n",
    "        return row['Age']"
   ]
  },
  {
   "attachments": {
    "image.png": {
     "image/png": "[encoded data removed]"
    }
   },
   "cell_type": "markdown",
   "id": "2ccdeba7",
   "metadata": {},
   "source": [
    "![image.png](attachment:image.png)\n",
    "- apply함수는 한 행 단위로 사용자 지정 함수에 넘어가서 처리하고 여러 행을 병합해서 반환"
   ]
  },
  {
   "cell_type": "code",
   "execution_count": 16,
   "id": "d2101c88",
   "metadata": {
    "scrolled": true
   },
   "outputs": [
    {
     "name": "stdout",
     "output_type": "stream",
     "text": [
      "<class 'pandas.core.frame.DataFrame'>\n",
      "Int64Index: 891 entries, 1 to 891\n",
      "Data columns (total 11 columns):\n",
      " #   Column    Non-Null Count  Dtype  \n",
      "---  ------    --------------  -----  \n",
      " 0   Survived  891 non-null    int64  \n",
      " 1   Pclass    891 non-null    int64  \n",
      " 2   Name      891 non-null    object \n",
      " 3   Sex       891 non-null    object \n",
      " 4   Age       891 non-null    int64  \n",
      " 5   SibSp     891 non-null    int64  \n",
      " 6   Parch     891 non-null    int64  \n",
      " 7   Ticket    891 non-null    object \n",
      " 8   Fare      891 non-null    float64\n",
      " 9   Cabin     204 non-null    object \n",
      " 10  Embarked  889 non-null    object \n",
      "dtypes: float64(1), int64(5), object(5)\n",
      "memory usage: 83.5+ KB\n",
      "<class 'pandas.core.frame.DataFrame'>\n",
      "Int64Index: 418 entries, 892 to 1309\n",
      "Data columns (total 10 columns):\n",
      " #   Column    Non-Null Count  Dtype  \n",
      "---  ------    --------------  -----  \n",
      " 0   Pclass    418 non-null    int64  \n",
      " 1   Name      418 non-null    object \n",
      " 2   Sex       418 non-null    object \n",
      " 3   Age       418 non-null    int64  \n",
      " 4   SibSp     418 non-null    int64  \n",
      " 5   Parch     418 non-null    int64  \n",
      " 6   Ticket    418 non-null    object \n",
      " 7   Fare      417 non-null    float64\n",
      " 8   Cabin     91 non-null     object \n",
      " 9   Embarked  418 non-null    object \n",
      "dtypes: float64(1), int64(4), object(5)\n",
      "memory usage: 35.9+ KB\n"
     ]
    },
    {
     "data": {
      "text/plain": [
       "(None, None)"
      ]
     },
     "execution_count": 16,
     "metadata": {},
     "output_type": "execute_result"
    }
   ],
   "source": [
    "# axis=1 : 한 줄씩 넘긴다.\n",
    "# astype('int64') : 나이는 실수(소수)가 없으니 정수로 변환\n",
    "train['Age'] = train.apply(fill_age, axis=1).astype('int64')\n",
    "test['Age'] = test.apply(fill_age, axis=1).astype('int64')\n",
    "train.info(),test.info()"
   ]
  },
  {
   "cell_type": "markdown",
   "id": "81d35727",
   "metadata": {},
   "source": [
    "## 3.4 train 데이터의 Embarked 결측치 채우기"
   ]
  },
  {
   "cell_type": "code",
   "execution_count": 17,
   "id": "6f44ec78",
   "metadata": {},
   "outputs": [
    {
     "data": {
      "text/plain": [
       "S    644\n",
       "C    168\n",
       "Q     77\n",
       "Name: Embarked, dtype: int64"
      ]
     },
     "execution_count": 17,
     "metadata": {},
     "output_type": "execute_result"
    }
   ],
   "source": [
    "# 결측치가 2개 밖에 없기 때문에 \n",
    "# 가장 많은 데이터수를 갖는 클래스로 결측치를 할당  >> S\n",
    "train['Embarked'].value_counts()"
   ]
  },
  {
   "cell_type": "code",
   "execution_count": 18,
   "id": "e374ded0",
   "metadata": {},
   "outputs": [],
   "source": [
    "# Embarked 컬럼이 결측치인 값을 S로 채운다.\n",
    "train['Embarked'] = train['Embarked'].fillna('S')"
   ]
  },
  {
   "cell_type": "code",
   "execution_count": 19,
   "id": "187a6be1",
   "metadata": {
    "scrolled": false
   },
   "outputs": [
    {
     "name": "stdout",
     "output_type": "stream",
     "text": [
      "<class 'pandas.core.frame.DataFrame'>\n",
      "Int64Index: 891 entries, 1 to 891\n",
      "Data columns (total 11 columns):\n",
      " #   Column    Non-Null Count  Dtype  \n",
      "---  ------    --------------  -----  \n",
      " 0   Survived  891 non-null    int64  \n",
      " 1   Pclass    891 non-null    int64  \n",
      " 2   Name      891 non-null    object \n",
      " 3   Sex       891 non-null    object \n",
      " 4   Age       891 non-null    int64  \n",
      " 5   SibSp     891 non-null    int64  \n",
      " 6   Parch     891 non-null    int64  \n",
      " 7   Ticket    891 non-null    object \n",
      " 8   Fare      891 non-null    float64\n",
      " 9   Cabin     204 non-null    object \n",
      " 10  Embarked  891 non-null    object \n",
      "dtypes: float64(1), int64(5), object(5)\n",
      "memory usage: 83.5+ KB\n"
     ]
    }
   ],
   "source": [
    "train.info()"
   ]
  },
  {
   "cell_type": "code",
   "execution_count": 20,
   "id": "2efe5143",
   "metadata": {},
   "outputs": [
    {
     "name": "stdout",
     "output_type": "stream",
     "text": [
      "             Pclass                Name   Sex  Age  SibSp  Parch Ticket  Fare  \\\n",
      "PassengerId                                                                     \n",
      "1044              3  Storey, Mr. Thomas  male   60      0      0   3701   NaN   \n",
      "\n",
      "            Cabin Embarked  \n",
      "PassengerId                 \n",
      "1044          NaN        S  \n"
     ]
    }
   ],
   "source": [
    "# 결측치가 있는 데이터를 확인\n",
    "print(test[test['Fare'].isnull()])"
   ]
  },
  {
   "cell_type": "markdown",
   "id": "982cf155",
   "metadata": {},
   "source": [
    "## 3.5 test 데이터의 Fare 결측치 채우기"
   ]
  },
  {
   "cell_type": "code",
   "execution_count": 22,
   "id": "eb383883",
   "metadata": {
    "scrolled": false
   },
   "outputs": [
    {
     "name": "stdout",
     "output_type": "stream",
     "text": [
      "                       Fare\n",
      "Pclass Embarked            \n",
      "1      C         110.073511\n",
      "       Q          90.000000\n",
      "       S          76.677504\n",
      "2      C          20.120445\n",
      "       Q          11.273950\n",
      "       S          23.056090\n",
      "3      C          10.658700\n",
      "       Q           8.998985\n",
      "       S          13.913030\n"
     ]
    }
   ],
   "source": [
    "pt2 = test.pivot_table(values = 'Fare', index = ['Pclass', 'Embarked'], aggfunc='mean')\n",
    "print(pt2)"
   ]
  },
  {
   "cell_type": "code",
   "execution_count": 21,
   "id": "1db707d8",
   "metadata": {},
   "outputs": [],
   "source": [
    "# apply함수 적용하는 것보다 더 간단한 방법이 있다고 하셔서 써 본 코드\n",
    "# test['Fare'] = test['Fare'].fillna(test.groupby(['Pclass','Sex']).mean()['Fare'].loc[3,'male'])\n",
    "# test.info()"
   ]
  },
  {
   "cell_type": "code",
   "execution_count": null,
   "id": "9888b002",
   "metadata": {},
   "outputs": [],
   "source": [
    "# 결측치가 1개 밖이라 그냥 간단하게 직접 채워도 됨(그게 더 빠름)\n",
    "#test['Fare'] = test['fare'].fillna(13.913030)"
   ]
  },
  {
   "cell_type": "code",
   "execution_count": 26,
   "id": "8432db69",
   "metadata": {},
   "outputs": [],
   "source": [
    "# 또 다른 방법\n",
    "# 피벗 테이블에 바로 loc를 하면, Series 타입이라 에러가 나는데 , float 타입으로 형변환 하면 결측치가 채워짐\n",
    "#test['Fare'] = test['Fare'].fillna(float(pt2.loc[3,'S']))"
   ]
  },
  {
   "cell_type": "code",
   "execution_count": 23,
   "id": "e707eec9",
   "metadata": {},
   "outputs": [],
   "source": [
    "def fill_fare(row) :\n",
    "    if np.isnan(row['Fare']) :\n",
    "        return pt2.loc[row['Pclass'], row['Embarked']]\n",
    "    else :\n",
    "        return row['Fare']"
   ]
  },
  {
   "cell_type": "code",
   "execution_count": 24,
   "id": "00c912c2",
   "metadata": {},
   "outputs": [
    {
     "name": "stdout",
     "output_type": "stream",
     "text": [
      "<class 'pandas.core.frame.DataFrame'>\n",
      "Int64Index: 418 entries, 892 to 1309\n",
      "Data columns (total 10 columns):\n",
      " #   Column    Non-Null Count  Dtype \n",
      "---  ------    --------------  ----- \n",
      " 0   Pclass    418 non-null    int64 \n",
      " 1   Name      418 non-null    object\n",
      " 2   Sex       418 non-null    object\n",
      " 3   Age       418 non-null    int64 \n",
      " 4   SibSp     418 non-null    int64 \n",
      " 5   Parch     418 non-null    int64 \n",
      " 6   Ticket    418 non-null    object\n",
      " 7   Fare      418 non-null    int64 \n",
      " 8   Cabin     91 non-null     object\n",
      " 9   Embarked  418 non-null    object\n",
      "dtypes: int64(5), object(5)\n",
      "memory usage: 35.9+ KB\n"
     ]
    }
   ],
   "source": [
    "test['Fare'] = test.apply(fill_fare, axis=1).astype('int64')\n",
    "test.info()"
   ]
  },
  {
   "cell_type": "markdown",
   "id": "d74686f1",
   "metadata": {},
   "source": [
    "## 3.6 Cabin 결측치 채우기\n",
    "- 결측치가 실제 객실이 없는 승객이었을 가능성이 있으므로 원래값에 중복되지 않는 영문자로 채움\n",
    "- 원래 객실번호의 첫번째 영문자 추출"
   ]
  },
  {
   "cell_type": "code",
   "execution_count": 28,
   "id": "bf5b518b",
   "metadata": {},
   "outputs": [],
   "source": [
    "# 결측치를 M으로 채움\n",
    "train[\"Cabin\"] = train[\"Cabin\"].fillna('M')\n",
    "test[\"Cabin\"] = test[\"Cabin\"].fillna('M')"
   ]
  },
  {
   "cell_type": "code",
   "execution_count": 29,
   "id": "a1779f39",
   "metadata": {
    "scrolled": false
   },
   "outputs": [
    {
     "name": "stdout",
     "output_type": "stream",
     "text": [
      "<class 'pandas.core.frame.DataFrame'>\n",
      "Int64Index: 891 entries, 1 to 891\n",
      "Data columns (total 11 columns):\n",
      " #   Column    Non-Null Count  Dtype  \n",
      "---  ------    --------------  -----  \n",
      " 0   Survived  891 non-null    int64  \n",
      " 1   Pclass    891 non-null    int64  \n",
      " 2   Name      891 non-null    object \n",
      " 3   Sex       891 non-null    object \n",
      " 4   Age       891 non-null    int64  \n",
      " 5   SibSp     891 non-null    int64  \n",
      " 6   Parch     891 non-null    int64  \n",
      " 7   Ticket    891 non-null    object \n",
      " 8   Fare      891 non-null    float64\n",
      " 9   Cabin     891 non-null    object \n",
      " 10  Embarked  891 non-null    object \n",
      "dtypes: float64(1), int64(5), object(5)\n",
      "memory usage: 83.5+ KB\n",
      "<class 'pandas.core.frame.DataFrame'>\n",
      "Int64Index: 418 entries, 892 to 1309\n",
      "Data columns (total 10 columns):\n",
      " #   Column    Non-Null Count  Dtype \n",
      "---  ------    --------------  ----- \n",
      " 0   Pclass    418 non-null    int64 \n",
      " 1   Name      418 non-null    object\n",
      " 2   Sex       418 non-null    object\n",
      " 3   Age       418 non-null    int64 \n",
      " 4   SibSp     418 non-null    int64 \n",
      " 5   Parch     418 non-null    int64 \n",
      " 6   Ticket    418 non-null    object\n",
      " 7   Fare      418 non-null    int64 \n",
      " 8   Cabin     418 non-null    object\n",
      " 9   Embarked  418 non-null    object\n",
      "dtypes: int64(5), object(5)\n",
      "memory usage: 35.9+ KB\n"
     ]
    },
    {
     "data": {
      "text/plain": [
       "(None, None)"
      ]
     },
     "execution_count": 29,
     "metadata": {},
     "output_type": "execute_result"
    }
   ],
   "source": [
    "train.info(), test.info()"
   ]
  },
  {
   "cell_type": "code",
   "execution_count": null,
   "id": "64c0cfd5",
   "metadata": {},
   "outputs": [],
   "source": [
    "# 범주형 데이터 통합(Grouping) : 범주형 데이터의 클래스가 너무 많을 시, 그룹핑을 통해 범주형 클래스의 수를 줄임"
   ]
  },
  {
   "cell_type": "code",
   "execution_count": 30,
   "id": "c9648f22",
   "metadata": {},
   "outputs": [],
   "source": [
    "# 원래 객실번호의 첫번째 영문자 추출\n",
    "train['Cabin'] = train['Cabin'].str[0]\n",
    "test['Cabin'] = test['Cabin'].str[0]"
   ]
  },
  {
   "cell_type": "code",
   "execution_count": 31,
   "id": "55f7fd5d",
   "metadata": {},
   "outputs": [
    {
     "data": {
      "text/plain": [
       "array(['M', 'C', 'E', 'G', 'D', 'A', 'B', 'F', 'T'], dtype=object)"
      ]
     },
     "execution_count": 31,
     "metadata": {},
     "output_type": "execute_result"
    }
   ],
   "source": [
    "train['Cabin'].unique()"
   ]
  },
  {
   "cell_type": "code",
   "execution_count": null,
   "id": "e8ae9b88",
   "metadata": {},
   "outputs": [],
   "source": []
  },
  {
   "cell_type": "markdown",
   "id": "d365c228",
   "metadata": {},
   "source": [
    "## 3.7 데이터 시각화 하기"
   ]
  },
  {
   "cell_type": "code",
   "execution_count": null,
   "id": "728681e8",
   "metadata": {},
   "outputs": [],
   "source": []
  }
 ],
 "metadata": {
  "kernelspec": {
   "display_name": "Python 3 (ipykernel)",
   "language": "python",
   "name": "python3"
  },
  "language_info": {
   "codemirror_mode": {
    "name": "ipython",
    "version": 3
   },
   "file_extension": ".py",
   "mimetype": "text/x-python",
   "name": "python",
   "nbconvert_exporter": "python",
   "pygments_lexer": "ipython3",
   "version": "3.9.12"
  },
  "toc": {
   "base_numbering": 1,
   "nav_menu": {},
   "number_sections": false,
   "sideBar": true,
   "skip_h1_title": false,
   "title_cell": "Table of Contents",
   "title_sidebar": "Contents",
   "toc_cell": false,
   "toc_position": {},
   "toc_section_display": true,
   "toc_window_display": false
  }
 },
 "nbformat": 4,
 "nbformat_minor": 5
}
