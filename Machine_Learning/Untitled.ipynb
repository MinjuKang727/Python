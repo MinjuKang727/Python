{
 "cells": [
  {
   "cell_type": "markdown",
   "id": "a5fa5594",
   "metadata": {},
   "source": [
    "### 일반화, 과대적합, 과소적합\n",
    "- 주어진 훈련 데이터의 다양성 봉장 >> 다양한 데이터 포인트를 골고루 나타내야 한다.\n",
    "- 일반적으로 (편중되지 않은) 데이터 양이 많으면 일반화에 도움이 된다.\n",
    "- 규제(Regularization)을 통해 모델의 복잡도를 적정선으로 설정\n",
    "isin('j\n",
    "- C"
   ]
  },
  {
   "cell_type": "code",
   "execution_count": null,
   "id": "39d97a6c",
   "metadata": {},
   "outputs": [],
   "source": []
  }
 ],
 "metadata": {
  "kernelspec": {
   "display_name": "Python 3 (ipykernel)",
   "language": "python",
   "name": "python3"
  },
  "language_info": {
   "codemirror_mode": {
    "name": "ipython",
    "version": 3
   },
   "file_extension": ".py",
   "mimetype": "text/x-python",
   "name": "python",
   "nbconvert_exporter": "python",
   "pygments_lexer": "ipython3",
   "version": "3.9.12"
  },
  "toc": {
   "base_numbering": 1,
   "nav_menu": {},
   "number_sections": true,
   "sideBar": true,
   "skip_h1_title": false,
   "title_cell": "Table of Contents",
   "title_sidebar": "Contents",
   "toc_cell": false,
   "toc_position": {},
   "toc_section_display": true,
   "toc_window_display": false
  }
 },
 "nbformat": 4,
 "nbformat_minor": 5
}
