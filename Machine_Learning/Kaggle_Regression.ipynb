{
 "cells": [
  {
   "cell_type": "markdown",
   "id": "c747cf02",
   "metadata": {},
   "source": [
    "## 2. 데이터 수집"
   ]
  },
  {
   "cell_type": "code",
   "execution_count": null,
   "id": "41d56605",
   "metadata": {},
   "outputs": [],
   "source": []
  },
  {
   "cell_type": "markdown",
   "id": "a40ba8d4",
   "metadata": {},
   "source": [
    "# 3. 탐색적 데이터 분석 및 전처리(EDA:Exploratory Data Analysis)\n",
    "- 데이터를 이해하자!\n",
    "- 결측치, 이상치, 오류가 있는지 확인\n",
    "    - 결측치 : 컬럼의 값이 없는 데이터\n",
    "    - 이상치 : 다른 값들과 차이가 큰 값\n",
    "    - 오류치 >> 이상치 >> 결측치 순으로 데이터 전처리하기!\n",
    "- 기술 통계\n",
    "- 상관 관계\n",
    "- 시각화\n",
    "### 데이터 전처리 방법\n",
    "- 통합(Grouping, 범주형 데이터의 클래스가 너무 많을 시, 사용),\n",
    "- 인코딩,\n",
    "- 정규화,\n",
    "- 라벨 인코딩 등을 통해 데이터 전처리"
   ]
  },
  {
   "cell_type": "code",
   "execution_count": null,
   "id": "fd1c0a08",
   "metadata": {},
   "outputs": [],
   "source": []
  },
  {
   "cell_type": "markdown",
   "id": "82cf910c",
   "metadata": {},
   "source": [
    "## 3.1 결측치 확인"
   ]
  },
  {
   "cell_type": "code",
   "execution_count": null,
   "id": "5f59572b",
   "metadata": {},
   "outputs": [],
   "source": []
  },
  {
   "cell_type": "markdown",
   "id": "31eb0e47",
   "metadata": {},
   "source": [
    "### 결측치 채우는 방법\n",
    "- 수치형 데이터\n",
    "    - 기술 통계(평균 or 중간값)\n",
    "    - 결측치가 적은 경우 : 전체 평균이나 중간값을 대입\n",
    "    - 결측치가 많은 경우(20~30%) : 결측치가 있는 데이터의 다른 컬럼과 같은 값을 갖는(동일한 특성을 갖는) 데이터의 결측치 통계(평균, or 중간값)를 사용 (피벗 테이블을 이용할 것임)\n",
    "- 범주형 데이터\n",
    "    - 결측치가 적은 경우 : 데이터 수가 가장 많은 클래스로 할당 >> 기존 데이터가 결측치가 있는 데이터에 의해 영향을 덜 받기 때문에)\n",
    "    - 결측치가 많은 경우 : 데이터 수가 가장 많은 클래스로 할당 >> 편향이 됨 >> 기존 데이터의 개수 비율만큼 랜덤으로 할당"
   ]
  },
  {
   "cell_type": "code",
   "execution_count": null,
   "id": "2583ff84",
   "metadata": {},
   "outputs": [],
   "source": []
  },
  {
   "cell_type": "markdown",
   "id": "80257c1f",
   "metadata": {},
   "source": [
    "## 3.7 데이터 시각화 하기\n",
    "- test데이터를 활용하지 않고 train데이터를 이용해서 시각화/탐색하는게 좋다."
   ]
  },
  {
   "cell_type": "markdown",
   "id": "8264691b",
   "metadata": {},
   "source": [
    "- 범주형 데이터(Categorical Data) 시각화\n",
    "- 빈도 기반의 bar chart 많이 활용\n",
    "\n",
    "- 수치형 데이터 시각화\n",
    "    - 구간을 나눠서 종합하는 히스토그램\n",
    "    - 커널 밀도 추정 그래프\n",
    "    \n",
    "- 바이올린 플롯 그래프 시각화\n",
    "    - 박스 + KDE 그래프\n",
    "- 텍스트 데이터\n",
    "    - 비정형 데이터 >> 단어 중심 시각화\n",
    "    - wordcloud\n",
    "- 빈도 기반의 시각화 가능 : countplot"
   ]
  },
  {
   "cell_type": "markdown",
   "id": "493ca9d6",
   "metadata": {},
   "source": [
    "## 4. 특성 공학(Feature Engineering)\n",
    "- feature에서 유의미한 컬럼을 추출하거나 병합하는 행위"
   ]
  },
  {
   "cell_type": "code",
   "execution_count": null,
   "id": "6fd7197d",
   "metadata": {},
   "outputs": [],
   "source": []
  },
  {
   "cell_type": "markdown",
   "id": "ac369147",
   "metadata": {},
   "source": [
    "### 4.2 비정형 데이터 다루기(Name)\n",
    "- 틀이 없는, 형태가 정해져 있지 않음\n",
    "- 텍스트 데이터, 이미지 데이터, 음성 데이터"
   ]
  },
  {
   "cell_type": "code",
   "execution_count": null,
   "id": "71464a73",
   "metadata": {},
   "outputs": [],
   "source": []
  },
  {
   "cell_type": "markdown",
   "id": "c46954bf",
   "metadata": {},
   "source": [
    "###  사용하지 않을 칼럼 정리"
   ]
  },
  {
   "cell_type": "code",
   "execution_count": null,
   "id": "490c5254",
   "metadata": {},
   "outputs": [],
   "source": []
  },
  {
   "cell_type": "markdown",
   "id": "63a2a8f9",
   "metadata": {},
   "source": [
    "## 모델링\n",
    "- 인코딩(문자 형태의 데이터를 숫자 형태로 변환)\n",
    "    - label encoding : 순서가 있는 범주형 데이터에 사용\n",
    "    - one-hot-encoding : 순서가 없는 범주형 데이터에 사용 / pd.get_dummies(데이터)\n",
    "        - 순서가 없는 범주형 데이터 : 성별\n",
    "        - 순서가 있는 범주형 데이터 : 학점\n",
    "- 특성 선택(feature selection) : 상관계수(.corr() : 양수-비례관계, 음수-반비례관계, 0-서로 영향X, 절대값이 클수록 상관관계 큼)\n",
    "- 모델 선택 및 하이퍼파라미터 튜닝\n",
    "- 모델 학습 및 평가"
   ]
  },
  {
   "cell_type": "code",
   "execution_count": null,
   "id": "827f83d9",
   "metadata": {},
   "outputs": [],
   "source": []
  },
  {
   "cell_type": "markdown",
   "id": "8a740881",
   "metadata": {},
   "source": [
    "## 5.2 특성 선택\n",
    "- 예측 결과에 영향을 줄 특성들을 골라본다.\n",
    "- Family와 Family_cat이 비슷한 특성이기 때문에 선택해보자."
   ]
  },
  {
   "cell_type": "code",
   "execution_count": null,
   "id": "b14b27cb",
   "metadata": {},
   "outputs": [],
   "source": []
  },
  {
   "cell_type": "markdown",
   "id": "5980c57c",
   "metadata": {},
   "source": [
    "## 5.3 학습\n",
    "- KNN모델과 Decision Tree모델 활용"
   ]
  },
  {
   "cell_type": "code",
   "execution_count": null,
   "id": "982719e9",
   "metadata": {},
   "outputs": [],
   "source": []
  },
  {
   "cell_type": "markdown",
   "id": "d6715c36",
   "metadata": {},
   "source": [
    "## 데이터 스케일링(Data Scaling)\n",
    "- 특성들의 범위를 정규화 해주는 작업\n",
    "- 특성마다 다른 범위를 가지는 경우, 머신러닝 모델들이 제대로 학습되지 않을 가능성이 있다.\n",
    "    - KNN, SVM, Neural network(신경망) 모델, Clustering 모델 등 (데이터 스케일링의 영향을 많이 받는 모델)\n",
    "    - 시력과 키를 함께 학습시킬 경우, 키의 범위가 크기 때문에 거리 값을 기반으로 학습할 때 영향을 많이 준다.\n",
    "    - 시력 0.5 ~ 2.0(폭 1.5) / 키 150 ~ 190(폭 40) >> 정규화가 필요\n",
    "    \n",
    "#### 장점\n",
    "- 특성들을 비교 분석하기 쉽게 만들어 준다.\n",
    "- Linear Model, Neural network Model 등에서 학습의 안정성과 속도를 개선시킨다.\n",
    "- 하지만 특성에 따라 원래 범위를 유지하는 것이 성능에 더 좋을 때에는 스케일링을 해 주지 않아도 된다.\n",
    "\n",
    "\n",
    "### 종류\n",
    "#### StandardScaler\n",
    "- 평균과 표준편차를 이용한 방법\n",
    "- 평균은 극단적인 값(이상치)들의 영향을 많이 받음\n",
    "#### MinMaxScaler\n",
    "- 최대, 최솟값을 이용한 방법 (공식, 교재 122쪽 중간 참고)\n",
    "- 모든 데이터 값이 0 ~ 1 사이의 값으로 조정됨\n",
    "#### RobustScaler\n",
    "- 사분위 수를 이용한 스케일러\n",
    "- 데이터에 이상치가 많을 때 사용하면 좋은 스케일러\n",
    "#### Normalizer\n",
    "- 데이터의 크기는 고려하지 않고\n",
    "- 데이터의 방향을 중요시할 때 사용하는 스케일러\n",
    "- 추천 알고리즘에 많이 사용\n",
    "    - 예를 들어 음식 추천 알고리즘 :\n",
    "    - 나와 근접한 사람은 누가 있을까? 그 사람들이 좋아하는 음식을 추천\n",
    "    - 1번과 3번보다는 1번과 2번을 비교해 보면 거리가 1번과 2번이 더 멀기 때문에 컴퓨터가 3번을 추천해버리는 문제가 발생!!\n",
    "- 원점으로부터의 방향만 비교하면 비슷한 취향으로 추천 가능\n",
    "- 원처럼 동그란 데이터를 갖게 됨\n",
    "\n",
    "### 주의점\n",
    "- 훈련 세트와 테스트 세트에 같은 변환을 적용해야 한다.\n",
    "- 예를 들어 StandardScaler의 경우 훈련 세트의 평균과 표준편차를 이용해 훈련세트를 변환하고 테스트 세트의 평균과 표준편차를 이용해 테스트 세트를 변환하면 잘못된 결과가 나온다.\n",
    "- 훈련 데이터를 쓰던지 테스트 데이터를 쓰던지 모두 훈련 데이터를 기준으로 스케일링을 해야한다!"
   ]
  },
  {
   "cell_type": "code",
   "execution_count": null,
   "id": "cd52f25f",
   "metadata": {},
   "outputs": [],
   "source": []
  },
  {
   "cell_type": "markdown",
   "id": "ddf86520",
   "metadata": {},
   "source": [
    "### 5.4 하이퍼 파라미터 튜닝\n",
    "- KNN모델과 DecisionTree 모델을 최적화 해보자.\n",
    "- KNN : 이웃 숫자\n",
    "- Tree : 나무의 깊이, 리프노드의 갯수, 한 리프노드에 들어갈 샘플 수 등"
   ]
  },
  {
   "cell_type": "code",
   "execution_count": null,
   "id": "62918651",
   "metadata": {},
   "outputs": [],
   "source": []
  },
  {
   "cell_type": "markdown",
   "id": "d18dc6dc",
   "metadata": {},
   "source": [
    "### 모델 평가\n",
    "- KNN의 이웃 수 : 7결정\n",
    "- DecisionTree의 최대 깊이 : 4결정"
   ]
  },
  {
   "cell_type": "code",
   "execution_count": null,
   "id": "bd4f90a4",
   "metadata": {},
   "outputs": [],
   "source": []
  },
  {
   "cell_type": "markdown",
   "id": "e875df06",
   "metadata": {},
   "source": [
    "# 성능 개선을 위해 고려해 볼 사항\n",
    "1. 특성 선택\n",
    "2. 데이터 확보\n",
    "3. 전처리 작업 변경(결측치 처리 방법, 특성 공학, 스케일링 등)\n",
    "4. 모델 변경 - 앙상블 : 모델을 여러개 엮어서 쓰는 것"
   ]
  },
  {
   "cell_type": "code",
   "execution_count": null,
   "id": "f2f4cfb0",
   "metadata": {},
   "outputs": [],
   "source": []
  }
 ],
 "metadata": {
  "kernelspec": {
   "display_name": "Python 3 (ipykernel)",
   "language": "python",
   "name": "python3"
  },
  "language_info": {
   "codemirror_mode": {
    "name": "ipython",
    "version": 3
   },
   "file_extension": ".py",
   "mimetype": "text/x-python",
   "name": "python",
   "nbconvert_exporter": "python",
   "pygments_lexer": "ipython3",
   "version": "3.9.12"
  },
  "toc": {
   "base_numbering": 1,
   "nav_menu": {},
   "number_sections": false,
   "sideBar": true,
   "skip_h1_title": false,
   "title_cell": "Table of Contents",
   "title_sidebar": "Contents",
   "toc_cell": false,
   "toc_position": {
    "height": "calc(100% - 180px)",
    "left": "10px",
    "top": "150px",
    "width": "341.333px"
   },
   "toc_section_display": true,
   "toc_window_display": false
  }
 },
 "nbformat": 4,
 "nbformat_minor": 5
}
