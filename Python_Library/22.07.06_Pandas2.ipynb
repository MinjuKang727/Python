{
 "cells": [
  {
   "cell_type": "code",
   "execution_count": null,
   "id": "b8a6215d",
   "metadata": {},
   "outputs": [],
   "source": [
    "import pandas as pd"
   ]
  },
  {
   "cell_type": "code",
   "execution_count": null,
   "id": "6fb28c01",
   "metadata": {},
   "outputs": [],
   "source": [
    "# 데이터 로드\n",
    "# CSV (Comma Seperated Values, ,(쉼표)로 구문된 데이터)\n",
    "# encoding : 컴퓨터가 글자를 인식할 수 있게 해주는 과정\n",
    "# 'euc-kr' : 한글 전용 인코딩 방식\n",
    "# index_col : 속성값에 해당하는 칼럼을 인덱스로 설정\n",
    "score_data = pd.read_csv('data/score.csv', encoding = 'euc-kr', index_col = '과목')\n",
    "print(score_data)"
   ]
  },
  {
   "cell_type": "markdown",
   "id": "bdbaaedd",
   "metadata": {},
   "source": [
    "## 5. Pandas 유용한 함수들\n",
    "\n",
    "### 정렬\n",
    "- index 및 칼럼명 기준 정렬 : sort_index()\n",
    "- 값 기준 정렬 : sort_values()"
   ]
  },
  {
   "cell_type": "code",
   "execution_count": null,
   "id": "6825e2f1",
   "metadata": {},
   "outputs": [],
   "source": [
    "score_data = score_data.T\n",
    "print(score_data)"
   ]
  },
  {
   "cell_type": "markdown",
   "id": "9eefb64d",
   "metadata": {},
   "source": [
    "- index 및 칼럼명 기준 정렬"
   ]
  },
  {
   "cell_type": "code",
   "execution_count": null,
   "id": "c32b09ce",
   "metadata": {},
   "outputs": [],
   "source": [
    "# index 기준 정렬\n",
    "# 한글일 경우 가나다 순\n",
    "# 디폴트 값은 오름차순\n",
    "print(score_data.sort_index())"
   ]
  },
  {
   "cell_type": "code",
   "execution_count": null,
   "id": "ad029def",
   "metadata": {},
   "outputs": [],
   "source": [
    "# ascending : 오르다\n",
    "# ascending = False : 내림차순 정렬\n",
    "print(score_data.sort_index(ascending = False))"
   ]
  },
  {
   "cell_type": "code",
   "execution_count": null,
   "id": "9276ba85",
   "metadata": {},
   "outputs": [],
   "source": [
    "# 컬럼명 기준 정렬\n",
    "# axis = 0 : 행 기준 / axis = 1 : 열 기준\n",
    "# drop() : axis = 0 행 drop/ axis = 1 : 열 drop\n",
    "# sort_index() : axis = 0 칼럼(세로 데이터 묶음) 정렬 / axis = 1 = 행(가로 데이터 묶음) 정렬\n",
    "print(score_data.sort_index(axis = 1))\n",
    "print(score_data.sort_index(axis = 1, ascending = False))"
   ]
  },
  {
   "cell_type": "markdown",
   "id": "2694b1b5",
   "metadata": {},
   "source": [
    "- value 기준 정렬"
   ]
  },
  {
   "cell_type": "code",
   "execution_count": null,
   "id": "ea971fd7",
   "metadata": {},
   "outputs": [],
   "source": [
    "# DataFrame 컬럼이나 index가 여러개일 경우 그 기준을 설정해 주어야 함\n",
    "print(score_data.sort_values(by = '3반')) # 3반 값들이 오름차순으로 정렬\n",
    "# asceding = False : 내림차순 정렬\n",
    "print(score_data.sort_values(by = '3반', ascending = False))"
   ]
  },
  {
   "cell_type": "code",
   "execution_count": null,
   "id": "128f1cd7",
   "metadata": {},
   "outputs": [],
   "source": [
    "# axis = 1 : 행 방향(가로) 기준 정렬\n",
    "print(score_data.sort_values('사회', axis = 1, ascending = False))"
   ]
  },
  {
   "cell_type": "markdown",
   "id": "5500bfff",
   "metadata": {},
   "source": [
    "### 정리\n",
    "- axis = 0(행 방향)일 경우는 기준을 컬럼명으로 잡음\n",
    "- axis = 1(열 방향)일 경우는 기준을 인덱스로 잡음"
   ]
  },
  {
   "cell_type": "code",
   "execution_count": null,
   "id": "8ef1dc73",
   "metadata": {},
   "outputs": [],
   "source": [
    "# 3반 기준으로 정렬\n",
    "print(score_data.sort_values(by = '3반'))"
   ]
  },
  {
   "cell_type": "code",
   "execution_count": null,
   "id": "e0d88373",
   "metadata": {
    "scrolled": true
   },
   "outputs": [],
   "source": [
    "# 디폴트 값으로 오름차순\n",
    "# 3반 기준으로 정렬 후, 그 중 같은 값들은 1반 기준으로 한번 더 정렬\n",
    "print(score_data.sort_values(by = ['3반', '1반']))"
   ]
  },
  {
   "cell_type": "markdown",
   "id": "6e72de4e",
   "metadata": {},
   "source": [
    "### sum()\n",
    "- axis 속성으로 행 총합, 또는 열 총합을 구할 수 있음\n",
    "- .sum(axis = 0) 하나하나의 칼럼에 대해 각 행의 값 총합\n",
    "- .sum(axis = 1) 하나하나의 열에 대해 각 열의 값 총합"
   ]
  },
  {
   "cell_type": "code",
   "execution_count": null,
   "id": "3a2fefbb",
   "metadata": {},
   "outputs": [],
   "source": [
    "print(score_data.sum()) # 기본적으로 axis = 0 이 기본값으로 주어져 있음"
   ]
  },
  {
   "cell_type": "code",
   "execution_count": null,
   "id": "0132164b",
   "metadata": {},
   "outputs": [],
   "source": [
    "print(score_data.sum(axis = 1))"
   ]
  },
  {
   "cell_type": "markdown",
   "id": "c5c66dfe",
   "metadata": {},
   "source": [
    "- 과목별 합계를 구하여 DataFrame의 맨 우측에 '총합' 컬럼을 추가해보세요~!"
   ]
  },
  {
   "cell_type": "code",
   "execution_count": null,
   "id": "129e0958",
   "metadata": {},
   "outputs": [],
   "source": [
    "score_data['총합'] = score_data.sum(axis = 1)\n",
    "print(score_data)"
   ]
  },
  {
   "cell_type": "markdown",
   "id": "e78398bc",
   "metadata": {},
   "source": [
    "### .mean()\n",
    "- 각 과목들의 평균을 구하고 DataFrame 우측에 '평균' 컬럼을 생성해보세요~!"
   ]
  },
  {
   "cell_type": "code",
   "execution_count": null,
   "id": "fbbf9853",
   "metadata": {},
   "outputs": [],
   "source": [
    "score_data['평균'] = score_data.loc[:,'1반':'4반'].values.mean(axis = 1)\n",
    "print(score_data)"
   ]
  },
  {
   "cell_type": "code",
   "execution_count": null,
   "id": "82a7f046",
   "metadata": {},
   "outputs": [],
   "source": [
    "score_data['평균'] = score_data.iloc[:,:4].values.mean(axis = 1)\n",
    "print(score_data)"
   ]
  },
  {
   "cell_type": "code",
   "execution_count": null,
   "id": "0bc4ae37",
   "metadata": {},
   "outputs": [],
   "source": [
    "score_data['평균'] = score_data['총합'] / 4\n",
    "print(score_data)"
   ]
  },
  {
   "cell_type": "markdown",
   "id": "bd682f79",
   "metadata": {},
   "source": [
    "## min(), max()"
   ]
  },
  {
   "cell_type": "code",
   "execution_count": null,
   "id": "a80f031c",
   "metadata": {},
   "outputs": [],
   "source": [
    "# 1반에서 가장 높은 점수\n",
    "print(score_data['1반'].max())"
   ]
  },
  {
   "cell_type": "code",
   "execution_count": null,
   "id": "689cbcf3",
   "metadata": {},
   "outputs": [],
   "source": [
    "# axis = 0 : 각 칼럼(반별)의 최대값\n",
    "print(score_data[:].max())  # 기본(default)값 : axis = 0"
   ]
  },
  {
   "cell_type": "code",
   "execution_count": null,
   "id": "3b921d85",
   "metadata": {},
   "outputs": [],
   "source": [
    "# 각 행(과목)의 최대값(총합, 평균 포함X)\n",
    "print(score_data.iloc[:, :4].max(axis = 1))"
   ]
  },
  {
   "cell_type": "code",
   "execution_count": null,
   "id": "a96fb413",
   "metadata": {},
   "outputs": [],
   "source": [
    "# 전체 반 중에서 가장 높은 수학 점수를 구해보세요~!\n",
    "print(score_data.iloc[:1,:4].max(axis = 1))\n",
    "print(score_data.loc[:'수학',:'4반'].max(axis = 1))"
   ]
  },
  {
   "cell_type": "markdown",
   "id": "83b011c1",
   "metadata": {},
   "source": [
    "- 전체 과목 점수 중에서 과목별로 가장 큰 값과 작은 값의 차이를 구해보세요~!"
   ]
  },
  {
   "cell_type": "code",
   "execution_count": null,
   "id": "7212bbb6",
   "metadata": {},
   "outputs": [],
   "source": [
    "sub_best = score_data.iloc[:,:4].max(axis = 1)\n",
    "sub_worst = score_data.iloc[:,:4].min(axis = 1)\n",
    "print(sub_best - sub_worst)"
   ]
  },
  {
   "cell_type": "code",
   "execution_count": null,
   "id": "c641f749",
   "metadata": {},
   "outputs": [],
   "source": [
    "sub_best = score_data.loc[:,:'4반'].max(axis = 1)\n",
    "sub_worst = score_data.loc[:,:'4반'].min(axis = 1)\n",
    "print(sub_best - sub_worst)"
   ]
  },
  {
   "cell_type": "markdown",
   "id": "48e2b7ef",
   "metadata": {},
   "source": [
    "### count()"
   ]
  },
  {
   "cell_type": "code",
   "execution_count": null,
   "id": "38f158c5",
   "metadata": {},
   "outputs": [],
   "source": [
    "print(score_data)"
   ]
  },
  {
   "cell_type": "code",
   "execution_count": null,
   "id": "cc595c1a",
   "metadata": {},
   "outputs": [],
   "source": [
    "print(score_data.count())"
   ]
  },
  {
   "cell_type": "code",
   "execution_count": null,
   "id": "106b3d97",
   "metadata": {},
   "outputs": [],
   "source": [
    "print(score_data.count(axis = 1))"
   ]
  },
  {
   "cell_type": "markdown",
   "id": "6555ee84",
   "metadata": {},
   "source": [
    "### info()\n",
    "- DataFrame에 대한 전체적인 정보를 출력"
   ]
  },
  {
   "cell_type": "code",
   "execution_count": null,
   "id": "6d80fa5e",
   "metadata": {},
   "outputs": [],
   "source": [
    "score_data.info()"
   ]
  },
  {
   "cell_type": "markdown",
   "id": "7262f066",
   "metadata": {},
   "source": [
    "### value_counts()\n",
    "- 특정 칼럼에 있는 데이터들의 유니크 값과 그 개수를 출력\n",
    "    - 1차원 배열에 대해서만 함수 사용하는 것을 추천(내 개인적 생각)"
   ]
  },
  {
   "cell_type": "code",
   "execution_count": null,
   "id": "06786c30",
   "metadata": {},
   "outputs": [],
   "source": [
    "df_test = pd.DataFrame([['집중','집중','집중','집중'],\n",
    "                        ['집중','집중','집중','졸림'],\n",
    "                        ['집중','집중','졸림','자냐?']\n",
    "                       ],\n",
    "                      columns = ['1교시', '2교시', '3교시', '4교시']\n",
    "                      )\n",
    "print(df_test)"
   ]
  },
  {
   "cell_type": "code",
   "execution_count": null,
   "id": "e7b528c8",
   "metadata": {},
   "outputs": [],
   "source": [
    "print(df_test['3교시'].value_counts())"
   ]
  },
  {
   "cell_type": "code",
   "execution_count": null,
   "id": "676a0c5e",
   "metadata": {},
   "outputs": [],
   "source": [
    "print(df_test['4교시'].value_counts())"
   ]
  },
  {
   "cell_type": "markdown",
   "id": "9fc680d1",
   "metadata": {},
   "source": [
    "### apply()\n",
    "- 사용자 정의 함수를 이용하여 행 또는 열에 복잡한 처리를 한 번에 해주는 함수\n",
    "\n",
    "#### 데이터프레임.apply(사용자정의함수, axis = 0 또는 1)"
   ]
  },
  {
   "cell_type": "code",
   "execution_count": null,
   "id": "d204dc0b",
   "metadata": {},
   "outputs": [],
   "source": [
    "score_data.drop(['총합','평균'], axis = 1, inplace = True)\n",
    "print(score_data)"
   ]
  },
  {
   "cell_type": "code",
   "execution_count": null,
   "id": "90478650",
   "metadata": {},
   "outputs": [],
   "source": [
    "# 최대값, 최소값의 차이를 계산해주는 사용자 정의 함수\n",
    "def calculate(x) :\n",
    "    return x.max() - x.min()"
   ]
  },
  {
   "cell_type": "code",
   "execution_count": null,
   "id": "12c11cea",
   "metadata": {},
   "outputs": [],
   "source": [
    "# DataFrame 내 전체 데이터에서 각 과목의 최대점수와 최소점수의 차이를 구하는 로직을 만들어 보자!\n",
    "score_data.apply(calculate, axis = 1)"
   ]
  },
  {
   "cell_type": "markdown",
   "id": "6db52a3e",
   "metadata": {},
   "source": [
    "- apply 함수에는 반드시 사용자 정의 함수가 포함되어야 함!"
   ]
  },
  {
   "cell_type": "markdown",
   "id": "c61dbd15",
   "metadata": {},
   "source": [
    "### concat()\n",
    "- Series나 DataFrame을 병합할 때 사용"
   ]
  },
  {
   "cell_type": "code",
   "execution_count": null,
   "id": "61f64673",
   "metadata": {},
   "outputs": [],
   "source": [
    "s1 = pd.Series([1, 2, 3, 4, 5])\n",
    "s2 = pd.Series(['female', 'female', 'male', 'male', 'female'])\n",
    "s3 = pd.Series([1, 0, 1, 0, 1])"
   ]
  },
  {
   "cell_type": "code",
   "execution_count": null,
   "id": "4c66efc4",
   "metadata": {},
   "outputs": [],
   "source": [
    "print(s2)"
   ]
  },
  {
   "cell_type": "code",
   "execution_count": null,
   "id": "83ab5089",
   "metadata": {
    "scrolled": true
   },
   "outputs": [],
   "source": [
    "print(pd.concat([s1, s2, s3]))  # axis = 0 이 디폴트 값 (위에서 아래쪽으로 합쳐짐)"
   ]
  },
  {
   "cell_type": "code",
   "execution_count": null,
   "id": "6ef268e6",
   "metadata": {},
   "outputs": [],
   "source": [
    "titanic = pd.concat([s1, s2, s3], axis = 1)\n",
    "titanic.columns = ['Passenger ID', 'Sex', 'Survived']\n",
    "print(titanic)"
   ]
  },
  {
   "cell_type": "markdown",
   "id": "d42b3a8b",
   "metadata": {},
   "source": [
    "### groupby()\n",
    "- 데이터를 그룹별로 묶어서 집계를 낼 수 있게 해주는 함수\n",
    "- 엑셀의 피벗테이블 기능과 같음"
   ]
  },
  {
   "cell_type": "code",
   "execution_count": null,
   "id": "6c3856fe",
   "metadata": {},
   "outputs": [],
   "source": [
    "# Sex 값에 따른 Survived 값의 합계 구하기 == 성별에 따른 생존자 수 확인하기\n",
    "# 뒤쪽에 붙여주는 함수로 .sum() 또는 count()도 가능\n",
    "titanic[['Sex', 'Survived']].groupby('Sex').sum()"
   ]
  },
  {
   "cell_type": "code",
   "execution_count": null,
   "id": "cf97055e",
   "metadata": {
    "scrolled": true
   },
   "outputs": [],
   "source": [
    "# Sex, Survived 값 기준으로 Passenger ID의 개수 세기\n",
    "# == 성별을 기준으로 생존자 수와 사망자 수를 카운트\n",
    "titanic.groupby(['Sex', 'Survived']).count()"
   ]
  },
  {
   "cell_type": "markdown",
   "id": "75be826f",
   "metadata": {},
   "source": [
    "## 6. Pandas 실습 예제!!!\n",
    "- 2015~2017년 광주광역시 범죄현장 데이터를 이용해 전년 대비 지역별 범죄 증감율을 구해보자!\n",
    "- (증감률 공식 = (금년 - 작년) / 작년 * 100)\n",
    "\n",
    "\n",
    "#### 6.1 데이터 로드\n",
    "- 인덱스 컬럼은 '관서명'으로 설정할 것\n",
    "- 인코딩은 'euc-kr'로 설정할 것"
   ]
  },
  {
   "cell_type": "code",
   "execution_count": 17,
   "id": "f288bac7",
   "metadata": {},
   "outputs": [],
   "source": [
    "import pandas as pd"
   ]
  },
  {
   "cell_type": "code",
   "execution_count": 18,
   "id": "e47592e2",
   "metadata": {},
   "outputs": [],
   "source": [
    "crime_2015 = pd.read_csv('data/2015.csv', encoding = 'euc-kr', index_col = '관서명')\n",
    "crime_2016 = pd.read_csv('data/2016.csv', encoding = 'euc-kr', index_col = '관서명')\n",
    "crime_2017 = pd.read_csv('data/2017.csv', encoding = 'euc-kr', index_col = '관서명')"
   ]
  },
  {
   "cell_type": "code",
   "execution_count": 19,
   "id": "61f2b223",
   "metadata": {
    "scrolled": true
   },
   "outputs": [
    {
     "name": "stderr",
     "output_type": "stream",
     "text": [
      "C:\\Users\\AI\\AppData\\Local\\Temp\\ipykernel_19616\\2904204920.py:4: SettingWithCopyWarning: \n",
      "A value is trying to be set on a copy of a slice from a DataFrame\n",
      "\n",
      "See the caveats in the documentation: https://pandas.pydata.org/pandas-docs/stable/user_guide/indexing.html#returning-a-view-versus-a-copy\n",
      "  raised_crime_2017.drop('광주지방경찰청', axis = 0, inplace = True)\n"
     ]
    }
   ],
   "source": [
    "raised_crime_2015 = crime_2015[crime_2015['구분'] == '발생건수']\n",
    "raised_crime_2016 = crime_2016[crime_2016['구분'] == '발생건수']\n",
    "raised_crime_2017 = crime_2017[crime_2017['구분'] == '발생건수']\n",
    "raised_crime_2017.drop('광주지방경찰청', axis = 0, inplace = True)"
   ]
  },
  {
   "cell_type": "code",
   "execution_count": 22,
   "id": "01da86c7",
   "metadata": {
    "scrolled": false
   },
   "outputs": [],
   "source": [
    "sum_2015 = pd.Series(raised_crime_2015.loc[:,'살인':'폭력'].sum(axis = 1))\n",
    "sum_2016 = pd.Series(raised_crime_2016.loc[:,'살인':'폭력'].sum(axis = 1))\n",
    "sum_2017 = pd.Series(raised_crime_2017.loc[:,'살인':'폭력'].sum(axis = 1))"
   ]
  },
  {
   "cell_type": "code",
   "execution_count": 21,
   "id": "7bd5fe8c",
   "metadata": {},
   "outputs": [
    {
     "data": {
      "text/html": [
       "<div>\n",
       "<style scoped>\n",
       "    .dataframe tbody tr th:only-of-type {\n",
       "        vertical-align: middle;\n",
       "    }\n",
       "\n",
       "    .dataframe tbody tr th {\n",
       "        vertical-align: top;\n",
       "    }\n",
       "\n",
       "    .dataframe thead th {\n",
       "        text-align: right;\n",
       "    }\n",
       "</style>\n",
       "<table border=\"1\" class=\"dataframe\">\n",
       "  <thead>\n",
       "    <tr style=\"text-align: right;\">\n",
       "      <th></th>\n",
       "      <th>2015총계</th>\n",
       "      <th>2015-16증감율</th>\n",
       "      <th>2016총계</th>\n",
       "      <th>2016-17증감율</th>\n",
       "      <th>2017총계</th>\n",
       "    </tr>\n",
       "    <tr>\n",
       "      <th>관서명</th>\n",
       "      <th></th>\n",
       "      <th></th>\n",
       "      <th></th>\n",
       "      <th></th>\n",
       "      <th></th>\n",
       "    </tr>\n",
       "  </thead>\n",
       "  <tbody>\n",
       "    <tr>\n",
       "      <th>광주지방경찰청계</th>\n",
       "      <td>18830</td>\n",
       "      <td>-18.130643</td>\n",
       "      <td>15416</td>\n",
       "      <td>-9.516087</td>\n",
       "      <td>13949</td>\n",
       "    </tr>\n",
       "    <tr>\n",
       "      <th>광주동부경찰서</th>\n",
       "      <td>2355</td>\n",
       "      <td>-12.186837</td>\n",
       "      <td>2068</td>\n",
       "      <td>-13.007737</td>\n",
       "      <td>1799</td>\n",
       "    </tr>\n",
       "    <tr>\n",
       "      <th>광주서부경찰서</th>\n",
       "      <td>4720</td>\n",
       "      <td>-17.542373</td>\n",
       "      <td>3892</td>\n",
       "      <td>-6.526208</td>\n",
       "      <td>3638</td>\n",
       "    </tr>\n",
       "    <tr>\n",
       "      <th>광주남부경찰서</th>\n",
       "      <td>2117</td>\n",
       "      <td>-11.903637</td>\n",
       "      <td>1865</td>\n",
       "      <td>-17.050938</td>\n",
       "      <td>1547</td>\n",
       "    </tr>\n",
       "    <tr>\n",
       "      <th>광주북부경찰서</th>\n",
       "      <td>5466</td>\n",
       "      <td>-24.112697</td>\n",
       "      <td>4148</td>\n",
       "      <td>-4.893925</td>\n",
       "      <td>3945</td>\n",
       "    </tr>\n",
       "    <tr>\n",
       "      <th>광주광산경찰서</th>\n",
       "      <td>4172</td>\n",
       "      <td>-17.473634</td>\n",
       "      <td>3443</td>\n",
       "      <td>-12.285797</td>\n",
       "      <td>3020</td>\n",
       "    </tr>\n",
       "  </tbody>\n",
       "</table>\n",
       "</div>"
      ],
      "text/plain": [
       "          2015총계  2015-16증감율  2016총계  2016-17증감율  2017총계\n",
       "관서명                                                     \n",
       "광주지방경찰청계   18830  -18.130643   15416   -9.516087   13949\n",
       "광주동부경찰서     2355  -12.186837    2068  -13.007737    1799\n",
       "광주서부경찰서     4720  -17.542373    3892   -6.526208    3638\n",
       "광주남부경찰서     2117  -11.903637    1865  -17.050938    1547\n",
       "광주북부경찰서     5466  -24.112697    4148   -4.893925    3945\n",
       "광주광산경찰서     4172  -17.473634    3443  -12.285797    3020"
      ]
     },
     "execution_count": 21,
     "metadata": {},
     "output_type": "execute_result"
    }
   ],
   "source": [
    "raised_rate_2016 = (sum_2016- sum_2015) / sum_2015 * 100\n",
    "raised_rate_2017 = (sum_2017- sum_2016) / sum_2016 * 100\n",
    "\n",
    "crime_data = pd.DataFrame({\n",
    "    '2015총계' : sum_2015,\n",
    "    '2015-16증감율' : raised_rate_2016,\n",
    "    '2016총계' : sum_2016,\n",
    "    '2016-17증감율' : raised_rate_2017,\n",
    "    '2017총계' : sum_2017\n",
    "})\n",
    "crime_data"
   ]
  },
  {
   "cell_type": "code",
   "execution_count": null,
   "id": "8b2dde44",
   "metadata": {},
   "outputs": [],
   "source": [
    "#######################3"
   ]
  },
  {
   "cell_type": "code",
   "execution_count": 9,
   "id": "be300561",
   "metadata": {},
   "outputs": [
    {
     "name": "stderr",
     "output_type": "stream",
     "text": [
      "C:\\Users\\AI\\AppData\\Local\\Temp\\ipykernel_19616\\3393977504.py:4: SettingWithCopyWarning: \n",
      "A value is trying to be set on a copy of a slice from a DataFrame\n",
      "\n",
      "See the caveats in the documentation: https://pandas.pydata.org/pandas-docs/stable/user_guide/indexing.html#returning-a-view-versus-a-copy\n",
      "  c7.drop('광주지방경찰청', axis = 0, inplace = True)\n"
     ]
    }
   ],
   "source": [
    "c5 = crime_2015[crime_2015['구분'] == '발생건수']\n",
    "c6 = crime_2016[crime_2016['구분'] == '발생건수']\n",
    "c7 = crime_2017[crime_2017['구분'] == '발생건수']\n",
    "c7.drop('광주지방경찰청', axis = 0, inplace = True)"
   ]
  },
  {
   "cell_type": "code",
   "execution_count": 15,
   "id": "b47a4140",
   "metadata": {
    "scrolled": true
   },
   "outputs": [
    {
     "name": "stderr",
     "output_type": "stream",
     "text": [
      "C:\\Users\\AI\\AppData\\Local\\Temp\\ipykernel_19616\\2451604716.py:1: SettingWithCopyWarning: \n",
      "A value is trying to be set on a copy of a slice from a DataFrame.\n",
      "Try using .loc[row_indexer,col_indexer] = value instead\n",
      "\n",
      "See the caveats in the documentation: https://pandas.pydata.org/pandas-docs/stable/user_guide/indexing.html#returning-a-view-versus-a-copy\n",
      "  c5['2015총계'] = c5.loc[:,'살인':'폭력'].sum(axis = 1)\n",
      "C:\\Users\\AI\\AppData\\Local\\Temp\\ipykernel_19616\\2451604716.py:2: SettingWithCopyWarning: \n",
      "A value is trying to be set on a copy of a slice from a DataFrame.\n",
      "Try using .loc[row_indexer,col_indexer] = value instead\n",
      "\n",
      "See the caveats in the documentation: https://pandas.pydata.org/pandas-docs/stable/user_guide/indexing.html#returning-a-view-versus-a-copy\n",
      "  c6['2016총계'] = c6.loc[:,'살인':'폭력'].sum(axis = 1)\n",
      "C:\\Users\\AI\\AppData\\Local\\Temp\\ipykernel_19616\\2451604716.py:3: SettingWithCopyWarning: \n",
      "A value is trying to be set on a copy of a slice from a DataFrame.\n",
      "Try using .loc[row_indexer,col_indexer] = value instead\n",
      "\n",
      "See the caveats in the documentation: https://pandas.pydata.org/pandas-docs/stable/user_guide/indexing.html#returning-a-view-versus-a-copy\n",
      "  c7['2017총계'] = c7.loc[:,'살인':'폭력'].sum(axis = 1)\n",
      "C:\\Users\\AI\\AppData\\Local\\Temp\\ipykernel_19616\\2451604716.py:4: SettingWithCopyWarning: \n",
      "A value is trying to be set on a copy of a slice from a DataFrame.\n",
      "Try using .loc[row_indexer,col_indexer] = value instead\n",
      "\n",
      "See the caveats in the documentation: https://pandas.pydata.org/pandas-docs/stable/user_guide/indexing.html#returning-a-view-versus-a-copy\n",
      "  c5['2015-16증감율'] = (c6['2016총계'] - c5['2015총계']) / c5['2015총계'] * 100\n",
      "C:\\Users\\AI\\AppData\\Local\\Temp\\ipykernel_19616\\2451604716.py:5: SettingWithCopyWarning: \n",
      "A value is trying to be set on a copy of a slice from a DataFrame.\n",
      "Try using .loc[row_indexer,col_indexer] = value instead\n",
      "\n",
      "See the caveats in the documentation: https://pandas.pydata.org/pandas-docs/stable/user_guide/indexing.html#returning-a-view-versus-a-copy\n",
      "  c6['2016-17증감율'] = (c7['2017총계'] - c6['2016총계']) / c6['2016총계'] * 100\n"
     ]
    }
   ],
   "source": [
    "c5['2015총계'] = c5.loc[:,'살인':'폭력'].sum(axis = 1)\n",
    "c6['2016총계'] = c6.loc[:,'살인':'폭력'].sum(axis = 1)\n",
    "c7['2017총계'] = c7.loc[:,'살인':'폭력'].sum(axis = 1)\n",
    "c5['2015-16증감율'] = (c6['2016총계'] - c5['2015총계']) / c5['2015총계'] * 100\n",
    "c6['2016-17증감율'] = (c7['2017총계'] - c6['2016총계']) / c6['2016총계'] * 100"
   ]
  },
  {
   "cell_type": "code",
   "execution_count": 16,
   "id": "d20b6191",
   "metadata": {},
   "outputs": [
    {
     "data": {
      "text/html": [
       "<div>\n",
       "<style scoped>\n",
       "    .dataframe tbody tr th:only-of-type {\n",
       "        vertical-align: middle;\n",
       "    }\n",
       "\n",
       "    .dataframe tbody tr th {\n",
       "        vertical-align: top;\n",
       "    }\n",
       "\n",
       "    .dataframe thead th {\n",
       "        text-align: right;\n",
       "    }\n",
       "</style>\n",
       "<table border=\"1\" class=\"dataframe\">\n",
       "  <thead>\n",
       "    <tr style=\"text-align: right;\">\n",
       "      <th></th>\n",
       "      <th>2015총계</th>\n",
       "      <th>2015-16증감율</th>\n",
       "      <th>2016총계</th>\n",
       "      <th>2016-17증감율</th>\n",
       "      <th>2017총계</th>\n",
       "    </tr>\n",
       "    <tr>\n",
       "      <th>관서명</th>\n",
       "      <th></th>\n",
       "      <th></th>\n",
       "      <th></th>\n",
       "      <th></th>\n",
       "      <th></th>\n",
       "    </tr>\n",
       "  </thead>\n",
       "  <tbody>\n",
       "    <tr>\n",
       "      <th>광주지방경찰청계</th>\n",
       "      <td>18830</td>\n",
       "      <td>-18.130643</td>\n",
       "      <td>15416</td>\n",
       "      <td>-9.516087</td>\n",
       "      <td>13949</td>\n",
       "    </tr>\n",
       "    <tr>\n",
       "      <th>광주동부경찰서</th>\n",
       "      <td>2355</td>\n",
       "      <td>-12.186837</td>\n",
       "      <td>2068</td>\n",
       "      <td>-13.007737</td>\n",
       "      <td>1799</td>\n",
       "    </tr>\n",
       "    <tr>\n",
       "      <th>광주서부경찰서</th>\n",
       "      <td>4720</td>\n",
       "      <td>-17.542373</td>\n",
       "      <td>3892</td>\n",
       "      <td>-6.526208</td>\n",
       "      <td>3638</td>\n",
       "    </tr>\n",
       "    <tr>\n",
       "      <th>광주남부경찰서</th>\n",
       "      <td>2117</td>\n",
       "      <td>-11.903637</td>\n",
       "      <td>1865</td>\n",
       "      <td>-17.050938</td>\n",
       "      <td>1547</td>\n",
       "    </tr>\n",
       "    <tr>\n",
       "      <th>광주북부경찰서</th>\n",
       "      <td>5466</td>\n",
       "      <td>-24.112697</td>\n",
       "      <td>4148</td>\n",
       "      <td>-4.893925</td>\n",
       "      <td>3945</td>\n",
       "    </tr>\n",
       "    <tr>\n",
       "      <th>광주광산경찰서</th>\n",
       "      <td>4172</td>\n",
       "      <td>-17.473634</td>\n",
       "      <td>3443</td>\n",
       "      <td>-12.285797</td>\n",
       "      <td>3020</td>\n",
       "    </tr>\n",
       "  </tbody>\n",
       "</table>\n",
       "</div>"
      ],
      "text/plain": [
       "          2015총계  2015-16증감율  2016총계  2016-17증감율  2017총계\n",
       "관서명                                                     \n",
       "광주지방경찰청계   18830  -18.130643   15416   -9.516087   13949\n",
       "광주동부경찰서     2355  -12.186837    2068  -13.007737    1799\n",
       "광주서부경찰서     4720  -17.542373    3892   -6.526208    3638\n",
       "광주남부경찰서     2117  -11.903637    1865  -17.050938    1547\n",
       "광주북부경찰서     5466  -24.112697    4148   -4.893925    3945\n",
       "광주광산경찰서     4172  -17.473634    3443  -12.285797    3020"
      ]
     },
     "execution_count": 16,
     "metadata": {},
     "output_type": "execute_result"
    }
   ],
   "source": [
    "crime_data = pd.concat([c5.iloc[:,-2:], c6.iloc[:,-2:], c7.iloc[:,-1:]], axis = 1)\n",
    "crime_data"
   ]
  },
  {
   "cell_type": "code",
   "execution_count": 23,
   "id": "e7f953ed",
   "metadata": {},
   "outputs": [],
   "source": [
    "def get_rate(df) : \n",
    "    return (df[1] - df[0]) / df[0] * 100"
   ]
  },
  {
   "cell_type": "code",
   "execution_count": null,
   "id": "77052cb9",
   "metadata": {},
   "outputs": [],
   "source": [
    "crime_data = pd.DataFrame({\n",
    "    '2015총계':\n",
    "})"
   ]
  },
  {
   "cell_type": "code",
   "execution_count": null,
   "id": "b30a0a8f",
   "metadata": {},
   "outputs": [],
   "source": []
  }
 ],
 "metadata": {
  "kernelspec": {
   "display_name": "Python 3 (ipykernel)",
   "language": "python",
   "name": "python3"
  },
  "language_info": {
   "codemirror_mode": {
    "name": "ipython",
    "version": 3
   },
   "file_extension": ".py",
   "mimetype": "text/x-python",
   "name": "python",
   "nbconvert_exporter": "python",
   "pygments_lexer": "ipython3",
   "version": "3.9.12"
  },
  "toc": {
   "base_numbering": 1,
   "nav_menu": {},
   "number_sections": false,
   "sideBar": true,
   "skip_h1_title": false,
   "title_cell": "Table of Contents",
   "title_sidebar": "Contents",
   "toc_cell": false,
   "toc_position": {},
   "toc_section_display": true,
   "toc_window_display": false
  }
 },
 "nbformat": 4,
 "nbformat_minor": 5
}
