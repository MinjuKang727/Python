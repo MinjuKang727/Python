{
 "cells": [
  {
   "cell_type": "code",
   "execution_count": 9,
   "id": "5fc353e7",
   "metadata": {},
   "outputs": [],
   "source": [
    "import pandas as pd"
   ]
  },
  {
   "cell_type": "code",
   "execution_count": 10,
   "id": "aa4da793",
   "metadata": {},
   "outputs": [
    {
     "name": "stdout",
     "output_type": "stream",
     "text": [
      "    1반  2반  3반  4반\n",
      "과목                \n",
      "수학  45  44  73  39\n",
      "영어  76  92  45  69\n",
      "국어  47  92  45  69\n",
      "사회  92  81  85  40\n",
      "과학  11  79  47  26\n"
     ]
    }
   ],
   "source": [
    "# 데이터 로드\n",
    "# CSV (Comma Seperated Values, ,(쉼표)로 구문된 데이터)\n",
    "# encoding : 컴퓨터가 글자를 인식할 수 있게 해주는 과정\n",
    "# 'euc-kr' : 한글 전용 인코딩 방식\n",
    "# index_col : 속성값에 해당하는 칼럼을 인덱스로 설정\n",
    "score_data = pd.read_csv('data/score.csv', encoding = 'euc-kr', index_col = '과목')\n",
    "print(score_data)"
   ]
  },
  {
   "cell_type": "markdown",
   "id": "bdbaaedd",
   "metadata": {},
   "source": [
    "## 5. Pandas 유용한 함수들\n",
    "\n",
    "### 정렬\n",
    "- index 및 칼럼명 기준 정렬 : sort_index()\n",
    "- 값 기준 정렬 : sort_values()"
   ]
  },
  {
   "cell_type": "code",
   "execution_count": 26,
   "id": "6825e2f1",
   "metadata": {},
   "outputs": [
    {
     "name": "stdout",
     "output_type": "stream",
     "text": [
      "     1반   2반   3반   4반\n",
      "과목                    \n",
      "수학   45   44   73   39\n",
      "영어   76   92   45   69\n",
      "국어   47   92   45   69\n",
      "사회   92   81   85   40\n",
      "과학   11   79   47   26\n",
      "총합  271  388  295  243\n"
     ]
    }
   ],
   "source": [
    "score_data = score_data.T\n",
    "print(score_data)"
   ]
  },
  {
   "cell_type": "markdown",
   "id": "9eefb64d",
   "metadata": {},
   "source": [
    "- index 및 칼럼명 기준 정렬"
   ]
  },
  {
   "cell_type": "code",
   "execution_count": 27,
   "id": "c32b09ce",
   "metadata": {},
   "outputs": [
    {
     "name": "stdout",
     "output_type": "stream",
     "text": [
      "     1반   2반   3반   4반\n",
      "과목                    \n",
      "과학   11   79   47   26\n",
      "국어   47   92   45   69\n",
      "사회   92   81   85   40\n",
      "수학   45   44   73   39\n",
      "영어   76   92   45   69\n",
      "총합  271  388  295  243\n"
     ]
    }
   ],
   "source": [
    "# index 기준 정렬\n",
    "# 한글일 경우 가나다 순\n",
    "# 디폴트 값은 오름차순\n",
    "print(score_data.sort_index())"
   ]
  },
  {
   "cell_type": "code",
   "execution_count": 28,
   "id": "ad029def",
   "metadata": {},
   "outputs": [
    {
     "name": "stdout",
     "output_type": "stream",
     "text": [
      "     1반   2반   3반   4반\n",
      "과목                    \n",
      "총합  271  388  295  243\n",
      "영어   76   92   45   69\n",
      "수학   45   44   73   39\n",
      "사회   92   81   85   40\n",
      "국어   47   92   45   69\n",
      "과학   11   79   47   26\n"
     ]
    }
   ],
   "source": [
    "# ascending : 오르다\n",
    "# ascending = False : 내림차순 정렬\n",
    "print(score_data.sort_index(ascending = False))"
   ]
  },
  {
   "cell_type": "code",
   "execution_count": 29,
   "id": "9276ba85",
   "metadata": {},
   "outputs": [
    {
     "name": "stdout",
     "output_type": "stream",
     "text": [
      "     1반   2반   3반   4반\n",
      "과목                    \n",
      "수학   45   44   73   39\n",
      "영어   76   92   45   69\n",
      "국어   47   92   45   69\n",
      "사회   92   81   85   40\n",
      "과학   11   79   47   26\n",
      "총합  271  388  295  243\n",
      "     4반   3반   2반   1반\n",
      "과목                    \n",
      "수학   39   73   44   45\n",
      "영어   69   45   92   76\n",
      "국어   69   45   92   47\n",
      "사회   40   85   81   92\n",
      "과학   26   47   79   11\n",
      "총합  243  295  388  271\n"
     ]
    }
   ],
   "source": [
    "# 컬럼명 기준 정렬\n",
    "# axis = 0 : 행 기준 / axis = 1 : 열 기준\n",
    "# drop() : axis = 0 행 drop/ axis = 1 : 열 drop\n",
    "# sort_index() : axis = 0 칼럼(세로 데이터 묶음) 정렬 / axis = 1 = 행(가로 데이터 묶음) 정렬\n",
    "print(score_data.sort_index(axis = 1))\n",
    "print(score_data.sort_index(axis = 1, ascending = False))"
   ]
  },
  {
   "cell_type": "markdown",
   "id": "2694b1b5",
   "metadata": {},
   "source": [
    "- value 기준 정렬"
   ]
  },
  {
   "cell_type": "code",
   "execution_count": 30,
   "id": "ea971fd7",
   "metadata": {},
   "outputs": [
    {
     "name": "stdout",
     "output_type": "stream",
     "text": [
      "     1반   2반   3반   4반\n",
      "과목                    \n",
      "영어   76   92   45   69\n",
      "국어   47   92   45   69\n",
      "과학   11   79   47   26\n",
      "수학   45   44   73   39\n",
      "사회   92   81   85   40\n",
      "총합  271  388  295  243\n",
      "     1반   2반   3반   4반\n",
      "과목                    \n",
      "총합  271  388  295  243\n",
      "사회   92   81   85   40\n",
      "수학   45   44   73   39\n",
      "과학   11   79   47   26\n",
      "영어   76   92   45   69\n",
      "국어   47   92   45   69\n"
     ]
    }
   ],
   "source": [
    "# DataFrame 컬럼이나 index가 여러개일 경우 그 기준을 설정해 주어야 함\n",
    "print(score_data.sort_values(by = '3반')) # 3반 값들이 오름차순으로 정렬\n",
    "# asceding = False : 내림차순 정렬\n",
    "print(score_data.sort_values(by = '3반', ascending = False))"
   ]
  },
  {
   "cell_type": "code",
   "execution_count": 31,
   "id": "128f1cd7",
   "metadata": {},
   "outputs": [
    {
     "name": "stdout",
     "output_type": "stream",
     "text": [
      "     1반   3반   2반   4반\n",
      "과목                    \n",
      "수학   45   73   44   39\n",
      "영어   76   45   92   69\n",
      "국어   47   45   92   69\n",
      "사회   92   85   81   40\n",
      "과학   11   47   79   26\n",
      "총합  271  295  388  243\n"
     ]
    }
   ],
   "source": [
    "# axis = 1 : 행 방향(가로) 기준 정렬\n",
    "print(score_data.sort_values('사회', axis = 1, ascending = False))"
   ]
  },
  {
   "cell_type": "markdown",
   "id": "5500bfff",
   "metadata": {},
   "source": [
    "### 정리\n",
    "- axis = 0(행 방향)일 경우는 기준을 컬럼명으로 잡음\n",
    "- axis = 1(열 방향)일 경우는 기준을 인덱스로 잡음"
   ]
  },
  {
   "cell_type": "code",
   "execution_count": 32,
   "id": "8ef1dc73",
   "metadata": {},
   "outputs": [
    {
     "name": "stdout",
     "output_type": "stream",
     "text": [
      "     1반   2반   3반   4반\n",
      "과목                    \n",
      "영어   76   92   45   69\n",
      "국어   47   92   45   69\n",
      "과학   11   79   47   26\n",
      "수학   45   44   73   39\n",
      "사회   92   81   85   40\n",
      "총합  271  388  295  243\n"
     ]
    }
   ],
   "source": [
    "# 3반 기준으로 정렬\n",
    "print(score_data.sort_values(by = '3반'))"
   ]
  },
  {
   "cell_type": "code",
   "execution_count": 33,
   "id": "e0d88373",
   "metadata": {
    "scrolled": true
   },
   "outputs": [
    {
     "name": "stdout",
     "output_type": "stream",
     "text": [
      "     1반   2반   3반   4반\n",
      "과목                    \n",
      "국어   47   92   45   69\n",
      "영어   76   92   45   69\n",
      "과학   11   79   47   26\n",
      "수학   45   44   73   39\n",
      "사회   92   81   85   40\n",
      "총합  271  388  295  243\n"
     ]
    }
   ],
   "source": [
    "# 디폴트 값으로 오름차순\n",
    "# 3반 기준으로 정렬 후, 그 중 같은 값들은 1반 기준으로 한번 더 정렬\n",
    "print(score_data.sort_values(by = ['3반', '1반']))"
   ]
  },
  {
   "cell_type": "markdown",
   "id": "6e72de4e",
   "metadata": {},
   "source": [
    "### sum()\n",
    "- axis 속성으로 행 총합, 또는 열 총합을 구할 수 있음\n",
    "- .sum(axis = 0) 하나하나의 칼럼에 대해 각 행의 값 총합\n",
    "- .sum(axis = 1) 하나하나의 열에 대해 각 열의 값 총합"
   ]
  },
  {
   "cell_type": "code",
   "execution_count": 34,
   "id": "3a2fefbb",
   "metadata": {},
   "outputs": [
    {
     "name": "stdout",
     "output_type": "stream",
     "text": [
      "1반    542\n",
      "2반    776\n",
      "3반    590\n",
      "4반    486\n",
      "dtype: int64\n"
     ]
    }
   ],
   "source": [
    "print(score_data.sum()) # 기본적으로 axis = 0 이 기본값으로 주어져 있음"
   ]
  },
  {
   "cell_type": "code",
   "execution_count": 35,
   "id": "0132164b",
   "metadata": {},
   "outputs": [
    {
     "name": "stdout",
     "output_type": "stream",
     "text": [
      "과목\n",
      "수학     201\n",
      "영어     282\n",
      "국어     253\n",
      "사회     298\n",
      "과학     163\n",
      "총합    1197\n",
      "dtype: int64\n"
     ]
    }
   ],
   "source": [
    "print(score_data.sum(axis = 1))"
   ]
  },
  {
   "cell_type": "markdown",
   "id": "c5c66dfe",
   "metadata": {},
   "source": [
    "- 과목별 합계를 구하여 DataFrame의 맨 우측에 '총합' 컬럼을 추가해보세요~!"
   ]
  },
  {
   "cell_type": "code",
   "execution_count": 36,
   "id": "129e0958",
   "metadata": {},
   "outputs": [
    {
     "name": "stdout",
     "output_type": "stream",
     "text": [
      "     1반   2반   3반   4반    총합\n",
      "과목                          \n",
      "수학   45   44   73   39   201\n",
      "영어   76   92   45   69   282\n",
      "국어   47   92   45   69   253\n",
      "사회   92   81   85   40   298\n",
      "과학   11   79   47   26   163\n",
      "총합  271  388  295  243  1197\n"
     ]
    }
   ],
   "source": [
    "score_data['총합'] = score_data.sum(axis = 1)\n",
    "print(score_data)"
   ]
  },
  {
   "cell_type": "markdown",
   "id": "e78398bc",
   "metadata": {},
   "source": [
    "### .mean()\n",
    "- 각 과목들의 평균을 구하고 DataFrame 우측에 '평균' 컬럼을 생성해보세요~!"
   ]
  },
  {
   "cell_type": "code",
   "execution_count": 37,
   "id": "fbbf9853",
   "metadata": {},
   "outputs": [
    {
     "name": "stdout",
     "output_type": "stream",
     "text": [
      "     1반   2반   3반   4반    총합      평균\n",
      "과목                                  \n",
      "수학   45   44   73   39   201   50.25\n",
      "영어   76   92   45   69   282   70.50\n",
      "국어   47   92   45   69   253   63.25\n",
      "사회   92   81   85   40   298   74.50\n",
      "과학   11   79   47   26   163   40.75\n",
      "총합  271  388  295  243  1197  299.25\n"
     ]
    }
   ],
   "source": [
    "score_data['평균'] = score_data.loc[:,'1반':'4반'].values.mean(axis = 1)\n",
    "print(score_data)"
   ]
  },
  {
   "cell_type": "code",
   "execution_count": 38,
   "id": "82a7f046",
   "metadata": {},
   "outputs": [
    {
     "name": "stdout",
     "output_type": "stream",
     "text": [
      "     1반   2반   3반   4반    총합      평균\n",
      "과목                                  \n",
      "수학   45   44   73   39   201   50.25\n",
      "영어   76   92   45   69   282   70.50\n",
      "국어   47   92   45   69   253   63.25\n",
      "사회   92   81   85   40   298   74.50\n",
      "과학   11   79   47   26   163   40.75\n",
      "총합  271  388  295  243  1197  299.25\n"
     ]
    }
   ],
   "source": [
    "score_data['평균'] = score_data.iloc[:,:4].values.mean(axis = 1)\n",
    "print(score_data)"
   ]
  },
  {
   "cell_type": "code",
   "execution_count": 39,
   "id": "0bc4ae37",
   "metadata": {},
   "outputs": [
    {
     "name": "stdout",
     "output_type": "stream",
     "text": [
      "     1반   2반   3반   4반    총합      평균\n",
      "과목                                  \n",
      "수학   45   44   73   39   201   50.25\n",
      "영어   76   92   45   69   282   70.50\n",
      "국어   47   92   45   69   253   63.25\n",
      "사회   92   81   85   40   298   74.50\n",
      "과학   11   79   47   26   163   40.75\n",
      "총합  271  388  295  243  1197  299.25\n"
     ]
    }
   ],
   "source": [
    "score_data['평균'] = score_data['총합'] / 4\n",
    "print(score_data)"
   ]
  },
  {
   "cell_type": "markdown",
   "id": "bd682f79",
   "metadata": {},
   "source": [
    "## min(), max()"
   ]
  },
  {
   "cell_type": "code",
   "execution_count": 40,
   "id": "a80f031c",
   "metadata": {},
   "outputs": [
    {
     "name": "stdout",
     "output_type": "stream",
     "text": [
      "271\n"
     ]
    }
   ],
   "source": [
    "# 1반에서 가장 높은 점수\n",
    "print(score_data['1반'].max())"
   ]
  },
  {
   "cell_type": "code",
   "execution_count": 41,
   "id": "689cbcf3",
   "metadata": {},
   "outputs": [
    {
     "name": "stdout",
     "output_type": "stream",
     "text": [
      "1반     271.00\n",
      "2반     388.00\n",
      "3반     295.00\n",
      "4반     243.00\n",
      "총합    1197.00\n",
      "평균     299.25\n",
      "dtype: float64\n"
     ]
    }
   ],
   "source": [
    "# axis = 0 : 각 칼럼(반별)의 최대값\n",
    "print(score_data[:].max())  # 기본(default)값 : axis = 0"
   ]
  },
  {
   "cell_type": "code",
   "execution_count": 42,
   "id": "3b921d85",
   "metadata": {},
   "outputs": [
    {
     "name": "stdout",
     "output_type": "stream",
     "text": [
      "과목\n",
      "수학     73\n",
      "영어     92\n",
      "국어     92\n",
      "사회     92\n",
      "과학     79\n",
      "총합    388\n",
      "dtype: int64\n"
     ]
    }
   ],
   "source": [
    "# 각 행(과목)의 최대값(총합, 평균 포함X)\n",
    "print(score_data.iloc[:, :4].max(axis = 1))"
   ]
  },
  {
   "cell_type": "code",
   "execution_count": 43,
   "id": "a96fb413",
   "metadata": {},
   "outputs": [
    {
     "name": "stdout",
     "output_type": "stream",
     "text": [
      "과목\n",
      "수학    73\n",
      "dtype: int64\n",
      "과목\n",
      "수학    73\n",
      "dtype: int64\n"
     ]
    }
   ],
   "source": [
    "# 전체 반 중에서 가장 높은 수학 점수를 구해보세요~!\n",
    "print(score_data.iloc[:1,:4].max(axis = 1))\n",
    "print(score_data.loc[:'수학',:'4반'].max(axis = 1))"
   ]
  },
  {
   "cell_type": "markdown",
   "id": "83b011c1",
   "metadata": {},
   "source": [
    "- 전체 과목 점수 중에서 과목별로 가장 큰 값과 작은 값의 차이를 구해보세요~!"
   ]
  },
  {
   "cell_type": "code",
   "execution_count": 44,
   "id": "7212bbb6",
   "metadata": {},
   "outputs": [
    {
     "name": "stdout",
     "output_type": "stream",
     "text": [
      "과목\n",
      "수학     34\n",
      "영어     47\n",
      "국어     47\n",
      "사회     52\n",
      "과학     68\n",
      "총합    145\n",
      "dtype: int64\n"
     ]
    }
   ],
   "source": [
    "sub_best = score_data.iloc[:,:4].max(axis = 1)\n",
    "sub_worst = score_data.iloc[:,:4].min(axis = 1)\n",
    "print(sub_best - sub_worst)"
   ]
  },
  {
   "cell_type": "code",
   "execution_count": 45,
   "id": "c641f749",
   "metadata": {},
   "outputs": [
    {
     "name": "stdout",
     "output_type": "stream",
     "text": [
      "과목\n",
      "수학     34\n",
      "영어     47\n",
      "국어     47\n",
      "사회     52\n",
      "과학     68\n",
      "총합    145\n",
      "dtype: int64\n"
     ]
    }
   ],
   "source": [
    "sub_best = score_data.loc[:,:'4반'].max(axis = 1)\n",
    "sub_worst = score_data.loc[:,:'4반'].min(axis = 1)\n",
    "print(sub_best - sub_worst)"
   ]
  },
  {
   "cell_type": "markdown",
   "id": "48e2b7ef",
   "metadata": {},
   "source": [
    "### count()"
   ]
  },
  {
   "cell_type": "code",
   "execution_count": 46,
   "id": "38f158c5",
   "metadata": {},
   "outputs": [
    {
     "name": "stdout",
     "output_type": "stream",
     "text": [
      "     1반   2반   3반   4반    총합      평균\n",
      "과목                                  \n",
      "수학   45   44   73   39   201   50.25\n",
      "영어   76   92   45   69   282   70.50\n",
      "국어   47   92   45   69   253   63.25\n",
      "사회   92   81   85   40   298   74.50\n",
      "과학   11   79   47   26   163   40.75\n",
      "총합  271  388  295  243  1197  299.25\n"
     ]
    }
   ],
   "source": [
    "print(score_data)"
   ]
  },
  {
   "cell_type": "code",
   "execution_count": 47,
   "id": "cc595c1a",
   "metadata": {},
   "outputs": [
    {
     "name": "stdout",
     "output_type": "stream",
     "text": [
      "1반    6\n",
      "2반    6\n",
      "3반    6\n",
      "4반    6\n",
      "총합    6\n",
      "평균    6\n",
      "dtype: int64\n"
     ]
    }
   ],
   "source": [
    "print(score_data.count())"
   ]
  },
  {
   "cell_type": "code",
   "execution_count": 48,
   "id": "106b3d97",
   "metadata": {},
   "outputs": [
    {
     "name": "stdout",
     "output_type": "stream",
     "text": [
      "과목\n",
      "수학    6\n",
      "영어    6\n",
      "국어    6\n",
      "사회    6\n",
      "과학    6\n",
      "총합    6\n",
      "dtype: int64\n"
     ]
    }
   ],
   "source": [
    "print(score_data.count(axis = 1))"
   ]
  },
  {
   "cell_type": "markdown",
   "id": "6555ee84",
   "metadata": {},
   "source": [
    "### info()\n",
    "- DataFrame에 대한 전체적인 정보를 출력"
   ]
  },
  {
   "cell_type": "code",
   "execution_count": 49,
   "id": "6d80fa5e",
   "metadata": {},
   "outputs": [
    {
     "name": "stdout",
     "output_type": "stream",
     "text": [
      "<class 'pandas.core.frame.DataFrame'>\n",
      "Index: 6 entries, 수학 to 총합\n",
      "Data columns (total 6 columns):\n",
      " #   Column  Non-Null Count  Dtype  \n",
      "---  ------  --------------  -----  \n",
      " 0   1반      6 non-null      int64  \n",
      " 1   2반      6 non-null      int64  \n",
      " 2   3반      6 non-null      int64  \n",
      " 3   4반      6 non-null      int64  \n",
      " 4   총합      6 non-null      int64  \n",
      " 5   평균      6 non-null      float64\n",
      "dtypes: float64(1), int64(5)\n",
      "memory usage: 508.0+ bytes\n"
     ]
    }
   ],
   "source": [
    "score_data.info()"
   ]
  },
  {
   "cell_type": "markdown",
   "id": "7262f066",
   "metadata": {},
   "source": [
    "### value_counts()\n",
    "- 특정 칼럼에 있는 데이터들의 유니크 값과 그 개수를 출력\n",
    "    - 1차원 배열에 대해서만 함수 사용하는 것을 추천(내 개인적 생각)"
   ]
  },
  {
   "cell_type": "code",
   "execution_count": 50,
   "id": "06786c30",
   "metadata": {},
   "outputs": [
    {
     "name": "stdout",
     "output_type": "stream",
     "text": [
      "  1교시 2교시 3교시  4교시\n",
      "0  집중  집중  집중   집중\n",
      "1  집중  집중  집중   졸림\n",
      "2  집중  집중  졸림  자냐?\n"
     ]
    }
   ],
   "source": [
    "df_test = pd.DataFrame([['집중','집중','집중','집중'],\n",
    "                        ['집중','집중','집중','졸림'],\n",
    "                        ['집중','집중','졸림','자냐?']\n",
    "                       ],\n",
    "                      columns = ['1교시', '2교시', '3교시', '4교시']\n",
    "                      )\n",
    "print(df_test)"
   ]
  },
  {
   "cell_type": "code",
   "execution_count": 51,
   "id": "e7b528c8",
   "metadata": {},
   "outputs": [
    {
     "name": "stdout",
     "output_type": "stream",
     "text": [
      "집중    2\n",
      "졸림    1\n",
      "Name: 3교시, dtype: int64\n"
     ]
    }
   ],
   "source": [
    "print(df_test['3교시'].value_counts())"
   ]
  },
  {
   "cell_type": "code",
   "execution_count": 52,
   "id": "676a0c5e",
   "metadata": {},
   "outputs": [
    {
     "name": "stdout",
     "output_type": "stream",
     "text": [
      "집중     1\n",
      "졸림     1\n",
      "자냐?    1\n",
      "Name: 4교시, dtype: int64\n"
     ]
    }
   ],
   "source": [
    "print(df_test['4교시'].value_counts())"
   ]
  },
  {
   "cell_type": "markdown",
   "id": "9fc680d1",
   "metadata": {},
   "source": [
    "### apply()\n",
    "- 사용자 정의 함수를 이용하여 행 또는 열에 복잡한 처리를 한 번에 해주는 함수\n",
    "\n",
    "#### 데이터프레임.apply(사용자정의함수, axis = 0 또는 1)"
   ]
  },
  {
   "cell_type": "code",
   "execution_count": 53,
   "id": "d204dc0b",
   "metadata": {},
   "outputs": [
    {
     "name": "stdout",
     "output_type": "stream",
     "text": [
      "     1반   2반   3반   4반\n",
      "과목                    \n",
      "수학   45   44   73   39\n",
      "영어   76   92   45   69\n",
      "국어   47   92   45   69\n",
      "사회   92   81   85   40\n",
      "과학   11   79   47   26\n",
      "총합  271  388  295  243\n"
     ]
    }
   ],
   "source": [
    "score_data.drop(['총합','평균'], axis = 1, inplace = True)\n",
    "print(score_data)"
   ]
  },
  {
   "cell_type": "code",
   "execution_count": 54,
   "id": "90478650",
   "metadata": {},
   "outputs": [],
   "source": [
    "# 최대값, 최소값의 차이를 계산해주는 사용자 정의 함수\n",
    "def calculate(x) :\n",
    "    return x.max() - x.min()"
   ]
  },
  {
   "cell_type": "code",
   "execution_count": 55,
   "id": "12c11cea",
   "metadata": {},
   "outputs": [
    {
     "data": {
      "text/plain": [
       "과목\n",
       "수학     34\n",
       "영어     47\n",
       "국어     47\n",
       "사회     52\n",
       "과학     68\n",
       "총합    145\n",
       "dtype: int64"
      ]
     },
     "execution_count": 55,
     "metadata": {},
     "output_type": "execute_result"
    }
   ],
   "source": [
    "# DataFrame 내 전체 데이터에서 각 과목의 최대점수와 최소점수의 차이를 구하는 로직을 만들어 보자!\n",
    "score_data.apply(calculate, axis = 1)"
   ]
  },
  {
   "cell_type": "markdown",
   "id": "6db52a3e",
   "metadata": {},
   "source": [
    "- apply 함수에는 반드시 사용자 정의 함수가 포함되어야 함!"
   ]
  },
  {
   "cell_type": "markdown",
   "id": "c61dbd15",
   "metadata": {},
   "source": [
    "### concat()\n",
    "- Series나 DataFrame을 병합할 때 사용"
   ]
  },
  {
   "cell_type": "code",
   "execution_count": 56,
   "id": "61f64673",
   "metadata": {},
   "outputs": [],
   "source": [
    "s1 = pd.Series([1, 2, 3, 4, 5])\n",
    "s2 = pd.Series(['female', 'female', 'male', 'male', 'female'])\n",
    "s3 = pd.Series([1, 0, 1, 0, 1])"
   ]
  },
  {
   "cell_type": "code",
   "execution_count": 57,
   "id": "4c66efc4",
   "metadata": {},
   "outputs": [
    {
     "name": "stdout",
     "output_type": "stream",
     "text": [
      "0    female\n",
      "1    female\n",
      "2      male\n",
      "3      male\n",
      "4    female\n",
      "dtype: object\n"
     ]
    }
   ],
   "source": [
    "print(s2)"
   ]
  },
  {
   "cell_type": "code",
   "execution_count": 58,
   "id": "83ab5089",
   "metadata": {
    "scrolled": true
   },
   "outputs": [
    {
     "name": "stdout",
     "output_type": "stream",
     "text": [
      "0         1\n",
      "1         2\n",
      "2         3\n",
      "3         4\n",
      "4         5\n",
      "0    female\n",
      "1    female\n",
      "2      male\n",
      "3      male\n",
      "4    female\n",
      "0         1\n",
      "1         0\n",
      "2         1\n",
      "3         0\n",
      "4         1\n",
      "dtype: object\n"
     ]
    }
   ],
   "source": [
    "print(pd.concat([s1, s2, s3]))  # axis = 0 이 디폴트 값 (위에서 아래쪽으로 합쳐짐)"
   ]
  },
  {
   "cell_type": "code",
   "execution_count": 59,
   "id": "6ef268e6",
   "metadata": {},
   "outputs": [
    {
     "name": "stdout",
     "output_type": "stream",
     "text": [
      "   Passenger ID     Sex  Survived\n",
      "0             1  female         1\n",
      "1             2  female         0\n",
      "2             3    male         1\n",
      "3             4    male         0\n",
      "4             5  female         1\n"
     ]
    }
   ],
   "source": [
    "titanic = pd.concat([s1, s2, s3], axis = 1)\n",
    "titanic.columns = ['Passenger ID', 'Sex', 'Survived']\n",
    "print(titanic)"
   ]
  },
  {
   "cell_type": "markdown",
   "id": "d42b3a8b",
   "metadata": {},
   "source": [
    "### groupby()\n",
    "- 데이터를 그룹별로 묶어서 집계를 낼 수 있게 해주는 함수\n",
    "- 엑셀의 피벗테이블 기능과 같음"
   ]
  },
  {
   "cell_type": "code",
   "execution_count": 60,
   "id": "6c3856fe",
   "metadata": {},
   "outputs": [
    {
     "data": {
      "text/html": [
       "<div>\n",
       "<style scoped>\n",
       "    .dataframe tbody tr th:only-of-type {\n",
       "        vertical-align: middle;\n",
       "    }\n",
       "\n",
       "    .dataframe tbody tr th {\n",
       "        vertical-align: top;\n",
       "    }\n",
       "\n",
       "    .dataframe thead th {\n",
       "        text-align: right;\n",
       "    }\n",
       "</style>\n",
       "<table border=\"1\" class=\"dataframe\">\n",
       "  <thead>\n",
       "    <tr style=\"text-align: right;\">\n",
       "      <th></th>\n",
       "      <th>Survived</th>\n",
       "    </tr>\n",
       "    <tr>\n",
       "      <th>Sex</th>\n",
       "      <th></th>\n",
       "    </tr>\n",
       "  </thead>\n",
       "  <tbody>\n",
       "    <tr>\n",
       "      <th>female</th>\n",
       "      <td>2</td>\n",
       "    </tr>\n",
       "    <tr>\n",
       "      <th>male</th>\n",
       "      <td>1</td>\n",
       "    </tr>\n",
       "  </tbody>\n",
       "</table>\n",
       "</div>"
      ],
      "text/plain": [
       "        Survived\n",
       "Sex             \n",
       "female         2\n",
       "male           1"
      ]
     },
     "execution_count": 60,
     "metadata": {},
     "output_type": "execute_result"
    }
   ],
   "source": [
    "# Sex 값에 따른 Survived 값의 합계 구하기 == 성별에 따른 생존자 수 확인하기\n",
    "# 뒤쪽에 붙여주는 함수로 .sum() 또는 count()도 가능\n",
    "titanic[['Sex', 'Survived']].groupby('Sex').sum()"
   ]
  },
  {
   "cell_type": "code",
   "execution_count": 61,
   "id": "cf97055e",
   "metadata": {
    "scrolled": true
   },
   "outputs": [
    {
     "data": {
      "text/html": [
       "<div>\n",
       "<style scoped>\n",
       "    .dataframe tbody tr th:only-of-type {\n",
       "        vertical-align: middle;\n",
       "    }\n",
       "\n",
       "    .dataframe tbody tr th {\n",
       "        vertical-align: top;\n",
       "    }\n",
       "\n",
       "    .dataframe thead th {\n",
       "        text-align: right;\n",
       "    }\n",
       "</style>\n",
       "<table border=\"1\" class=\"dataframe\">\n",
       "  <thead>\n",
       "    <tr style=\"text-align: right;\">\n",
       "      <th></th>\n",
       "      <th></th>\n",
       "      <th>Passenger ID</th>\n",
       "    </tr>\n",
       "    <tr>\n",
       "      <th>Sex</th>\n",
       "      <th>Survived</th>\n",
       "      <th></th>\n",
       "    </tr>\n",
       "  </thead>\n",
       "  <tbody>\n",
       "    <tr>\n",
       "      <th rowspan=\"2\" valign=\"top\">female</th>\n",
       "      <th>0</th>\n",
       "      <td>1</td>\n",
       "    </tr>\n",
       "    <tr>\n",
       "      <th>1</th>\n",
       "      <td>2</td>\n",
       "    </tr>\n",
       "    <tr>\n",
       "      <th rowspan=\"2\" valign=\"top\">male</th>\n",
       "      <th>0</th>\n",
       "      <td>1</td>\n",
       "    </tr>\n",
       "    <tr>\n",
       "      <th>1</th>\n",
       "      <td>1</td>\n",
       "    </tr>\n",
       "  </tbody>\n",
       "</table>\n",
       "</div>"
      ],
      "text/plain": [
       "                 Passenger ID\n",
       "Sex    Survived              \n",
       "female 0                    1\n",
       "       1                    2\n",
       "male   0                    1\n",
       "       1                    1"
      ]
     },
     "execution_count": 61,
     "metadata": {},
     "output_type": "execute_result"
    }
   ],
   "source": [
    "# Sex, Survived 값 기준으로 Passenger ID의 개수 세기\n",
    "# == 성별을 기준으로 생존자 수와 사망자 수를 카운트\n",
    "titanic.groupby(['Sex', 'Survived']).count()"
   ]
  },
  {
   "cell_type": "markdown",
   "id": "2bed50fe",
   "metadata": {},
   "source": [
    "## 6. Pandas 실습 예제!!!\n",
    "- 2015~2017년 광주광역시 범죄현장 데이터를 이용해 전년 대비 지역별 범죄 증감율을 구해보자!\n",
    "- (증감률 공식 = (금년 - 작년) / 작년 * 100)\n",
    "\n",
    "\n",
    "#### 6.1 데이터 로드\n",
    "- 인덱스 컬럼은 '관서명'으로 설정할 것\n",
    "- 인코딩은 'euc-kr'로 설정할 것"
   ]
  },
  {
   "cell_type": "code",
   "execution_count": 62,
   "id": "cfcf5ace",
   "metadata": {},
   "outputs": [],
   "source": [
    "import pandas as pd"
   ]
  },
  {
   "cell_type": "code",
   "execution_count": 63,
   "id": "e47592e2",
   "metadata": {},
   "outputs": [],
   "source": [
    "crime_2015 = pd.read_csv('data/2015.csv', encoding = 'euc-kr', index_col = '관서명')\n",
    "crime_2016 = pd.read_csv('data/2016.csv', encoding = 'euc-kr', index_col = '관서명')\n",
    "crime_2017 = pd.read_csv('data/2017.csv', encoding = 'euc-kr', index_col = '관서명')"
   ]
  },
  {
   "cell_type": "code",
   "execution_count": 64,
   "id": "61f2b223",
   "metadata": {
    "scrolled": true
   },
   "outputs": [
    {
     "name": "stderr",
     "output_type": "stream",
     "text": [
      "C:\\Users\\AI\\AppData\\Local\\Temp\\ipykernel_16924\\2904204920.py:4: SettingWithCopyWarning: \n",
      "A value is trying to be set on a copy of a slice from a DataFrame\n",
      "\n",
      "See the caveats in the documentation: https://pandas.pydata.org/pandas-docs/stable/user_guide/indexing.html#returning-a-view-versus-a-copy\n",
      "  raised_crime_2017.drop('광주지방경찰청', axis = 0, inplace = True)\n"
     ]
    }
   ],
   "source": [
    "raised_crime_2015 = crime_2015[crime_2015['구분'] == '발생건수']\n",
    "raised_crime_2016 = crime_2016[crime_2016['구분'] == '발생건수']\n",
    "raised_crime_2017 = crime_2017[crime_2017['구분'] == '발생건수']\n",
    "raised_crime_2017.drop('광주지방경찰청', axis = 0, inplace = True)"
   ]
  },
  {
   "cell_type": "code",
   "execution_count": 65,
   "id": "469d217b",
   "metadata": {},
   "outputs": [
    {
     "data": {
      "text/html": [
       "<div>\n",
       "<style scoped>\n",
       "    .dataframe tbody tr th:only-of-type {\n",
       "        vertical-align: middle;\n",
       "    }\n",
       "\n",
       "    .dataframe tbody tr th {\n",
       "        vertical-align: top;\n",
       "    }\n",
       "\n",
       "    .dataframe thead th {\n",
       "        text-align: right;\n",
       "    }\n",
       "</style>\n",
       "<table border=\"1\" class=\"dataframe\">\n",
       "  <thead>\n",
       "    <tr style=\"text-align: right;\">\n",
       "      <th></th>\n",
       "      <th>구분</th>\n",
       "      <th>살인</th>\n",
       "      <th>강도</th>\n",
       "      <th>강간·강제추행</th>\n",
       "      <th>절도</th>\n",
       "      <th>폭력</th>\n",
       "    </tr>\n",
       "    <tr>\n",
       "      <th>관서명</th>\n",
       "      <th></th>\n",
       "      <th></th>\n",
       "      <th></th>\n",
       "      <th></th>\n",
       "      <th></th>\n",
       "      <th></th>\n",
       "    </tr>\n",
       "  </thead>\n",
       "  <tbody>\n",
       "    <tr>\n",
       "      <th>광주지방경찰청계</th>\n",
       "      <td>발생건수</td>\n",
       "      <td>18</td>\n",
       "      <td>44</td>\n",
       "      <td>750</td>\n",
       "      <td>8425</td>\n",
       "      <td>9593</td>\n",
       "    </tr>\n",
       "    <tr>\n",
       "      <th>광주동부경찰서</th>\n",
       "      <td>발생건수</td>\n",
       "      <td>3</td>\n",
       "      <td>5</td>\n",
       "      <td>92</td>\n",
       "      <td>1100</td>\n",
       "      <td>1155</td>\n",
       "    </tr>\n",
       "    <tr>\n",
       "      <th>광주서부경찰서</th>\n",
       "      <td>발생건수</td>\n",
       "      <td>5</td>\n",
       "      <td>10</td>\n",
       "      <td>172</td>\n",
       "      <td>2050</td>\n",
       "      <td>2483</td>\n",
       "    </tr>\n",
       "    <tr>\n",
       "      <th>광주남부경찰서</th>\n",
       "      <td>발생건수</td>\n",
       "      <td>1</td>\n",
       "      <td>3</td>\n",
       "      <td>70</td>\n",
       "      <td>962</td>\n",
       "      <td>1081</td>\n",
       "    </tr>\n",
       "    <tr>\n",
       "      <th>광주북부경찰서</th>\n",
       "      <td>발생건수</td>\n",
       "      <td>5</td>\n",
       "      <td>14</td>\n",
       "      <td>256</td>\n",
       "      <td>2570</td>\n",
       "      <td>2621</td>\n",
       "    </tr>\n",
       "    <tr>\n",
       "      <th>광주광산경찰서</th>\n",
       "      <td>발생건수</td>\n",
       "      <td>4</td>\n",
       "      <td>12</td>\n",
       "      <td>160</td>\n",
       "      <td>1743</td>\n",
       "      <td>2253</td>\n",
       "    </tr>\n",
       "  </tbody>\n",
       "</table>\n",
       "</div>"
      ],
      "text/plain": [
       "            구분  살인  강도  강간·강제추행    절도    폭력\n",
       "관서명                                        \n",
       "광주지방경찰청계  발생건수  18  44      750  8425  9593\n",
       "광주동부경찰서   발생건수   3   5       92  1100  1155\n",
       "광주서부경찰서   발생건수   5  10      172  2050  2483\n",
       "광주남부경찰서   발생건수   1   3       70   962  1081\n",
       "광주북부경찰서   발생건수   5  14      256  2570  2621\n",
       "광주광산경찰서   발생건수   4  12      160  1743  2253"
      ]
     },
     "execution_count": 65,
     "metadata": {},
     "output_type": "execute_result"
    }
   ],
   "source": [
    "raised_crime_2015"
   ]
  },
  {
   "cell_type": "code",
   "execution_count": 66,
   "id": "83e7520b",
   "metadata": {},
   "outputs": [
    {
     "data": {
      "text/html": [
       "<div>\n",
       "<style scoped>\n",
       "    .dataframe tbody tr th:only-of-type {\n",
       "        vertical-align: middle;\n",
       "    }\n",
       "\n",
       "    .dataframe tbody tr th {\n",
       "        vertical-align: top;\n",
       "    }\n",
       "\n",
       "    .dataframe thead th {\n",
       "        text-align: right;\n",
       "    }\n",
       "</style>\n",
       "<table border=\"1\" class=\"dataframe\">\n",
       "  <thead>\n",
       "    <tr style=\"text-align: right;\">\n",
       "      <th></th>\n",
       "      <th>구분</th>\n",
       "      <th>살인</th>\n",
       "      <th>강도</th>\n",
       "      <th>강간·강제추행</th>\n",
       "      <th>절도</th>\n",
       "      <th>폭력</th>\n",
       "    </tr>\n",
       "    <tr>\n",
       "      <th>관서명</th>\n",
       "      <th></th>\n",
       "      <th></th>\n",
       "      <th></th>\n",
       "      <th></th>\n",
       "      <th></th>\n",
       "      <th></th>\n",
       "    </tr>\n",
       "  </thead>\n",
       "  <tbody>\n",
       "    <tr>\n",
       "      <th>광주지방경찰청계</th>\n",
       "      <td>발생건수</td>\n",
       "      <td>17</td>\n",
       "      <td>47</td>\n",
       "      <td>701</td>\n",
       "      <td>6052</td>\n",
       "      <td>8599</td>\n",
       "    </tr>\n",
       "    <tr>\n",
       "      <th>광주동부경찰서</th>\n",
       "      <td>발생건수</td>\n",
       "      <td>3</td>\n",
       "      <td>8</td>\n",
       "      <td>83</td>\n",
       "      <td>832</td>\n",
       "      <td>1142</td>\n",
       "    </tr>\n",
       "    <tr>\n",
       "      <th>광주서부경찰서</th>\n",
       "      <td>발생건수</td>\n",
       "      <td>2</td>\n",
       "      <td>11</td>\n",
       "      <td>174</td>\n",
       "      <td>1417</td>\n",
       "      <td>2288</td>\n",
       "    </tr>\n",
       "    <tr>\n",
       "      <th>광주남부경찰서</th>\n",
       "      <td>발생건수</td>\n",
       "      <td>1</td>\n",
       "      <td>4</td>\n",
       "      <td>64</td>\n",
       "      <td>768</td>\n",
       "      <td>1028</td>\n",
       "    </tr>\n",
       "    <tr>\n",
       "      <th>광주북부경찰서</th>\n",
       "      <td>발생건수</td>\n",
       "      <td>6</td>\n",
       "      <td>7</td>\n",
       "      <td>205</td>\n",
       "      <td>1788</td>\n",
       "      <td>2142</td>\n",
       "    </tr>\n",
       "    <tr>\n",
       "      <th>광주광산경찰서</th>\n",
       "      <td>발생건수</td>\n",
       "      <td>5</td>\n",
       "      <td>17</td>\n",
       "      <td>175</td>\n",
       "      <td>1247</td>\n",
       "      <td>1999</td>\n",
       "    </tr>\n",
       "  </tbody>\n",
       "</table>\n",
       "</div>"
      ],
      "text/plain": [
       "            구분  살인  강도  강간·강제추행    절도    폭력\n",
       "관서명                                        \n",
       "광주지방경찰청계  발생건수  17  47      701  6052  8599\n",
       "광주동부경찰서   발생건수   3   8       83   832  1142\n",
       "광주서부경찰서   발생건수   2  11      174  1417  2288\n",
       "광주남부경찰서   발생건수   1   4       64   768  1028\n",
       "광주북부경찰서   발생건수   6   7      205  1788  2142\n",
       "광주광산경찰서   발생건수   5  17      175  1247  1999"
      ]
     },
     "execution_count": 66,
     "metadata": {},
     "output_type": "execute_result"
    }
   ],
   "source": [
    "raised_crime_2016"
   ]
  },
  {
   "cell_type": "code",
   "execution_count": 67,
   "id": "518a4b4a",
   "metadata": {
    "scrolled": true
   },
   "outputs": [
    {
     "data": {
      "text/html": [
       "<div>\n",
       "<style scoped>\n",
       "    .dataframe tbody tr th:only-of-type {\n",
       "        vertical-align: middle;\n",
       "    }\n",
       "\n",
       "    .dataframe tbody tr th {\n",
       "        vertical-align: top;\n",
       "    }\n",
       "\n",
       "    .dataframe thead th {\n",
       "        text-align: right;\n",
       "    }\n",
       "</style>\n",
       "<table border=\"1\" class=\"dataframe\">\n",
       "  <thead>\n",
       "    <tr style=\"text-align: right;\">\n",
       "      <th></th>\n",
       "      <th>구분</th>\n",
       "      <th>살인</th>\n",
       "      <th>강도</th>\n",
       "      <th>강간·강제추행</th>\n",
       "      <th>절도</th>\n",
       "      <th>폭력</th>\n",
       "    </tr>\n",
       "    <tr>\n",
       "      <th>관서명</th>\n",
       "      <th></th>\n",
       "      <th></th>\n",
       "      <th></th>\n",
       "      <th></th>\n",
       "      <th></th>\n",
       "      <th></th>\n",
       "    </tr>\n",
       "  </thead>\n",
       "  <tbody>\n",
       "    <tr>\n",
       "      <th>광주지방경찰청계</th>\n",
       "      <td>발생건수</td>\n",
       "      <td>9</td>\n",
       "      <td>33</td>\n",
       "      <td>725</td>\n",
       "      <td>4816</td>\n",
       "      <td>8366</td>\n",
       "    </tr>\n",
       "    <tr>\n",
       "      <th>광주동부경찰서</th>\n",
       "      <td>발생건수</td>\n",
       "      <td>3</td>\n",
       "      <td>5</td>\n",
       "      <td>77</td>\n",
       "      <td>624</td>\n",
       "      <td>1090</td>\n",
       "    </tr>\n",
       "    <tr>\n",
       "      <th>광주서부경찰서</th>\n",
       "      <td>발생건수</td>\n",
       "      <td>0</td>\n",
       "      <td>7</td>\n",
       "      <td>196</td>\n",
       "      <td>1142</td>\n",
       "      <td>2293</td>\n",
       "    </tr>\n",
       "    <tr>\n",
       "      <th>광주남부경찰서</th>\n",
       "      <td>발생건수</td>\n",
       "      <td>0</td>\n",
       "      <td>4</td>\n",
       "      <td>68</td>\n",
       "      <td>577</td>\n",
       "      <td>898</td>\n",
       "    </tr>\n",
       "    <tr>\n",
       "      <th>광주북부경찰서</th>\n",
       "      <td>발생건수</td>\n",
       "      <td>3</td>\n",
       "      <td>5</td>\n",
       "      <td>215</td>\n",
       "      <td>1546</td>\n",
       "      <td>2176</td>\n",
       "    </tr>\n",
       "    <tr>\n",
       "      <th>광주광산경찰서</th>\n",
       "      <td>발생건수</td>\n",
       "      <td>3</td>\n",
       "      <td>12</td>\n",
       "      <td>169</td>\n",
       "      <td>927</td>\n",
       "      <td>1909</td>\n",
       "    </tr>\n",
       "  </tbody>\n",
       "</table>\n",
       "</div>"
      ],
      "text/plain": [
       "            구분  살인  강도  강간·강제추행    절도    폭력\n",
       "관서명                                        \n",
       "광주지방경찰청계  발생건수   9  33      725  4816  8366\n",
       "광주동부경찰서   발생건수   3   5       77   624  1090\n",
       "광주서부경찰서   발생건수   0   7      196  1142  2293\n",
       "광주남부경찰서   발생건수   0   4       68   577   898\n",
       "광주북부경찰서   발생건수   3   5      215  1546  2176\n",
       "광주광산경찰서   발생건수   3  12      169   927  1909"
      ]
     },
     "execution_count": 67,
     "metadata": {},
     "output_type": "execute_result"
    }
   ],
   "source": [
    "raised_crime_2017"
   ]
  },
  {
   "cell_type": "code",
   "execution_count": 68,
   "id": "c319bab2",
   "metadata": {
    "scrolled": false
   },
   "outputs": [
    {
     "name": "stdout",
     "output_type": "stream",
     "text": [
      "관서명\n",
      "광주지방경찰청계    18830\n",
      "광주동부경찰서      2355\n",
      "광주서부경찰서      4720\n",
      "광주남부경찰서      2117\n",
      "광주북부경찰서      5466\n",
      "광주광산경찰서      4172\n",
      "dtype: int64\n",
      "관서명\n",
      "광주지방경찰청계    15416\n",
      "광주동부경찰서      2068\n",
      "광주서부경찰서      3892\n",
      "광주남부경찰서      1865\n",
      "광주북부경찰서      4148\n",
      "광주광산경찰서      3443\n",
      "dtype: int64\n",
      "관서명\n",
      "광주지방경찰청계    13949\n",
      "광주동부경찰서      1799\n",
      "광주서부경찰서      3638\n",
      "광주남부경찰서      1547\n",
      "광주북부경찰서      3945\n",
      "광주광산경찰서      3020\n",
      "dtype: int64\n"
     ]
    }
   ],
   "source": [
    "sum_2015 = pd.Series(raised_crime_2015.loc[:,'살인':'폭력'].sum(axis = 1))\n",
    "sum_2016 = pd.Series(raised_crime_2016.loc[:,'살인':'폭력'].sum(axis = 1))\n",
    "sum_2017 = pd.Series(raised_crime_2017.loc[:,'살인':'폭력'].sum(axis = 1))\n",
    "print(sum_2015)\n",
    "print(sum_2016)\n",
    "print(sum_2017)"
   ]
  },
  {
   "cell_type": "code",
   "execution_count": 71,
   "id": "7bd5fe8c",
   "metadata": {},
   "outputs": [
    {
     "data": {
      "text/html": [
       "<div>\n",
       "<style scoped>\n",
       "    .dataframe tbody tr th:only-of-type {\n",
       "        vertical-align: middle;\n",
       "    }\n",
       "\n",
       "    .dataframe tbody tr th {\n",
       "        vertical-align: top;\n",
       "    }\n",
       "\n",
       "    .dataframe thead th {\n",
       "        text-align: right;\n",
       "    }\n",
       "</style>\n",
       "<table border=\"1\" class=\"dataframe\">\n",
       "  <thead>\n",
       "    <tr style=\"text-align: right;\">\n",
       "      <th></th>\n",
       "      <th>2015총계</th>\n",
       "      <th>2015-16증감율</th>\n",
       "      <th>2016총계</th>\n",
       "      <th>2016-17증감율</th>\n",
       "      <th>2017총계</th>\n",
       "    </tr>\n",
       "    <tr>\n",
       "      <th>관서명</th>\n",
       "      <th></th>\n",
       "      <th></th>\n",
       "      <th></th>\n",
       "      <th></th>\n",
       "      <th></th>\n",
       "    </tr>\n",
       "  </thead>\n",
       "  <tbody>\n",
       "    <tr>\n",
       "      <th>광주지방경찰청계</th>\n",
       "      <td>18830</td>\n",
       "      <td>-18.130643</td>\n",
       "      <td>15416</td>\n",
       "      <td>-9.516087</td>\n",
       "      <td>13949</td>\n",
       "    </tr>\n",
       "    <tr>\n",
       "      <th>광주동부경찰서</th>\n",
       "      <td>2355</td>\n",
       "      <td>-12.186837</td>\n",
       "      <td>2068</td>\n",
       "      <td>-13.007737</td>\n",
       "      <td>1799</td>\n",
       "    </tr>\n",
       "    <tr>\n",
       "      <th>광주서부경찰서</th>\n",
       "      <td>4720</td>\n",
       "      <td>-17.542373</td>\n",
       "      <td>3892</td>\n",
       "      <td>-6.526208</td>\n",
       "      <td>3638</td>\n",
       "    </tr>\n",
       "    <tr>\n",
       "      <th>광주남부경찰서</th>\n",
       "      <td>2117</td>\n",
       "      <td>-11.903637</td>\n",
       "      <td>1865</td>\n",
       "      <td>-17.050938</td>\n",
       "      <td>1547</td>\n",
       "    </tr>\n",
       "    <tr>\n",
       "      <th>광주북부경찰서</th>\n",
       "      <td>5466</td>\n",
       "      <td>-24.112697</td>\n",
       "      <td>4148</td>\n",
       "      <td>-4.893925</td>\n",
       "      <td>3945</td>\n",
       "    </tr>\n",
       "    <tr>\n",
       "      <th>광주광산경찰서</th>\n",
       "      <td>4172</td>\n",
       "      <td>-17.473634</td>\n",
       "      <td>3443</td>\n",
       "      <td>-12.285797</td>\n",
       "      <td>3020</td>\n",
       "    </tr>\n",
       "  </tbody>\n",
       "</table>\n",
       "</div>"
      ],
      "text/plain": [
       "          2015총계  2015-16증감율  2016총계  2016-17증감율  2017총계\n",
       "관서명                                                     \n",
       "광주지방경찰청계   18830  -18.130643   15416   -9.516087   13949\n",
       "광주동부경찰서     2355  -12.186837    2068  -13.007737    1799\n",
       "광주서부경찰서     4720  -17.542373    3892   -6.526208    3638\n",
       "광주남부경찰서     2117  -11.903637    1865  -17.050938    1547\n",
       "광주북부경찰서     5466  -24.112697    4148   -4.893925    3945\n",
       "광주광산경찰서     4172  -17.473634    3443  -12.285797    3020"
      ]
     },
     "execution_count": 71,
     "metadata": {},
     "output_type": "execute_result"
    }
   ],
   "source": [
    "raised_rate_2016 = (sum_2016- sum_2015) / sum_2015 * 100\n",
    "raised_rate_2017 = (sum_2017- sum_2016) / sum_2016 * 100\n",
    "\n",
    "crime_data = pd.DataFrame({\n",
    "    '2015총계' : sum_2015,\n",
    "    '2015-16증감율' : raised_rate_2016,\n",
    "    '2016총계' : sum_2016,\n",
    "    '2016-17증감율' : raised_rate_2017,\n",
    "    '2017총계' : sum_2017\n",
    "})\n",
    "crime_data"
   ]
  },
  {
   "cell_type": "code",
   "execution_count": null,
   "id": "8b2dde44",
   "metadata": {},
   "outputs": [],
   "source": []
  },
  {
   "cell_type": "code",
   "execution_count": 73,
   "id": "7af026cc",
   "metadata": {
    "scrolled": true
   },
   "outputs": [
    {
     "data": {
      "text/html": [
       "<div>\n",
       "<style scoped>\n",
       "    .dataframe tbody tr th:only-of-type {\n",
       "        vertical-align: middle;\n",
       "    }\n",
       "\n",
       "    .dataframe tbody tr th {\n",
       "        vertical-align: top;\n",
       "    }\n",
       "\n",
       "    .dataframe thead th {\n",
       "        text-align: right;\n",
       "    }\n",
       "</style>\n",
       "<table border=\"1\" class=\"dataframe\">\n",
       "  <thead>\n",
       "    <tr style=\"text-align: right;\">\n",
       "      <th></th>\n",
       "      <th>2015총계</th>\n",
       "      <th>2016총계</th>\n",
       "      <th>2017총계</th>\n",
       "    </tr>\n",
       "    <tr>\n",
       "      <th>관서명</th>\n",
       "      <th></th>\n",
       "      <th></th>\n",
       "      <th></th>\n",
       "    </tr>\n",
       "  </thead>\n",
       "  <tbody>\n",
       "    <tr>\n",
       "      <th>광주지방경찰청계</th>\n",
       "      <td>18830</td>\n",
       "      <td>15416</td>\n",
       "      <td>13949</td>\n",
       "    </tr>\n",
       "    <tr>\n",
       "      <th>광주동부경찰서</th>\n",
       "      <td>2355</td>\n",
       "      <td>2068</td>\n",
       "      <td>1799</td>\n",
       "    </tr>\n",
       "    <tr>\n",
       "      <th>광주서부경찰서</th>\n",
       "      <td>4720</td>\n",
       "      <td>3892</td>\n",
       "      <td>3638</td>\n",
       "    </tr>\n",
       "    <tr>\n",
       "      <th>광주남부경찰서</th>\n",
       "      <td>2117</td>\n",
       "      <td>1865</td>\n",
       "      <td>1547</td>\n",
       "    </tr>\n",
       "    <tr>\n",
       "      <th>광주북부경찰서</th>\n",
       "      <td>5466</td>\n",
       "      <td>4148</td>\n",
       "      <td>3945</td>\n",
       "    </tr>\n",
       "    <tr>\n",
       "      <th>광주광산경찰서</th>\n",
       "      <td>4172</td>\n",
       "      <td>3443</td>\n",
       "      <td>3020</td>\n",
       "    </tr>\n",
       "  </tbody>\n",
       "</table>\n",
       "</div>"
      ],
      "text/plain": [
       "          2015총계  2016총계  2017총계\n",
       "관서명                             \n",
       "광주지방경찰청계   18830   15416   13949\n",
       "광주동부경찰서     2355    2068    1799\n",
       "광주서부경찰서     4720    3892    3638\n",
       "광주남부경찰서     2117    1865    1547\n",
       "광주북부경찰서     5466    4148    3945\n",
       "광주광산경찰서     4172    3443    3020"
      ]
     },
     "execution_count": 73,
     "metadata": {},
     "output_type": "execute_result"
    }
   ],
   "source": [
    "sum_2015 = pd.Series(raised_crime_2015.loc[:,'살인':'폭력'].sum(axis = 1))\n",
    "sum_2016 = pd.Series(raised_crime_2016.loc[:,'살인':'폭력'].sum(axis = 1))\n",
    "sum_2017 = pd.Series(raised_crime_2017.loc[:,'살인':'폭력'].sum(axis = 1))\n",
    "crime_data = pd.DataFrame({\n",
    "    '2015총계' : sum_2015,\n",
    "    '2016총계' : sum_2016,\n",
    "    '2017총계' : sum_2017\n",
    "})\n",
    "crime_data"
   ]
  },
  {
   "cell_type": "code",
   "execution_count": null,
   "id": "6b8a2d11",
   "metadata": {},
   "outputs": [],
   "source": [
    "def get_raised_rate(df) :\n",
    "    for i in range(1, len(df.columns)) :\n",
    "        last_col = df.columns[i - 1] \n",
    "        this_col = df.columns[i]\n",
    "        \n",
    "        col = last_col[:-2] + '-' + this_col[2:4] + '증감율'\n",
    "        \n",
    "        raised_rate =  (df[this_col] - df[last_col]) / df[last_col] * 100\n",
    "        df.insert(i, col, raised_rate)\n",
    "        "
   ]
  },
  {
   "cell_type": "code",
   "execution_count": 75,
   "id": "ed072be8",
   "metadata": {},
   "outputs": [
    {
     "data": {
      "text/plain": [
       "3"
      ]
     },
     "execution_count": 75,
     "metadata": {},
     "output_type": "execute_result"
    }
   ],
   "source": [
    "crime_data.apply(get_raised_rate,axis = 1)\n",
    "\n",
    "\n",
    "len(crime_data.colums)"
   ]
  },
  {
   "cell_type": "code",
   "execution_count": null,
   "id": "77052cb9",
   "metadata": {},
   "outputs": [],
   "source": []
  },
  {
   "cell_type": "code",
   "execution_count": null,
   "id": "93c8ccbf",
   "metadata": {},
   "outputs": [],
   "source": []
  }
 ],
 "metadata": {
  "kernelspec": {
   "display_name": "Python 3 (ipykernel)",
   "language": "python",
   "name": "python3"
  },
  "language_info": {
   "codemirror_mode": {
    "name": "ipython",
    "version": 3
   },
   "file_extension": ".py",
   "mimetype": "text/x-python",
   "name": "python",
   "nbconvert_exporter": "python",
   "pygments_lexer": "ipython3",
   "version": "3.9.12"
  },
  "toc": {
   "base_numbering": 1,
   "nav_menu": {},
   "number_sections": false,
   "sideBar": true,
   "skip_h1_title": false,
   "title_cell": "Table of Contents",
   "title_sidebar": "Contents",
   "toc_cell": false,
   "toc_position": {},
   "toc_section_display": true,
   "toc_window_display": false
  }
 },
 "nbformat": 4,
 "nbformat_minor": 5
}
