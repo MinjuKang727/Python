{
 "cells": [
  {
   "cell_type": "markdown",
   "id": "1f2466b0",
   "metadata": {},
   "source": [
    "# 학습목표\n",
    "- Numpy 라이브러리에 대해 알 수 있다.\n",
    "- Numpy 라이브러리를 데이터 분석에 활용할 수 있다."
   ]
  },
  {
   "cell_type": "markdown",
   "id": "89851ffe",
   "metadata": {},
   "source": [
    "- 함수 : 하나의 특정 기능을 수행하기 위한 코드들의 집합\n",
    "- 클래스 : 변수, 함수들을 모아 놓은 코드 집합\n",
    "- 모듈 : 변수, 함수, 클래스들을 모아 놓은 코드 집합\n",
    "- 라이브러리 : 변수, 함수, 클래스, 모듈들을 모아 놓은 코드 집합"
   ]
  },
  {
   "cell_type": "markdown",
   "id": "ca75c22c",
   "metadata": {},
   "source": [
    "### 데이터 분석에 특화된 라이브러리\n",
    "- Numpy : 고성능 수학, 과학계산을 위한 데이터 분석 라이브러리\n",
    "- Pandas : 행과 열로 구성된 표 형식의 데이터 처리를 지원하는 라이브러리\n",
    "- Matplotlib : 2D, 3D 그래프로 시각화가 가능한 라이브러리"
   ]
  },
  {
   "cell_type": "markdown",
   "id": "cc65be21",
   "metadata": {},
   "source": [
    "## Numpy(Numerial Python)\n",
    "- 파이썬 수치 계산 및\n",
    "- 빅데이터의 수학적, 과학적 계산을 위해 만들어진 라이브러리\n",
    "- 반복문 없이 전체 데이터의 연산이 가능한 표준 수학 함수들을 제공"
   ]
  },
  {
   "cell_type": "markdown",
   "id": "7d02d81c",
   "metadata": {},
   "source": [
    "### Numpy의 주요 기능\n",
    "- 빠르고 효율적인 데이터 산술연산을 제공하는 다차원배열 제공(ndarray 클래스)\n",
    "    - ※배열(array) : 같은 자료형의 데이터들일 연속된 형태로 구성된 자료 구조로 다량의 데이터를 그룹으로 관리하며 손쉽게 계산하기 위해 사용\n",
    "- 반복문 없이 전체 데이터 배열 연산이 가능한 표준 수학 함수 제공(mean(), sqrt(),std()등)\n",
    "    - ※sqrt : square root(제곱근)  /  std : standard(표준편차)"
   ]
  },
  {
   "cell_type": "markdown",
   "id": "0375ea80",
   "metadata": {},
   "source": [
    "### numpy.ndarray 클래스\n",
    "- 동일한 자료형을 가지는 값들이 배열 형태로 존재\n",
    "- N차원 형태로 구성이 가능(list와 유사)\n",
    "    - ex) [[1, 2], [3, 4], [5, 6]]\n",
    "- 각 값들은 양의 정수로 색인(index) 부여\n",
    "- ndarray를 줄여서 array로 표현(nd는 n-dimensional의 약자)"
   ]
  },
  {
   "cell_type": "code",
   "execution_count": 2,
   "id": "d16867e9",
   "metadata": {},
   "outputs": [],
   "source": [
    "# numpy 라이브러리를 불러와서 np로 지칭하겠다\n",
    "import numpy as np"
   ]
  },
  {
   "cell_type": "code",
   "execution_count": null,
   "id": "95a78fe1",
   "metadata": {},
   "outputs": [],
   "source": [
    "list1 = [1, 2, 3, 4, 5]\n",
    "print(list1)\n",
    "print(type(list1))"
   ]
  },
  {
   "cell_type": "markdown",
   "id": "51453f4a",
   "metadata": {},
   "source": [
    "### 1차원 배열"
   ]
  },
  {
   "cell_type": "code",
   "execution_count": null,
   "id": "6fa9cbc6",
   "metadata": {},
   "outputs": [],
   "source": [
    "# array는 한 종류의 자료형만 넣을 수 있다.\n",
    "arr = np.array([1, 2, \"야호!\"])\n",
    "print(arr)\n",
    "arr = np.array([1, 2, 3.2])\n",
    "print(arr)"
   ]
  },
  {
   "cell_type": "markdown",
   "id": "91917864",
   "metadata": {},
   "source": [
    "### 2차원 배열"
   ]
  },
  {
   "cell_type": "code",
   "execution_count": null,
   "id": "9ad2370d",
   "metadata": {
    "scrolled": true
   },
   "outputs": [],
   "source": [
    "arr2 = np.array([[1, 2, 3], [4, 5, 6]])\n",
    "print(arr2)"
   ]
  },
  {
   "cell_type": "code",
   "execution_count": null,
   "id": "8ba3d4c9",
   "metadata": {},
   "outputs": [],
   "source": [
    "# 배열의 형태 확인(행, 열)\n",
    "print(arr2.shape)"
   ]
  },
  {
   "cell_type": "code",
   "execution_count": null,
   "id": "d10e8c06",
   "metadata": {},
   "outputs": [],
   "source": [
    "# 배열의 요소 전체 개수\n",
    "print(arr.size)"
   ]
  },
  {
   "cell_type": "code",
   "execution_count": null,
   "id": "cbdf30b4",
   "metadata": {
    "scrolled": true
   },
   "outputs": [],
   "source": [
    "# 배열의 데이터 타입(자료형 확인)\n",
    "arr2.dtype\n",
    "# 32는 bit를 뜻함(기계가 표현할 수 있는 범위) → 2^32\n",
    "# int 8 >> 1비트 당 2개의 숫자를 표현할 수 있음 2^8 = 256개 표현 가능((-128 ~127 ))\n",
    "# int 64 >>"
   ]
  },
  {
   "cell_type": "code",
   "execution_count": null,
   "id": "1d7c8c8b",
   "metadata": {},
   "outputs": [],
   "source": [
    "# 배열의 차원 확인\n",
    "print(arr2.ndim)"
   ]
  },
  {
   "cell_type": "code",
   "execution_count": null,
   "id": "a794591b",
   "metadata": {},
   "outputs": [],
   "source": [
    "# 예제\n",
    "arr3 = np.array([[[1, 2], [3, 4]], [[5, 6], [7, 8]]])\n",
    "print(arr3)"
   ]
  },
  {
   "cell_type": "markdown",
   "id": "e06427f9",
   "metadata": {},
   "source": [
    "- arr3 배열의 형태, 차원, 전체 요소 개수를 출력해 보세요~!"
   ]
  },
  {
   "cell_type": "code",
   "execution_count": null,
   "id": "c23ba928",
   "metadata": {},
   "outputs": [],
   "source": [
    "print(\"배열의 형태 :\", arr3.shape) # 2행 2열의 배열이 2개 (개수, 행수, 열수)\n",
    "print(\"배열의 차원 :\", arr3.ndim)\n",
    "print(\"배열의 전체 요소 개수 : \", arr3.size)"
   ]
  },
  {
   "cell_type": "code",
   "execution_count": null,
   "id": "b350ba4d",
   "metadata": {},
   "outputs": [],
   "source": [
    "# 0으로 배열 생성\n",
    "arr_zeros = np.zeros((2, 3, 4)) \n",
    "print(arr_zeros)"
   ]
  },
  {
   "cell_type": "code",
   "execution_count": null,
   "id": "91822df2",
   "metadata": {},
   "outputs": [],
   "source": [
    "# 1로 배열 생성\n",
    "arr_ones = np.ones((2, 3, 4))\n",
    "print(arr_ones)"
   ]
  },
  {
   "cell_type": "code",
   "execution_count": null,
   "id": "d0cee9c1",
   "metadata": {},
   "outputs": [],
   "source": [
    "# 특정값으로 배열 생성하기\n",
    "arr_twoes = np.full((2, 3, 4), 2) # np.full(shape,number)\n",
    "print(arr_twoes)"
   ]
  },
  {
   "cell_type": "markdown",
   "id": "f880ac46",
   "metadata": {},
   "source": [
    "#### 다차원배열 생성에 유용한 함수\n",
    "- arrange함수로 배열을 생성하고 reshape함수로 배열의 형태를 바꿔보자!"
   ]
  },
  {
   "cell_type": "code",
   "execution_count": null,
   "id": "d786f774",
   "metadata": {},
   "outputs": [],
   "source": [
    "# 1부터 50까지 1씩 증가하는 값들로 리스트를 만들어주세요~!\n",
    "list_ = []\n",
    "for i in range(50):\n",
    "    list_.append(i + 1)\n",
    "print(list_)\n",
    "\n",
    "# 만든 리스트로 배열 생성\n",
    "np.array(list_)\n",
    "print(list_)\n"
   ]
  },
  {
   "cell_type": "code",
   "execution_count": null,
   "id": "9baae905",
   "metadata": {},
   "outputs": [],
   "source": [
    "# 반복문을 활용하지 않고 배열 생성\n",
    "arr50 = np.arange(1, 51, 1)\n",
    "print(arr50)"
   ]
  },
  {
   "cell_type": "markdown",
   "id": "8207c865",
   "metadata": {},
   "source": [
    "- arange함수를 사용하여 1부터 51까지 중에서 1, 11, 21, 31, 41로 배열을 생성해 보세요~!"
   ]
  },
  {
   "cell_type": "code",
   "execution_count": null,
   "id": "a54cb72b",
   "metadata": {},
   "outputs": [],
   "source": [
    "arr10 = np.arange(1, 51, 10)\n",
    "print(arr10)"
   ]
  },
  {
   "cell_type": "code",
   "execution_count": null,
   "id": "d1bc4dc2",
   "metadata": {},
   "outputs": [],
   "source": [
    "arr7 = np.arange(1, 51, 1)\n",
    "print(arr7)"
   ]
  },
  {
   "cell_type": "code",
   "execution_count": null,
   "id": "b2682bf0",
   "metadata": {},
   "outputs": [],
   "source": [
    "# reshape : 배열의 행과 열을 변경시켜주는 명령. 실제로 적용시켜주려면 다시 대입을 해야함\n",
    "print(arr7.reshape(5,10)) # if (행*열의 개수) != (배열의 요소의 수) >> Error!\n",
    "arr7 = arr7.reshape(5, 10)\n",
    "print(arr7)"
   ]
  },
  {
   "cell_type": "code",
   "execution_count": null,
   "id": "45cfe8ba",
   "metadata": {},
   "outputs": [],
   "source": [
    "# 실수값을 가지는 배열 생성\n",
    "arr8 = np.array([1.2, 2.3, 3.4])\n",
    "print(arr8)"
   ]
  },
  {
   "cell_type": "code",
   "execution_count": null,
   "id": "ce1582f4",
   "metadata": {},
   "outputs": [],
   "source": [
    "# 배열의 자료형을 정수형으로 변경!\n",
    "arr8 = np.array([1.2, 2.3, 3.4], dtype = np.int64)\n",
    "print(arr8)"
   ]
  },
  {
   "cell_type": "code",
   "execution_count": null,
   "id": "8e0691c2",
   "metadata": {},
   "outputs": [],
   "source": [
    "arr9 = np.array([\"1\", '2', '3'], dtype = np.int64)\n",
    "print(arr9)"
   ]
  },
  {
   "cell_type": "code",
   "execution_count": null,
   "id": "ba705669",
   "metadata": {},
   "outputs": [],
   "source": [
    "arr10 = np.array([1, 2, 3], dtype = np.str)\n",
    "print(arr10)"
   ]
  },
  {
   "cell_type": "code",
   "execution_count": null,
   "id": "1476b645",
   "metadata": {},
   "outputs": [],
   "source": [
    "arr11 = np.array(['1.2', '2', '3'], dtype = int32)\n",
    "print(arr11)"
   ]
  },
  {
   "cell_type": "code",
   "execution_count": null,
   "id": "23b3c4ce",
   "metadata": {},
   "outputs": [],
   "source": [
    "arr12 = np.array([0, 1, 1, 0, 5.2], dtype  = bool)\n",
    "print(arr12)"
   ]
  },
  {
   "cell_type": "markdown",
   "id": "1e2a4dd3",
   "metadata": {},
   "source": [
    "### 랜덤(난수) 값 생성!"
   ]
  },
  {
   "cell_type": "code",
   "execution_count": null,
   "id": "98923cdb",
   "metadata": {},
   "outputs": [],
   "source": [
    "# 랜덤한 값으로 배열 생성하기!\n",
    "arr10 = np.random.rand(2, 3) # 6개(2x3 행렬) 값을 랜덤으로 생성(0~1)\n",
    "print(arr10)"
   ]
  },
  {
   "cell_type": "code",
   "execution_count": null,
   "id": "ede92745",
   "metadata": {},
   "outputs": [],
   "source": [
    "# 랜덤 정수 값 출력하기!\n",
    "arr11 = np.random.randint(10)  # 0~9까지의 10개 숫자 중에서 랜덤으로 정수를 생성\n",
    "print(arr11)"
   ]
  },
  {
   "cell_type": "code",
   "execution_count": null,
   "id": "1ad83037",
   "metadata": {},
   "outputs": [],
   "source": [
    "# 랜덤값 정수형 배열 생성하기 / size 속성으로 배열 형태 바꿔주기\n",
    "print(np.random.randint(5, size = 10))\n",
    "print(np.random.randint(5, size = (2, 3)))"
   ]
  },
  {
   "cell_type": "markdown",
   "id": "65aa2015",
   "metadata": {},
   "source": [
    "### array 연산"
   ]
  },
  {
   "cell_type": "code",
   "execution_count": null,
   "id": "b7c9c7a9",
   "metadata": {},
   "outputs": [],
   "source": [
    "arr14 = np.array([[1, 2], [3, 4]])\n",
    "print(arr14)"
   ]
  },
  {
   "cell_type": "code",
   "execution_count": null,
   "id": "bc1545ac",
   "metadata": {},
   "outputs": [],
   "source": [
    "print(arr14 + arr14)\n",
    "print(arr14 - arr14)\n",
    "print(arr14 * arr14)\n",
    "print(arr14 / arr14)\n",
    "print(arr14 // arr14)\n",
    "print(arr14 % arr14)\n",
    "print(arr14 * 10)"
   ]
  },
  {
   "cell_type": "code",
   "execution_count": null,
   "id": "a990f32c",
   "metadata": {},
   "outputs": [],
   "source": [
    "list14 = [[1, 2], [3, 4]]\n",
    "print(list14)"
   ]
  },
  {
   "cell_type": "code",
   "execution_count": null,
   "id": "7e8d48d1",
   "metadata": {},
   "outputs": [],
   "source": [
    "print(list14 + list14)"
   ]
  },
  {
   "cell_type": "markdown",
   "id": "8710fc6b",
   "metadata": {},
   "source": [
    "### numpy 배열의 접근은 어떻게 할까?\n",
    "- 리스트와 마찬가지로 인덱싱, 슬라이싱을 지원함!"
   ]
  },
  {
   "cell_type": "markdown",
   "id": "df82d66a",
   "metadata": {},
   "source": [
    "#### numpy 배열 인덱싱\n",
    "- 배열 중 하나의 인덱스값에 있는 데이터를 가져오는 것"
   ]
  },
  {
   "cell_type": "code",
   "execution_count": 3,
   "id": "b271ef6c",
   "metadata": {},
   "outputs": [
    {
     "name": "stdout",
     "output_type": "stream",
     "text": [
      "[[1 2 3]\n",
      " [4 5 6]]\n"
     ]
    }
   ],
   "source": [
    "arr16 = np.array([[1, 2, 3], [4, 5, 6]])\n",
    "print(arr16)"
   ]
  },
  {
   "cell_type": "code",
   "execution_count": 6,
   "id": "0da6eb1d",
   "metadata": {},
   "outputs": [
    {
     "name": "stdout",
     "output_type": "stream",
     "text": [
      "[1 2 3]\n",
      "2\n",
      "5\n"
     ]
    }
   ],
   "source": [
    "print(arr16[0])\n",
    "print(arr16[0][1])\n",
    "print(arr16[1][1])"
   ]
  },
  {
   "cell_type": "markdown",
   "id": "e771afb8",
   "metadata": {},
   "source": [
    "#### numpy 슬라이싱\n",
    "- 배열의 범위를 지정하여 여러개의 데이터를 가져오는 것"
   ]
  },
  {
   "cell_type": "code",
   "execution_count": 8,
   "id": "313381fa",
   "metadata": {},
   "outputs": [
    {
     "name": "stdout",
     "output_type": "stream",
     "text": [
      "[0 1 2 3 4 5 6 7 8 9]\n"
     ]
    }
   ],
   "source": [
    "arr17 = np.arange(10)\n",
    "print(arr17)"
   ]
  },
  {
   "cell_type": "code",
   "execution_count": 10,
   "id": "aed579d4",
   "metadata": {},
   "outputs": [
    {
     "name": "stdout",
     "output_type": "stream",
     "text": [
      "[3 4 5 6 7]\n"
     ]
    }
   ],
   "source": [
    "print(arr17[3:8])"
   ]
  },
  {
   "cell_type": "code",
   "execution_count": 13,
   "id": "a6d44b28",
   "metadata": {},
   "outputs": [
    {
     "name": "stdout",
     "output_type": "stream",
     "text": [
      "[[ 0  1  2  3  4  5  6  7  8  9]\n",
      " [10 11 12 13 14 15 16 17 18 19]\n",
      " [20 21 22 23 24 25 26 27 28 29]\n",
      " [30 31 32 33 34 35 36 37 38 39]\n",
      " [40 41 42 43 44 45 46 47 48 49]]\n"
     ]
    }
   ],
   "source": [
    "arr18 = np.arange(50).reshape(5, 10)\n",
    "print(arr18)"
   ]
  },
  {
   "cell_type": "code",
   "execution_count": 19,
   "id": "7ae13c4d",
   "metadata": {},
   "outputs": [
    {
     "name": "stdout",
     "output_type": "stream",
     "text": [
      "[[ 0  1  2  3  4  5  6  7  8  9]\n",
      " [10 11 12 13 14 15 16 17 18 19]]\n"
     ]
    }
   ],
   "source": [
    "# 0번, 1번 인덱스 행의 모든 열을 출력 (arr18[행의 범위, 열의 범위])\n",
    "print(arr18[:2, :])"
   ]
  },
  {
   "cell_type": "code",
   "execution_count": 25,
   "id": "02f555c7",
   "metadata": {},
   "outputs": [
    {
     "name": "stdout",
     "output_type": "stream",
     "text": [
      "[[ 0]\n",
      " [10]\n",
      " [20]\n",
      " [30]\n",
      " [40]]\n",
      "[[ 0  1]\n",
      " [10 11]\n",
      " [20 21]\n",
      " [30 31]\n",
      " [40 41]]\n",
      "[[ 0  1  2  3  4]\n",
      " [10 11 12 13 14]\n",
      " [20 21 22 23 24]\n",
      " [30 31 32 33 34]]\n"
     ]
    }
   ],
   "source": [
    "# 모든 행의 0번 인덱스를 출력\n",
    "print(arr18[:,:1])\n",
    "# 모든 행의 0번, 1번 인덱스를 출력\n",
    "print(arr18[:,:2])\n",
    "# 0 ~ 3번 인덱스의 행에서 0 ~ 4번 인덱스를 모두 출력\n",
    "print(arr18[:4,:5])"
   ]
  },
  {
   "cell_type": "code",
   "execution_count": 33,
   "id": "80b876ea",
   "metadata": {},
   "outputs": [
    {
     "name": "stdout",
     "output_type": "stream",
     "text": [
      "[[ 0  1  2  3  4  5]\n",
      " [ 6  7  8  9 10 11]\n",
      " [12 13 14 15 16 17]]\n",
      "[[ 7  9 11]\n",
      " [13 15 17]]\n",
      "[[ 7  9 11]\n",
      " [13 15 17]]\n"
     ]
    }
   ],
   "source": [
    "arr19 = np.arange(18).reshape(3, 6)\n",
    "print(arr19)\n",
    "#1~2번 인덱스 행의 1,3,5번 인덱스 열 추출하기\n",
    "print(arr19[1:,1::2])\n",
    "print(arr19[1:,[1, 3, 5]])"
   ]
  },
  {
   "cell_type": "code",
   "execution_count": 37,
   "id": "58c3f233",
   "metadata": {},
   "outputs": [
    {
     "name": "stdout",
     "output_type": "stream",
     "text": [
      "[[ 0  1  2  3  4  5]\n",
      " [ 6  7  8  9 10 11]\n",
      " [12 13 14 15 16 17]]\n",
      "[[ 0  6 12]\n",
      " [ 1  7 13]\n",
      " [ 2  8 14]\n",
      " [ 3  9 15]\n",
      " [ 4 10 16]\n",
      " [ 5 11 17]]\n"
     ]
    }
   ],
   "source": [
    "print(arr19)   # 3x6 행렬\n",
    "\n",
    "\n",
    "# 전치(Transposition) : 배열의 행과 열을 바꿔주는 것\n",
    "print(arr19.T) # 6x3 행렬"
   ]
  },
  {
   "cell_type": "code",
   "execution_count": null,
   "id": "815a13e2",
   "metadata": {},
   "outputs": [],
   "source": []
  }
 ],
 "metadata": {
  "kernelspec": {
   "display_name": "Python 3 (ipykernel)",
   "language": "python",
   "name": "python3"
  },
  "language_info": {
   "codemirror_mode": {
    "name": "ipython",
    "version": 3
   },
   "file_extension": ".py",
   "mimetype": "text/x-python",
   "name": "python",
   "nbconvert_exporter": "python",
   "pygments_lexer": "ipython3",
   "version": "3.9.12"
  }
 },
 "nbformat": 4,
 "nbformat_minor": 5
}
