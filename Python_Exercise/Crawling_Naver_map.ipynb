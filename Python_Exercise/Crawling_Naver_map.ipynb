{
 "cells": [
  {
   "cell_type": "code",
   "execution_count": 20,
   "id": "4537d710",
   "metadata": {},
   "outputs": [],
   "source": [
    "import time\n",
    "import sys \n",
    "import os \n",
    "\n",
    "import pandas as pd\n",
    "import numpy as np\n",
    "\n",
    "from selenium import webdriver \n",
    "from selenium.webdriver.common.keys import Keys\n",
    "from selenium.webdriver.common.action_chains import ActionChains\n",
    "\n",
    "import warnings\n",
    "warnings.filterwarnings('ignore')\n"
   ]
  },
  {
   "cell_type": "code",
   "execution_count": 23,
   "id": "0b7872be",
   "metadata": {},
   "outputs": [],
   "source": [
    "#keyword = input('키워드 : ')\n",
    "keyword = '헬스장'\n",
    "driver = webdriver.Chrome()\n",
    "driver.get(f\"https://pcmap.place.naver.com/hospital/list?query={keyword}&x=126.8874917&y=35.1511820000002&ts=1657719893188&mapUrl=https%3A%2F%2Fmap.naver.com%2Fv5%2Fsearch%2F%25EC%259D%2591%25EA%25B8%2589%25EC%258B%25A4%3Fc%3D14125050.9640797%2C4184445.2006234%2C13%2C0%2C0%2C0%2Cdh\")\n",
    "shop_li = driver.find_elements(By.CSS_SELECTOR, '.QLp9G')\n",
    "\n"
   ]
  },
  {
   "cell_type": "code",
   "execution_count": null,
   "id": "f7d894ae",
   "metadata": {},
   "outputs": [],
   "source": []
  }
 ],
 "metadata": {
  "kernelspec": {
   "display_name": "Python 3 (ipykernel)",
   "language": "python",
   "name": "python3"
  },
  "language_info": {
   "codemirror_mode": {
    "name": "ipython",
    "version": 3
   },
   "file_extension": ".py",
   "mimetype": "text/x-python",
   "name": "python",
   "nbconvert_exporter": "python",
   "pygments_lexer": "ipython3",
   "version": "3.9.12"
  },
  "toc": {
   "base_numbering": 1,
   "nav_menu": {},
   "number_sections": true,
   "sideBar": true,
   "skip_h1_title": false,
   "title_cell": "Table of Contents",
   "title_sidebar": "Contents",
   "toc_cell": false,
   "toc_position": {},
   "toc_section_display": true,
   "toc_window_display": false
  }
 },
 "nbformat": 4,
 "nbformat_minor": 5
}
