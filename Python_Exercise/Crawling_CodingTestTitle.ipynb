{
 "cells": [
  {
   "cell_type": "code",
   "execution_count": 21,
   "id": "8471c29c",
   "metadata": {
    "scrolled": true
   },
   "outputs": [
    {
     "name": "stdout",
     "output_type": "stream",
     "text": [
      " Lv.5 / p.1 / 총 70문제 완료"
     ]
    }
   ],
   "source": [
    "from selenium import webdriver as web\n",
    "from selenium.webdriver.common.keys import Keys\n",
    "from selenium.webdriver.common.by import By\n",
    "import time\n",
    "\n",
    "title_ = []\n",
    "# lang = \"python3\"  # 총 358문제\n",
    "# lang = \"java\"  # 총 373문제\n",
    "# lang = \"oracle\"  # 총 71문제\n",
    "lang = \"mysql\"  # 총 66문제\n",
    "\n",
    "# 1. 크롬 브라우저를 실행\n",
    "driver = web.Chrome()\n",
    "\n",
    "for lv in range(6) :\n",
    "    title_lv = []\n",
    "    # 링크 주소로 이동\n",
    "    driver.get(f'https://school.programmers.co.kr/learn/challenges?order=recent&levels={lv}&page=1&languages={lang}')\n",
    "    time.sleep(5)\n",
    "\n",
    "    # 페이징 번호 리스트\n",
    "    button_li = driver.find_elements(By.CSS_SELECTOR, '.jDoiya > span > button')\n",
    "    \n",
    "    for p in button_li :\n",
    "        print(f\"\\r Lv.{lv} / p.{p.text} / 총 {sum([len(t) for t in title_])}문제 완료\", end=\"\")\n",
    "        p.click()\n",
    "        time.sleep(5)\n",
    "\n",
    "\n",
    "        # 문제 제목 정보를 수집(글자만 출력)\n",
    "\n",
    "        # find_elements(By.~~~, '위치') : 브라우저에서 요소 선택 메서드\n",
    "        # By.CLASS_NAME = 클래스명을 직접 명시할 때 사용\n",
    "        # By.TAG_NAME = 태그명을 직접 명시할 때 사용\n",
    "        # By.CSS_SELECTOR = 선택자를 직접 명시할 때 사용\n",
    "        # 클래스가 여러개 주어져 있을 경우, 뒤에 오는 클래스 앞에는 .(dot)을 붙여 주어야 한다.\n",
    "        # 주의점! 아이디: #(sharp)  / 클래스 : .(dot) 키워드를 꼭 명시해야 함!\n",
    "\n",
    "        title_li = driver.find_elements(By.CSS_SELECTOR, '.ccODUk tbody .title a') \n",
    "\n",
    "        for i in title_li :\n",
    "            title_lv.append(i.text)\n",
    "    \n",
    "\n",
    "\n",
    "    title_.append(title_lv)\n",
    "driver.close()"
   ]
  },
  {
   "cell_type": "code",
   "execution_count": 31,
   "id": "2b35d03e",
   "metadata": {},
   "outputs": [
    {
     "name": "stdout",
     "output_type": "stream",
     "text": [
      "상품을 구매한 회원 비율 구하기\n"
     ]
    }
   ],
   "source": [
    "print(\"\\n\".join(title_[5]))"
   ]
  },
  {
   "cell_type": "code",
   "execution_count": 22,
   "id": "8b8480a9",
   "metadata": {},
   "outputs": [
    {
     "name": "stdout",
     "output_type": "stream",
     "text": [
      "71\n"
     ]
    }
   ],
   "source": [
    "# oracle = title_\n",
    "mysql = title_\n",
    "print(sum([len(t) for t in title_]))"
   ]
  },
  {
   "cell_type": "code",
   "execution_count": 23,
   "id": "78807770",
   "metadata": {},
   "outputs": [
    {
     "data": {
      "text/plain": [
       "True"
      ]
     },
     "execution_count": 23,
     "metadata": {},
     "output_type": "execute_result"
    }
   ],
   "source": [
    "oracle == mysql"
   ]
  }
 ],
 "metadata": {
  "kernelspec": {
   "display_name": "Python 3 (ipykernel)",
   "language": "python",
   "name": "python3"
  },
  "language_info": {
   "codemirror_mode": {
    "name": "ipython",
    "version": 3
   },
   "file_extension": ".py",
   "mimetype": "text/x-python",
   "name": "python",
   "nbconvert_exporter": "python",
   "pygments_lexer": "ipython3",
   "version": "3.9.13"
  }
 },
 "nbformat": 4,
 "nbformat_minor": 5
}
