{
 "cells": [
  {
   "cell_type": "code",
   "execution_count": 2,
   "id": "d4e402fc",
   "metadata": {},
   "outputs": [],
   "source": [
    "from selenium import webdriver as web\n",
    "from selenium.webdriver.common.keys import Keys\n",
    "from selenium.webdriver.common.by import By\n",
    "import time\n",
    "import requests as req\n",
    "from bs4 import BeautifulSoup as bs\n",
    "from selenium.webdriver import ActionChains"
   ]
  },
  {
   "cell_type": "code",
   "execution_count": 168,
   "id": "dafd5bc4",
   "metadata": {},
   "outputs": [],
   "source": [
    "driver = web.Chrome()\n",
    "driver.get('https://accounts.elice.io/accounts/signin/me?continue_to=https%3A%2F%2Felice.io%2Fuser%2Fprofile&lang=ko')"
   ]
  },
  {
   "cell_type": "code",
   "execution_count": 169,
   "id": "9c52baa7",
   "metadata": {},
   "outputs": [],
   "source": [
    "# mail_val = input('메일 주소를 입력하세요. : ')\n",
    "# pw_val = input('비밀번호를 입력하세요. : ')\n",
    "mail = driver.find_element(By.XPATH, '/html/body/div[1]/div/main/div/div/div[3]/form/div[1]/div/div[2]/input')\n",
    "mail.send_keys('ajtwltsk@naver.com')\n",
    "#mail.send_keys(mail_val)\n",
    "mail.send_keys(Keys.ENTER)\n",
    "time.sleep(1)\n",
    "pw = driver.find_element(By.XPATH, '/html/body/div[1]/div/main/div/div/div[3]/form/div[2]/div/div[1]/div/div[2]/input')\n",
    "pw.send_keys('dftmjk^930')\n",
    "#pw.send_keys(pw_val)\n",
    "pw.send_keys(Keys.ENTER)\n",
    "time.sleep(2)"
   ]
  },
  {
   "cell_type": "code",
   "execution_count": 170,
   "id": "5f080170",
   "metadata": {},
   "outputs": [],
   "source": [
    "driver.find_element(By.TAG_NAME, 'li').click()\n",
    "time.sleep(2)"
   ]
  },
  {
   "cell_type": "code",
   "execution_count": 8,
   "id": "df3ce2bf",
   "metadata": {},
   "outputs": [
    {
     "data": {
      "text/plain": [
       "<!DOCTYPE html>\n",
       "<html class=\"notranslate\" translate=\"no\"><head><script>window.flutter_inappwebview&&\"function\"==typeof window.flutter_inappwebview.callHandler&&window.flutter_inappwebview.callHandler(\"loadStarted\")</script><meta charset=\"utf-8\"/><meta content=\"notranslate\" name=\"google\"/><meta content=\"width=device-width,initial-scale=1\" name=\"viewport\"/><meta content=\"ie=edge\" http-equiv=\"X-UA-Compatible\"/><meta content=\"#524fa1\" name=\"theme-color\"/><meta content=\"초보자도 쉽게 배울 수 있는 실습형 코딩수업! 엘리스와 시작해요!\" name=\"description\"/><meta content=\"elice Inc.\" name=\"author\"/><meta content=\"no\" name=\"msapplication-tap-highlight\"/><meta content=\"website\" property=\"og:type\"/><meta content=\"엘리스 :: elice\" property=\"og:title\"/><meta content=\"파이썬부터 딥러닝, 인공지능까지, 초보도 가능한 실습형 코딩수업!.\" property=\"og:description\"/><meta content=\"/static/elice_banner.png\" property=\"og:image\"/><meta content=\"https://www.elice.io\" property=\"og:url\"/><meta content=\"ko_KR\" property=\"og:locale\"/><meta content=\"1078873405475299\" property=\"fb:app_id\"/><meta content=\"Mg53A-1F7S1pFnMUJWTqtZ_wnU0nyqg71QJiDssPZiU\" name=\"google-site-verification\"/><meta content=\"5a91a7f0ee97513be4b718773fb954583f3f7aa2\" name=\"naver-site-verification\"/><title>엘리스코딩 elice :: 언제 어디서나 쉬운 코딩</title><link href=\"/favicon.png\" rel=\"icon\"/><link href=\"/static/elice_banner.png\" rel=\"image_src\"/><link href=\"/manifest.json\" rel=\"manifest\"/><script src=\"https://static.elice.io/ie/noie.js\"></script><link href=\"https://app.elice.io\" rel=\"dns-prefetch\"/><link href=\"https://static.elice.io\" rel=\"preconnect\"/><link href=\"https://api-rest.elice.io\" rel=\"preconnect\"/><link href=\"https://accounts.elice.io\" rel=\"preconnect\"/><link href=\"https://fonts.googleapis.com\" rel=\"preconnect\"/><link href=\"https://cdn-front-door.elice.io\" rel=\"preconnect\"/><link href=\"https://cdnjs.cloudflare.com\" rel=\"preconnect\"/><link href=\"https://static.elice.io/common/elice-welcome-loader.css\" rel=\"stylesheet\"/><link href=\"https://fonts.googleapis.com/css2?family=Inconsolata&amp;display=swap\" media=\"print\" onload='this.media=\"all\",this.onload=null' rel=\"stylesheet\"/><link href=\"https://cdnjs.cloudflare.com/ajax/libs/pretendard/1.2.1/static/pretendard-dynamic-subset.css\" media=\"print\" onload='this.media=\"all\",this.onload=null' rel=\"stylesheet\"/><link href=\"https://cdn-front-door.elice.io/font/EliceDigitalBaeum.css\" media=\"print\" onload='this.media=\"all\",this.onload=null' rel=\"stylesheet\"/><link href=\"https://cdn-front-door.elice.io/font/EliceDigitalCoding.css\" media=\"print\" onload='this.media=\"all\",this.onload=null' rel=\"stylesheet\"/><script type=\"application/ld+json\">{\n",
       "       \"name\": \"엘리스 아카데미\",\n",
       "       \"url\": \"https://academy.elice.io\",\n",
       "       \"sameAs\": [\n",
       "         \"https://blog.naver.com/elicer\",\n",
       "         \"https://www.facebook.com/elice.programming\",\n",
       "         \"https://www.instagram.com/elice_coding\",\n",
       "         \"https://www.youtube.com/channel/UCTok20p3EzAjTJWV8SJM9Gw\"\n",
       "       ]\n",
       "      }</script><script async=\"\" src=\"https://www.googletagmanager.com/gtag/js?id=G-QX7L58K2MF\"></script><script>function gtag(){dataLayer.push(arguments)}window.dataLayer=window.dataLayer||[],gtag(\"js\",new Date),gtag(\"config\",\"G-QX7L58K2MF\"),gtag(\"config\",\"UA-64911881-1\")</script><script>\"academy\"===window.location.host.split(\".\")[0]&&function(t,h,s,e,n,i){t.hj=t.hj||function(){(t.hj.q=t.hj.q||[]).push(arguments)},t._hjSettings={hjid:2775446,hjsv:6},n=h.getElementsByTagName(\"head\")[0],(i=h.createElement(\"script\")).async=1,i.src=\"https://static.hotjar.com/c/hotjar-\"+t._hjSettings.hjid+\".js?sv=\"+t._hjSettings.hjsv,n.appendChild(i)}(window,document)</script><script>\"test-design\"===window.location.host.split(\".\")[0]&&function(t,h,s,e,n,i){t.hj=t.hj||function(){(t.hj.q=t.hj.q||[]).push(arguments)},t._hjSettings={hjid:2896638,hjsv:6},n=h.getElementsByTagName(\"head\")[0],(i=h.createElement(\"script\")).async=1,i.src=\"https://static.hotjar.com/c/hotjar-\"+t._hjSettings.hjid+\".js?sv=\"+t._hjSettings.hjsv,n.appendChild(i)}(window,document)</script><style>body,html{margin:0!important;padding:0!important;width:100%!important;height:100%!important}.root-splash{display:flex;justify-content:center;align-items:center;width:100vw;height:100vh;background-color:#efeff6}.root-splash>.root-splash--content{text-align:center}.root-splash>.root-splash--content>span{display:block;margin-top:16px;color:#3c3a74;font-family:Arial,sans-serif;font-size:24px;font-weight:700}</style><link href=\"https://cdn-front-door.elice.io/web/static/css/55.9b39e70f.chunk.css\" rel=\"stylesheet\"/><link href=\"https://cdn-front-door.elice.io/web/static/css/main.d32cb744.chunk.css\" rel=\"stylesheet\"/></head><body><noscript>You need to enable JavaScript to run this app.</noscript><div id=\"root\"><div class=\"root-splash\"><div class=\"root-splash--content\"><div class=\"elice-static-welcome-loader\"></div><span>Loading...</span></div></div></div><script>!function(e){function d(d){for(var f,a,r=d[0],n=d[1],o=d[2],u=0,i=[];u<r.length;u++)a=r[u],Object.prototype.hasOwnProperty.call(b,a)&&b[a]&&i.push(b[a][0]),b[a]=0;for(f in n)Object.prototype.hasOwnProperty.call(n,f)&&(e[f]=n[f]);for(l&&l(d);i.length;)i.shift()();return t.push.apply(t,o||[]),c()}function c(){for(var e,d=0;d<t.length;d++){for(var c=t[d],f=!0,a=1;a<c.length;a++){var r=c[a];0!==b[r]&&(f=!1)}f&&(t.splice(d--,1),e=n(n.s=c[0]))}return e}var f={},a={54:0},b={54:0},t=[];function r(e){return n.p+\"static/js/\"+({}[e]||e)+\".\"+{0:\"bf21c395\",1:\"b756e339\",2:\"eb969a50\",3:\"becb3810\",4:\"199fd617\",5:\"ecbc116b\",6:\"c0cbedee\",7:\"c049efae\",8:\"2283a10e\",9:\"2fe97e9d\",10:\"a8a46eaf\",11:\"7baad0a8\",12:\"9345d7ef\",13:\"155b26eb\",14:\"c8270da9\",15:\"bf87c137\",16:\"9e514352\",17:\"01a1c54e\",18:\"fb9fa798\",19:\"63e64c7f\",20:\"10e94792\",21:\"534b6d23\",22:\"4ba70c50\",23:\"a8d0e6a2\",24:\"5da7fded\",25:\"ccc643e2\",26:\"6c8af196\",27:\"b1c468e4\",28:\"052281a7\",29:\"96426985\",30:\"57a43a5b\",31:\"50f48608\",32:\"8ae21f09\",33:\"9f9789d9\",34:\"ccec4c93\",35:\"ddd07c8d\",36:\"8a7c75d8\",37:\"b30d619c\",38:\"c190f5b2\",39:\"20e7609a\",40:\"6ca873f2\",41:\"c22d8d7a\",42:\"f192c31b\",43:\"52edd216\",44:\"4a803c5e\",45:\"26d407e3\",46:\"ddb4ea05\",47:\"8549b623\",48:\"f147a911\",49:\"d06cb2d3\",50:\"0516a030\",51:\"07664ddc\",52:\"2ddb1074\",56:\"60e857bb\",57:\"f68937a5\",58:\"2391323f\",59:\"57e54fb7\",60:\"2644631a\",61:\"94ecab49\",62:\"7a8415ca\",63:\"4f8da874\",64:\"432f08ef\",65:\"b1318f1a\",66:\"ccb3a7c5\",67:\"1a82a342\",68:\"654652f2\",69:\"7cb47d32\",70:\"7bce38a6\",71:\"ba3462b7\",72:\"8df2d386\",73:\"6a04cac4\",74:\"7263c93e\",75:\"ad5aef07\",76:\"0bf963c2\",77:\"5709e250\",78:\"6ed39139\",79:\"0d44fba1\",80:\"7d194e3c\",81:\"d7706b78\",82:\"ee58f886\",83:\"e71008f6\",84:\"54b44774\",85:\"af860a92\",86:\"fc10616a\",87:\"8758ba2e\",88:\"2479ec66\",89:\"93f8117c\",90:\"6088e5e0\",91:\"d8f85d7c\",92:\"c1612c7b\",93:\"ac7560ba\",94:\"ea6141f4\",95:\"c9a6662b\",96:\"f0d1656a\",97:\"c55ec36c\",98:\"bf18b28f\",99:\"2301843f\",100:\"62fec723\",101:\"078652fd\",102:\"e63a843b\",103:\"a5c43b21\",104:\"fb0cf1c6\",105:\"af0f39be\",106:\"b637b5da\",107:\"2f836d88\",108:\"7ad2da6a\",109:\"35a3d1d7\",110:\"aaeb076d\",111:\"68cd6ec4\",112:\"f33fd1dd\",113:\"a53806b6\",114:\"f7ee0c8a\",115:\"2ee60b37\",116:\"5436dec3\",117:\"d6cae0f5\",118:\"070b1168\",119:\"6bde5c1a\",120:\"bd704935\",121:\"e33b7690\",122:\"3e4c99e6\",123:\"96d9c673\",124:\"0406545f\",125:\"50a1559d\",126:\"76336a99\",127:\"d4ca9662\",128:\"eaa6c06e\",129:\"3a6e2736\",130:\"fe40281d\",131:\"bfc25378\",132:\"57be00c7\",133:\"f810402d\",134:\"b58e2768\",135:\"58db52c2\",136:\"9ee64f1d\",137:\"9e04b13a\",138:\"cf87f822\",139:\"dc7da032\",140:\"f2575691\",141:\"6d179b2a\",142:\"7d69f870\",143:\"a95114ab\",144:\"1fad1294\",145:\"3d26203b\",146:\"3a685bf8\",147:\"874de993\",148:\"77442414\",149:\"451f465f\",150:\"5b2cbeb1\",151:\"b5a45424\",152:\"2050a3a6\",153:\"3da8b28d\",154:\"ba82fefc\",155:\"f424acb2\",156:\"2ab2ecbc\",157:\"c5a24e89\",158:\"c8570fed\",159:\"919d4cbe\",160:\"e2d6acbd\",161:\"afe85ad2\",162:\"bfe3081e\",163:\"a26948c7\",164:\"6cb9c35b\",165:\"ed8db869\",166:\"a5d87070\",167:\"bfad7fdc\",168:\"75fdb3a2\",169:\"9cf639ff\",170:\"c9d2c2ea\",171:\"7921f89d\",172:\"f622c534\",173:\"74c31907\",174:\"16a72337\",175:\"f187d866\",176:\"0660fe3b\",177:\"3114defa\",178:\"b3816ead\",179:\"f38bc801\",180:\"9c9adfd1\",181:\"312c9d61\",182:\"e39b3631\",183:\"407e7516\",184:\"2acce4bf\",185:\"5834cd37\",186:\"d3d5ab13\",187:\"d8537358\",188:\"ca0e6a41\",189:\"2662ed11\",190:\"0da64ac3\",191:\"87204782\",192:\"c3bd3a04\",193:\"5ee74a67\",194:\"51a7fc16\",195:\"083b9387\",196:\"61e340cd\",197:\"d8d1a719\",198:\"c754119a\",199:\"50ccc3ff\",200:\"833b31d3\",201:\"adfc3840\",202:\"faeeddb4\",203:\"f8ae5f77\",204:\"f7b1b23f\",205:\"98e5b2a0\",206:\"fb55be93\",207:\"2ea121b1\",208:\"c9fbb3d8\",209:\"0ec37824\",210:\"344919c8\",211:\"98e96148\",212:\"31c8ee54\",213:\"1867364f\",214:\"aaea148e\",215:\"e78647bd\",216:\"afc8c29e\",217:\"e289e42b\",218:\"902bf506\",219:\"a6dafc6c\",220:\"de04b188\",221:\"6b7f62fc\",222:\"f9ef5577\",223:\"9cc0fedf\",224:\"12d747b6\",225:\"dd51b128\",226:\"fbb02dec\",227:\"ffd25dd5\",228:\"d2a4fb3c\",229:\"bdb5eaba\",230:\"755d2536\",231:\"b4e95a1d\",232:\"458e76c3\",233:\"69232a9b\",234:\"2bd5957a\",235:\"4559d6ef\",236:\"b5bf8317\",237:\"2ed8553d\",238:\"422b7452\",239:\"c498d024\",240:\"dd510a82\",241:\"c0500a6f\",242:\"3a973c21\",243:\"ae6a89a7\",244:\"d91a9a89\",245:\"44d9c382\",246:\"fad98fdb\",247:\"798a2372\",248:\"f276515a\",249:\"7da62c52\",250:\"3815605e\",251:\"e33d60f9\",252:\"6fef7f0d\",253:\"c541e0f5\",254:\"4f89a02c\",255:\"daae719f\",256:\"98ca9b93\",257:\"95dd6d13\",258:\"099ae15c\",259:\"5aabc89d\",260:\"64bfcc7f\",261:\"2c911eb4\",262:\"29db50e6\",263:\"cb938425\",264:\"b117e01c\",265:\"7e24c852\",266:\"deb96eff\",267:\"e2a84b34\",268:\"4fd08eb5\",269:\"ee5f84ff\",270:\"bf3589c3\",271:\"92b7468a\",272:\"ac513bfd\",273:\"88ef67d9\",274:\"5d2355ac\",275:\"4467a4bf\",276:\"25e7ed8c\",277:\"1900f2df\",278:\"bf53ee9e\",279:\"269367b9\",280:\"d84e3fb1\",281:\"78da5b07\",282:\"5f96db1e\",283:\"250f9d52\",284:\"9e6e626e\",285:\"d8f24f66\",286:\"2fe28599\",287:\"1d540b33\",288:\"0e62e5e2\",289:\"2dd95942\",290:\"8d401d1d\",291:\"ceb4bf63\",292:\"849e69af\",293:\"dbd5ab7e\",294:\"abf33110\",295:\"2dd07a5e\",296:\"8e4b4b97\",297:\"f7d6300f\",298:\"35de147c\",299:\"41b01f2b\",300:\"e6667272\",301:\"29afd958\",302:\"b0e18973\",303:\"9bec73bd\",304:\"2f5079bc\",305:\"558f589a\",306:\"625b1c33\",307:\"680e65f2\",308:\"2e08b086\",309:\"afeda631\",310:\"65008d60\",311:\"13aa0896\",312:\"3974dc4c\",313:\"74b993ca\",314:\"173edbe7\",315:\"b301f6e8\",316:\"d68ff2ba\",317:\"310cb52f\",318:\"99b63500\",319:\"49fbcc1b\",320:\"26ab3340\",321:\"501df4d5\",322:\"c8304f44\",323:\"6823f938\",324:\"491f2393\",325:\"623688cb\",326:\"2faa9d65\",327:\"7c34ca47\",328:\"d385354a\",329:\"83b160c9\",330:\"ef01dca4\",331:\"07079d05\",332:\"48f4881d\",333:\"a8b21186\",334:\"c101cea6\",335:\"64806b2d\",336:\"2edcdbd0\",337:\"3db823e1\",338:\"4bd7bc75\",339:\"4d805797\",340:\"9f094655\",341:\"a982151a\",342:\"1def7427\",343:\"66750e65\",344:\"5eac92eb\",345:\"010cc1a9\",346:\"9780e9cd\",347:\"c5f80b63\",348:\"2b7cb2b6\",349:\"8efdc771\",350:\"f243f0c8\",351:\"180fe442\",352:\"db7987cd\",353:\"feba12ae\",354:\"64b6137b\",355:\"bfc8f5fd\",356:\"e23a8bd5\",357:\"f677a011\",358:\"b7dc560b\",359:\"0c98a8f7\",360:\"afcf367a\",361:\"e8978a8b\",362:\"5386d9db\",363:\"38dc819f\",364:\"069b983b\",365:\"2e8f524a\",366:\"91f2c845\",367:\"671ef565\",368:\"c4d24a1a\",369:\"f398bbf4\",370:\"4257230a\",371:\"86895aab\",372:\"0be7c9dc\",373:\"c0c4adb3\",374:\"60637d05\",375:\"5f6b6f75\",376:\"d69f1a61\",377:\"55889c26\",378:\"d1bc52cc\",379:\"47be1d67\",380:\"d3e80350\",381:\"e3c3effe\",382:\"0d549650\",383:\"649d0e9d\",384:\"850d0955\",385:\"3c84f5e5\",386:\"da200c95\",387:\"7fdead77\",388:\"bd72b165\",389:\"180238ff\",390:\"20e8f9d7\",391:\"4daacb5b\",392:\"c5e7ff7c\",393:\"1521ce4b\",394:\"97e69b65\",395:\"d2d0d28b\",396:\"dd59115a\",397:\"2d0366d1\",398:\"a0185d27\",399:\"0fcbf04d\",400:\"1f11e804\",401:\"382aa3aa\",402:\"11edc392\",403:\"f7bb25c4\",404:\"62d9e732\",405:\"276c6f87\",406:\"fb9813dd\",407:\"d6feea7e\",408:\"7b02bfef\",409:\"5f0d1f48\",410:\"ff671d61\",411:\"b8594a49\",412:\"77198380\",413:\"0329d195\",414:\"3341c812\",415:\"bf718ce4\",416:\"a54d80ea\",417:\"3f0d1fb9\",418:\"c4f6a603\",419:\"54141185\",420:\"cda2c31b\",421:\"91a16472\",422:\"84a637ca\",423:\"6bae72d5\",424:\"881a6573\",425:\"a5e5e139\",426:\"f0300bff\",427:\"4bd4bad8\",428:\"8053f06f\",429:\"3aba96c4\",430:\"1fc9f014\",431:\"866fa82b\",432:\"dee19a97\",433:\"e01c4149\",434:\"4b2a7551\",435:\"0d7188ce\",436:\"f2a69d7d\",437:\"84c4960c\",438:\"d1b20240\",439:\"bafa4b21\",440:\"034b6d6b\",441:\"4cf7d6d1\",442:\"5f78684f\",443:\"72ddbac0\",444:\"45ffe738\",445:\"f7a14a6b\",446:\"a92df9fe\",447:\"47a43cf2\",448:\"daa021cf\",449:\"12ca45c3\",450:\"dc49f5ac\",451:\"e01c58fd\",452:\"8706927d\",453:\"1a9b5cf8\",454:\"64e79345\",455:\"cee04a11\",456:\"93537bb4\",457:\"202c72cf\",458:\"eeffe20e\",459:\"5815ad00\",460:\"bef53a90\",461:\"317a6010\",462:\"4b692d05\",463:\"efe833c1\",464:\"c306e6b6\",465:\"16da7230\",466:\"39e18980\",467:\"0d1a1574\",468:\"bf6d2dbc\",469:\"65c2d052\",470:\"77e598cf\",471:\"e2a418c6\",472:\"cddc8168\",473:\"0cc2b341\",474:\"24bc1107\",475:\"069560de\",476:\"f1ae86aa\",477:\"42d9f53e\",478:\"93d5a78d\",479:\"bf648581\",480:\"9bf69854\",481:\"10ca92f3\",482:\"7ddd724f\",483:\"304ba20c\",484:\"96ae9def\",485:\"09c9cee1\",486:\"0828fe57\",487:\"4f67addb\",488:\"9b66ef27\",489:\"d13dd8a8\",490:\"42edbc03\",491:\"9379ddb9\",492:\"b324bc21\",493:\"68e86cb1\",494:\"7cd6f4e4\",495:\"5bebc3b4\",496:\"a75adcb9\",497:\"886c643b\",498:\"1fa78fb8\",499:\"3db49cdc\",500:\"347cffd2\",501:\"c6e241e8\",502:\"49a26ee0\",503:\"bf0cba2c\",504:\"02ff968e\",505:\"876b21f1\",506:\"c8f9b5e2\",507:\"91b8049d\",508:\"77c5c6a5\",509:\"2a16f69a\",510:\"8d6b48bc\",511:\"a5a1ddfc\",512:\"e730c250\"}[e]+\".chunk.js\"}function n(d){if(f[d])return f[d].exports;var c=f[d]={i:d,l:!1,exports:{}};return e[d].call(c.exports,c,c.exports,n),c.l=!0,c.exports}n.e=function(e){var d=[];a[e]?d.push(a[e]):0!==a[e]&&{26:1,60:1,85:1,99:1,134:1,172:1,173:1,174:1,175:1,176:1,177:1,178:1,179:1,180:1,181:1,182:1,183:1,184:1,185:1,186:1,187:1,188:1,189:1,190:1,191:1,192:1,193:1,194:1,195:1,196:1,197:1,198:1,199:1,200:1,201:1,202:1,203:1,204:1,205:1,206:1,207:1,208:1,209:1,210:1,211:1,212:1,213:1,214:1,215:1,216:1,217:1,218:1,219:1}[e]&&d.push(a[e]=new Promise((function(d,c){for(var f=\"static/css/\"+({}[e]||e)+\".\"+{0:\"31d6cfe0\",1:\"31d6cfe0\",2:\"31d6cfe0\",3:\"31d6cfe0\",4:\"31d6cfe0\",5:\"31d6cfe0\",6:\"31d6cfe0\",7:\"31d6cfe0\",8:\"31d6cfe0\",9:\"31d6cfe0\",10:\"31d6cfe0\",11:\"31d6cfe0\",12:\"31d6cfe0\",13:\"31d6cfe0\",14:\"31d6cfe0\",15:\"31d6cfe0\",16:\"31d6cfe0\",17:\"31d6cfe0\",18:\"31d6cfe0\",19:\"31d6cfe0\",20:\"31d6cfe0\",21:\"31d6cfe0\",22:\"31d6cfe0\",23:\"31d6cfe0\",24:\"31d6cfe0\",25:\"31d6cfe0\",26:\"2d8838b4\",27:\"31d6cfe0\",28:\"31d6cfe0\",29:\"31d6cfe0\",30:\"31d6cfe0\",31:\"31d6cfe0\",32:\"31d6cfe0\",33:\"31d6cfe0\",34:\"31d6cfe0\",35:\"31d6cfe0\",36:\"31d6cfe0\",37:\"31d6cfe0\",38:\"31d6cfe0\",39:\"31d6cfe0\",40:\"31d6cfe0\",41:\"31d6cfe0\",42:\"31d6cfe0\",43:\"31d6cfe0\",44:\"31d6cfe0\",45:\"31d6cfe0\",46:\"31d6cfe0\",47:\"31d6cfe0\",48:\"31d6cfe0\",49:\"31d6cfe0\",50:\"31d6cfe0\",51:\"31d6cfe0\",52:\"31d6cfe0\",56:\"31d6cfe0\",57:\"31d6cfe0\",58:\"31d6cfe0\",59:\"31d6cfe0\",60:\"bda3e029\",61:\"31d6cfe0\",62:\"31d6cfe0\",63:\"31d6cfe0\",64:\"31d6cfe0\",65:\"31d6cfe0\",66:\"31d6cfe0\",67:\"31d6cfe0\",68:\"31d6cfe0\",69:\"31d6cfe0\",70:\"31d6cfe0\",71:\"31d6cfe0\",72:\"31d6cfe0\",73:\"31d6cfe0\",74:\"31d6cfe0\",75:\"31d6cfe0\",76:\"31d6cfe0\",77:\"31d6cfe0\",78:\"31d6cfe0\",79:\"31d6cfe0\",80:\"31d6cfe0\",81:\"31d6cfe0\",82:\"31d6cfe0\",83:\"31d6cfe0\",84:\"31d6cfe0\",85:\"27397bf3\",86:\"31d6cfe0\",87:\"31d6cfe0\",88:\"31d6cfe0\",89:\"31d6cfe0\",90:\"31d6cfe0\",91:\"31d6cfe0\",92:\"31d6cfe0\",93:\"31d6cfe0\",94:\"31d6cfe0\",95:\"31d6cfe0\",96:\"31d6cfe0\",97:\"31d6cfe0\",98:\"31d6cfe0\",99:\"643a9cf2\",100:\"31d6cfe0\",101:\"31d6cfe0\",102:\"31d6cfe0\",103:\"31d6cfe0\",104:\"31d6cfe0\",105:\"31d6cfe0\",106:\"31d6cfe0\",107:\"31d6cfe0\",108:\"31d6cfe0\",109:\"31d6cfe0\",110:\"31d6cfe0\",111:\"31d6cfe0\",112:\"31d6cfe0\",113:\"31d6cfe0\",114:\"31d6cfe0\",115:\"31d6cfe0\",116:\"31d6cfe0\",117:\"31d6cfe0\",118:\"31d6cfe0\",119:\"31d6cfe0\",120:\"31d6cfe0\",121:\"31d6cfe0\",122:\"31d6cfe0\",123:\"31d6cfe0\",124:\"31d6cfe0\",125:\"31d6cfe0\",126:\"31d6cfe0\",127:\"31d6cfe0\",128:\"31d6cfe0\",129:\"31d6cfe0\",130:\"31d6cfe0\",131:\"31d6cfe0\",132:\"31d6cfe0\",133:\"31d6cfe0\",134:\"6229db2c\",135:\"31d6cfe0\",136:\"31d6cfe0\",137:\"31d6cfe0\",138:\"31d6cfe0\",139:\"31d6cfe0\",140:\"31d6cfe0\",141:\"31d6cfe0\",142:\"31d6cfe0\",143:\"31d6cfe0\",144:\"31d6cfe0\",145:\"31d6cfe0\",146:\"31d6cfe0\",147:\"31d6cfe0\",148:\"31d6cfe0\",149:\"31d6cfe0\",150:\"31d6cfe0\",151:\"31d6cfe0\",152:\"31d6cfe0\",153:\"31d6cfe0\",154:\"31d6cfe0\",155:\"31d6cfe0\",156:\"31d6cfe0\",157:\"31d6cfe0\",158:\"31d6cfe0\",159:\"31d6cfe0\",160:\"31d6cfe0\",161:\"31d6cfe0\",162:\"31d6cfe0\",163:\"31d6cfe0\",164:\"31d6cfe0\",165:\"31d6cfe0\",166:\"31d6cfe0\",167:\"31d6cfe0\",168:\"31d6cfe0\",169:\"31d6cfe0\",170:\"31d6cfe0\",171:\"31d6cfe0\",172:\"be6e6964\",173:\"ddcc13be\",174:\"cda35b2d\",175:\"5fbc43f8\",176:\"f77c37ab\",177:\"6822ceca\",178:\"dc0cc660\",179:\"510429d0\",180:\"7972aec0\",181:\"2eb25404\",182:\"2460fb38\",183:\"53e2d596\",184:\"d760af6f\",185:\"fcfb03d9\",186:\"85ec5e28\",187:\"52e4d663\",188:\"2b9fbcba\",189:\"1a33676a\",190:\"39dbdd7e\",191:\"62db57bc\",192:\"286a9406\",193:\"f634ced9\",194:\"de10d14e\",195:\"05c12a0f\",196:\"bed9ec99\",197:\"42c0918c\",198:\"5802b52d\",199:\"b0cd91c9\",200:\"da8f7110\",201:\"52088d80\",202:\"d1ba3ee0\",203:\"303ccfcf\",204:\"aa9dc50f\",205:\"89e5d68b\",206:\"06dd632d\",207:\"1c10f967\",208:\"8e1181ca\",209:\"d4c8df1a\",210:\"495062e0\",211:\"f218cdcf\",212:\"60a0f571\",213:\"0088c026\",214:\"0c6a625e\",215:\"edb1e811\",216:\"71100daf\",217:\"51e6f8f2\",218:\"2d4b2997\",219:\"0572559c\",220:\"31d6cfe0\",221:\"31d6cfe0\",222:\"31d6cfe0\",223:\"31d6cfe0\",224:\"31d6cfe0\",225:\"31d6cfe0\",226:\"31d6cfe0\",227:\"31d6cfe0\",228:\"31d6cfe0\",229:\"31d6cfe0\",230:\"31d6cfe0\",231:\"31d6cfe0\",232:\"31d6cfe0\",233:\"31d6cfe0\",234:\"31d6cfe0\",235:\"31d6cfe0\",236:\"31d6cfe0\",237:\"31d6cfe0\",238:\"31d6cfe0\",239:\"31d6cfe0\",240:\"31d6cfe0\",241:\"31d6cfe0\",242:\"31d6cfe0\",243:\"31d6cfe0\",244:\"31d6cfe0\",245:\"31d6cfe0\",246:\"31d6cfe0\",247:\"31d6cfe0\",248:\"31d6cfe0\",249:\"31d6cfe0\",250:\"31d6cfe0\",251:\"31d6cfe0\",252:\"31d6cfe0\",253:\"31d6cfe0\",254:\"31d6cfe0\",255:\"31d6cfe0\",256:\"31d6cfe0\",257:\"31d6cfe0\",258:\"31d6cfe0\",259:\"31d6cfe0\",260:\"31d6cfe0\",261:\"31d6cfe0\",262:\"31d6cfe0\",263:\"31d6cfe0\",264:\"31d6cfe0\",265:\"31d6cfe0\",266:\"31d6cfe0\",267:\"31d6cfe0\",268:\"31d6cfe0\",269:\"31d6cfe0\",270:\"31d6cfe0\",271:\"31d6cfe0\",272:\"31d6cfe0\",273:\"31d6cfe0\",274:\"31d6cfe0\",275:\"31d6cfe0\",276:\"31d6cfe0\",277:\"31d6cfe0\",278:\"31d6cfe0\",279:\"31d6cfe0\",280:\"31d6cfe0\",281:\"31d6cfe0\",282:\"31d6cfe0\",283:\"31d6cfe0\",284:\"31d6cfe0\",285:\"31d6cfe0\",286:\"31d6cfe0\",287:\"31d6cfe0\",288:\"31d6cfe0\",289:\"31d6cfe0\",290:\"31d6cfe0\",291:\"31d6cfe0\",292:\"31d6cfe0\",293:\"31d6cfe0\",294:\"31d6cfe0\",295:\"31d6cfe0\",296:\"31d6cfe0\",297:\"31d6cfe0\",298:\"31d6cfe0\",299:\"31d6cfe0\",300:\"31d6cfe0\",301:\"31d6cfe0\",302:\"31d6cfe0\",303:\"31d6cfe0\",304:\"31d6cfe0\",305:\"31d6cfe0\",306:\"31d6cfe0\",307:\"31d6cfe0\",308:\"31d6cfe0\",309:\"31d6cfe0\",310:\"31d6cfe0\",311:\"31d6cfe0\",312:\"31d6cfe0\",313:\"31d6cfe0\",314:\"31d6cfe0\",315:\"31d6cfe0\",316:\"31d6cfe0\",317:\"31d6cfe0\",318:\"31d6cfe0\",319:\"31d6cfe0\",320:\"31d6cfe0\",321:\"31d6cfe0\",322:\"31d6cfe0\",323:\"31d6cfe0\",324:\"31d6cfe0\",325:\"31d6cfe0\",326:\"31d6cfe0\",327:\"31d6cfe0\",328:\"31d6cfe0\",329:\"31d6cfe0\",330:\"31d6cfe0\",331:\"31d6cfe0\",332:\"31d6cfe0\",333:\"31d6cfe0\",334:\"31d6cfe0\",335:\"31d6cfe0\",336:\"31d6cfe0\",337:\"31d6cfe0\",338:\"31d6cfe0\",339:\"31d6cfe0\",340:\"31d6cfe0\",341:\"31d6cfe0\",342:\"31d6cfe0\",343:\"31d6cfe0\",344:\"31d6cfe0\",345:\"31d6cfe0\",346:\"31d6cfe0\",347:\"31d6cfe0\",348:\"31d6cfe0\",349:\"31d6cfe0\",350:\"31d6cfe0\",351:\"31d6cfe0\",352:\"31d6cfe0\",353:\"31d6cfe0\",354:\"31d6cfe0\",355:\"31d6cfe0\",356:\"31d6cfe0\",357:\"31d6cfe0\",358:\"31d6cfe0\",359:\"31d6cfe0\",360:\"31d6cfe0\",361:\"31d6cfe0\",362:\"31d6cfe0\",363:\"31d6cfe0\",364:\"31d6cfe0\",365:\"31d6cfe0\",366:\"31d6cfe0\",367:\"31d6cfe0\",368:\"31d6cfe0\",369:\"31d6cfe0\",370:\"31d6cfe0\",371:\"31d6cfe0\",372:\"31d6cfe0\",373:\"31d6cfe0\",374:\"31d6cfe0\",375:\"31d6cfe0\",376:\"31d6cfe0\",377:\"31d6cfe0\",378:\"31d6cfe0\",379:\"31d6cfe0\",380:\"31d6cfe0\",381:\"31d6cfe0\",382:\"31d6cfe0\",383:\"31d6cfe0\",384:\"31d6cfe0\",385:\"31d6cfe0\",386:\"31d6cfe0\",387:\"31d6cfe0\",388:\"31d6cfe0\",389:\"31d6cfe0\",390:\"31d6cfe0\",391:\"31d6cfe0\",392:\"31d6cfe0\",393:\"31d6cfe0\",394:\"31d6cfe0\",395:\"31d6cfe0\",396:\"31d6cfe0\",397:\"31d6cfe0\",398:\"31d6cfe0\",399:\"31d6cfe0\",400:\"31d6cfe0\",401:\"31d6cfe0\",402:\"31d6cfe0\",403:\"31d6cfe0\",404:\"31d6cfe0\",405:\"31d6cfe0\",406:\"31d6cfe0\",407:\"31d6cfe0\",408:\"31d6cfe0\",409:\"31d6cfe0\",410:\"31d6cfe0\",411:\"31d6cfe0\",412:\"31d6cfe0\",413:\"31d6cfe0\",414:\"31d6cfe0\",415:\"31d6cfe0\",416:\"31d6cfe0\",417:\"31d6cfe0\",418:\"31d6cfe0\",419:\"31d6cfe0\",420:\"31d6cfe0\",421:\"31d6cfe0\",422:\"31d6cfe0\",423:\"31d6cfe0\",424:\"31d6cfe0\",425:\"31d6cfe0\",426:\"31d6cfe0\",427:\"31d6cfe0\",428:\"31d6cfe0\",429:\"31d6cfe0\",430:\"31d6cfe0\",431:\"31d6cfe0\",432:\"31d6cfe0\",433:\"31d6cfe0\",434:\"31d6cfe0\",435:\"31d6cfe0\",436:\"31d6cfe0\",437:\"31d6cfe0\",438:\"31d6cfe0\",439:\"31d6cfe0\",440:\"31d6cfe0\",441:\"31d6cfe0\",442:\"31d6cfe0\",443:\"31d6cfe0\",444:\"31d6cfe0\",445:\"31d6cfe0\",446:\"31d6cfe0\",447:\"31d6cfe0\",448:\"31d6cfe0\",449:\"31d6cfe0\",450:\"31d6cfe0\",451:\"31d6cfe0\",452:\"31d6cfe0\",453:\"31d6cfe0\",454:\"31d6cfe0\",455:\"31d6cfe0\",456:\"31d6cfe0\",457:\"31d6cfe0\",458:\"31d6cfe0\",459:\"31d6cfe0\",460:\"31d6cfe0\",461:\"31d6cfe0\",462:\"31d6cfe0\",463:\"31d6cfe0\",464:\"31d6cfe0\",465:\"31d6cfe0\",466:\"31d6cfe0\",467:\"31d6cfe0\",468:\"31d6cfe0\",469:\"31d6cfe0\",470:\"31d6cfe0\",471:\"31d6cfe0\",472:\"31d6cfe0\",473:\"31d6cfe0\",474:\"31d6cfe0\",475:\"31d6cfe0\",476:\"31d6cfe0\",477:\"31d6cfe0\",478:\"31d6cfe0\",479:\"31d6cfe0\",480:\"31d6cfe0\",481:\"31d6cfe0\",482:\"31d6cfe0\",483:\"31d6cfe0\",484:\"31d6cfe0\",485:\"31d6cfe0\",486:\"31d6cfe0\",487:\"31d6cfe0\",488:\"31d6cfe0\",489:\"31d6cfe0\",490:\"31d6cfe0\",491:\"31d6cfe0\",492:\"31d6cfe0\",493:\"31d6cfe0\",494:\"31d6cfe0\",495:\"31d6cfe0\",496:\"31d6cfe0\",497:\"31d6cfe0\",498:\"31d6cfe0\",499:\"31d6cfe0\",500:\"31d6cfe0\",501:\"31d6cfe0\",502:\"31d6cfe0\",503:\"31d6cfe0\",504:\"31d6cfe0\",505:\"31d6cfe0\",506:\"31d6cfe0\",507:\"31d6cfe0\",508:\"31d6cfe0\",509:\"31d6cfe0\",510:\"31d6cfe0\",511:\"31d6cfe0\",512:\"31d6cfe0\"}[e]+\".chunk.css\",b=n.p+f,t=document.getElementsByTagName(\"link\"),r=0;r<t.length;r++){var o=(i=t[r]).getAttribute(\"data-href\")||i.getAttribute(\"href\");if(\"stylesheet\"===i.rel&&(o===f||o===b))return d()}var u=document.getElementsByTagName(\"style\");for(r=0;r<u.length;r++){var i;if((o=(i=u[r]).getAttribute(\"data-href\"))===f||o===b)return d()}var l=document.createElement(\"link\");l.rel=\"stylesheet\",l.type=\"text/css\",l.onload=d,l.onerror=function(d){var f=d&&d.target&&d.target.src||b,t=new Error(\"Loading CSS chunk \"+e+\" failed.\\n(\"+f+\")\");t.code=\"CSS_CHUNK_LOAD_FAILED\",t.request=f,delete a[e],l.parentNode.removeChild(l),c(t)},l.href=b,document.getElementsByTagName(\"head\")[0].appendChild(l)})).then((function(){a[e]=0})));var c=b[e];if(0!==c)if(c)d.push(c[2]);else{var f=new Promise((function(d,f){c=b[e]=[d,f]}));d.push(c[2]=f);var t=new Error,o=function d(c,f){var a,o=\"&attempt=\"+(5-f+1),u=document.createElement(\"script\");u.charset=\"utf-8\",u.timeout=120,n.nc&&u.setAttribute(\"nonce\",n.nc),u.src=c,a=function(c){u.onerror=u.onload=null,clearTimeout(i);var a=b[e];if(0!==a)if(a)if(0===f){var n=c&&(\"load\"===c.type?\"missing\":c.type),l=c&&c.target&&c.target.src;t.message=\"Loading chunk \"+e+\" failed after 5 retries...\\n(\"+n+\": \"+l+\")\",t.name=\"ChunkLoadError\",t.type=n,t.request=l,a[1](t),b[e]=void 0}else{var s=\"no-cache=\"+Date.now()+o,p=d(r(e)+\"?\"+s,f-1);document.head.appendChild(p)}else b[e]=void 0};var i=setTimeout((function(){a({type:\"timeout\",target:u})}),12e4);return u.onerror=u.onload=a,u}(r(e),5);document.head.appendChild(o)}return Promise.all(d)},n.m=e,n.c=f,n.d=function(e,d,c){n.o(e,d)||Object.defineProperty(e,d,{enumerable:!0,get:c})},n.r=function(e){\"undefined\"!=typeof Symbol&&Symbol.toStringTag&&Object.defineProperty(e,Symbol.toStringTag,{value:\"Module\"}),Object.defineProperty(e,\"__esModule\",{value:!0})},n.t=function(e,d){if(1&d&&(e=n(e)),8&d)return e;if(4&d&&\"object\"==typeof e&&e&&e.__esModule)return e;var c=Object.create(null);if(n.r(c),Object.defineProperty(c,\"default\",{enumerable:!0,value:e}),2&d&&\"string\"!=typeof e)for(var f in e)n.d(c,f,function(d){return e[d]}.bind(null,f));return c},n.n=function(e){var d=e&&e.__esModule?function(){return e.default}:function(){return e};return n.d(d,\"a\",d),d},n.o=function(e,d){return Object.prototype.hasOwnProperty.call(e,d)},n.p=\"https://cdn-front-door.elice.io/web/\",n.oe=function(e){throw console.error(e),e};var o=this[\"webpackJsonpelice-web\"]=this[\"webpackJsonpelice-web\"]||[],u=o.push.bind(o);o.push=d,o=o.slice();for(var i=0;i<o.length;i++)d(o[i]);var l=u;c()}([])</script><script src=\"https://cdn-front-door.elice.io/web/static/js/55.e8a949a1.chunk.js\"></script><script src=\"https://cdn-front-door.elice.io/web/static/js/main.47eacde8.chunk.js\"></script></body></html>"
      ]
     },
     "execution_count": 8,
     "metadata": {},
     "output_type": "execute_result"
    }
   ],
   "source": [
    "res = req.get('https://gwangju-ai.elice.io/courses/23698/lectures/186620/materials/1')\n",
    "soup = bs(res.text, 'lxml')\n",
    "data = soup.select('iframe')\n",
    "soup"
   ]
  },
  {
   "cell_type": "code",
   "execution_count": 175,
   "id": "7b820705",
   "metadata": {},
   "outputs": [
    {
     "ename": "IndexError",
     "evalue": "list index out of range",
     "output_type": "error",
     "traceback": [
      "\u001b[1;31m---------------------------------------------------------------------------\u001b[0m",
      "\u001b[1;31mIndexError\u001b[0m                                Traceback (most recent call last)",
      "Input \u001b[1;32mIn [175]\u001b[0m, in \u001b[0;36m<cell line: 1>\u001b[1;34m()\u001b[0m\n\u001b[0;32m      4\u001b[0m btn_li \u001b[38;5;241m=\u001b[39m driver\u001b[38;5;241m.\u001b[39mfind_elements(By\u001b[38;5;241m.\u001b[39mCLASS_NAME, \u001b[38;5;124m'\u001b[39m\u001b[38;5;124mfIqPHj\u001b[39m\u001b[38;5;124m'\u001b[39m)\n\u001b[0;32m      5\u001b[0m action \u001b[38;5;241m=\u001b[39m ActionChains(driver)\n\u001b[1;32m----> 6\u001b[0m action\u001b[38;5;241m.\u001b[39mmove_to_element(\u001b[43mbtn_li\u001b[49m\u001b[43m[\u001b[49m\u001b[43mi\u001b[49m\u001b[43m]\u001b[49m)\u001b[38;5;241m.\u001b[39mperform()\n\u001b[0;32m      7\u001b[0m time\u001b[38;5;241m.\u001b[39msleep(\u001b[38;5;241m1\u001b[39m)\n\u001b[0;32m      8\u001b[0m btn_li[i]\u001b[38;5;241m.\u001b[39mclick()\n",
      "\u001b[1;31mIndexError\u001b[0m: list index out of range"
     ]
    }
   ],
   "source": [
    "for i in range(3):\n",
    "    driver.execute_script(\"window.scrollTo(0, 700)\") \n",
    "    time.sleep(1)\n",
    "    btn_li = driver.find_elements(By.CLASS_NAME, 'fIqPHj')\n",
    "    action = ActionChains(driver)\n",
    "    action.move_to_element(btn_li[i]).perform()\n",
    "    time.sleep(1)\n",
    "    btn_li[i].click()\n",
    "    time.sleep(2)\n",
    "    for j in range(1, 3) :\n",
    "        card = driver.find_element(By.XPATH, f'/html/body/div[1]/main/div/div[3]/div/div/div[2]/div[{j}]/a/div')\n",
    "        action = ActionChains(driver)\n",
    "        action.move_to_element(card).perform()\n",
    "        time.sleep(1)\n",
    "        card.click()\n",
    "        time.sleep(2)"
   ]
  },
  {
   "cell_type": "code",
   "execution_count": null,
   "id": "70cc723e",
   "metadata": {},
   "outputs": [],
   "source": [
    "# url_li = ['07', '08', '09', '10', '11', '13', '15', '38', '39', '40']\n",
    "# for n in url_li :\n",
    "#     url = f'https://gwangju-ai.elice.io/courses/23703/lectures/all'\n",
    "#     driver.get(url)\n",
    "#     clear_ox = driver.find_elements(By.CLASS_NAME, 'eb-badge__icon')\n",
    "#     if clear_ox.text == \"이수 완료\":\n",
    "#         pass\n",
    "# for track in track_li :\n",
    "#     clear_ox = track.find_element(By.CLASS_NAME, 'jLZOlB').find_element(By.TAG_NAME,'div').text\n",
    "#     if int(clear_ox[-1]) > int(clear_ox[-3]) :\n",
    "#             url_li.append(track.find_element(By.TAG_NAME, 'a').get_attribute('href'))\n",
    "# driver.get(url_li[0]), "
   ]
  },
  {
   "cell_type": "code",
   "execution_count": null,
   "id": "32d5e9cb",
   "metadata": {},
   "outputs": [],
   "source": [
    "# res = req.get(driver.current_url)\n",
    "# soup = bs(res.text, 'lxml')\n",
    "# data = soup.select('.emtygC .ktlupS>div')\n",
    "# soup"
   ]
  },
  {
   "cell_type": "code",
   "execution_count": null,
   "id": "f93dfec8",
   "metadata": {},
   "outputs": [],
   "source": [
    "# 파이썬 기초1\n",
    "https://gwangju-ai.elice.io/courses/23690/lectures/186590\n",
    "https://gwangju-ai.elice.io/courses/23690/lectures/186615\n",
    "https://gwangju-ai.elice.io/courses/23690/lectures/186692\n",
    "https://gwangju-ai.elice.io/courses/23690/lectures/186729\n",
    "\n",
    "# 파이썬 기초2\n",
    "https://gwangju-ai.elice.io/courses/23705/lectures/186645/materials/1\n",
    "https://gwangju-ai.elice.io/courses/23705/lectures/186632\n",
    "https://gwangju-ai.elice.io/courses/23705/lectures/186645\n",
    "https://gwangju-ai.elice.io/courses/23705/lectures/186694\n",
    "https://gwangju-ai.elice.io/courses/23705/lectures/186732\n",
    "https://gwangju-ai.elice.io/courses/23705/lectures/186749\n",
    "\n",
    "# 파이썬으로 시작하는 데이터 분석\n",
    "https://gwangju-ai.elice.io/courses/23703/lectures/186603 # 2 6\n",
    "https://gwangju-ai.elice.io/courses/23703/lectures/186625 # 1 4 8 13 16 19 \n",
    "https://gwangju-ai.elice.io/courses/23703/lectures/186662 # 1 4 7 10 13\n",
    "https://gwangju-ai.elice.io/courses/23703/lectures/186686 # 1 3 5 9\n",
    "https://gwangju-ai.elice.io/courses/23703/lectures/186705 # 1 3 5 7 9\n",
    "https://gwangju-ai.elice.io/courses/23703/lectures/186725\n",
    "    \n",
    "# 파이썬 실전 데이터 분석\n",
    "https://gwangju-ai.elice.io/courses/23711/lectures/186608 # 2\n",
    "https://gwangju-ai.elice.io/courses/23711/lectures/186623 # 1 3 5 7 9 11 13\n",
    "https://gwangju-ai.elice.io/courses/23711/lectures/186655 # 1 3 5 7 9\n",
    "https://gwangju-ai.elice.io/courses/23711/lectures/186683 # 1 3 5 7 9 11\n",
    "https://gwangju-ai.elice.io/courses/23711/lectures/186707 # 1 4 7 9\n",
    "    \n",
    "# 파이썬 기초 문제집\n",
    "https://gwangju-ai.elice.io/courses/23693/lectures/186591\n",
    "https://gwangju-ai.elice.io/courses/23693/lectures/186621\n",
    "https://gwangju-ai.elice.io/courses/23693/lectures/186633\n",
    "https://gwangju-ai.elice.io/courses/23693/lectures/186644\n",
    "https://gwangju-ai.elice.io/courses/23693/lectures/186670\n",
    "https://gwangju-ai.elice.io/courses/23693/lectures/186684\n",
    "https://gwangju-ai.elice.io/courses/23693/lectures/186699\n",
    "https://gwangju-ai.elice.io/courses/23693/lectures/186706\n",
    "    \n",
    "# 도전 디버깅 입문\n",
    "https://gwangju-ai.elice.io/courses/23698/lectures/186596 # 1\n",
    "https://gwangju-ai.elice.io/courses/23698/lectures/186613 # 2 3 4\n",
    "https://gwangju-ai.elice.io/courses/23698/lectures/186620 # 1 2 3 4 6\n",
    "https://gwangju-ai.elice.io/courses/23698/lectures/186635\n",
    "https://gwangju-ai.elice.io/courses/23698/lectures/186646\n"
   ]
  },
  {
   "cell_type": "code",
   "execution_count": null,
   "id": "ae09528d",
   "metadata": {},
   "outputs": [],
   "source": []
  }
 ],
 "metadata": {
  "kernelspec": {
   "display_name": "Python 3 (ipykernel)",
   "language": "python",
   "name": "python3"
  },
  "language_info": {
   "codemirror_mode": {
    "name": "ipython",
    "version": 3
   },
   "file_extension": ".py",
   "mimetype": "text/x-python",
   "name": "python",
   "nbconvert_exporter": "python",
   "pygments_lexer": "ipython3",
   "version": "3.9.12"
  },
  "toc": {
   "base_numbering": 1,
   "nav_menu": {},
   "number_sections": true,
   "sideBar": true,
   "skip_h1_title": false,
   "title_cell": "Table of Contents",
   "title_sidebar": "Contents",
   "toc_cell": false,
   "toc_position": {},
   "toc_section_display": true,
   "toc_window_display": false
  }
 },
 "nbformat": 4,
 "nbformat_minor": 5
}
