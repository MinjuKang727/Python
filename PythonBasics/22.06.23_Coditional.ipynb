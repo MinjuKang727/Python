{
 "cells": [
  {
   "cell_type": "markdown",
   "id": "d577371f",
   "metadata": {},
   "source": [
    "### 조건문\n",
    "- 상황에 따라 실행 흐름을 다르게 하는 문법"
   ]
  },
  {
   "cell_type": "code",
   "execution_count": null,
   "id": "a60315da",
   "metadata": {},
   "outputs": [],
   "source": [
    "If a > 10 :\n",
    "    #그냥 엔터키만 쳐도 자동으로 탭이 되어있음.\n",
    "    \n",
    "if a > 10 #콜론을 안쓰면 줄바꿈시, 자동으로 탭이 안되니, 만약 탭이 자동으로 적용되지 않는다면 콜론을 빼먹지 않았는지 보자!"
   ]
  },
  {
   "cell_type": "code",
   "execution_count": null,
   "id": "0bc5a284",
   "metadata": {},
   "outputs": [],
   "source": [
    "if True:\n",
    "    print('실행문장 실행')"
   ]
  },
  {
   "cell_type": "code",
   "execution_count": null,
   "id": "0f899b0e",
   "metadata": {},
   "outputs": [],
   "source": [
    "if false:\n",
    "    print('실행문장 실행')"
   ]
  },
  {
   "cell_type": "code",
   "execution_count": null,
   "id": "731bfe77",
   "metadata": {},
   "outputs": [],
   "source": [
    "if True:\n",
    "    print('실행문장 실행')\n",
    "print('if문 밖에 있는 실행문장')"
   ]
  },
  {
   "cell_type": "code",
   "execution_count": null,
   "id": "975ab65d",
   "metadata": {},
   "outputs": [],
   "source": [
    "if False:\n",
    "    print('실행문장 실행')\n",
    "print('if문 밖에 있는 실행문장')"
   ]
  },
  {
   "cell_type": "code",
   "execution_count": null,
   "id": "748e4c5a",
   "metadata": {},
   "outputs": [],
   "source": [
    "money = 11000\n",
    "\n",
    "if money >= 10000 :\n",
    "    print('택시를 탄다')"
   ]
  },
  {
   "cell_type": "code",
   "execution_count": null,
   "id": "dfc036ad",
   "metadata": {},
   "outputs": [],
   "source": [
    "money = 9000\n",
    "\n",
    "if money >= 10000 :\n",
    "    print('택시를 탄다')"
   ]
  },
  {
   "cell_type": "code",
   "execution_count": null,
   "id": "23bcfeca",
   "metadata": {},
   "outputs": [],
   "source": [
    "#money = 11000\n",
    "\n",
    "if money >= 10000 :\n",
    "    print('택시를 탄다')"
   ]
  },
  {
   "cell_type": "code",
   "execution_count": null,
   "id": "74b3427b",
   "metadata": {},
   "outputs": [],
   "source": [
    "#조건식이 True일 경우 실행문자1 실행\n",
    "#조건식이 False일 경우 실행문장2 실행\n",
    "#if 조건식 : \n",
    "#    실행문장1\n",
    "#else : \n",
    "#    실행문장2\n"
   ]
  },
  {
   "cell_type": "code",
   "execution_count": null,
   "id": "b5709b26",
   "metadata": {},
   "outputs": [],
   "source": [
    "if True : \n",
    "    print(\"실행문장1\")\n",
    "else:\n",
    "    print(\"실행문장2\")"
   ]
  },
  {
   "cell_type": "code",
   "execution_count": null,
   "id": "82fb1e7e",
   "metadata": {},
   "outputs": [],
   "source": [
    "money = 11000\n",
    "if money >= 10000 :\n",
    "    print('택시를 탄다')\n",
    "else :\n",
    "    print('버스를 탄다')"
   ]
  },
  {
   "cell_type": "code",
   "execution_count": null,
   "id": "079c8885",
   "metadata": {},
   "outputs": [],
   "source": [
    "money = 9000\n",
    "if money >= 10000 :\n",
    "    print('택시를 탄다')\n",
    "else :\n",
    "    print('버스를 탄다')"
   ]
  },
  {
   "cell_type": "code",
   "execution_count": null,
   "id": "855ffdc4",
   "metadata": {},
   "outputs": [],
   "source": [
    "#삼항연산자\n",
    "print('택시를 탄다' if money >= 10000 else '버스를 탄다')"
   ]
  },
  {
   "cell_type": "code",
   "execution_count": null,
   "id": "71912354",
   "metadata": {},
   "outputs": [],
   "source": [
    "num = int(input(\"정수 입력 >> \"))\n",
    "if num % 3 == 0 and num % 5 == 0 :\n",
    "    print('3과 5의 배수입니다.')\n",
    "else:\n",
    "    print('3과 5의 배수가 아닙니다.')"
   ]
  },
  {
   "cell_type": "code",
   "execution_count": null,
   "id": "7c5411d9",
   "metadata": {},
   "outputs": [],
   "source": [
    "#삼항연산자\n",
    "num = int(input(\"정수 입력 >> \"))\n",
    "print('3과 5의 배수입니다.' if ((num % 3 == 0) and (num % 5 ==0)) else '3과 5의 배수가 아닙니다.')"
   ]
  },
  {
   "cell_type": "code",
   "execution_count": null,
   "id": "cd7770fb",
   "metadata": {},
   "outputs": [],
   "source": [
    "# 남녀구분 by 주민번호 뒷자리\n",
    "num = input(\"주민등록번호 뒷자리 입력 >> \")\n",
    "if num[0] == '2' or num[0] == 4 :\n",
    "    print('당신은 여자 입니다 ^^*')\n",
    "else :\n",
    "#     if num[0] == '1' or num[0] == 3 : \n",
    "    print('당신은 남자 입니다 ^^7')"
   ]
  },
  {
   "cell_type": "code",
   "execution_count": null,
   "id": "4ef13c9f",
   "metadata": {},
   "outputs": [],
   "source": [
    "# 남녀구분 by 주민번호 뒷자리\n",
    "num = int(input('주민등록번호 뒷자리 입력 >> '))\n",
    "if num // 1000000 == 2 or num // 1000000 == 4 :\n",
    "    print('당신은 여자 입니다 ^^*')\n",
    "else :\n",
    "#     if num // 1000000 == 1 or num // 1000000 == 3 :\n",
    "        print('당신은 남자 입니다 ^^7')"
   ]
  },
  {
   "cell_type": "code",
   "execution_count": null,
   "id": "ec20e295",
   "metadata": {
    "scrolled": true
   },
   "outputs": [],
   "source": [
    "# 놀이동산 예약\n",
    "name = input(\"이름 입력 >> \")\n",
    "age = int(input(\"나이 입력 >> \"))\n",
    "card = input(\"카드 소지 여부(소지, 미소지) >> \")\n",
    "fee = 35000\n",
    "\n",
    "# 성인일 경우\n",
    "if age >= 19 :\n",
    "    if card == '소지' : # 카드 소지시, 30%할인\n",
    "        fee *= 0.7  # fee = fee * 0.7\n",
    "\n",
    "# 미성년일 경우\n",
    "else :\n",
    "    # 미성년 할인율, 50%\n",
    "    fee *= 0.5      # fee = fee * 0.5\n",
    "    if card == '소지' :\n",
    "        # 미성년 카드 할인율, 10%\n",
    "        fee *= 0.9  # fee = fee * 0.9\n",
    "print(f'{name}님은 입장료{int(fee)}원에 예약되셨습니다.')\n",
    "        "
   ]
  },
  {
   "cell_type": "code",
   "execution_count": null,
   "id": "af3e55fb",
   "metadata": {},
   "outputs": [],
   "source": [
    "# 마스크 포장\n",
    "countOfMask = int(input(\"마스트 개수 입력 >>\"))\n",
    "# 8개 들이 포장지 개수\n",
    "eight = countOfMask // 8\n",
    "# 꽉 찬 5개 들이 포장지 개수\n",
    "five = countOfMask % 8 // 5\n",
    "\n",
    "# 5개 미만 잔여 마스크 존재 여부\n",
    "if ((countOfMask % 8) % 5) > 0 :\n",
    "    five += 1   # five = five + 1\n",
    "print(f'8개들이 포장지 개수 : {eight}')\n",
    "print(f'5개들이 포장지 개수 : {five}')"
   ]
  },
  {
   "cell_type": "code",
   "execution_count": null,
   "id": "b6e57dee",
   "metadata": {},
   "outputs": [],
   "source": [
    "num1 = int(input('첫 번째 정수 입력 >> '))\n",
    "num2 = int(input('두 번째 정수 입력 >> '))\n",
    "if num1 == num2 :\n",
    "    print('두 수가 똑같습니다.')\n",
    "elif num1 > num2 :\n",
    "    print('첫 번째 정수가 더 큽니다,')\n",
    "else :\n",
    "    print('두 번째 정수가 더 큽니다.')"
   ]
  },
  {
   "cell_type": "code",
   "execution_count": null,
   "id": "7e657ab7",
   "metadata": {},
   "outputs": [],
   "source": [
    "# 학점 계산기\n",
    "score = int(input('점수 입력 >> '))\n",
    "grade = 'F'\n",
    "# 100점 이하, 90점 이상 :  A학점\n",
    "if score >= 90 and score <= 100 :\n",
    "    grade ='A'\n",
    "\n",
    "# 90점 미만 80점 이상 : B학점\n",
    "elif score >= 80 :\n",
    "    grade ='B'\n",
    "# 80점 미만 70점 이상 : C학점\n",
    "elif score >= 70 :\n",
    "    grade = 'C'\n",
    "# 70점 미만 60점 이상 : D학점\n",
    "elif score >= 60 :\n",
    "    grade = 'D'\n",
    "# 60점 미만 : F학점\n",
    "else :\n",
    "    pass\n",
    "print(f'{score}점은 {grade}학점 입니다.')"
   ]
  },
  {
   "cell_type": "code",
   "execution_count": null,
   "id": "2dd20006",
   "metadata": {},
   "outputs": [],
   "source": [
    "# 좌표평면 위의 점 위치\n",
    "x = float(input(\"x값을 입력하세요 : \"))\n",
    "y = float(input(\"y값을 입력하세요 : \"))\n",
    "quadrant = '좌표축 위의 점'\n",
    "\n",
    "if x > 0:\n",
    "    # (양수,양수)  : 1사분면\n",
    "    if y > 0 :\n",
    "        quadrant = '1사분면'\n",
    "    # (양수,양수) :4사분면\n",
    "    elif y < 0 :\n",
    "        quadrant = '4사분면'\n",
    "elif x < 0 :\n",
    "    # (음수,양수) : 2사분면\n",
    "    if y > 0 :\n",
    "        quadrant = '2사분면'\n",
    "    # (음수,음수) : 3사분면\n",
    "    elif y < 0 :\n",
    "        quadrant = '3사분면'\n",
    "print(f'좌표({int(x)},{int(y)})는 {quadrant} 입니다.')"
   ]
  },
  {
   "cell_type": "code",
   "execution_count": null,
   "id": "4b560405",
   "metadata": {},
   "outputs": [],
   "source": [
    "# 버스요금 계산 프로그램\n",
    "fee = 1500  # 기본 요금 : 1500원\n",
    "age = int(input(\"나이 입력 >> \"))\n",
    "\n",
    "# 5세 미만 할인율 50%\n",
    "if age < 5 :\n",
    "    fee *= 1 - 0.5\n",
    "# 5세 이상 20세 미만 할인율 25%\n",
    "elif age < 20 :\n",
    "    fee *= 1 - 0.25\n",
    "# 65세 이상 할인율 75%\n",
    "elif age >= 65 :\n",
    "    fee *= 1 - 0.75\n",
    "print(f\"요금은 {int(fee)}원 입니다.\")\n",
    "    "
   ]
  },
  {
   "cell_type": "code",
   "execution_count": 2,
   "id": "8733c25e",
   "metadata": {
    "scrolled": false
   },
   "outputs": [
    {
     "name": "stdout",
     "output_type": "stream",
     "text": [
      "================================================\n",
      "================---- 자판기 ----================\n",
      "================================================\n",
      "== 1.콜라 == 2.사이다 ==  3.물  =======insert===\n",
      "==--------==----------==--------=======------===\n",
      "==   600  ==    800   ==  1000  ======= 000원===\n",
      "=======================================------===\n",
      "================================================\n",
      "==++++++++++++++++++++++++++++++++++++++++++++==\n",
      "==++++++++++++++++++++++++++++++++++++++++++++==\n",
      "==++++++++++++++++++++++++++++++++++++++++++++==\n",
      "==+++++++++++++++              +++++++++++++++==\n",
      "==+++++++++++++++    SMHRD     +++++++++++++++==\n",
      "==+++++++++++++++              +++++++++++++++==\n",
      "==++++++++++++++++++++++++++++++++++++++++++++==\n",
      "==++++++++++++++++++++++++++++++++++++++++++++==\n",
      "================================================\n",
      "================================================\n",
      "  ===                                      ===  \n",
      "  ===                                      ===  \n",
      "insert coin >> 1000\n",
      "메뉴 선택 >> 1\n",
      "잔돈 >> 1000원 0개, 500원 0개, 100원 4개\n"
     ]
    }
   ],
   "source": [
    "# 조건문을 활용한 자판기 만들기!!\n",
    "\n",
    "#자판기\n",
    "print('='*48)\n",
    "print('='*16+'-'*4+' 자판기 '+'-'*4+'='*16)\n",
    "print('='*48)\n",
    "print('='*2+' 1.콜라 '+'='*2+' 2.사이다 '+'='*2+'  3.물  '+'='*7+'insert'+'='*3)\n",
    "print('='*2+'-'*8+'='*2+'-'*10+'='*2+'-'*8+'='*7+'-'*6+'='*3)\n",
    "print('='*2+'   600  '+'='*2+'    800   '+'='*2+'  1000  '+'='*7+' 000원'+'='*3)\n",
    "print('='*39+'-'*6+'='*3)\n",
    "print('='*48)\n",
    "print('='*2+'+'*44+'='*2)\n",
    "print('='*2+'+'*44+'='*2)\n",
    "print('='*2+'+'*44+'='*2)\n",
    "print('='*2+'+'*15+' '*14+'+'*15+'='*2)\n",
    "print('='*2+'+'*15+'    SMHRD     '+'+'*15+'='*2)\n",
    "print('='*2+'+'*15+' '*14+'+'*15+'='*2)\n",
    "print('='*2+'+'*44+'='*2)\n",
    "print('='*2+'+'*44+'='*2)\n",
    "print('='*48)\n",
    "print('='*48)\n",
    "print(' '*2+'='*3+' '*38+'='*3+' '*2)\n",
    "print(' '*2+'='*3+' '*38+'='*3+' '*2)\n",
    "\n",
    "\n",
    "insert = int(input(\"insert coin >> \"))\n",
    "menu = 0\n",
    "cost = 0\n",
    "# 메뉴 선택하기\n",
    "if insert >= 600 :\n",
    "    menu = int(input('메뉴 선택 >> '))\n",
    "    #1.콜라: 600원\n",
    "    if menu == 1 :\n",
    "        insert -= 600  \n",
    "    #2.사이다: 800원\n",
    "    elif menu == 2 : \n",
    "        insert -= 800  \n",
    "    #3.물: 1000원\n",
    "    elif menu == 3 :\n",
    "        insert -= 1000 \n",
    "    # 1~3번 메뉴가 아닐 시,\n",
    "    else : \n",
    "        print('잘못된 메뉴')\n",
    "    #잔돈 계산하기\n",
    "    if insert >= 0 :\n",
    "        #천원짜리 개수\n",
    "        cash_1000 = insert // 1000\n",
    "        #오백원짜리 개수\n",
    "        cash_500 = insert % 1000 // 500\n",
    "        #백원짜리 개수\n",
    "        cash_100 = insert % 500 // 100\n",
    "        print(f'잔돈 >> 1000원 {cash_1000}개, 500원 {cash_500}개, 100원 {cash_100}개')\n",
    "    # 잔액 부족 시,\n",
    "    else :\n",
    "        print('잔액 부족')\n",
    "            \n",
    "else :\n",
    "    print('돈을 더 넣으세요.')"
   ]
  }
 ],
 "metadata": {
  "kernelspec": {
   "display_name": "Python 3 (ipykernel)",
   "language": "python",
   "name": "python3"
  },
  "language_info": {
   "codemirror_mode": {
    "name": "ipython",
    "version": 3
   },
   "file_extension": ".py",
   "mimetype": "text/x-python",
   "name": "python",
   "nbconvert_exporter": "python",
   "pygments_lexer": "ipython3",
   "version": "3.9.12"
  }
 },
 "nbformat": 4,
 "nbformat_minor": 5
}
