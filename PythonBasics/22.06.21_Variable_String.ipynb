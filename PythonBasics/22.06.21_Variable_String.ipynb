{
 "cells": [
  {
   "cell_type": "code",
   "execution_count": 1,
   "id": "6b503897",
   "metadata": {},
   "outputs": [
    {
     "data": {
      "text/plain": [
       "77"
      ]
     },
     "execution_count": 1,
     "metadata": {},
     "output_type": "execute_result"
    }
   ],
   "source": [
    "number1 = 13\n",
    "number1\n",
    "\n",
    "number2 = 25\n",
    "number2\n",
    "\n",
    "number2 = 77\n",
    "number2"
   ]
  },
  {
   "cell_type": "code",
   "execution_count": 2,
   "id": "d8e5e8c5",
   "metadata": {},
   "outputs": [
    {
     "data": {
      "text/plain": [
       "25"
      ]
     },
     "execution_count": 2,
     "metadata": {},
     "output_type": "execute_result"
    }
   ],
   "source": [
    "num2 = 25\n",
    "num2"
   ]
  },
  {
   "cell_type": "code",
   "execution_count": 3,
   "id": "1b7bdc94",
   "metadata": {},
   "outputs": [
    {
     "data": {
      "text/plain": [
       "77"
      ]
     },
     "execution_count": 3,
     "metadata": {},
     "output_type": "execute_result"
    }
   ],
   "source": [
    "num2 = 77\n",
    "num2"
   ]
  },
  {
   "cell_type": "code",
   "execution_count": 4,
   "id": "06e62c36",
   "metadata": {},
   "outputs": [
    {
     "data": {
      "text/plain": [
       "int"
      ]
     },
     "execution_count": 4,
     "metadata": {},
     "output_type": "execute_result"
    }
   ],
   "source": [
    "#type : 변수의 자료형 확인\n",
    "type(num2)"
   ]
  },
  {
   "cell_type": "code",
   "execution_count": 5,
   "id": "ee43c285",
   "metadata": {},
   "outputs": [
    {
     "name": "stdout",
     "output_type": "stream",
     "text": [
      "3.1425\n"
     ]
    }
   ],
   "source": [
    "num3 = 3.1425 \n",
    "print(num3)"
   ]
  },
  {
   "cell_type": "code",
   "execution_count": 6,
   "id": "a84f4637",
   "metadata": {},
   "outputs": [
    {
     "name": "stdout",
     "output_type": "stream",
     "text": [
      "1.25\n"
     ]
    }
   ],
   "source": [
    "num4  = 1.25\n",
    "print(num4)"
   ]
  },
  {
   "cell_type": "code",
   "execution_count": 7,
   "id": "ad35c8c5",
   "metadata": {},
   "outputs": [
    {
     "name": "stdout",
     "output_type": "stream",
     "text": [
      "3.12\n"
     ]
    },
    {
     "data": {
      "text/plain": [
       "float"
      ]
     },
     "execution_count": 7,
     "metadata": {},
     "output_type": "execute_result"
    }
   ],
   "source": [
    "num4  = 3.12\n",
    "print(num4)\n",
    "type(num4)"
   ]
  },
  {
   "cell_type": "code",
   "execution_count": 8,
   "id": "a685a989",
   "metadata": {},
   "outputs": [
    {
     "name": "stdout",
     "output_type": "stream",
     "text": [
      "Funny python\n"
     ]
    }
   ],
   "source": [
    "str1 = 'Funny python'\n",
    "print(str1)"
   ]
  },
  {
   "cell_type": "code",
   "execution_count": 9,
   "id": "cac9512d",
   "metadata": {},
   "outputs": [
    {
     "name": "stdout",
     "output_type": "stream",
     "text": [
      "Easy python\n"
     ]
    },
    {
     "data": {
      "text/plain": [
       "str"
      ]
     },
     "execution_count": 9,
     "metadata": {},
     "output_type": "execute_result"
    }
   ],
   "source": [
    "str2 = 'Easy python'\n",
    "print(str2)\n",
    "type(str2)"
   ]
  },
  {
   "cell_type": "code",
   "execution_count": 10,
   "id": "052b7ef9",
   "metadata": {},
   "outputs": [
    {
     "name": "stdout",
     "output_type": "stream",
     "text": [
      "True\n"
     ]
    },
    {
     "data": {
      "text/plain": [
       "bool"
      ]
     },
     "execution_count": 10,
     "metadata": {},
     "output_type": "execute_result"
    }
   ],
   "source": [
    "bool1 = True\n",
    "print(bool1)\n",
    "type(bool1)"
   ]
  },
  {
   "cell_type": "code",
   "execution_count": 11,
   "id": "f948821b",
   "metadata": {
    "scrolled": true
   },
   "outputs": [
    {
     "name": "stdout",
     "output_type": "stream",
     "text": [
      "number : 10\n",
      "Number : 20\n"
     ]
    },
    {
     "data": {
      "text/plain": [
       "10"
      ]
     },
     "execution_count": 11,
     "metadata": {},
     "output_type": "execute_result"
    }
   ],
   "source": [
    "number = 10\n",
    "Number = 20\n",
    "\n",
    "print('number :', number)\n",
    "print('Number :', Number)\n",
    "num1_num2 = 10\n",
    "num1_num2 "
   ]
  },
  {
   "cell_type": "code",
   "execution_count": 12,
   "id": "710ef0bc",
   "metadata": {},
   "outputs": [
    {
     "data": {
      "text/plain": [
       "20"
      ]
     },
     "execution_count": 12,
     "metadata": {},
     "output_type": "execute_result"
    }
   ],
   "source": [
    "#변수가 여러개면 맨 마지만 변수만 써 줌\n",
    "number\n",
    "Number"
   ]
  },
  {
   "cell_type": "code",
   "execution_count": 13,
   "id": "b0061746",
   "metadata": {},
   "outputs": [
    {
     "data": {
      "text/plain": [
       "10"
      ]
     },
     "execution_count": 13,
     "metadata": {},
     "output_type": "execute_result"
    }
   ],
   "source": [
    "Number \n",
    "number"
   ]
  },
  {
   "cell_type": "code",
   "execution_count": 14,
   "id": "4a33a5e4",
   "metadata": {},
   "outputs": [
    {
     "ename": "SyntaxError",
     "evalue": "invalid syntax (482919702.py, line 1)",
     "output_type": "error",
     "traceback": [
      "\u001b[1;36m  Input \u001b[1;32mIn [14]\u001b[1;36m\u001b[0m\n\u001b[1;33m    1a = 10\u001b[0m\n\u001b[1;37m     ^\u001b[0m\n\u001b[1;31mSyntaxError\u001b[0m\u001b[1;31m:\u001b[0m invalid syntax\n"
     ]
    }
   ],
   "source": [
    "1a = 10"
   ]
  },
  {
   "cell_type": "code",
   "execution_count": null,
   "id": "85862b86",
   "metadata": {},
   "outputs": [],
   "source": [
    "if = 30\n",
    "if"
   ]
  },
  {
   "cell_type": "code",
   "execution_count": null,
   "id": "3a7a846d",
   "metadata": {},
   "outputs": [],
   "source": [
    "#예약어는 짙은 초록색\n",
    "for\n",
    "if\n",
    "class\n",
    "def\n",
    "\n",
    "#명령어는 그냥 초록색\n",
    "sum\n",
    "max\n",
    "min"
   ]
  },
  {
   "cell_type": "code",
   "execution_count": 16,
   "id": "dbc38eab",
   "metadata": {
    "scrolled": true
   },
   "outputs": [
    {
     "name": "stdout",
     "output_type": "stream",
     "text": [
      "['False', 'None', 'True', '__peg_parser__', 'and', 'as', 'assert', 'async', 'await', 'break', 'class', 'continue', 'def', 'del', 'elif', 'else', 'except', 'finally', 'for', 'from', 'global', 'if', 'import', 'in', 'is', 'lambda', 'nonlocal', 'not', 'or', 'pass', 'raise', 'return', 'try', 'while', 'with', 'yield']\n"
     ]
    }
   ],
   "source": [
    "import keyword\n",
    "print(keyword.kwlist)"
   ]
  },
  {
   "cell_type": "code",
   "execution_count": null,
   "id": "76c88675",
   "metadata": {},
   "outputs": [],
   "source": [
    "a = 10\n",
    "b = 15\n",
    "print(a)\n",
    "print(b)"
   ]
  },
  {
   "cell_type": "code",
   "execution_count": null,
   "id": "bd9b71d6",
   "metadata": {
    "scrolled": true
   },
   "outputs": [],
   "source": [
    "a, b = 10, 15\n",
    "print(a)\n",
    "print(b)"
   ]
  },
  {
   "cell_type": "code",
   "execution_count": null,
   "id": "55d5edab",
   "metadata": {},
   "outputs": [],
   "source": [
    "str1 = 'python'\n",
    "str2 = 'python'\n",
    "print(str1)\n",
    "print(str2)"
   ]
  },
  {
   "cell_type": "code",
   "execution_count": null,
   "id": "9edd73c7",
   "metadata": {},
   "outputs": [],
   "source": [
    "str1 = str2 = 'python'\n",
    "print(str1)\n",
    "print(str2)"
   ]
  },
  {
   "cell_type": "code",
   "execution_count": null,
   "id": "aaabd8b4",
   "metadata": {},
   "outputs": [],
   "source": [
    "x = 100\n",
    "y = 200\n",
    "sum = x + y #예약어는 변수로 사용 불가하지만 명령어는 변수명으로 사용가능(대신 명령어 기능은 사라짐)\n",
    "print(sum)"
   ]
  },
  {
   "cell_type": "code",
   "execution_count": null,
   "id": "a422c9cb",
   "metadata": {
    "scrolled": false
   },
   "outputs": [],
   "source": [
    "sum([1, 2, 3]) #Kernel >> Restart&Clear Output 하면 전체 실행 결과들이 사라짐(명령어 기능 사용 가능)"
   ]
  },
  {
   "cell_type": "code",
   "execution_count": null,
   "id": "b6fea002",
   "metadata": {},
   "outputs": [],
   "source": [
    "s = 'she's gone\n",
    "s"
   ]
  },
  {
   "cell_type": "code",
   "execution_count": null,
   "id": "07c84f94",
   "metadata": {},
   "outputs": [],
   "source": [
    "s1 = \"she's gone\"\n",
    "s2 = \"she\\'s gone\"\n",
    "print(s1)\n",
    "print(s2)"
   ]
  },
  {
   "cell_type": "code",
   "execution_count": null,
   "id": "653cb07e",
   "metadata": {
    "scrolled": true
   },
   "outputs": [],
   "source": [
    "s1 = 'he said that \"she is gone\"'\n",
    "s2 = \"he said that \\\"she is gone\\\"\"\n",
    "print(s1)\n",
    "print(s2)"
   ]
  },
  {
   "cell_type": "code",
   "execution_count": null,
   "id": "c501e53f",
   "metadata": {},
   "outputs": [],
   "source": [
    "s = '여러 줄로 구성된\n",
    "문자열을 하나로 대입할 때'"
   ]
  },
  {
   "cell_type": "code",
   "execution_count": null,
   "id": "d3dff048",
   "metadata": {
    "scrolled": true
   },
   "outputs": [],
   "source": [
    "s = '여러줄로 구성된 \\n문자열을 하나로 대입할 때'\n",
    "print(s)"
   ]
  },
  {
   "cell_type": "code",
   "execution_count": null,
   "id": "ed3d0dea",
   "metadata": {
    "scrolled": true
   },
   "outputs": [],
   "source": [
    "s = '''여러줄로 구성된\n",
    "문자열을 하나로\n",
    "대입할 때'''\n",
    "print(s)"
   ]
  },
  {
   "cell_type": "code",
   "execution_count": null,
   "id": "14d46c6b",
   "metadata": {
    "scrolled": true
   },
   "outputs": [],
   "source": [
    "s = \"\"\"여러줄로 구성된\n",
    "문자열을 하나로\n",
    "대입할 때\"\"\"\n",
    "print(s)"
   ]
  },
  {
   "cell_type": "code",
   "execution_count": null,
   "id": "e402a132",
   "metadata": {},
   "outputs": [],
   "source": [
    "s = '\\t탭이 잘 실행되었나요? 탭은 스페이스바 4번 실행한 것과 같은 결과!'\n",
    "print(s)"
   ]
  },
  {
   "cell_type": "code",
   "execution_count": null,
   "id": "10dccdea",
   "metadata": {},
   "outputs": [],
   "source": [
    "s = '\\\\ 이건 원화 표시'\n",
    "print(s)"
   ]
  },
  {
   "cell_type": "code",
   "execution_count": null,
   "id": "a54870b2",
   "metadata": {
    "scrolled": true
   },
   "outputs": [],
   "source": [
    "s = 'My name is MJ'\n",
    "print(s[0])\n",
    "print(s[8])"
   ]
  },
  {
   "cell_type": "code",
   "execution_count": null,
   "id": "8ed2471b",
   "metadata": {},
   "outputs": [],
   "source": [
    "for i in range(len(s)):\n",
    "    print('index {} : {}'.format(i,s[i]))"
   ]
  },
  {
   "cell_type": "code",
   "execution_count": null,
   "id": "6adbedac",
   "metadata": {},
   "outputs": [],
   "source": [
    "s = 'My name is MJ'\n",
    "print(s[-2])\n",
    "print(s[-1])\n"
   ]
  },
  {
   "cell_type": "code",
   "execution_count": null,
   "id": "b3581c09",
   "metadata": {},
   "outputs": [],
   "source": [
    "s = '라메카래몰건이'\n",
    "for i in range(1,len(s)+1):\n",
    "    print('index {} : {}'.format(i,s[i*(-1)]))"
   ]
  },
  {
   "cell_type": "code",
   "execution_count": null,
   "id": "3a4f8fe5",
   "metadata": {},
   "outputs": [],
   "source": [
    "s = \"My name is MJ\"\n",
    "print(s[0:2])\n",
    "print(s[3:7])\n",
    "print(s[8:10])"
   ]
  },
  {
   "cell_type": "code",
   "execution_count": null,
   "id": "43dc138b",
   "metadata": {},
   "outputs": [],
   "source": [
    "s = \"My name is MJ\"\n",
    "print(s[0:7])\n",
    "print(s[:7])"
   ]
  },
  {
   "cell_type": "code",
   "execution_count": null,
   "id": "7006b02a",
   "metadata": {},
   "outputs": [],
   "source": [
    "s = \"My name is MJ\"\n",
    "print(s[8:13])\n",
    "print(s[8:])\n",
    "print(s[-5:])"
   ]
  },
  {
   "cell_type": "code",
   "execution_count": null,
   "id": "1df3adf2",
   "metadata": {},
   "outputs": [],
   "source": [
    "print(s)\n",
    "print(s[:])"
   ]
  },
  {
   "cell_type": "code",
   "execution_count": null,
   "id": "108f1710",
   "metadata": {},
   "outputs": [],
   "source": [
    "s = \"2020년 3월 3일의 날씨는 맑음입니다.\"\n",
    "print('날짜 :',s[:11])\n",
    "print('날씨 :',s[-6:-4])"
   ]
  },
  {
   "cell_type": "code",
   "execution_count": null,
   "id": "e4143193",
   "metadata": {},
   "outputs": [],
   "source": []
  },
  {
   "cell_type": "code",
   "execution_count": null,
   "id": "ad6c6fc2",
   "metadata": {},
   "outputs": [],
   "source": []
  }
 ],
 "metadata": {
  "kernelspec": {
   "display_name": "Python 3 (ipykernel)",
   "language": "python",
   "name": "python3"
  },
  "language_info": {
   "codemirror_mode": {
    "name": "ipython",
    "version": 3
   },
   "file_extension": ".py",
   "mimetype": "text/x-python",
   "name": "python",
   "nbconvert_exporter": "python",
   "pygments_lexer": "ipython3",
   "version": "3.9.12"
  },
  "toc": {
   "base_numbering": 1,
   "nav_menu": {},
   "number_sections": true,
   "sideBar": true,
   "skip_h1_title": false,
   "title_cell": "Table of Contents",
   "title_sidebar": "Contents",
   "toc_cell": false,
   "toc_position": {},
   "toc_section_display": true,
   "toc_window_display": false
  }
 },
 "nbformat": 4,
 "nbformat_minor": 5
}
