{
 "cells": [
  {
   "cell_type": "code",
   "execution_count": 43,
   "id": "b2aa73df",
   "metadata": {},
   "outputs": [],
   "source": [
    "import pickle\n",
    "with open('data/movie_review.pkl','rb') as f :\n",
    "    my = pickle.load(f)"
   ]
  },
  {
   "cell_type": "code",
   "execution_count": 44,
   "id": "8fc2e672",
   "metadata": {},
   "outputs": [
    {
     "name": "stdout",
     "output_type": "stream",
     "text": [
      "검색할 데이터 입력 >> ㅋ\n",
      "'ㅋ'(이)가 포함된 리뷰는 328개 입니다.\n"
     ]
    }
   ],
   "source": [
    "cnt = 0   # 리뷰 개수 중첩\n",
    "\n",
    "data = input(\"검색할 데이터 입력 >> \")\n",
    "for i in my :\n",
    "    if data in i[0] :\n",
    "        cnt += 1\n",
    "print(f\"'{data}'(이)가 포함된 리뷰는 {cnt}개 입니다.\")"
   ]
  },
  {
   "cell_type": "markdown",
   "id": "430849fe",
   "metadata": {},
   "source": [
    "## 딕셔너리(Dictionary)란?\n",
    "- 리스트, 튜플과는 또 다른 파이썬의 자료구조 형태 중 하나\n",
    "- \"people\"이라는 단어는 \"사람\",\"baseball\"이라는 단어는 \"야구\"에 부합되듯이 \n",
    "   dictionary는 Key와 Value를 한쌍으로 갖는 자료형\n",
    "- 딕셔너리 타입은 immutable(불변)한 key와 mutable(변할 수 있는)한 value로 맵핑되어 있는 순서가 없는 집합\n",
    "- 4명의 사람이 있고 각각의 특기를 표현하기 위해서는 리스트나 문자열로는 표현하기 까다로움 -> 딕셔너리 사용\n",
    "        - {\"김연아\":\"피겨스케이팅\", \"류현진\":\"야구\", \"박지성\":\"축구\", \"성우\":\"LOL\"}\n",
    "\n",
    "### 딕셔너리명 = {Key : Value, Key : Value, ... }\n",
    "- key에는 변하지 않는 값을 사용하고, value에는 변하는 값과 변하지 않는 값 모두 사용할 수 있다.\n",
    "- 딕셔너리 : 중괄호 {} / 리스트 : 대괄호[] / 튜플 : 소괄호 ()\n",
    "- 순서가 없다. == 인덱싱 기능X >> 자료 검색은 키 값으로!"
   ]
  },
  {
   "cell_type": "code",
   "execution_count": 1,
   "id": "8297e6e4",
   "metadata": {},
   "outputs": [],
   "source": [
    "a = {}\n",
    "b = {\"name\" : \"MJ\"}\n",
    "c = {1 : 5, 2 : 3}\n",
    "D = {\"grade\":[90,70], \"height\":[178,180]}"
   ]
  },
  {
   "cell_type": "code",
   "execution_count": 2,
   "id": "7fcf2468",
   "metadata": {},
   "outputs": [
    {
     "name": "stdout",
     "output_type": "stream",
     "text": [
      "{'name': 'MJ', 'age': 30, 'phone': '010-8733-8662'}\n",
      "<class 'dict'>\n"
     ]
    }
   ],
   "source": [
    "dic1 = {\"name\" : \"MJ\", \"age\" : 30, \"phone\" : \"010-8733-8662\"}\n",
    "print(dic1)\n",
    "print(type(dic1))"
   ]
  },
  {
   "cell_type": "markdown",
   "id": "edcbdf58",
   "metadata": {},
   "source": [
    "## 딕셔너리 값 추가\n",
    "### 딕셔너리명[key] = value"
   ]
  },
  {
   "cell_type": "code",
   "execution_count": 3,
   "id": "a573cc29",
   "metadata": {},
   "outputs": [
    {
     "name": "stdout",
     "output_type": "stream",
     "text": [
      "{'name': 'MJ', 'age': 30, 'phone': '010-8733-8662', 'birth': '07/27'}\n"
     ]
    }
   ],
   "source": [
    "dic1[\"birth\"] = \"07/27\"\n",
    "print(dic1)"
   ]
  },
  {
   "cell_type": "code",
   "execution_count": 4,
   "id": "33fc0adf",
   "metadata": {},
   "outputs": [
    {
     "name": "stdout",
     "output_type": "stream",
     "text": [
      "{'노래제목': '참고사항'}\n"
     ]
    }
   ],
   "source": [
    "dic_test = {\"노래제목\":\"참고사항\"}\n",
    "print(dic_test)"
   ]
  },
  {
   "cell_type": "code",
   "execution_count": 5,
   "id": "550f22cb",
   "metadata": {},
   "outputs": [
    {
     "name": "stdout",
     "output_type": "stream",
     "text": [
      "{'노래제목': '참고사항', '가수': '이무진', '날짜': '2022.06.23'}\n"
     ]
    }
   ],
   "source": [
    "dic_test[\"가수\"] = \"이무진\"\n",
    "dic_test[\"날짜\"] = \"2022.06.23\"\n",
    "print(dic_test)"
   ]
  },
  {
   "cell_type": "markdown",
   "id": "921f8e7d",
   "metadata": {},
   "source": [
    "## 딕셔너리 값 삭제\n",
    "### del 딕셔너리명[key]"
   ]
  },
  {
   "cell_type": "code",
   "execution_count": 9,
   "id": "8e1a4f77",
   "metadata": {},
   "outputs": [
    {
     "ename": "KeyError",
     "evalue": "'age'",
     "output_type": "error",
     "traceback": [
      "\u001b[1;31m---------------------------------------------------------------------------\u001b[0m",
      "\u001b[1;31mKeyError\u001b[0m                                  Traceback (most recent call last)",
      "Input \u001b[1;32mIn [9]\u001b[0m, in \u001b[0;36m<cell line: 1>\u001b[1;34m()\u001b[0m\n\u001b[1;32m----> 1\u001b[0m \u001b[38;5;28;01mdel\u001b[39;00m dic1[\u001b[38;5;124m'\u001b[39m\u001b[38;5;124mage\u001b[39m\u001b[38;5;124m'\u001b[39m]\n\u001b[0;32m      2\u001b[0m \u001b[38;5;28mprint\u001b[39m(dic1)\n",
      "\u001b[1;31mKeyError\u001b[0m: 'age'"
     ]
    }
   ],
   "source": [
    "del dic1['age']\n",
    "print(dic1)"
   ]
  },
  {
   "cell_type": "markdown",
   "id": "51d6d08b",
   "metadata": {},
   "source": [
    "## 딕셔너리 값 가져오기\n",
    "### 딕셔너리명[key]"
   ]
  },
  {
   "cell_type": "code",
   "execution_count": null,
   "id": "9cf708e8",
   "metadata": {},
   "outputs": [],
   "source": [
    "print(dic1['phone'])\n",
    "print(dic1[\"name\"])"
   ]
  },
  {
   "cell_type": "markdown",
   "id": "a2311ba4",
   "metadata": {},
   "source": [
    "### 딕셔너리명.get(key)"
   ]
  },
  {
   "cell_type": "code",
   "execution_count": 10,
   "id": "9e0ea88d",
   "metadata": {},
   "outputs": [
    {
     "name": "stdout",
     "output_type": "stream",
     "text": [
      "010-8733-8662\n",
      "MJ\n"
     ]
    }
   ],
   "source": [
    "print(dic1.get(\"phone\"))\n",
    "print(dic1.get(\"name\"))"
   ]
  },
  {
   "cell_type": "markdown",
   "id": "e0d19f8c",
   "metadata": {},
   "source": [
    "## 딕셔너리명[key] vs 딕셔너리명.get(key)"
   ]
  },
  {
   "cell_type": "markdown",
   "id": "2a89361c",
   "metadata": {},
   "source": [
    "- 중간에 하나라도 에러가 생기면 멈춤. 뒤에 코드 실행X\n",
    "- 에러가 안나면 일단 프로그램을 돌려볼 수 있음\n",
    "- 세상이 망해도 프로그램은 돌아야함ㅎㅎ"
   ]
  },
  {
   "cell_type": "code",
   "execution_count": 11,
   "id": "bbd2e667",
   "metadata": {},
   "outputs": [
    {
     "ename": "KeyError",
     "evalue": "'gender'",
     "output_type": "error",
     "traceback": [
      "\u001b[1;31m---------------------------------------------------------------------------\u001b[0m",
      "\u001b[1;31mKeyError\u001b[0m                                  Traceback (most recent call last)",
      "Input \u001b[1;32mIn [11]\u001b[0m, in \u001b[0;36m<cell line: 1>\u001b[1;34m()\u001b[0m\n\u001b[1;32m----> 1\u001b[0m gender \u001b[38;5;241m=\u001b[39m \u001b[43mdic1\u001b[49m\u001b[43m[\u001b[49m\u001b[38;5;124;43m\"\u001b[39;49m\u001b[38;5;124;43mgender\u001b[39;49m\u001b[38;5;124;43m\"\u001b[39;49m\u001b[43m]\u001b[49m\n\u001b[0;32m      2\u001b[0m \u001b[38;5;28mprint\u001b[39m(gender)\n",
      "\u001b[1;31mKeyError\u001b[0m: 'gender'"
     ]
    }
   ],
   "source": [
    "gender = dic1[\"gender\"]\n",
    "print(gender)"
   ]
  },
  {
   "cell_type": "code",
   "execution_count": 12,
   "id": "7ba0c5d2",
   "metadata": {},
   "outputs": [
    {
     "name": "stdout",
     "output_type": "stream",
     "text": [
      "None\n"
     ]
    }
   ],
   "source": [
    "gender = dic1.get(\"gender\")\n",
    "print(gender)"
   ]
  },
  {
   "cell_type": "markdown",
   "id": "1c3a7439",
   "metadata": {},
   "source": [
    "## 딕셔너리 key만 가져오기\n",
    "### 딕셔너리명.keys()"
   ]
  },
  {
   "cell_type": "code",
   "execution_count": 13,
   "id": "ee8e48a3",
   "metadata": {},
   "outputs": [
    {
     "name": "stdout",
     "output_type": "stream",
     "text": [
      "dict_keys(['name', 'phone', 'birth'])\n"
     ]
    }
   ],
   "source": [
    "print(dic1.keys()) # 이건 인덱싱을 할 수 없기 때문에 리스트형으로 변환"
   ]
  },
  {
   "cell_type": "code",
   "execution_count": 14,
   "id": "cba4bfff",
   "metadata": {},
   "outputs": [
    {
     "name": "stdout",
     "output_type": "stream",
     "text": [
      "['name', 'phone', 'birth']\n"
     ]
    }
   ],
   "source": [
    "print(list(dic1.keys()))"
   ]
  },
  {
   "cell_type": "markdown",
   "id": "9e9fdee3",
   "metadata": {},
   "source": [
    "## 딕셔너리 value만 가져오기\n",
    "### 딕셔너리명.values()"
   ]
  },
  {
   "cell_type": "code",
   "execution_count": 21,
   "id": "a3b621c7",
   "metadata": {},
   "outputs": [
    {
     "name": "stdout",
     "output_type": "stream",
     "text": [
      "dict_values(['MJ', '010-8733-8662', '07/27'])\n"
     ]
    }
   ],
   "source": [
    "print(dic1.values())"
   ]
  },
  {
   "cell_type": "code",
   "execution_count": 23,
   "id": "e8943b65",
   "metadata": {},
   "outputs": [
    {
     "name": "stdout",
     "output_type": "stream",
     "text": [
      "['MJ', '010-8733-8662', '07/27']\n"
     ]
    }
   ],
   "source": [
    "print(list(dic1.values()))"
   ]
  },
  {
   "cell_type": "markdown",
   "id": "637ea850",
   "metadata": {},
   "source": [
    "## 딕셔너리 for문 활용"
   ]
  },
  {
   "cell_type": "code",
   "execution_count": 17,
   "id": "14a7d2cd",
   "metadata": {},
   "outputs": [
    {
     "name": "stdout",
     "output_type": "stream",
     "text": [
      "name\n",
      "phone\n",
      "birth\n"
     ]
    }
   ],
   "source": [
    "for key in dic1.keys() :\n",
    "    print(key)"
   ]
  },
  {
   "cell_type": "code",
   "execution_count": 18,
   "id": "819f9836",
   "metadata": {},
   "outputs": [
    {
     "name": "stdout",
     "output_type": "stream",
     "text": [
      "MJ\n",
      "010-8733-8662\n",
      "07/27\n"
     ]
    }
   ],
   "source": [
    "for value in dic1.values() :\n",
    "    print(value)"
   ]
  },
  {
   "cell_type": "code",
   "execution_count": 19,
   "id": "82eb72cf",
   "metadata": {},
   "outputs": [
    {
     "ename": "IndentationError",
     "evalue": "expected an indented block (3678644741.py, line 1)",
     "output_type": "error",
     "traceback": [
      "\u001b[1;36m  Input \u001b[1;32mIn [19]\u001b[1;36m\u001b[0m\n\u001b[1;33m    for key, value in dic1.items() :\u001b[0m\n\u001b[1;37m                                    ^\u001b[0m\n\u001b[1;31mIndentationError\u001b[0m\u001b[1;31m:\u001b[0m expected an indented block\n"
     ]
    }
   ],
   "source": [
    "for key, value in dic1.items() :"
   ]
  },
  {
   "cell_type": "code",
   "execution_count": null,
   "id": "855aeb0b",
   "metadata": {},
   "outputs": [],
   "source": [
    "for key, value in dic1.items() : # key, value 값을 각각 가져올 수 있어 많이 사용\n",
    "    print(key, \"\\t\", value)"
   ]
  },
  {
   "cell_type": "code",
   "execution_count": null,
   "id": "63ca4d03",
   "metadata": {},
   "outputs": [],
   "source": [
    "print(dic1.items()) # 반복문을 돌리면 [(i,j),(i,j),...]로 변수값이 들어감"
   ]
  },
  {
   "cell_type": "markdown",
   "id": "6bc6cbbc",
   "metadata": {},
   "source": [
    "## 딕셔너리 in 키워드 사용\n",
    "### key in 딕셔너리명\n",
    "- in은 딕셔너리의 key에 한해서 동작한다."
   ]
  },
  {
   "cell_type": "code",
   "execution_count": 24,
   "id": "4acc0648",
   "metadata": {},
   "outputs": [
    {
     "name": "stdout",
     "output_type": "stream",
     "text": [
      "True\n",
      "False\n",
      "True\n",
      "False\n"
     ]
    }
   ],
   "source": [
    "print('name' in dic1)\n",
    "print('gender' in dic1)\n",
    "print('phone' in dic1)\n",
    "print('age' in dic1)"
   ]
  },
  {
   "cell_type": "markdown",
   "id": "199f27f5",
   "metadata": {},
   "source": [
    "## 딕셔너리 모두 지우기\n",
    "### 딕셔너리명.clear()"
   ]
  },
  {
   "cell_type": "code",
   "execution_count": null,
   "id": "e8e551d3",
   "metadata": {},
   "outputs": [],
   "source": [
    "dic1.clear()\n",
    "print(dic1)"
   ]
  },
  {
   "cell_type": "markdown",
   "id": "dd857717",
   "metadata": {},
   "source": [
    "# 함수(function)란?\n",
    "- 하나의 특별한 목적의 작업을 수행하기 위해 독립적으로 설계된 코드의 집합\n",
    "\n",
    "## 함수를 사용하는 이유\n",
    "- 반복적인 프로그래밍을 피할 수 있어 효율이 높아진다.\n",
    "- 모듈화로 인해 전체적인 코드의 가독성이 좋아진다.\n",
    "      -모듈화 : 프로그래밍 언어로 프로그램을 제작시, 최적화 및 관리에 용이하게 기능 단위로 분할하는 것\n",
    "- 프로그램에 문제가 발생하거나 기능 변경이 필요할 때에도 손쉽게 유지보수가 가능하다."
   ]
  },
  {
   "cell_type": "markdown",
   "id": "62c4e1d6",
   "metadata": {},
   "source": [
    "## 함수 구조\n",
    "### def 함수명(매개변수) :\n",
    "        실행문장\n",
    "        return 반환변수\n",
    "- def(define) : 정의를 내리다.\n",
    "- :(colon,콜론) 꼭 쓰기\n",
    "- 들여쓰기!!\n",
    "\n",
    "- 함수호출\n",
    "    - 함수명(인수1, 인수2)"
   ]
  },
  {
   "cell_type": "code",
   "execution_count": 34,
   "id": "3f948650",
   "metadata": {},
   "outputs": [],
   "source": [
    "# 함수 선언 : 믹서기 사용 설명서\n",
    "def number_sum(num1, num2):\n",
    "    result = num1 + num2\n",
    "    return result"
   ]
  },
  {
   "cell_type": "code",
   "execution_count": 35,
   "id": "dc70ab82",
   "metadata": {},
   "outputs": [
    {
     "name": "stdout",
     "output_type": "stream",
     "text": [
      "13\n"
     ]
    }
   ],
   "source": [
    "print(number_sum(3,10)) "
   ]
  },
  {
   "cell_type": "code",
   "execution_count": 36,
   "id": "03ab855b",
   "metadata": {},
   "outputs": [
    {
     "name": "stdout",
     "output_type": "stream",
     "text": [
      "13\n"
     ]
    }
   ],
   "source": [
    "number = number_sum(3,10) # 함수 결과값을 사용하고 싶으면 변수에 대입하여 사용\n",
    "print(number)"
   ]
  },
  {
   "cell_type": "code",
   "execution_count": 37,
   "id": "a2951d71",
   "metadata": {},
   "outputs": [
    {
     "name": "stdout",
     "output_type": "stream",
     "text": [
      "첫 번재 정수 입력 >> 10\n",
      "두 번재 정수 입력 >> 3\n",
      "7\n"
     ]
    }
   ],
   "source": [
    " #함수 선언!\n",
    "def number_minus(num1, num2) :\n",
    "    if num1 > num2 :\n",
    "        result = num1 - num2\n",
    "    else :\n",
    "        result = num2 - num1\n",
    "    return result\n",
    "\n",
    "num1 = int(input(\"첫 번재 정수 입력 >> \"))\n",
    "num2 = int(input(\"두 번재 정수 입력 >> \"))\n",
    "result = number_minus(num1, num2)\n",
    "print(result)"
   ]
  },
  {
   "cell_type": "code",
   "execution_count": null,
   "id": "86974db0",
   "metadata": {},
   "outputs": [],
   "source": [
    " #함수 선언!\n",
    "def number_minus(num1, num2) :\n",
    "    result = abs(num1 - num2)\n",
    "    return result\n",
    "\n",
    "num1 = int(input(\"첫 번재 정수 입력 >> \"))\n",
    "num2 = int(input(\"두 번재 정수 입력 >> \"))\n",
    "result = number_minus(num1, num2)\n",
    "print(result)"
   ]
  },
  {
   "cell_type": "code",
   "execution_count": 3,
   "id": "e2a50af3",
   "metadata": {},
   "outputs": [
    {
     "name": "stdout",
     "output_type": "stream",
     "text": [
      "문자열 입력 >>ㅋ을 모두 지워주세요.\n",
      "을 모두 지워주세요.\n"
     ]
    }
   ],
   "source": [
    "# 입력받은 문자열에서 'ㅋ'을 없애고 출력\n",
    "\n",
    "def s_replace(string) :\n",
    "    result = string.replace(\"ㅋ\",\"\")\n",
    "    return result\n",
    "\n",
    "\n",
    "s = input(\"문자열 입력 >>\")\n",
    "result = s_replace(s)\n",
    "print(result)"
   ]
  },
  {
   "cell_type": "code",
   "execution_count": 38,
   "id": "09afee2e",
   "metadata": {},
   "outputs": [],
   "source": [
    "# 두 수를 입력 받아서 원하는 연산을 수행하는 함수를 정의하시오.\n",
    "\n",
    "def cal(num1, num2, op) :\n",
    "    \"\"\"덧셈과 뺄셈을 계산하는 함수입니다!\"\"\"\n",
    "    if op == '+' :\n",
    "        result = num1 + num2\n",
    "    else :\n",
    "        result = num1 - num2\n",
    "    return result\n"
   ]
  },
  {
   "cell_type": "code",
   "execution_count": 39,
   "id": "956863f5",
   "metadata": {},
   "outputs": [
    {
     "name": "stdout",
     "output_type": "stream",
     "text": [
      "첫 번째 정수 입력 >> 5\n",
      "두 번째 정수 입력 >> 3\n",
      "연산자 입력(+,-) >> +\n",
      "결과 : 8\n"
     ]
    }
   ],
   "source": [
    "num1 = int(input(\"첫 번째 정수 입력 >> \"))\n",
    "num2 = int(input(\"두 번째 정수 입력 >> \"))\n",
    "op = input(\"연산자 입력(+,-) >> \")\n",
    "result = cal(num1, num2, op)\n",
    "print(\"결과 : {}\".format(result))"
   ]
  },
  {
   "cell_type": "code",
   "execution_count": 41,
   "id": "526090f2",
   "metadata": {},
   "outputs": [
    {
     "name": "stdout",
     "output_type": "stream",
     "text": [
      "오늘 하루 정말 좋았습니다^^화이팅!\n"
     ]
    }
   ],
   "source": [
    "print(\"오늘 하루 정말 좋았습니다\",\"화이팅!\", sep=\"^^\")"
   ]
  },
  {
   "cell_type": "code",
   "execution_count": 16,
   "id": "d91f7af1",
   "metadata": {},
   "outputs": [
    {
     "name": "stdout",
     "output_type": "stream",
     "text": [
      "1 2 5 10 \n",
      "1 2 4 8 16 32 \n"
     ]
    }
   ],
   "source": [
    "# 약수를 구하는 함수를 정의하시오.\n",
    "\n",
    "def divisor(num) :\n",
    "    for i in range(1, num + 1) :\n",
    "        if num % i == 0 :\n",
    "            print(i, end = ' ')\n",
    "    print()\n",
    "            "
   ]
  },
  {
   "cell_type": "code",
   "execution_count": 21,
   "id": "e9bc0dd3",
   "metadata": {},
   "outputs": [
    {
     "name": "stdout",
     "output_type": "stream",
     "text": [
      "1 2 5 10 \n",
      "1 2 4 8 16 32 \n"
     ]
    }
   ],
   "source": [
    "divisor(10)\n",
    "divisor(32)"
   ]
  },
  {
   "cell_type": "code",
   "execution_count": 12,
   "id": "d5e24388",
   "metadata": {},
   "outputs": [
    {
     "name": "stdout",
     "output_type": "stream",
     "text": [
      "1 2 5 10 \n",
      "1 2 4 8 16 32 \n",
      "1 2 4 5 10 20 25 50 100 \n"
     ]
    }
   ],
   "source": [
    "def divisor(num) :\n",
    "    divisor = \"\"\n",
    "    for i in range(1, num + 1) :\n",
    "        if num % i == 0 :\n",
    "            divisor += str(i) + ' '\n",
    "    print(divisor)"
   ]
  },
  {
   "cell_type": "code",
   "execution_count": null,
   "id": "f3e0eb3c",
   "metadata": {},
   "outputs": [],
   "source": [
    "divisor(10)\n",
    "divisor(32)\n",
    "divisor(100)"
   ]
  },
  {
   "cell_type": "code",
   "execution_count": 13,
   "id": "5085cd48",
   "metadata": {},
   "outputs": [
    {
     "name": "stdout",
     "output_type": "stream",
     "text": [
      "1 2 5 10\n",
      "1 2 4 8 16 32\n",
      "1 2 4 5 10 20 25 50 100\n"
     ]
    }
   ],
   "source": [
    "def divisor(num) :\n",
    "    divisor = []\n",
    "    for i in range(1, num + 1) :\n",
    "        if num % i == 0 :\n",
    "            divisor.append(str(i))\n",
    "    print(' '.join(divisor))"
   ]
  },
  {
   "cell_type": "code",
   "execution_count": 22,
   "id": "7de7b9d7",
   "metadata": {},
   "outputs": [
    {
     "name": "stdout",
     "output_type": "stream",
     "text": [
      "1 2 5 10 \n",
      "1 2 4 8 16 32 \n",
      "1 2 4 5 10 20 25 50 100 \n"
     ]
    }
   ],
   "source": [
    "divisor(10)\n",
    "divisor(32)\n",
    "divisor(100)"
   ]
  },
  {
   "cell_type": "markdown",
   "id": "a3a7c07a",
   "metadata": {},
   "source": [
    "## 가변 매개변수(variable parameters)(*)\n",
    "- 변수 앞에 *을 붙임\n",
    "- 함수 호출 시 몇 개의 인수가 입력될 지 알 수 없다면, 사용자가 직접 입력하는 매개변수의 개수를 정할 수 있도록 선언\n",
    "\n",
    "### def 함수명(*매개변수) :\n",
    "     실행문장\n",
    "     return 반환 변수\n",
    "     \n",
    "- 전달된 모든 인수는 튜플(tuple) 형태로 저장"
   ]
  },
  {
   "cell_type": "code",
   "execution_count": 18,
   "id": "df0afa0d",
   "metadata": {},
   "outputs": [],
   "source": [
    "def add(*args) :  # args(arguments) : 인수들\n",
    "    print(args)"
   ]
  },
  {
   "cell_type": "code",
   "execution_count": 19,
   "id": "4fedfe91",
   "metadata": {},
   "outputs": [
    {
     "name": "stdout",
     "output_type": "stream",
     "text": [
      "(1, 2, 3)\n"
     ]
    }
   ],
   "source": [
    "add(1, 2, 3)"
   ]
  },
  {
   "cell_type": "code",
   "execution_count": 20,
   "id": "7fd066cb",
   "metadata": {},
   "outputs": [
    {
     "name": "stdout",
     "output_type": "stream",
     "text": [
      "(1, 2, 3, 4, 5, 6, 7, 8, 9, 10)\n"
     ]
    }
   ],
   "source": [
    "add(1, 2, 3, 4, 5, 6, 7, 8, 9, 10)"
   ]
  },
  {
   "cell_type": "code",
   "execution_count": 29,
   "id": "f8c17424",
   "metadata": {},
   "outputs": [],
   "source": [
    "# 가변 매개변수를 활용해 모든 숫자를 더해서 반환하는 함수를 작성하시오.(sum() 이용)\n",
    "def add(*args) :\n",
    "    return sum(args)"
   ]
  },
  {
   "cell_type": "code",
   "execution_count": 30,
   "id": "d23ae403",
   "metadata": {},
   "outputs": [
    {
     "name": "stdout",
     "output_type": "stream",
     "text": [
      "6\n"
     ]
    }
   ],
   "source": [
    "print(add(1, 2, 3))"
   ]
  },
  {
   "cell_type": "code",
   "execution_count": 31,
   "id": "1f41ce0b",
   "metadata": {},
   "outputs": [
    {
     "name": "stdout",
     "output_type": "stream",
     "text": [
      "55\n"
     ]
    }
   ],
   "source": [
    "print(add(1, 2, 3, 4, 5, 6, 7, 8, 9, 10))"
   ]
  },
  {
   "cell_type": "code",
   "execution_count": 11,
   "id": "7c9e35ea",
   "metadata": {},
   "outputs": [],
   "source": [
    "review_naver = [\"월 스미스가 하드캐리ㅋㅋㅋㅋㅋㅋㅋ\",\n",
    "               \"쟈스민 너무 멋지고 팬 엄청나게 생길듯ㅋㅋ\",\n",
    "               \"기대보다 더욱 재밌는 영화였다^^\"\n",
    "               ]\n",
    "review_goole = [\"색감도 노래도 너무 화려하고 재밌었어요ㅋㅋㅋ\",\n",
    "               \"오늘부터 디즈니 팬입니다ㅋㅋㅋ\",\n",
    "               \"디즈니의 새로운 해석도 놀랍고, 윌스미스도 신의한수!\"\n",
    "               ]"
   ]
  },
  {
   "cell_type": "code",
   "execution_count": 30,
   "id": "52b330c5",
   "metadata": {},
   "outputs": [],
   "source": [
    "def replace_q(r_list) :\n",
    "    for i in range(len(r_list)) :\n",
    "        print(r_list[i].replace(\"ㅋ\",\"\"))"
   ]
  },
  {
   "cell_type": "code",
   "execution_count": 31,
   "id": "b459e663",
   "metadata": {},
   "outputs": [
    {
     "name": "stdout",
     "output_type": "stream",
     "text": [
      "월 스미스가 하드캐리\n",
      "쟈스민 너무 멋지고 팬 엄청나게 생길듯\n",
      "기대보다 더욱 재밌는 영화였다^^\n",
      "색감도 노래도 너무 화려하고 재밌었어요\n",
      "오늘부터 디즈니 팬입니다\n",
      "디즈니의 새로운 해석도 놀랍고, 윌스미스도 신의한수!\n"
     ]
    }
   ],
   "source": [
    "replace_q(review_naver)\n",
    "replace_q(review_goole)"
   ]
  }
 ],
 "metadata": {
  "kernelspec": {
   "display_name": "Python 3 (ipykernel)",
   "language": "python",
   "name": "python3"
  },
  "language_info": {
   "codemirror_mode": {
    "name": "ipython",
    "version": 3
   },
   "file_extension": ".py",
   "mimetype": "text/x-python",
   "name": "python",
   "nbconvert_exporter": "python",
   "pygments_lexer": "ipython3",
   "version": "3.9.12"
  },
  "toc": {
   "base_numbering": 1,
   "nav_menu": {},
   "number_sections": false,
   "sideBar": true,
   "skip_h1_title": false,
   "title_cell": "Table of Contents",
   "title_sidebar": "Contents",
   "toc_cell": false,
   "toc_position": {},
   "toc_section_display": true,
   "toc_window_display": false
  }
 },
 "nbformat": 4,
 "nbformat_minor": 5
}
